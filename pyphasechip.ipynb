{
 "cells": [
  {
   "cell_type": "code",
   "execution_count": 1,
   "metadata": {},
   "outputs": [],
   "source": [
    "import cv2\n",
    "import numpy as np \n",
    "import matplotlib.pyplot as plt\n",
    "import PIL.Image\n",
    "from datetime import datetime\n",
    "import PIL.ExifTags\n",
    "from tqdm import tqdm\n",
    "\n",
    "\n",
    "import dateutil.parser\n",
    "import os\n",
    "import re\n",
    "\n",
    "from matplotlib.ticker import (MultipleLocator, FormatStrFormatter,\n",
    "                               AutoMinorLocator, MaxNLocator)\n",
    "\n",
    "from pyphasechip import pyphasechip_logic as pypc\n",
    "from typing import Tuple"
   ]
  },
  {
   "cell_type": "markdown",
   "metadata": {},
   "source": [
    "## Variables"
   ]
  },
  {
   "cell_type": "code",
   "execution_count": 5,
   "metadata": {},
   "outputs": [],
   "source": [
    "# reagent 1 name\n",
    "name_sol1 = \"BSA\"\n",
    "# reagent 1 starting contentration\n",
    "initial_conc_sol1 = 266\n",
    "# unit\n",
    "unit_sol1 = \"µM\"\n",
    "\n",
    "\n",
    "# reagent 2 name\n",
    "name_sol2 = \"PEG\"\n",
    "# reagent 2 starting concentration\n",
    "initial_conc_sol2 = 10\n",
    "# unit\n",
    "unit_sol2 = \"%\"\n",
    "\n",
    "\n",
    "# mixing ratio of the concentrations 0\n",
    "# [1:X]\n",
    "initial_ratio = 7\n",
    "\n",
    "\n",
    "# Number of different concentrations used\n",
    "number_of_diff_conc = 3\n",
    "\n",
    "# Number of wells per horizontal(!) line per concentrations\n",
    "# full chip equals 10\n",
    "n_wells = 2\n",
    "\n",
    "###### delete hoe and iph, use this instead\n",
    "# total amount of images\n",
    "total_n_images = 528\n",
    "n_timepoints = int(total_n_images / (number_of_diff_conc * n_wells * 2)) \n",
    "\n",
    "# percental difference of img mean to all previous imgages. \n",
    "# value is similar to a sensivity-value\n",
    "percental_threshold = 55\n",
    "\n",
    "\n",
    "# measured diameter of chamber to calculate radii for circle detection -> min and max [px]\n",
    "# around +-30 of the real value, best measured with something like imageJ/Fiji\n",
    "diameter = 238 \n",
    "minRadiusChamber = int((diameter/2)*0.7)\n",
    "maxRadiusChamber = int((diameter/2)*1.3)\n",
    "\n",
    "\n",
    "# height of chamber [µm]\n",
    "chamber_height = 60\n",
    "\n",
    "# folder where images are stored\n",
    "# best is to use only paths without any whitespace\n",
    "image_folder = r\"C:\\Users\\DigitalStation\\Documents\\Python_Scripts\\DropletDetection\\20220601_BSA_PEG_FC40\\subset\"\n",
    "#image_folder = r\"C:\\Users\\DigitalStation\\Documents\\Python_Scripts\\DropletDetection\\Testimages2+\"\n",
    "\n",
    "# datatype of the images\n",
    "extension = \".jpg\"\n",
    "\n",
    "# TODO: use a .yml file for storing these variables"
   ]
  },
  {
   "cell_type": "code",
   "execution_count": null,
   "metadata": {},
   "outputs": [],
   "source": [
    "#THIS IS FOR CELLOBSERVER/ZEISS IMAGES ONLY\n",
    "\n",
    "def get_sorted_file_list(image_folder: str) -> list:\n",
    "    files, times, concs, wells = [], [], [], []\n",
    "    \n",
    "    for file in os.listdir(image_folder):\n",
    "        # 1. More robust, faster, but more specific\n",
    "        c, w, _, t = re.search(\"c(\\d+)_w(\\d+)_s(\\d+)t(\\d+)\", file).groups()\n",
    "\n",
    "        # 2. Other way\n",
    "        #c, w, _, t, *params = re.findall('[0-9]+', file)\n",
    "        \n",
    "        # Generate lists\n",
    "        times.append(int(t))\n",
    "        concs.append(int(c))\n",
    "        wells.append(int(w))\n",
    "        files.append(file)\n",
    "        \n",
    "    return [x for _, _, _, x in sorted(zip(concs, times, wells, files))]\n",
    "    \n",
    "get_sorted_file_list(image_folder)"
   ]
  },
  {
   "cell_type": "markdown",
   "metadata": {},
   "source": [
    "## Programm"
   ]
  },
  {
   "cell_type": "code",
   "execution_count": 6,
   "metadata": {
    "scrolled": true,
    "tags": []
   },
   "outputs": [
    {
     "name": "stdout",
     "output_type": "stream",
     "text": [
      "Write images into list\n"
     ]
    },
    {
     "name": "stderr",
     "output_type": "stream",
     "text": [
      "100%|███████████████████████████████████████████████████████████████████████████████| 528/528 [00:04<00:00, 119.84it/s]\n"
     ]
    },
    {
     "name": "stdout",
     "output_type": "stream",
     "text": [
      "Save them into a dictionary\n"
     ]
    },
    {
     "name": "stderr",
     "output_type": "stream",
     "text": [
      "100%|██████████████████████████████████████████████████████████████████████████████████| 44/44 [00:00<00:00, 65.55it/s]\n",
      "  0%|                                                                                           | 0/44 [00:00<?, ?it/s]"
     ]
    },
    {
     "name": "stdout",
     "output_type": "stream",
     "text": [
      "Analyse data...\n",
      "conc: 0 well: 0\n"
     ]
    },
    {
     "name": "stderr",
     "output_type": "stream",
     "text": [
      "pyphasechip.pyphasechip_fun :: WARNING :: well detection retry counter 1\n",
      "pyphasechip.pyphasechip_fun :: WARNING :: well detection retry counter 2\n",
      "  2%|█▉                                                                                 | 1/44 [00:05<03:58,  5.54s/it]pyphasechip.pyphasechip_fun :: WARNING :: well detection retry counter 1\n",
      "  5%|███▊                                                                               | 2/44 [00:11<03:51,  5.52s/it]pyphasechip.pyphasechip_fun :: WARNING :: well detection retry counter 1\n",
      "  7%|█████▋                                                                             | 3/44 [00:12<02:23,  3.50s/it]pyphasechip.pyphasechip_fun :: WARNING :: well detection retry counter 1\n",
      "100%|██████████████████████████████████████████████████████████████████████████████████| 44/44 [00:17<00:00,  2.52it/s]\n",
      "  0%|                                                                                           | 0/44 [00:00<?, ?it/s]"
     ]
    },
    {
     "name": "stdout",
     "output_type": "stream",
     "text": [
      "LLPS status:  True , @ c: 0 w: 0 t: 3\n",
      "conc: 0 well: 1\n"
     ]
    },
    {
     "name": "stderr",
     "output_type": "stream",
     "text": [
      "100%|██████████████████████████████████████████████████████████████████████████████████| 44/44 [00:25<00:00,  1.75it/s]\n",
      "  0%|                                                                                           | 0/44 [00:00<?, ?it/s]"
     ]
    },
    {
     "name": "stdout",
     "output_type": "stream",
     "text": [
      "LLPS status:  True , @ c: 0 w: 1 t: 14\n",
      "conc: 0 well: 2\n"
     ]
    },
    {
     "name": "stderr",
     "output_type": "stream",
     "text": [
      "100%|██████████████████████████████████████████████████████████████████████████████████| 44/44 [00:18<00:00,  2.36it/s]\n",
      "  0%|                                                                                           | 0/44 [00:00<?, ?it/s]"
     ]
    },
    {
     "name": "stdout",
     "output_type": "stream",
     "text": [
      "LLPS status:  True , @ c: 0 w: 2 t: 8\n",
      "conc: 0 well: 3\n"
     ]
    },
    {
     "name": "stderr",
     "output_type": "stream",
     "text": [
      "100%|██████████████████████████████████████████████████████████████████████████████████| 44/44 [00:24<00:00,  1.83it/s]\n",
      "  0%|                                                                                           | 0/44 [00:00<?, ?it/s]"
     ]
    },
    {
     "name": "stdout",
     "output_type": "stream",
     "text": [
      "LLPS status:  True , @ c: 0 w: 3 t: 9\n",
      "conc: 1 well: 0\n"
     ]
    },
    {
     "name": "stderr",
     "output_type": "stream",
     "text": [
      "100%|██████████████████████████████████████████████████████████████████████████████████| 44/44 [00:19<00:00,  2.23it/s]\n",
      "  0%|                                                                                           | 0/44 [00:00<?, ?it/s]"
     ]
    },
    {
     "name": "stdout",
     "output_type": "stream",
     "text": [
      "LLPS status:  True , @ c: 1 w: 0 t: 9\n",
      "conc: 1 well: 1\n"
     ]
    },
    {
     "name": "stderr",
     "output_type": "stream",
     "text": [
      "100%|██████████████████████████████████████████████████████████████████████████████████| 44/44 [00:16<00:00,  2.69it/s]\n",
      "  0%|                                                                                           | 0/44 [00:00<?, ?it/s]"
     ]
    },
    {
     "name": "stdout",
     "output_type": "stream",
     "text": [
      "LLPS status:  True , @ c: 1 w: 1 t: 10\n",
      "conc: 1 well: 2\n"
     ]
    },
    {
     "name": "stderr",
     "output_type": "stream",
     "text": [
      "100%|██████████████████████████████████████████████████████████████████████████████████| 44/44 [00:16<00:00,  2.69it/s]\n",
      "  0%|                                                                                           | 0/44 [00:00<?, ?it/s]"
     ]
    },
    {
     "name": "stdout",
     "output_type": "stream",
     "text": [
      "LLPS status:  True , @ c: 1 w: 2 t: 10\n",
      "conc: 1 well: 3\n"
     ]
    },
    {
     "name": "stderr",
     "output_type": "stream",
     "text": [
      "100%|██████████████████████████████████████████████████████████████████████████████████| 44/44 [01:05<00:00,  1.50s/it]\n",
      "  0%|                                                                                           | 0/44 [00:00<?, ?it/s]"
     ]
    },
    {
     "name": "stdout",
     "output_type": "stream",
     "text": [
      "conc: 2 well: 0\n"
     ]
    },
    {
     "name": "stderr",
     "output_type": "stream",
     "text": [
      "100%|██████████████████████████████████████████████████████████████████████████████████| 44/44 [01:22<00:00,  1.87s/it]\n",
      "  0%|                                                                                           | 0/44 [00:00<?, ?it/s]"
     ]
    },
    {
     "name": "stdout",
     "output_type": "stream",
     "text": [
      "conc: 2 well: 1\n"
     ]
    },
    {
     "name": "stderr",
     "output_type": "stream",
     "text": [
      "100%|██████████████████████████████████████████████████████████████████████████████████| 44/44 [00:12<00:00,  3.40it/s]\n",
      "  0%|                                                                                           | 0/44 [00:00<?, ?it/s]"
     ]
    },
    {
     "name": "stdout",
     "output_type": "stream",
     "text": [
      "LLPS status:  True , @ c: 2 w: 1 t: 3\n",
      "conc: 2 well: 2\n"
     ]
    },
    {
     "name": "stderr",
     "output_type": "stream",
     "text": [
      "100%|██████████████████████████████████████████████████████████████████████████████████| 44/44 [00:34<00:00,  1.26it/s]\n",
      "  0%|                                                                                           | 0/44 [00:00<?, ?it/s]"
     ]
    },
    {
     "name": "stdout",
     "output_type": "stream",
     "text": [
      "LLPS status:  True , @ c: 2 w: 2 t: 11\n",
      "conc: 2 well: 3\n"
     ]
    },
    {
     "name": "stderr",
     "output_type": "stream",
     "text": [
      "100%|██████████████████████████████████████████████████████████████████████████████████| 44/44 [00:34<00:00,  1.26it/s]"
     ]
    },
    {
     "name": "stdout",
     "output_type": "stream",
     "text": [
      "LLPS status:  True , @ c: 2 w: 3 t: 11\n"
     ]
    },
    {
     "name": "stderr",
     "output_type": "stream",
     "text": [
      "\n"
     ]
    }
   ],
   "source": [
    "# Create all the necessary dicts and lists\n",
    "image_list, image_names, data_well, well, concentration, time_resolution = pypc.create()\n",
    "\n",
    "# Load images & convert to grayscale\n",
    "print(\"Write images into list\")\n",
    "pypc.images_to_list(image_list, image_names, image_folder, extension)\n",
    "print(\"Save them into a dictionary\")\n",
    "pypc.images_to_dict(n_timepoints, number_of_diff_conc, n_wells, image_list, image_names, time_resolution, concentration, well, data_well)\n",
    "\n",
    "# Two possibilities:\n",
    "# use script if you did a pipetting series\n",
    "starting_concentrations = pypc.starting_concentration(initial_conc_sol1, initial_conc_sol2, initial_ratio)\n",
    "# or\n",
    "# write list\n",
    "\n",
    "print(\"Analyse data...\")\n",
    "well_nr = 0\n",
    "for conc_nr in range(number_of_diff_conc):\n",
    "    for n_rows_per_conc in range(2):\n",
    "        for n_wells_per_row in range(n_wells):\n",
    "            \n",
    "            # Initialise variables, arrays and lists\n",
    "            well_data = np.zeros(shape=(2, 3))\n",
    "            centerpoints = np.zeros(shape=(2, 2))\n",
    "            elon_mask = np.zeros(shape=time_resolution[0][0][0]['gray'].shape, dtype=\"uint8\")\n",
    "            threshed_img = np.zeros(shape=time_resolution[0][0][0]['gray'].shape, dtype=\"uint8\")\n",
    "            areas = np.zeros(shape=(1, 2))\n",
    "            droplet_arr = np.zeros(shape=(2,4))\n",
    "            r_old_hv = np.zeros(2)\n",
    "            mean_list = []\n",
    "            llps_status = False\n",
    "            r_0 = 0\n",
    "            n_0 = 0\n",
    "            r_droplet_old = 0\n",
    "            avg_sum_prev = 0          \n",
    "            \n",
    "            print(\"conc:\", conc_nr, \"well:\", well_nr)\n",
    "            for time_idx in tqdm(range(n_timepoints)): #n_timepoints\n",
    "                if llps_status is False:\n",
    "                    #print(\"---\", \"C:\", conc_nr, \"W:\", well_nr, \" T:\", time_idx, \"---\")\n",
    "\n",
    "                    image = time_resolution[time_idx][conc_nr][well_nr]['gray'].copy()\n",
    "\n",
    "                    well_data, elon_mask, masked_img, droplet_found, norm_pp_len_h,norm_pp_len_v, img, f, N, E, S, W, x, y, droplet_arr, radius_old_hv, hor, vert, r_0, avg_sum_prev, droplet_coords = pypc.droplet_detection(diameter, image, well_data, elon_mask, centerpoints, llps_status, droplet_arr, r_0, time_idx, r_old_hv, r_droplet_old, avg_sum_prev)\n",
    " \n",
    "                    time_resolution[time_idx][conc_nr][well_nr]['img'] = img\n",
    "                    time_resolution[time_idx][conc_nr][well_nr]['normg_pp_len_h'] = norm_pp_len_h # needed for display\n",
    "                    time_resolution[time_idx][conc_nr][well_nr]['normg_pp_len_v'] = norm_pp_len_v # needed for display\n",
    "                    time_resolution[time_idx][conc_nr][well_nr]['masked img'] = masked_img \n",
    "                    time_resolution[time_idx][conc_nr][well_nr]['manipulated img'] = img # needed for display\n",
    "                    time_resolution[time_idx][conc_nr][well_nr]['droplet data'] = droplet_arr.copy()\n",
    "                    time_resolution[time_idx][conc_nr][well_nr]['x'] = x # needed for display\n",
    "                    time_resolution[time_idx][conc_nr][well_nr]['y'] = y # needed for display\n",
    "                    time_resolution[time_idx][conc_nr][well_nr]['r'] = well_data[0, 2] # needed for display\n",
    "                    time_resolution[time_idx][conc_nr][well_nr]['N'] = N\n",
    "                    time_resolution[time_idx][conc_nr][well_nr]['E'] = E\n",
    "                    time_resolution[time_idx][conc_nr][well_nr]['S'] = S\n",
    "                    time_resolution[time_idx][conc_nr][well_nr]['W'] = W\n",
    "                    \n",
    "                    time_resolution[time_idx][conc_nr][well_nr]['well data'] = well_data\n",
    "                    time_resolution[time_idx][conc_nr][well_nr]['mask'] = elon_mask\n",
    "                    time_resolution[time_idx][conc_nr][well_nr]['hor'] = hor\n",
    "                    time_resolution[time_idx][conc_nr][well_nr]['vert'] = vert\n",
    "                    \n",
    "\n",
    "                    time_resolution[time_idx][conc_nr][well_nr]['coords'] = droplet_coords\n",
    "\n",
    "                    \n",
    "                    if time_idx == 0:\n",
    "                        areas[0, 0] = droplet_arr[0, 3]\n",
    "\n",
    "                    llps_status, areas, mean_list, droplet_arr, squi, cro_squi, n_0 = pypc.detect_LLPS(percental_threshold, droplet_arr, llps_status, img, time_idx, areas, mean_list, droplet_found, n_0)\n",
    "                    time_resolution[0][conc_nr][well_nr]['areas'] = areas\n",
    "                    time_resolution[0][conc_nr][well_nr]['mean list'] = mean_list\n",
    "                    time_resolution[time_idx][conc_nr][well_nr]['squ'] = squi\n",
    "                    time_resolution[time_idx][conc_nr][well_nr]['cro squ'] = cro_squi\n",
    "                    \n",
    "                    time_resolution[time_idx][conc_nr][well_nr]['droplet array'] = droplet_arr\n",
    "\n",
    "                    \n",
    "                    if llps_status is True:\n",
    "                        print(\"LLPS status: \", llps_status, \", @\", \"c:\", conc_nr, \"w:\", well_nr, \"t:\", time_idx)\n",
    "                        # save img time where llps was found\n",
    "                        time_resolution[0][conc_nr][well_nr]['time idx'] = time_idx\n",
    "                        # save name of image where LLPS was detected\n",
    "                        time_resolution[0][conc_nr][well_nr]['LLPS name'] = time_resolution[time_idx][conc_nr][well_nr]['name']\n",
    "                        # calculate the critical concentration\n",
    "                        llps_conc = pypc.ccrit_calculation(starting_concentrations, areas, conc_nr)\n",
    "                        time_resolution[0][conc_nr][well_nr]['LLPS conc'] = llps_conc\n",
    "                    \n",
    "            well_nr += 1\n",
    "    well_nr = 0\n",
    "\n",
    "# saves the image names where LLPS was detected and the calculated concentrations to a csv file\n",
    "# .csv gets safed in the image folder\n",
    "#pypc.save_results_to_csv(time_resolution, image_folder, number_of_diff_conc, n_wells, hours_of_experiment,\n",
    "#                       images_per_hour, name_sol1, name_sol2, unit_sol1, unit_sol2)"
   ]
  },
  {
   "cell_type": "code",
   "execution_count": 7,
   "metadata": {},
   "outputs": [
    {
     "name": "stdout",
     "output_type": "stream",
     "text": [
      "3\n",
      "14\n",
      "8\n",
      "9\n"
     ]
    },
    {
     "ename": "KeyError",
     "evalue": "4",
     "output_type": "error",
     "traceback": [
      "\u001b[1;31m---------------------------------------------------------------------------\u001b[0m",
      "\u001b[1;31mKeyError\u001b[0m                                  Traceback (most recent call last)",
      "\u001b[1;32m<ipython-input-7-42d77e4d4a1e>\u001b[0m in \u001b[0;36m<module>\u001b[1;34m\u001b[0m\n\u001b[0;32m      1\u001b[0m \u001b[1;32mfor\u001b[0m \u001b[0mc\u001b[0m \u001b[1;32min\u001b[0m \u001b[0mrange\u001b[0m\u001b[1;33m(\u001b[0m\u001b[1;36m0\u001b[0m\u001b[1;33m,\u001b[0m \u001b[1;36m5\u001b[0m\u001b[1;33m)\u001b[0m\u001b[1;33m:\u001b[0m\u001b[1;33m\u001b[0m\u001b[1;33m\u001b[0m\u001b[0m\n\u001b[0;32m      2\u001b[0m     \u001b[1;32mfor\u001b[0m \u001b[0mw\u001b[0m \u001b[1;32min\u001b[0m \u001b[0mrange\u001b[0m\u001b[1;33m(\u001b[0m\u001b[1;36m0\u001b[0m\u001b[1;33m,\u001b[0m\u001b[1;36m16\u001b[0m\u001b[1;33m)\u001b[0m\u001b[1;33m:\u001b[0m\u001b[1;33m\u001b[0m\u001b[1;33m\u001b[0m\u001b[0m\n\u001b[1;32m----> 3\u001b[1;33m         \u001b[0mprint\u001b[0m\u001b[1;33m(\u001b[0m\u001b[0mtime_resolution\u001b[0m\u001b[1;33m[\u001b[0m\u001b[1;36m0\u001b[0m\u001b[1;33m]\u001b[0m\u001b[1;33m[\u001b[0m\u001b[0mc\u001b[0m\u001b[1;33m]\u001b[0m\u001b[1;33m[\u001b[0m\u001b[0mw\u001b[0m\u001b[1;33m]\u001b[0m\u001b[1;33m[\u001b[0m\u001b[1;34m'time idx'\u001b[0m\u001b[1;33m]\u001b[0m\u001b[1;33m)\u001b[0m\u001b[1;33m\u001b[0m\u001b[1;33m\u001b[0m\u001b[0m\n\u001b[0m",
      "\u001b[1;31mKeyError\u001b[0m: 4"
     ]
    }
   ],
   "source": [
    "for c in range(0, 5):\n",
    "    for w in range(0,16):\n",
    "        print(time_resolution[0][c][w]['time idx'])"
   ]
  },
  {
   "cell_type": "code",
   "execution_count": 9,
   "metadata": {},
   "outputs": [
    {
     "name": "stdout",
     "output_type": "stream",
     "text": [
      "meanlist [48, 26, 16, 19, 18, 21, 17, 20, 15, 30, 19, 18, 18, 35] ; mean: 22.857142857142858\n",
      "perc. difference: 53.125\n"
     ]
    },
    {
     "data": {
      "image/png": "[encoded data removed]",
      "text/plain": [
       "<Figure size 1080x648 with 2 Axes>"
      ]
     },
     "metadata": {},
     "output_type": "display_data"
    }
   ],
   "source": [
    "c = 0\n",
    "w = 1\n",
    "t = 14\n",
    "\n",
    "x_abs = time_resolution[t][c][w]['droplet data'][0,1]\n",
    "y_abs = time_resolution[t][c][w]['droplet data'][0,2]\n",
    "radius_est = time_resolution[t][c][w]['droplet data'][0,0] \n",
    "\n",
    "fig, axs = plt.subplots(1,2, figsize=(15, 9), facecolor='w', edgecolor='k')\n",
    "axs[0].imshow(time_resolution[t][c][w]['squ'], cmap=\"gray\")\n",
    "axs[1].imshow(time_resolution[t][c][w]['cro squ'], cmap=\"gray\")\n",
    "\n",
    "circle = plt.Circle((x_abs, y_abs), radius_est, color='tab:blue', alpha=0.25)\n",
    "\n",
    "axs[0].add_patch(circle)\n",
    "\n",
    "#print(\"whitespace\", np.count_nonzero(time_resolution[t][c][w]['cro squ']))\n",
    "#print(\"r\", time_resolution[t][c][w]['droplet data'][0,0] )\n",
    "print(\"meanlist\", time_resolution[0][c][w]['mean list'], \"; mean:\", np.mean(time_resolution[0][c][w]['mean list']))\n",
    "print(\"perc. difference:\", (time_resolution[0][c][w]['mean list'][-1]/np.mean(time_resolution[0][c][w]['mean list'])*100-100))\n",
    "\n",
    "\n",
    "\n",
    "n = 0\n",
    "for idx, value in enumerate(time_resolution[t][c][w]['cro squ']):\n",
    "    for i, val in enumerate(time_resolution[t][c][w]['cro squ'][idx]):\n",
    "        if val == 0:\n",
    "            n += 1\n",
    "\n",
    "# changed: removed abs() from droplet detector"
   ]
  },
  {
   "cell_type": "code",
   "execution_count": 11,
   "metadata": {},
   "outputs": [
    {
     "name": "stdout",
     "output_type": "stream",
     "text": [
      "radius 84.60415075706445\n",
      "116.0 84.60415075706445\n"
     ]
    },
    {
     "data": {
      "image/png": "[encoded data removed]",
      "text/plain": [
       "<Figure size 720x1296 with 8 Axes>"
      ]
     },
     "metadata": {
      "needs_background": "light"
     },
     "output_type": "display_data"
    }
   ],
   "source": [
    "### Plot\n",
    "\n",
    "\n",
    "conc_nr = 0\n",
    "well_nr = 1\n",
    "time_idx = 14\n",
    "\n",
    "\n",
    "\n",
    "img = time_resolution[time_idx][conc_nr][well_nr]['img'] \n",
    "norm_pp_len_h = time_resolution[time_idx][conc_nr][well_nr]['normg_pp_len_h']\n",
    "x_abs = time_resolution[time_idx][conc_nr][well_nr]['droplet data'][0, 1]\n",
    "y_abs = time_resolution[time_idx][conc_nr][well_nr]['droplet data'][0, 2]\n",
    "radius_est = time_resolution[time_idx][conc_nr][well_nr]['droplet data'][0, 0]\n",
    "x = time_resolution[time_idx][conc_nr][well_nr]['x'] \n",
    "y = time_resolution[time_idx][conc_nr][well_nr]['y']\n",
    "r = time_resolution[time_idx][conc_nr][well_nr]['r'] \n",
    "N = time_resolution[time_idx][conc_nr][well_nr]['N'] \n",
    "E = time_resolution[time_idx][conc_nr][well_nr]['E'] \n",
    "S = time_resolution[time_idx][conc_nr][well_nr]['S'] \n",
    "W = time_resolution[time_idx][conc_nr][well_nr]['W'] \n",
    "\n",
    "print(\"radius\", radius_est)\n",
    "fig, (ax1, ax2, ax3, ax4, ax5, ax6, ax7, ax8) = plt.subplots(nrows=8, figsize=(10, 18), gridspec_kw={\"height_ratios\": [0.3, 0.1, 0.1, 0.1, 0.1, 0.1, 0.1, 0.1]})\n",
    "ax1.imshow(img, cmap=\"gray\")\n",
    "print(r, radius_est)\n",
    "\n",
    "\n",
    "\n",
    "#img_hL = cv2.line(img.copy(), (W,y), (E,y), (255,0,0), 2)\n",
    "ax1.hlines(y, W, E, color=\"tab:gray\", alpha=0.5)\n",
    "ax1.hlines(int(y + r / 2), W, E, color=\"tab:gray\", alpha=0.5)\n",
    "ax1.hlines(int(y + (0.5 * r) / 2), W, E, color=\"tab:gray\", alpha=0.5)\n",
    "ax1.hlines(int(y - 0.5 * r / 2), W, E, color=\"tab:gray\", alpha=0.5)\n",
    "ax1.hlines(int(y - r / 2), W, E, color=\"tab:gray\", alpha=0.5)\n",
    "ax1.hlines(int(y + 1.5 * r/2), W,E, color=\"tab:gray\", alpha=0.5)\n",
    "ax1.hlines(int(y - 1.5 * r/2), W,E, color=\"tab:gray\", alpha=0.5)\n",
    "\n",
    "ax1.vlines(x, N, S, color=\"tab:gray\", alpha=0.5)\n",
    "ax1.vlines(int(x + r / 2), N, S, color=\"tab:gray\", alpha=0.5)\n",
    "ax1.vlines(int(x + 0.5 * r / 2), N, S, color=\"tab:gray\", alpha=0.5)\n",
    "ax1.vlines(int(x - 0.5 * r / 2), N, S, color=\"tab:gray\", alpha=0.5)\n",
    "ax1.vlines(int(x - r / 2), N, S, color=\"tab:gray\", alpha=0.5)\n",
    "ax1.vlines(int(x + 1.5 * r/2), N, S, color=\"tab:gray\", alpha=0.5)\n",
    "ax1.vlines(int(x - 1.5 * r/2), N, S, color=\"tab:gray\", alpha=0.5)\n",
    "\n",
    "\n",
    "#circle = plt.Circle((x_ass, y_ass), radius, color='tab:red', alpha=0.25)\n",
    "circle = plt.Circle((x_abs, y_abs), radius_est, color='tab:blue', alpha=0.25)\n",
    "\n",
    "ax1.add_patch(circle)\n",
    "#ax1.hlines(y_ass, x_ass-10, x_ass+10, color='tab:blue', linewidth=5)\n",
    "\n",
    "ax2.plot(norm_pp_len_h[0])\n",
    "ax2.set_title(\"normalised peaks 0\")\n",
    "\n",
    "ax3.plot(norm_pp_len_h[1])\n",
    "ax3.set_title(\"normalised peaks 1\")\n",
    "\n",
    "ax4.plot(norm_pp_len_h[2])\n",
    "ax4.set_title(\"normalised peaks 2\")\n",
    "\n",
    "ax5.plot(norm_pp_len_h[3])\n",
    "ax5.set_title(\"normalised peaks 3\")\n",
    "\n",
    "ax6.plot(norm_pp_len_h[4])\n",
    "ax6.set_title(\"normalised peaks 4\")\n",
    "\n",
    "ax7.plot(norm_pp_len_h[5])\n",
    "ax7.set_title(\"normalised peaks 5\")\n",
    "\n",
    "ax8.plot(norm_pp_len_h[6])\n",
    "ax8.set_title(\"normalised peaks 6\")\n",
    "\n",
    "#ax9.plot(l, np.sum(norm_pp_len_h, axis=0))\n",
    "#ax9.set_title(\"summed peaks\")\n",
    "#ax9.hlines(5, np.min(l),np.max(l), color=\"tab:orange\")\n",
    "fig.tight_layout()\n",
    "#fig.savefig(f\"t{time_idx}_c{conc_nr}_w{well_nr}_self-dev-Algo.png\")"
   ]
  },
  {
   "cell_type": "code",
   "execution_count": null,
   "metadata": {},
   "outputs": [],
   "source": [
    "### Plot\n",
    "img = time_resolution[time_idx][conc_nr][well_nr]['img'] \n",
    "norm_pp_len_v = time_resolution[time_idx][conc_nr][well_nr]['normg_pp_len_v']\n",
    "\n",
    "\n",
    "fig, (ax1, ax2, ax3, ax4, ax5, ax6, ax7, ax8) = plt.subplots(nrows=8, figsize=(10, 18), gridspec_kw={\"height_ratios\": [0.3, 0.1, 0.1, 0.1, 0.1, 0.1, 0.1, 0.1]})\n",
    "ax1.imshow(img, cmap=\"gray\")\n",
    "\n",
    "\n",
    "#img_hL = cv2.line(img.copy(), (W,y), (E,y), (255,0,0), 2)\n",
    "ax1.hlines(y, W, E, color=\"tab:gray\", alpha=0.5)\n",
    "ax1.hlines(int(y + r / 2), W, E, color=\"tab:gray\", alpha=0.5)\n",
    "ax1.hlines(int(y + (0.5 * r) / 2), W, E, color=\"tab:gray\", alpha=0.5)\n",
    "ax1.hlines(int(y - 0.5 * r / 2), W, E, color=\"tab:gray\", alpha=0.5)\n",
    "ax1.hlines(int(y - r / 2), W, E, color=\"tab:gray\", alpha=0.5)\n",
    "ax1.hlines(int(y + 1.5 * r/2), W,E, color=\"tab:gray\", alpha=0.5)\n",
    "ax1.hlines(int(y - 1.5 * r/2), W,E, color=\"tab:gray\", alpha=0.5)\n",
    "\n",
    "ax1.vlines(x, N, S, color=\"tab:gray\", alpha=0.5)\n",
    "ax1.vlines(int(x + r / 2), N, S, color=\"tab:gray\", alpha=0.5)\n",
    "ax1.vlines(int(x + 0.5 * r / 2), N, S, color=\"tab:gray\", alpha=0.5)\n",
    "ax1.vlines(int(x - 0.5 * r / 2), N, S, color=\"tab:gray\", alpha=0.5)\n",
    "ax1.vlines(int(x - r / 2), N, S, color=\"tab:gray\", alpha=0.5)\n",
    "ax1.vlines(int(x + 1.5 * r/2), N, S, color=\"tab:gray\", alpha=0.5)\n",
    "ax1.vlines(int(x - 1.5 * r/2), N, S, color=\"tab:gray\", alpha=0.5)\n",
    "\n",
    "\n",
    "#circle = plt.Circle((x_ass, y_ass), radius, color='tab:red', alpha=0.25)\n",
    "circle = plt.Circle((x_abs, y_abs), radius_est, color='tab:red', alpha=0.25)\n",
    "#circle = plt.Circle((x_abs, 110+y-2*radius_est), radius_est, color='tab:green', alpha=0.25)\n",
    "\n",
    "\n",
    "ax1.add_patch(circle)\n",
    "#ax1.hlines(y_ass, x_ass-10, x_ass+10, color='tab:blue', linewidth=5)\n",
    "\n",
    "ax2.plot(norm_pp_len_v[0])\n",
    "ax2.set_title(\"normalised peaks 0\")\n",
    "\n",
    "ax3.plot(norm_pp_len_v[1])\n",
    "ax3.set_title(\"normalised peaks 1\")\n",
    "\n",
    "ax4.plot(norm_pp_len_v[2])\n",
    "ax4.set_title(\"normalised peaks 2\")\n",
    "\n",
    "ax5.plot(norm_pp_len_v[3])\n",
    "ax5.set_title(\"normalised peaks 3\")\n",
    "\n",
    "ax6.plot(norm_pp_len_v[4])\n",
    "ax6.set_title(\"normalised peaks 4\")\n",
    "\n",
    "ax7.plot(norm_pp_len_v[5])\n",
    "ax7.set_title(\"normalised peaks 5\")\n",
    "\n",
    "ax8.plot(norm_pp_len_v[6])\n",
    "ax8.set_title(\"normalised peaks 6\")\n",
    "fig.tight_layout()\n",
    "#fig.savefig(\"t2_c0_w1_nuMethod.png\")"
   ]
  },
  {
   "cell_type": "markdown",
   "metadata": {},
   "source": [
    "## quality control"
   ]
  },
  {
   "cell_type": "code",
   "execution_count": null,
   "metadata": {},
   "outputs": [],
   "source": [
    "#5,0,0\n",
    "\n",
    "# time to check\n",
    "time_idx = 5\n",
    "\n",
    "# concentration to check\n",
    "conc_nr = 0\n",
    "\n",
    "# well to check\n",
    "well_nr = 0\n",
    "\n",
    "\n",
    "# uncomment this to get some insight into image processing\n",
    "pypc.quality_control(time_resolution, time_idx, conc_nr, well_nr, name_sol1, name_sol2,\n",
    "                     unit_sol1, unit_sol2, starting_concentrations, time_resolution[0][conc_nr][well_nr]['well geometry'])"
   ]
  },
  {
   "cell_type": "code",
   "execution_count": null,
   "metadata": {},
   "outputs": [],
   "source": [
    "if time_resolution[0][conc_nr][well_nr]['time idx']:\n",
    "    print(\"true\")"
   ]
  },
  {
   "cell_type": "markdown",
   "metadata": {},
   "source": [
    "## Plot the data"
   ]
  },
  {
   "cell_type": "code",
   "execution_count": null,
   "metadata": {},
   "outputs": [],
   "source": [
    "### figure setup ###\n",
    "\n",
    "\n",
    "fig, (ax1, ax2) = plt.subplots(ncols=2, figsize=(18,8), sharex=False, sharey=False)\n",
    "\n",
    "# set labels\n",
    "ax1.set_xlabel(f\"{name_sol2} [{unit_sol2}]\")\n",
    "ax1.set_ylabel(f\"{name_sol1} [{unit_sol1}]\")\n",
    "ax1.xaxis.label.set_size(15)\n",
    "ax1.yaxis.label.set_size(15)\n",
    "\n",
    "ax2.set_xlabel(ax1.get_xlabel())\n",
    "ax2.xaxis.label.set_size(ax1.xaxis.label.get_size())\n",
    "ax2.set_ylabel(ax1.get_ylabel())\n",
    "ax2.yaxis.label.set_size(ax1.yaxis.label.get_size())\n",
    "\n",
    "# set limits \n",
    "xlim = int(initial_conc_sol2 * 6)\n",
    "ylim = int(initial_conc_sol1 * 6)\n",
    "ax1.set_xlim(0, xlim)\n",
    "ax1.set_ylim(0, ylim)\n",
    "ax2.set_xlim(0, xlim)\n",
    "ax2.set_ylim(0, ylim)\n",
    "\n",
    "# set titles\n",
    "ax1.set_title('individual wells', fontsize=25)\n",
    "ax2.set_title('means', fontsize= 25)\n",
    "\n",
    "# set ticks\n",
    "ax1.tick_params(axis='y', which='major', right=True, color=\"black\", labelcolor=\"black\", direction='out', labelsize=15)\n",
    "ax1.tick_params(axis='y', which='minor', right=True)\n",
    "ax1.tick_params(axis='x', which='major', top=True, labeltop=False, direction='out', labelsize=15)\n",
    "ax1.tick_params(axis='x', which='minor', bottom=True, top=True)\n",
    "ax1.minorticks_on()\n",
    "ax1.xaxis.set_major_locator(MultipleLocator(20))\n",
    "ax1.xaxis.set_minor_locator(AutoMinorLocator(10))\n",
    "ax1.yaxis.set_major_locator(MultipleLocator(100))\n",
    "ax1.yaxis.set_minor_locator(AutoMinorLocator(20))\n",
    "ax1.xaxis.set_tick_params(which='both', width=2)\n",
    "ax1.yaxis.set_tick_params(which='both', width=2)\n",
    "\n",
    "\n",
    "ax2.tick_params(axis='y', which='major', right=True, color=\"black\", labelcolor=\"black\", direction='out', labelsize=15)\n",
    "ax2.tick_params(axis='y', which='minor', right=True)\n",
    "ax2.tick_params(axis='x', which='major', top=True, labeltop=False, direction='out', labelsize=15)\n",
    "ax2.tick_params(axis='x', which='minor', bottom=True, top=True)\n",
    "ax2.minorticks_on()\n",
    "ax2.xaxis.set_major_locator(MultipleLocator(20))\n",
    "ax2.xaxis.set_minor_locator(AutoMinorLocator(10))\n",
    "ax2.yaxis.set_major_locator(MultipleLocator(100))\n",
    "ax2.yaxis.set_minor_locator(AutoMinorLocator(20))\n",
    "ax2.xaxis.set_tick_params(which='both', width=2)\n",
    "ax2.yaxis.set_tick_params(which='both', width=2)\n",
    "\n",
    "\n",
    "# plot starting concentrations and the data\n",
    "well_nr = 0\n",
    "\n",
    "for conc_nr in range (number_of_diff_conc):\n",
    "    for n_horizontals_per_conc in range(2):\n",
    "        for n_wells_per_horizontal in range(n_wells):\n",
    "            if time_resolution[0][conc_nr][well_nr]['areas'][0, 1] != 0:\n",
    "            \n",
    "                if conc_nr == 0:\n",
    "                    color = \"blue\"\n",
    "                if conc_nr == 1:\n",
    "                    color = \"orange\"\n",
    "                if conc_nr == 2:\n",
    "                    color = \"gray\"\n",
    "                if conc_nr == 3:\n",
    "                    color = \"yellow\"\n",
    "                if conc_nr == 4:\n",
    "                    color = \"green\"\n",
    "\n",
    "                ax1.scatter(starting_concentrations[conc_nr,1], starting_concentrations[conc_nr,0], s=60, c=color, marker=\"s\", edgecolors=\"black\")\n",
    "                ax1.scatter(time_resolution[0][conc_nr][well_nr]['LLPS conc'][0,1],time_resolution[0][conc_nr][well_nr]['LLPS conc'][0,0],\n",
    "                            s=60, color=color, marker=\"o\", edgecolors=\"black\")\n",
    "                \n",
    "            well_nr += 1\n",
    "    well_nr = 0\n",
    "well_nr = 0\n",
    "\n",
    "\n",
    "# calculate and plot mean\n",
    "mean_sol1 = []\n",
    "mean_sol1 = [0] * 5\n",
    "mean_sol2 = []\n",
    "mean_sol2 = [0] * 5\n",
    "n_llps_wells = []\n",
    "n_llps_wells = [0] * 5\n",
    "\n",
    "for conc_nr in range (number_of_diff_conc):\n",
    "    for n_horizontals_per_conc in range(2):\n",
    "        for n_wells_per_horizontal in range(n_wells):\n",
    "            if time_resolution[0][conc_nr][well_nr]['areas'][0, 1] != 0:           \n",
    "                # calculate mean\n",
    "                mean_sol1[conc_nr] = mean_sol1[conc_nr] + time_resolution[0][conc_nr][well_nr]['LLPS conc'][0,0]\n",
    "                mean_sol2[conc_nr] = mean_sol2[conc_nr] + time_resolution[0][conc_nr][well_nr]['LLPS conc'][0,1]\n",
    "                n_llps_wells[conc_nr] += 1\n",
    "                \n",
    "            well_nr += 1\n",
    "    well_nr = 0\n",
    "well_nr = 0\n",
    "\n",
    "\n",
    "for conc_nr in range(number_of_diff_conc):\n",
    "    if conc_nr == 0:\n",
    "        color = \"blue\"\n",
    "    if conc_nr == 1:\n",
    "        color = \"orange\"\n",
    "    if conc_nr == 2:\n",
    "        color = \"gray\"\n",
    "    if conc_nr == 3:\n",
    "        color = \"yellow\"\n",
    "    if conc_nr == 4:\n",
    "        color = \"green\"\n",
    "    if n_llps_wells[conc_nr] > 0:\n",
    "        mean_sol1[conc_nr] = mean_sol1[conc_nr]/n_llps_wells[conc_nr]\n",
    "        mean_sol2[conc_nr] = mean_sol2[conc_nr]/n_llps_wells[conc_nr]\n",
    "        m = mean_sol1[conc_nr]/mean_sol2[conc_nr]\n",
    "        \n",
    "    ax2.plot([0, mean_sol2[conc_nr],xlim], [0, mean_sol1[conc_nr], m*xlim], color=color, linestyle='dashed', alpha=0.50)\n",
    "    ax2.scatter(starting_concentrations[conc_nr,1], starting_concentrations[conc_nr,0], s=60, c=color, marker=\"s\", edgecolors=\"black\")\n",
    "\n",
    "    ax2.scatter(mean_sol2[conc_nr],mean_sol1[conc_nr], s=60, color=color,\n",
    "                           marker=\"o\", edgecolors=\"black\")\n",
    " "
   ]
  }
 ],
 "metadata": {
  "kernelspec": {
   "display_name": "PyPhaseChip Kernel",
   "language": "python",
   "name": "pyphasechip"
  },
  "language_info": {
   "codemirror_mode": {
    "name": "ipython",
    "version": 3
   },
   "file_extension": ".py",
   "mimetype": "text/x-python",
   "name": "python",
   "nbconvert_exporter": "python",
   "pygments_lexer": "ipython3",
   "version": "3.8.10"
  }
 },
 "nbformat": 4,
 "nbformat_minor": 4
}
