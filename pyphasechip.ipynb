{
 "cells": [
  {
   "cell_type": "code",
   "execution_count": 1,
   "metadata": {},
   "outputs": [],
   "source": [
    "import cv2\n",
    "import numpy as np \n",
    "import matplotlib.pyplot as plt\n",
    "import PIL.Image\n",
    "from datetime import datetime\n",
    "import PIL.ExifTags\n",
    "from tqdm import tqdm\n",
    "\n",
    "import dateutil.parser\n",
    "import os\n",
    "import re\n",
    "\n",
    "from matplotlib.ticker import (MultipleLocator, FormatStrFormatter,\n",
    "                               AutoMinorLocator, MaxNLocator)\n",
    "\n",
    "from pyphasechip import pyphasechip_logic as pypc\n",
    "from typing import Tuple"
   ]
  },
  {
   "cell_type": "markdown",
   "metadata": {},
   "source": [
    "## Variables"
   ]
  },
  {
   "cell_type": "code",
   "execution_count": 2,
   "metadata": {},
   "outputs": [],
   "source": [
    "# reagent 1 name\n",
    "name_sol1 = \"BSA\"\n",
    "# reagent 1 starting contentration\n",
    "initial_conc_sol1 = 66\n",
    "# unit\n",
    "unit_sol1 = \"µM\"\n",
    "\n",
    "\n",
    "# reagent 2 name\n",
    "name_sol2 = \"PEG\"\n",
    "# reagent 2 starting concentration\n",
    "initial_conc_sol2 = 20\n",
    "# unit\n",
    "unit_sol2 = \"%\"\n",
    "\n",
    "\n",
    "# mixing ratio of the concentrations 0\n",
    "# [1:X]\n",
    "initial_ratio = 7\n",
    "\n",
    "\n",
    "# Number of different concentrations used\n",
    "number_of_diff_conc = 4\n",
    "\n",
    "# Number of wells\n",
    "n_wells = 5\n",
    "\n",
    "###### delete hoe and iph, use this instead\n",
    "# total amount of images\n",
    "total_n_images = 1260\n",
    "n_timepoints = int(total_n_images / (number_of_diff_conc * n_wells)) \n",
    "\n",
    "# percental difference of img mean to all previous imgages. \n",
    "# value is similar to a sensivity-value\n",
    "percental_threshold = 200 #55\n",
    "\n",
    "\n",
    "# measured diameter of chamber to calculate radii for circle detection -> min and max [px]\n",
    "# around +-30 of the real value, best measured with something like imageJ/Fiji\n",
    "diameter = 238 \n",
    "minRadiusChamber = int((diameter/2)*0.7)\n",
    "maxRadiusChamber = int((diameter/2)*1.3)\n",
    "\n",
    "\n",
    "# height of chamber [µm]\n",
    "chamber_height = 60\n",
    "\n",
    "# folder where images are stored\n",
    "# best is to use only paths without any whitespace\n",
    "#image_folder = r\"C:\\Users\\DigitalStation\\Documents\\Python_Scripts\\DropletDetection\\20220601_BSA_PEG_FC40_subset\"\n",
    "image_folder = r\"C:\\Users\\DigitalStation\\Documents\\Python_Scripts\\DropletDetection\\20220702_tsf_PEG_subset\"\n",
    "\n",
    "# datatype of the images\n",
    "extension = \".jpg\"\n",
    "\n",
    "# TODO: use a .yml file for storing these variables"
   ]
  },
  {
   "cell_type": "code",
   "execution_count": null,
   "metadata": {},
   "outputs": [],
   "source": [
    "#THIS IS FOR CELLOBSERVER/ZEISS IMAGES ONLY\n",
    "\n",
    "def get_sorted_file_list(image_folder: str) -> list:\n",
    "    files, times, concs, wells = [], [], [], []\n",
    "    \n",
    "    for file in os.listdir(image_folder):\n",
    "        # 1. More robust, faster, but more specific\n",
    "        c, w, _, t = re.search(\"c(\\d+)_w(\\d+)_s(\\d+)t(\\d+)\", file).groups()\n",
    "\n",
    "        # 2. Other way\n",
    "        #c, w, _, t, *params = re.findall('[0-9]+', file)\n",
    "        \n",
    "        # Generate lists\n",
    "        times.append(int(t))\n",
    "        concs.append(int(c))\n",
    "        wells.append(int(w))\n",
    "        files.append(file)\n",
    "        \n",
    "    return [x for _, _, _, x in sorted(zip(concs, times, wells, files))]\n",
    "    \n",
    "get_sorted_file_list(image_folder)"
   ]
  },
  {
   "cell_type": "markdown",
   "metadata": {},
   "source": [
    "## Programm"
   ]
  },
  {
   "cell_type": "code",
   "execution_count": null,
   "metadata": {
    "scrolled": true,
    "tags": []
   },
   "outputs": [
    {
     "name": "stdout",
     "output_type": "stream",
     "text": [
      "Write images into list\n"
     ]
    },
    {
     "name": "stderr",
     "output_type": "stream",
     "text": [
      "100%|█████████████████████████████████████████████████████████████████████████████| 1260/1260 [00:08<00:00, 143.61it/s]\n"
     ]
    },
    {
     "name": "stdout",
     "output_type": "stream",
     "text": [
      "Save them into a dictionary\n"
     ]
    },
    {
     "name": "stderr",
     "output_type": "stream",
     "text": [
      "100%|██████████████████████████████████████████████████████████████████████████████████| 63/63 [00:01<00:00, 37.54it/s]\n",
      "  0%|                                                                                           | 0/63 [00:00<?, ?it/s]"
     ]
    },
    {
     "name": "stdout",
     "output_type": "stream",
     "text": [
      "Analyse data...\n",
      "conc: 0 well: 0\n",
      "multiple_droplets: n = 141\n",
      "status: 0,0,0: Multiple droplets found (counter): 0 \n",
      "well_found: True, llps_status: False\n",
      "detect a droplet\n",
      "results: 338,151,45\n",
      "status: droplet_found: True\n"
     ]
    },
    {
     "name": "stderr",
     "output_type": "stream",
     "text": [
      "  2%|█▎                                                                                 | 1/63 [00:00<00:49,  1.25it/s]"
     ]
    },
    {
     "name": "stdout",
     "output_type": "stream",
     "text": [
      "multiple_droplets: n = 225\n",
      "status: 0,0,1: Multiple droplets found (counter): 0 \n",
      "well_found: True, llps_status: False\n",
      "detect a droplet\n",
      "results: 383,209,109\n",
      "status: droplet_found: True\n"
     ]
    },
    {
     "name": "stderr",
     "output_type": "stream",
     "text": [
      "  3%|██▋                                                                                | 2/63 [00:01<00:50,  1.21it/s]"
     ]
    },
    {
     "name": "stdout",
     "output_type": "stream",
     "text": [
      "multiple_droplets: n = 233\n",
      "status: 0,0,2: Multiple droplets found (counter): 0 \n",
      "well_found: True, llps_status: False\n",
      "detect a droplet\n",
      "results: 410,241,82\n",
      "status: droplet_found: True\n"
     ]
    },
    {
     "name": "stderr",
     "output_type": "stream",
     "text": [
      "  5%|███▉                                                                               | 3/63 [00:02<00:49,  1.22it/s]"
     ]
    },
    {
     "name": "stdout",
     "output_type": "stream",
     "text": [
      "multiple_droplets: n = 241\n",
      "status: 0,0,3: Multiple droplets found (counter): 0 \n",
      "well_found: True, llps_status: False\n",
      "detect a droplet\n",
      "results: 425,206,110\n",
      "status: droplet_found: True\n"
     ]
    },
    {
     "name": "stderr",
     "output_type": "stream",
     "text": [
      "  6%|█████▎                                                                             | 4/63 [00:03<00:48,  1.22it/s]"
     ]
    },
    {
     "name": "stdout",
     "output_type": "stream",
     "text": [
      "multiple_droplets: n = 203\n",
      "status: 0,0,4: Multiple droplets found (counter): 0 \n",
      "well_found: True, llps_status: False\n",
      "detect a droplet\n",
      "results: 415,196,86\n",
      "status: droplet_found: True\n"
     ]
    },
    {
     "name": "stderr",
     "output_type": "stream",
     "text": [
      "  8%|██████▌                                                                            | 5/63 [00:04<00:47,  1.23it/s]"
     ]
    },
    {
     "name": "stdout",
     "output_type": "stream",
     "text": [
      "multiple_droplets: n = 204\n",
      "status: 0,0,5: Multiple droplets found (counter): 0 \n",
      "well_found: True, llps_status: False\n",
      "detect a droplet\n",
      "results: 422,210,99\n",
      "status: droplet_found: True\n"
     ]
    },
    {
     "name": "stderr",
     "output_type": "stream",
     "text": [
      " 10%|███████▉                                                                           | 6/63 [00:04<00:46,  1.23it/s]"
     ]
    },
    {
     "name": "stdout",
     "output_type": "stream",
     "text": [
      "status: 0,0,6: Multiple droplets found (counter): 0 \n",
      "well_found: True, llps_status: False\n",
      "detect a droplet\n",
      "results: 426,210,95\n",
      "status: droplet_found: True\n"
     ]
    },
    {
     "name": "stderr",
     "output_type": "stream",
     "text": [
      " 11%|█████████▏                                                                         | 7/63 [00:05<00:44,  1.26it/s]"
     ]
    },
    {
     "name": "stdout",
     "output_type": "stream",
     "text": [
      "status: 0,0,7: Multiple droplets found (counter): 0 \n",
      "well_found: True, llps_status: False\n",
      "detect a droplet\n",
      "results: 418,217,92\n",
      "status: droplet_found: True\n"
     ]
    },
    {
     "name": "stderr",
     "output_type": "stream",
     "text": [
      " 13%|██████████▌                                                                        | 8/63 [00:06<00:42,  1.28it/s]"
     ]
    },
    {
     "name": "stdout",
     "output_type": "stream",
     "text": [
      "status: 0,0,8: Multiple droplets found (counter): 0 \n",
      "well_found: True, llps_status: False\n",
      "detect a droplet\n",
      "results: 414,218,89\n",
      "status: droplet_found: True\n"
     ]
    },
    {
     "name": "stderr",
     "output_type": "stream",
     "text": [
      " 14%|███████████▊                                                                       | 9/63 [00:07<00:41,  1.30it/s]"
     ]
    },
    {
     "name": "stdout",
     "output_type": "stream",
     "text": [
      "status: 0,0,9: Multiple droplets found (counter): 0 \n",
      "well_found: True, llps_status: False\n",
      "detect a droplet\n",
      "results: 414,220,89\n",
      "status: droplet_found: True\n"
     ]
    },
    {
     "name": "stderr",
     "output_type": "stream",
     "text": [
      " 16%|█████████████                                                                     | 10/63 [00:07<00:40,  1.31it/s]"
     ]
    },
    {
     "name": "stdout",
     "output_type": "stream",
     "text": [
      "status: 0,0,10: Multiple droplets found (counter): 0 \n",
      "well_found: True, llps_status: False\n",
      "detect a droplet\n",
      "results: 410,226,84\n",
      "status: droplet_found: True\n"
     ]
    },
    {
     "name": "stderr",
     "output_type": "stream",
     "text": [
      " 17%|██████████████▎                                                                   | 11/63 [00:08<00:39,  1.32it/s]"
     ]
    },
    {
     "name": "stdout",
     "output_type": "stream",
     "text": [
      "status: 0,0,11: Multiple droplets found (counter): 0 \n",
      "well_found: True, llps_status: False\n",
      "detect a droplet\n",
      "results: 409,220,81\n",
      "status: droplet_found: True\n"
     ]
    },
    {
     "name": "stderr",
     "output_type": "stream",
     "text": [
      " 19%|███████████████▌                                                                  | 12/63 [00:09<00:38,  1.32it/s]"
     ]
    },
    {
     "name": "stdout",
     "output_type": "stream",
     "text": [
      "status: 0,0,12: Multiple droplets found (counter): 0 \n",
      "well_found: True, llps_status: False\n",
      "detect a droplet\n",
      "results: 410,223,84\n",
      "status: droplet_found: True\n"
     ]
    },
    {
     "name": "stderr",
     "output_type": "stream",
     "text": [
      " 21%|████████████████▉                                                                 | 13/63 [00:10<00:37,  1.33it/s]"
     ]
    },
    {
     "name": "stdout",
     "output_type": "stream",
     "text": [
      "status: 0,0,13: Multiple droplets found (counter): 0 \n",
      "well_found: True, llps_status: False\n",
      "detect a droplet\n",
      "results: 410,223,83\n",
      "status: droplet_found: True\n"
     ]
    },
    {
     "name": "stderr",
     "output_type": "stream",
     "text": [
      " 22%|██████████████████▏                                                               | 14/63 [00:10<00:36,  1.34it/s]"
     ]
    },
    {
     "name": "stdout",
     "output_type": "stream",
     "text": [
      "status: 0,0,14: Multiple droplets found (counter): 0 \n",
      "well_found: True, llps_status: False\n",
      "detect a droplet\n",
      "results: 407,225,76\n",
      "status: droplet_found: True\n"
     ]
    },
    {
     "name": "stderr",
     "output_type": "stream",
     "text": [
      " 24%|███████████████████▌                                                              | 15/63 [00:11<00:35,  1.34it/s]"
     ]
    },
    {
     "name": "stdout",
     "output_type": "stream",
     "text": [
      "status: 0,0,15: Multiple droplets found (counter): 0 \n",
      "well_found: True, llps_status: False\n",
      "detect a droplet\n",
      "results: 414,217,76\n",
      "status: droplet_found: True\n"
     ]
    },
    {
     "name": "stderr",
     "output_type": "stream",
     "text": [
      " 25%|████████████████████▊                                                             | 16/63 [00:12<00:35,  1.34it/s]"
     ]
    },
    {
     "name": "stdout",
     "output_type": "stream",
     "text": [
      "status: 0,0,16: Multiple droplets found (counter): 0 \n",
      "well_found: True, llps_status: False\n",
      "detect a droplet\n",
      "results: 412,225,76\n",
      "status: droplet_found: True\n"
     ]
    },
    {
     "name": "stderr",
     "output_type": "stream",
     "text": [
      " 27%|██████████████████████▏                                                           | 17/63 [00:13<00:34,  1.35it/s]"
     ]
    },
    {
     "name": "stdout",
     "output_type": "stream",
     "text": [
      "status: 0,0,17: Multiple droplets found (counter): 0 \n",
      "well_found: True, llps_status: False\n",
      "detect a droplet\n",
      "results: 417,230,73\n",
      "status: droplet_found: True\n"
     ]
    },
    {
     "name": "stderr",
     "output_type": "stream",
     "text": [
      " 29%|███████████████████████▍                                                          | 18/63 [00:13<00:33,  1.35it/s]"
     ]
    },
    {
     "name": "stdout",
     "output_type": "stream",
     "text": [
      "status: 0,0,18: Multiple droplets found (counter): 0 \n",
      "well_found: True, llps_status: False\n",
      "detect a droplet\n",
      "results: 418,225,73\n",
      "status: droplet_found: True\n"
     ]
    },
    {
     "name": "stderr",
     "output_type": "stream",
     "text": [
      " 30%|████████████████████████▋                                                         | 19/63 [00:14<00:32,  1.35it/s]"
     ]
    },
    {
     "name": "stdout",
     "output_type": "stream",
     "text": [
      "status: 0,0,19: Multiple droplets found (counter): 0 \n",
      "well_found: True, llps_status: False\n",
      "detect a droplet\n",
      "results: 414,220,67\n",
      "status: droplet_found: True\n"
     ]
    },
    {
     "name": "stderr",
     "output_type": "stream",
     "text": [
      " 32%|██████████████████████████                                                        | 20/63 [00:15<00:31,  1.35it/s]"
     ]
    },
    {
     "name": "stdout",
     "output_type": "stream",
     "text": [
      "status: 0,0,20: Multiple droplets found (counter): 0 \n",
      "well_found: True, llps_status: False\n",
      "detect a droplet\n",
      "results: 417,222,69\n",
      "status: droplet_found: True\n"
     ]
    },
    {
     "name": "stderr",
     "output_type": "stream",
     "text": [
      " 33%|███████████████████████████▎                                                      | 21/63 [00:16<00:31,  1.35it/s]"
     ]
    },
    {
     "name": "stdout",
     "output_type": "stream",
     "text": [
      "status: 0,0,21: Multiple droplets found (counter): 0 \n",
      "well_found: True, llps_status: False\n",
      "detect a droplet\n",
      "results: 414,218,65\n",
      "status: droplet_found: True\n"
     ]
    },
    {
     "name": "stderr",
     "output_type": "stream",
     "text": [
      " 35%|████████████████████████████▋                                                     | 22/63 [00:16<00:30,  1.35it/s]"
     ]
    },
    {
     "name": "stdout",
     "output_type": "stream",
     "text": [
      "status: 0,0,22: Multiple droplets found (counter): 0 \n",
      "well_found: True, llps_status: False\n",
      "detect a droplet\n",
      "results: 422,226,64\n",
      "status: droplet_found: True\n"
     ]
    },
    {
     "name": "stderr",
     "output_type": "stream",
     "text": [
      " 37%|█████████████████████████████▉                                                    | 23/63 [00:17<00:29,  1.36it/s]"
     ]
    },
    {
     "name": "stdout",
     "output_type": "stream",
     "text": [
      "status: 0,0,23: Multiple droplets found (counter): 0 \n",
      "well_found: True, llps_status: False\n",
      "detect a droplet\n",
      "results: 422,220,64\n",
      "status: droplet_found: True\n"
     ]
    },
    {
     "name": "stderr",
     "output_type": "stream",
     "text": [
      " 38%|███████████████████████████████▏                                                  | 24/63 [00:18<00:28,  1.37it/s]"
     ]
    },
    {
     "name": "stdout",
     "output_type": "stream",
     "text": [
      "status: 0,0,24: Multiple droplets found (counter): 0 \n",
      "well_found: True, llps_status: False\n",
      "detect a droplet\n",
      "results: 417,217,60\n",
      "status: droplet_found: True\n"
     ]
    },
    {
     "name": "stderr",
     "output_type": "stream",
     "text": [
      " 40%|████████████████████████████████▌                                                 | 25/63 [00:18<00:27,  1.37it/s]"
     ]
    },
    {
     "name": "stdout",
     "output_type": "stream",
     "text": [
      "status: 0,0,25: Multiple droplets found (counter): 0 \n",
      "well_found: True, llps_status: False\n",
      "detect a droplet\n",
      "results: 417,220,60\n",
      "status: droplet_found: True\n"
     ]
    },
    {
     "name": "stderr",
     "output_type": "stream",
     "text": [
      " 41%|█████████████████████████████████▊                                                | 26/63 [00:19<00:26,  1.38it/s]"
     ]
    },
    {
     "name": "stdout",
     "output_type": "stream",
     "text": [
      "status: 0,0,26: Multiple droplets found (counter): 0 \n",
      "well_found: True, llps_status: False\n",
      "detect a droplet\n",
      "results: 414,218,60\n",
      "status: droplet_found: True\n"
     ]
    },
    {
     "name": "stderr",
     "output_type": "stream",
     "text": [
      " 43%|███████████████████████████████████▏                                              | 27/63 [00:20<00:26,  1.38it/s]"
     ]
    },
    {
     "name": "stdout",
     "output_type": "stream",
     "text": [
      "status: 0,0,27: Multiple droplets found (counter): 0 \n",
      "well_found: True, llps_status: False\n",
      "detect a droplet\n",
      "results: 420,222,55\n",
      "status: droplet_found: True\n"
     ]
    },
    {
     "name": "stderr",
     "output_type": "stream",
     "text": [
      " 44%|████████████████████████████████████▍                                             | 28/63 [00:21<00:25,  1.36it/s]"
     ]
    },
    {
     "name": "stdout",
     "output_type": "stream",
     "text": [
      "status: 0,0,28: Multiple droplets found (counter): 0 \n",
      "well_found: True, llps_status: False\n",
      "detect a droplet\n",
      "results: 417,220,53\n",
      "status: droplet_found: True\n"
     ]
    },
    {
     "name": "stderr",
     "output_type": "stream",
     "text": [
      " 46%|█████████████████████████████████████▋                                            | 29/63 [00:21<00:24,  1.37it/s]"
     ]
    },
    {
     "name": "stdout",
     "output_type": "stream",
     "text": [
      "status: 0,0,29: Multiple droplets found (counter): 0 \n",
      "well_found: True, llps_status: False\n",
      "detect a droplet\n",
      "results: 417,218,50\n",
      "status: droplet_found: True\n"
     ]
    },
    {
     "name": "stderr",
     "output_type": "stream",
     "text": [
      " 48%|███████████████████████████████████████                                           | 30/63 [00:22<00:24,  1.37it/s]"
     ]
    },
    {
     "name": "stdout",
     "output_type": "stream",
     "text": [
      "status: 0,0,30: Multiple droplets found (counter): 0 \n",
      "well_found: True, llps_status: False\n",
      "detect a droplet\n",
      "results: 415,215,52\n",
      "status: droplet_found: True\n"
     ]
    },
    {
     "name": "stderr",
     "output_type": "stream",
     "text": [
      " 49%|████████████████████████████████████████▎                                         | 31/63 [00:23<00:23,  1.36it/s]"
     ]
    },
    {
     "name": "stdout",
     "output_type": "stream",
     "text": [
      "status: 0,0,31: Multiple droplets found (counter): 0 \n",
      "well_found: True, llps_status: False\n",
      "detect a droplet\n",
      "results: 417,218,46\n",
      "status: droplet_found: True\n"
     ]
    },
    {
     "name": "stderr",
     "output_type": "stream",
     "text": [
      " 51%|█████████████████████████████████████████▋                                        | 32/63 [00:24<00:23,  1.34it/s]"
     ]
    },
    {
     "name": "stdout",
     "output_type": "stream",
     "text": [
      "status: 0,0,32: Multiple droplets found (counter): 0 \n",
      "well_found: True, llps_status: False\n",
      "detect a droplet\n",
      "results: 420,217,47\n",
      "status: droplet_found: True\n"
     ]
    },
    {
     "name": "stderr",
     "output_type": "stream",
     "text": [
      " 52%|██████████████████████████████████████████▉                                       | 33/63 [00:24<00:23,  1.30it/s]"
     ]
    },
    {
     "name": "stdout",
     "output_type": "stream",
     "text": [
      "status: 0,0,33: Multiple droplets found (counter): 0 \n",
      "well_found: True, llps_status: False\n",
      "detect a droplet\n",
      "results: 418,215,48\n",
      "status: droplet_found: True\n"
     ]
    },
    {
     "name": "stderr",
     "output_type": "stream",
     "text": [
      " 54%|████████████████████████████████████████████▎                                     | 34/63 [00:25<00:22,  1.29it/s]"
     ]
    },
    {
     "name": "stdout",
     "output_type": "stream",
     "text": [
      "status: 0,0,34: Multiple droplets found (counter): 0 \n",
      "well_found: True, llps_status: False\n",
      "detect a droplet\n",
      "results: 422,217,45\n",
      "status: droplet_found: True\n"
     ]
    },
    {
     "name": "stderr",
     "output_type": "stream",
     "text": [
      " 56%|█████████████████████████████████████████████▌                                    | 35/63 [00:26<00:21,  1.30it/s]"
     ]
    },
    {
     "name": "stdout",
     "output_type": "stream",
     "text": [
      "status: 0,0,35: Multiple droplets found (counter): 0 \n",
      "well_found: True, llps_status: False\n",
      "detect a droplet\n",
      "results: 417,212,44\n",
      "status: droplet_found: True\n"
     ]
    },
    {
     "name": "stderr",
     "output_type": "stream",
     "text": [
      " 57%|██████████████████████████████████████████████▊                                   | 36/63 [00:27<00:20,  1.29it/s]"
     ]
    },
    {
     "name": "stdout",
     "output_type": "stream",
     "text": [
      "status: 0,0,36: Multiple droplets found (counter): 0 \n",
      "well_found: True, llps_status: False\n",
      "detect a droplet\n",
      "results: 417,218,42\n",
      "status: droplet_found: True\n"
     ]
    },
    {
     "name": "stderr",
     "output_type": "stream",
     "text": [
      " 59%|████████████████████████████████████████████████▏                                 | 37/63 [00:27<00:19,  1.32it/s]"
     ]
    },
    {
     "name": "stdout",
     "output_type": "stream",
     "text": [
      "status: 0,0,37: Multiple droplets found (counter): 0 \n",
      "well_found: True, llps_status: False\n",
      "detect a droplet\n",
      "results: 422,217,39\n",
      "status: droplet_found: True\n"
     ]
    },
    {
     "name": "stderr",
     "output_type": "stream",
     "text": [
      " 60%|█████████████████████████████████████████████████▍                                | 38/63 [00:28<00:18,  1.34it/s]"
     ]
    },
    {
     "name": "stdout",
     "output_type": "stream",
     "text": [
      "status: 0,0,38: Multiple droplets found (counter): 0 \n",
      "well_found: True, llps_status: False\n",
      "detect a droplet\n",
      "results: 415,215,42\n",
      "status: droplet_found: True\n"
     ]
    },
    {
     "name": "stderr",
     "output_type": "stream",
     "text": [
      " 62%|██████████████████████████████████████████████████▊                               | 39/63 [00:29<00:17,  1.35it/s]"
     ]
    },
    {
     "name": "stdout",
     "output_type": "stream",
     "text": [
      "status: 0,0,39: Multiple droplets found (counter): 0 \n",
      "well_found: True, llps_status: False\n",
      "detect a droplet\n",
      "results: 410,214,34\n",
      "status: droplet_found: True\n"
     ]
    },
    {
     "name": "stderr",
     "output_type": "stream",
     "text": [
      " 63%|████████████████████████████████████████████████████                              | 40/63 [00:30<00:16,  1.36it/s]"
     ]
    },
    {
     "name": "stdout",
     "output_type": "stream",
     "text": [
      "status: 0,0,40: Multiple droplets found (counter): 0 \n",
      "well_found: True, llps_status: False\n",
      "detect a droplet\n",
      "results: 414,215,33\n",
      "status: droplet_found: True\n"
     ]
    },
    {
     "name": "stderr",
     "output_type": "stream",
     "text": [
      " 65%|█████████████████████████████████████████████████████▎                            | 41/63 [00:30<00:16,  1.37it/s]"
     ]
    },
    {
     "name": "stdout",
     "output_type": "stream",
     "text": [
      "status: 0,0,41: Multiple droplets found (counter): 0 \n",
      "well_found: True, llps_status: False\n",
      "detect a droplet\n",
      "results: 410,210,33\n",
      "status: droplet_found: True\n"
     ]
    },
    {
     "name": "stderr",
     "output_type": "stream",
     "text": [
      " 67%|██████████████████████████████████████████████████████▋                           | 42/63 [00:31<00:15,  1.37it/s]"
     ]
    },
    {
     "name": "stdout",
     "output_type": "stream",
     "text": [
      "status: 0,0,42: Multiple droplets found (counter): 0 \n",
      "well_found: True, llps_status: False\n",
      "detect a droplet\n",
      "results: 410,214,35\n",
      "status: droplet_found: True\n"
     ]
    },
    {
     "name": "stderr",
     "output_type": "stream",
     "text": [
      " 68%|███████████████████████████████████████████████████████▉                          | 43/63 [00:32<00:14,  1.38it/s]"
     ]
    },
    {
     "name": "stdout",
     "output_type": "stream",
     "text": [
      "status: 0,0,43: Multiple droplets found (counter): 0 \n",
      "well_found: True, llps_status: False\n",
      "detect a droplet\n",
      "results: 406,206,27\n",
      "status: droplet_found: True\n"
     ]
    },
    {
     "name": "stderr",
     "output_type": "stream",
     "text": [
      " 70%|█████████████████████████████████████████████████████████▎                        | 44/63 [00:33<00:13,  1.38it/s]"
     ]
    },
    {
     "name": "stdout",
     "output_type": "stream",
     "text": [
      "status: 0,0,44: Multiple droplets found (counter): 0 \n",
      "well_found: True, llps_status: False\n",
      "detect a droplet\n",
      "results: 418,207,21\n",
      "status: droplet_found: True\n"
     ]
    },
    {
     "name": "stderr",
     "output_type": "stream",
     "text": [
      " 71%|██████████████████████████████████████████████████████████▌                       | 45/63 [00:33<00:13,  1.38it/s]"
     ]
    },
    {
     "name": "stdout",
     "output_type": "stream",
     "text": [
      "status: 0,0,45: Multiple droplets found (counter): 0 \n",
      "well_found: True, llps_status: False\n",
      "detect a droplet\n",
      "results: 410,206,30\n",
      "status: droplet_found: True\n"
     ]
    },
    {
     "name": "stderr",
     "output_type": "stream",
     "text": [
      " 73%|███████████████████████████████████████████████████████████▊                      | 46/63 [00:34<00:12,  1.38it/s]"
     ]
    },
    {
     "name": "stdout",
     "output_type": "stream",
     "text": [
      "status: 0,0,46: Multiple droplets found (counter): 0 \n",
      "well_found: True, llps_status: False\n",
      "detect a droplet\n",
      "results: 402,199,15\n",
      "status: droplet_found: True\n"
     ]
    },
    {
     "name": "stderr",
     "output_type": "stream",
     "text": [
      " 75%|█████████████████████████████████████████████████████████████▏                    | 47/63 [00:35<00:11,  1.38it/s]"
     ]
    },
    {
     "name": "stdout",
     "output_type": "stream",
     "text": [
      "status: 0,0,47: Multiple droplets found (counter): 0 \n",
      "well_found: True, llps_status: False\n",
      "detect a droplet\n",
      "results: 417,209,23\n",
      "status: droplet_found: True\n"
     ]
    },
    {
     "name": "stderr",
     "output_type": "stream",
     "text": [
      " 76%|██████████████████████████████████████████████████████████████▍                   | 48/63 [00:35<00:10,  1.38it/s]"
     ]
    },
    {
     "name": "stdout",
     "output_type": "stream",
     "text": [
      "status: 0,0,48: Multiple droplets found (counter): 0 \n",
      "well_found: True, llps_status: False\n",
      "detect a droplet\n",
      "results: 417,202,26\n",
      "status: droplet_found: True\n"
     ]
    },
    {
     "name": "stderr",
     "output_type": "stream",
     "text": [
      " 78%|███████████████████████████████████████████████████████████████▊                  | 49/63 [00:36<00:10,  1.38it/s]"
     ]
    },
    {
     "name": "stdout",
     "output_type": "stream",
     "text": [
      "status: 0,0,49: Multiple droplets found (counter): 0 \n",
      "well_found: True, llps_status: False\n",
      "detect a droplet\n",
      "results: 412,209,18\n",
      "status: droplet_found: True\n"
     ]
    },
    {
     "name": "stderr",
     "output_type": "stream",
     "text": [
      " 79%|█████████████████████████████████████████████████████████████████                 | 50/63 [00:37<00:09,  1.38it/s]"
     ]
    },
    {
     "name": "stdout",
     "output_type": "stream",
     "text": [
      "status: 0,0,50: Multiple droplets found (counter): 0 \n",
      "well_found: True, llps_status: False\n",
      "detect a droplet\n",
      "results: 310,217,12\n",
      "status: droplet_found: True\n"
     ]
    },
    {
     "name": "stderr",
     "output_type": "stream",
     "text": [
      "100%|██████████████████████████████████████████████████████████████████████████████████| 63/63 [00:38<00:00,  1.65it/s]\n",
      "  0%|                                                                                           | 0/63 [00:00<?, ?it/s]"
     ]
    },
    {
     "name": "stdout",
     "output_type": "stream",
     "text": [
      "LLPS status:  True , @ c: 0 w: 0 t: 50\n",
      "conc: 0 well: 1\n",
      "multiple_droplets: n = 0\n",
      "status: 0,1,0: Multiple droplets found (counter): 0 \n",
      "well_found: True, llps_status: False\n",
      "detect a droplet\n",
      "results: 0,0,0\n",
      "try again to detect a droplet\n",
      "results after 1-retries: 0,0,0\n",
      "try again to detect a droplet\n",
      "results after 2-retries: 0,0,0\n",
      "try again to detect a droplet\n",
      "results after 3-retries: 0,0,0\n",
      "try again to detect a droplet\n",
      "results after 4-retries: 0,0,0\n",
      "try again to detect a droplet\n",
      "results after 5-retries: 0,0,0\n",
      "status: droplet_found: True\n"
     ]
    },
    {
     "name": "stderr",
     "output_type": "stream",
     "text": [
      "  2%|█▎                                                                                 | 1/63 [00:00<00:53,  1.17it/s]"
     ]
    },
    {
     "name": "stdout",
     "output_type": "stream",
     "text": [
      "multiple_droplets: n = 0\n",
      "status: 0,1,1: Multiple droplets found (counter): 0 \n",
      "well_found: True, llps_status: False\n",
      "detect a droplet\n",
      "results: 0,0,0\n",
      "try again to detect a droplet\n",
      "results after 1-retries: 0,0,0\n",
      "try again to detect a droplet\n",
      "results after 2-retries: 0,0,0\n",
      "try again to detect a droplet\n",
      "results after 3-retries: 0,0,0\n",
      "try again to detect a droplet\n",
      "results after 4-retries: 0,0,0\n",
      "try again to detect a droplet\n",
      "results after 5-retries: 0,0,0\n",
      "status: droplet_found: True\n"
     ]
    },
    {
     "name": "stderr",
     "output_type": "stream",
     "text": [
      "  3%|██▋                                                                                | 2/63 [00:01<00:51,  1.18it/s]"
     ]
    },
    {
     "name": "stdout",
     "output_type": "stream",
     "text": [
      "multiple_droplets: n = 2\n",
      "status: 0,1,2: Multiple droplets found (counter): 0 \n",
      "well_found: True, llps_status: False\n",
      "detect a droplet\n",
      "results: 0,0,0\n",
      "try again to detect a droplet\n",
      "results after 1-retries: 0,0,0\n",
      "try again to detect a droplet\n",
      "results after 2-retries: 0,0,0\n",
      "try again to detect a droplet\n",
      "results after 3-retries: 0,0,0\n",
      "try again to detect a droplet\n",
      "results after 4-retries: 0,0,0\n",
      "try again to detect a droplet\n",
      "results after 5-retries: 0,0,0\n",
      "status: droplet_found: True\n"
     ]
    },
    {
     "name": "stderr",
     "output_type": "stream",
     "text": [
      "  5%|███▉                                                                               | 3/63 [00:02<00:50,  1.19it/s]"
     ]
    },
    {
     "name": "stdout",
     "output_type": "stream",
     "text": [
      "multiple_droplets: n = 0\n",
      "status: 0,1,3: Multiple droplets found (counter): 0 \n",
      "well_found: True, llps_status: False\n",
      "detect a droplet\n",
      "results: 0,0,0\n",
      "try again to detect a droplet\n",
      "results after 1-retries: 0,0,0\n",
      "try again to detect a droplet\n",
      "results after 2-retries: 0,0,0\n",
      "try again to detect a droplet\n",
      "results after 3-retries: 0,0,0\n",
      "try again to detect a droplet\n",
      "results after 4-retries: 0,0,0\n",
      "try again to detect a droplet\n",
      "results after 5-retries: 0,0,0\n",
      "status: droplet_found: True\n"
     ]
    },
    {
     "name": "stderr",
     "output_type": "stream",
     "text": [
      "  6%|█████▎                                                                             | 4/63 [00:03<00:49,  1.19it/s]"
     ]
    },
    {
     "name": "stdout",
     "output_type": "stream",
     "text": [
      "multiple_droplets: n = 2\n",
      "status: 0,1,4: Multiple droplets found (counter): 0 \n",
      "well_found: True, llps_status: False\n",
      "detect a droplet\n",
      "results: 0,0,0\n",
      "try again to detect a droplet\n",
      "results after 1-retries: 0,0,0\n",
      "try again to detect a droplet\n",
      "results after 2-retries: 0,0,0\n",
      "try again to detect a droplet\n",
      "results after 3-retries: 0,0,0\n",
      "try again to detect a droplet\n",
      "results after 4-retries: 0,0,0\n",
      "try again to detect a droplet\n",
      "results after 5-retries: 0,0,0\n",
      "status: droplet_found: True\n"
     ]
    },
    {
     "name": "stderr",
     "output_type": "stream",
     "text": [
      "  8%|██████▌                                                                            | 5/63 [00:04<00:48,  1.19it/s]"
     ]
    },
    {
     "name": "stdout",
     "output_type": "stream",
     "text": [
      "multiple_droplets: n = 0\n",
      "status: 0,1,5: Multiple droplets found (counter): 0 \n",
      "well_found: True, llps_status: False\n",
      "detect a droplet\n",
      "results: 0,0,0\n",
      "try again to detect a droplet\n",
      "results after 1-retries: 0,0,0\n",
      "try again to detect a droplet\n",
      "results after 2-retries: 0,0,0\n",
      "try again to detect a droplet\n",
      "results after 3-retries: 0,0,0\n",
      "try again to detect a droplet\n",
      "results after 4-retries: 0,0,0\n",
      "try again to detect a droplet\n",
      "results after 5-retries: 0,0,0\n",
      "status: droplet_found: False\n"
     ]
    },
    {
     "name": "stderr",
     "output_type": "stream",
     "text": [
      " 10%|███████▉                                                                           | 6/63 [00:05<00:47,  1.21it/s]"
     ]
    },
    {
     "name": "stdout",
     "output_type": "stream",
     "text": [
      "status: 0,1,6: Multiple droplets found (counter): 0 \n",
      "well_found: True, llps_status: False\n",
      "detect a droplet\n",
      "results: 0,0,0\n",
      "try again to detect a droplet\n",
      "results after 1-retries: 0,0,0\n",
      "try again to detect a droplet\n",
      "results after 2-retries: 0,0,0\n",
      "try again to detect a droplet\n",
      "results after 3-retries: 0,0,0\n",
      "try again to detect a droplet\n",
      "results after 4-retries: 0,0,0\n",
      "try again to detect a droplet\n",
      "results after 5-retries: 0,0,0\n",
      "status: droplet_found: False\n"
     ]
    },
    {
     "name": "stderr",
     "output_type": "stream",
     "text": [
      " 11%|█████████▏                                                                         | 7/63 [00:05<00:44,  1.25it/s]"
     ]
    },
    {
     "name": "stdout",
     "output_type": "stream",
     "text": [
      "status: 0,1,7: Multiple droplets found (counter): 0 \n",
      "well_found: True, llps_status: False\n",
      "detect a droplet\n",
      "results: 0,0,0\n",
      "try again to detect a droplet\n",
      "results after 1-retries: 0,0,0\n",
      "try again to detect a droplet\n",
      "results after 2-retries: 0,0,0\n",
      "try again to detect a droplet\n",
      "results after 3-retries: 0,0,0\n",
      "try again to detect a droplet\n",
      "results after 4-retries: 0,0,0\n",
      "try again to detect a droplet\n",
      "results after 5-retries: 0,0,0\n",
      "status: droplet_found: False\n"
     ]
    },
    {
     "name": "stderr",
     "output_type": "stream",
     "text": [
      " 13%|██████████▌                                                                        | 8/63 [00:06<00:42,  1.28it/s]"
     ]
    },
    {
     "name": "stdout",
     "output_type": "stream",
     "text": [
      "status: 0,1,8: Multiple droplets found (counter): 0 \n",
      "well_found: True, llps_status: False\n",
      "detect a droplet\n",
      "results: 0,0,0\n",
      "try again to detect a droplet\n",
      "results after 1-retries: 0,0,0\n",
      "try again to detect a droplet\n",
      "results after 2-retries: 0,0,0\n",
      "try again to detect a droplet\n",
      "results after 3-retries: 0,0,0\n",
      "try again to detect a droplet\n",
      "results after 4-retries: 0,0,0\n",
      "try again to detect a droplet\n",
      "results after 5-retries: 0,0,0\n",
      "status: droplet_found: False\n"
     ]
    },
    {
     "name": "stderr",
     "output_type": "stream",
     "text": [
      " 14%|███████████▊                                                                       | 9/63 [00:07<00:41,  1.31it/s]"
     ]
    },
    {
     "name": "stdout",
     "output_type": "stream",
     "text": [
      "status: 0,1,9: Multiple droplets found (counter): 0 \n",
      "well_found: True, llps_status: False\n",
      "detect a droplet\n",
      "results: 0,0,0\n",
      "try again to detect a droplet\n",
      "results after 1-retries: 0,0,0\n",
      "try again to detect a droplet\n",
      "results after 2-retries: 0,0,0\n",
      "try again to detect a droplet\n",
      "results after 3-retries: 0,0,0\n",
      "try again to detect a droplet\n",
      "results after 4-retries: 0,0,0\n",
      "try again to detect a droplet\n",
      "results after 5-retries: 0,0,0\n",
      "status: droplet_found: False\n"
     ]
    },
    {
     "name": "stderr",
     "output_type": "stream",
     "text": [
      " 16%|█████████████                                                                     | 10/63 [00:07<00:40,  1.32it/s]"
     ]
    },
    {
     "name": "stdout",
     "output_type": "stream",
     "text": [
      "status: 0,1,10: Multiple droplets found (counter): 0 \n",
      "well_found: True, llps_status: False\n",
      "detect a droplet\n",
      "results: 0,0,0\n",
      "try again to detect a droplet\n",
      "results after 1-retries: 0,0,0\n",
      "try again to detect a droplet\n",
      "results after 2-retries: 0,0,0\n",
      "try again to detect a droplet\n",
      "results after 3-retries: 0,0,0\n",
      "try again to detect a droplet\n",
      "results after 4-retries: 0,0,0\n",
      "try again to detect a droplet\n",
      "results after 5-retries: 0,0,0\n",
      "status: droplet_found: False\n"
     ]
    },
    {
     "name": "stderr",
     "output_type": "stream",
     "text": [
      " 17%|██████████████▎                                                                   | 11/63 [00:08<00:39,  1.33it/s]"
     ]
    },
    {
     "name": "stdout",
     "output_type": "stream",
     "text": [
      "status: 0,1,11: Multiple droplets found (counter): 0 \n",
      "well_found: True, llps_status: False\n",
      "detect a droplet\n",
      "results: 401,284,83\n",
      "status: droplet_found: True\n"
     ]
    },
    {
     "name": "stderr",
     "output_type": "stream",
     "text": [
      " 19%|███████████████▌                                                                  | 12/63 [00:09<00:38,  1.34it/s]"
     ]
    },
    {
     "name": "stdout",
     "output_type": "stream",
     "text": [
      "status: 0,1,12: Multiple droplets found (counter): 0 \n",
      "well_found: True, llps_status: False\n",
      "detect a droplet\n",
      "results: 412,282,89\n",
      "status: droplet_found: True\n"
     ]
    },
    {
     "name": "stderr",
     "output_type": "stream",
     "text": [
      " 21%|████████████████▉                                                                 | 13/63 [00:10<00:37,  1.34it/s]"
     ]
    },
    {
     "name": "stdout",
     "output_type": "stream",
     "text": [
      "status: 0,1,13: Multiple droplets found (counter): 0 \n",
      "well_found: True, llps_status: False\n",
      "detect a droplet\n",
      "results: 412,276,87\n",
      "status: droplet_found: True\n"
     ]
    },
    {
     "name": "stderr",
     "output_type": "stream",
     "text": [
      " 22%|██████████████████▏                                                               | 14/63 [00:10<00:36,  1.34it/s]"
     ]
    },
    {
     "name": "stdout",
     "output_type": "stream",
     "text": [
      "status: 0,1,14: Multiple droplets found (counter): 0 \n",
      "well_found: True, llps_status: False\n",
      "detect a droplet\n",
      "results: 410,281,85\n",
      "status: droplet_found: True\n"
     ]
    },
    {
     "name": "stderr",
     "output_type": "stream",
     "text": [
      " 24%|███████████████████▌                                                              | 15/63 [00:11<00:35,  1.34it/s]"
     ]
    },
    {
     "name": "stdout",
     "output_type": "stream",
     "text": [
      "status: 0,1,15: Multiple droplets found (counter): 0 \n",
      "well_found: True, llps_status: False\n",
      "detect a droplet\n",
      "results: 412,276,84\n",
      "status: droplet_found: True\n"
     ]
    },
    {
     "name": "stderr",
     "output_type": "stream",
     "text": [
      " 25%|████████████████████▊                                                             | 16/63 [00:12<00:34,  1.35it/s]"
     ]
    },
    {
     "name": "stdout",
     "output_type": "stream",
     "text": [
      "status: 0,1,16: Multiple droplets found (counter): 0 \n",
      "well_found: True, llps_status: False\n",
      "detect a droplet\n",
      "results: 409,282,85\n",
      "status: droplet_found: True\n"
     ]
    },
    {
     "name": "stderr",
     "output_type": "stream",
     "text": [
      " 27%|██████████████████████▏                                                           | 17/63 [00:13<00:34,  1.35it/s]"
     ]
    },
    {
     "name": "stdout",
     "output_type": "stream",
     "text": [
      "status: 0,1,17: Multiple droplets found (counter): 0 \n",
      "well_found: True, llps_status: False\n",
      "detect a droplet\n",
      "results: 414,287,80\n",
      "status: droplet_found: True\n"
     ]
    },
    {
     "name": "stderr",
     "output_type": "stream",
     "text": [
      " 29%|███████████████████████▍                                                          | 18/63 [00:13<00:33,  1.35it/s]"
     ]
    },
    {
     "name": "stdout",
     "output_type": "stream",
     "text": [
      "status: 0,1,18: Multiple droplets found (counter): 0 \n",
      "well_found: True, llps_status: False\n",
      "detect a droplet\n",
      "results: 410,286,80\n",
      "status: droplet_found: True\n"
     ]
    },
    {
     "name": "stderr",
     "output_type": "stream",
     "text": [
      " 30%|████████████████████████▋                                                         | 19/63 [00:14<00:32,  1.35it/s]"
     ]
    },
    {
     "name": "stdout",
     "output_type": "stream",
     "text": [
      "status: 0,1,19: Multiple droplets found (counter): 0 \n",
      "well_found: True, llps_status: False\n",
      "detect a droplet\n",
      "results: 409,281,76\n",
      "status: droplet_found: True\n"
     ]
    },
    {
     "name": "stderr",
     "output_type": "stream",
     "text": [
      " 32%|██████████████████████████                                                        | 20/63 [00:15<00:31,  1.35it/s]"
     ]
    },
    {
     "name": "stdout",
     "output_type": "stream",
     "text": [
      "status: 0,1,20: Multiple droplets found (counter): 0 \n",
      "well_found: True, llps_status: False\n",
      "detect a droplet\n",
      "results: 415,292,76\n",
      "status: droplet_found: True\n"
     ]
    },
    {
     "name": "stderr",
     "output_type": "stream",
     "text": [
      " 33%|███████████████████████████▎                                                      | 21/63 [00:16<00:31,  1.35it/s]"
     ]
    },
    {
     "name": "stdout",
     "output_type": "stream",
     "text": [
      "status: 0,1,21: Multiple droplets found (counter): 0 \n",
      "well_found: True, llps_status: False\n",
      "detect a droplet\n",
      "results: 409,286,72\n",
      "status: droplet_found: True\n"
     ]
    },
    {
     "name": "stderr",
     "output_type": "stream",
     "text": [
      " 35%|████████████████████████████▋                                                     | 22/63 [00:16<00:30,  1.35it/s]"
     ]
    },
    {
     "name": "stdout",
     "output_type": "stream",
     "text": [
      "status: 0,1,22: Multiple droplets found (counter): 0 \n",
      "well_found: True, llps_status: False\n",
      "detect a droplet\n",
      "results: 415,292,73\n",
      "status: droplet_found: True\n"
     ]
    },
    {
     "name": "stderr",
     "output_type": "stream",
     "text": [
      " 37%|█████████████████████████████▉                                                    | 23/63 [00:17<00:29,  1.35it/s]"
     ]
    },
    {
     "name": "stdout",
     "output_type": "stream",
     "text": [
      "status: 0,1,23: Multiple droplets found (counter): 0 \n",
      "well_found: True, llps_status: False\n",
      "detect a droplet\n",
      "results: 415,294,71\n",
      "status: droplet_found: True\n"
     ]
    },
    {
     "name": "stderr",
     "output_type": "stream",
     "text": [
      " 38%|███████████████████████████████▏                                                  | 24/63 [00:18<00:28,  1.35it/s]"
     ]
    },
    {
     "name": "stdout",
     "output_type": "stream",
     "text": [
      "status: 0,1,24: Multiple droplets found (counter): 0 \n",
      "well_found: True, llps_status: False\n",
      "detect a droplet\n",
      "results: 410,286,66\n",
      "status: droplet_found: True\n"
     ]
    },
    {
     "name": "stderr",
     "output_type": "stream",
     "text": [
      " 40%|████████████████████████████████▌                                                 | 25/63 [00:19<00:28,  1.35it/s]"
     ]
    },
    {
     "name": "stdout",
     "output_type": "stream",
     "text": [
      "status: 0,1,25: Multiple droplets found (counter): 0 \n",
      "well_found: True, llps_status: False\n",
      "detect a droplet\n",
      "results: 414,292,65\n",
      "status: droplet_found: True\n"
     ]
    },
    {
     "name": "stderr",
     "output_type": "stream",
     "text": [
      " 41%|█████████████████████████████████▊                                                | 26/63 [00:19<00:27,  1.36it/s]"
     ]
    },
    {
     "name": "stdout",
     "output_type": "stream",
     "text": [
      "status: 0,1,26: Multiple droplets found (counter): 0 \n",
      "well_found: True, llps_status: False\n",
      "detect a droplet\n",
      "results: 410,292,66\n",
      "status: droplet_found: True\n"
     ]
    },
    {
     "name": "stderr",
     "output_type": "stream",
     "text": [
      " 43%|███████████████████████████████████▏                                              | 27/63 [00:20<00:26,  1.36it/s]"
     ]
    },
    {
     "name": "stdout",
     "output_type": "stream",
     "text": [
      "status: 0,1,27: Multiple droplets found (counter): 0 \n",
      "well_found: True, llps_status: False\n",
      "detect a droplet\n",
      "results: 417,289,62\n",
      "status: droplet_found: True\n"
     ]
    },
    {
     "name": "stderr",
     "output_type": "stream",
     "text": [
      " 44%|████████████████████████████████████▍                                             | 28/63 [00:21<00:25,  1.35it/s]"
     ]
    },
    {
     "name": "stdout",
     "output_type": "stream",
     "text": [
      "status: 0,1,28: Multiple droplets found (counter): 0 \n",
      "well_found: True, llps_status: False\n",
      "detect a droplet\n",
      "results: 412,290,59\n",
      "status: droplet_found: True\n"
     ]
    },
    {
     "name": "stderr",
     "output_type": "stream",
     "text": [
      " 46%|█████████████████████████████████████▋                                            | 29/63 [00:21<00:24,  1.36it/s]"
     ]
    },
    {
     "name": "stdout",
     "output_type": "stream",
     "text": [
      "status: 0,1,29: Multiple droplets found (counter): 0 \n",
      "well_found: True, llps_status: False\n",
      "detect a droplet\n",
      "results: 420,289,59\n",
      "status: droplet_found: True\n"
     ]
    },
    {
     "name": "stderr",
     "output_type": "stream",
     "text": [
      " 48%|███████████████████████████████████████                                           | 30/63 [00:22<00:24,  1.37it/s]"
     ]
    },
    {
     "name": "stdout",
     "output_type": "stream",
     "text": [
      "status: 0,1,30: Multiple droplets found (counter): 0 \n",
      "well_found: True, llps_status: False\n",
      "detect a droplet\n",
      "results: 414,297,60\n",
      "status: droplet_found: True\n"
     ]
    },
    {
     "name": "stderr",
     "output_type": "stream",
     "text": [
      " 49%|████████████████████████████████████████▎                                         | 31/63 [00:23<00:23,  1.37it/s]"
     ]
    },
    {
     "name": "stdout",
     "output_type": "stream",
     "text": [
      "status: 0,1,31: Multiple droplets found (counter): 0 \n",
      "well_found: True, llps_status: False\n",
      "detect a droplet\n",
      "results: 414,297,53\n",
      "status: droplet_found: True\n"
     ]
    },
    {
     "name": "stderr",
     "output_type": "stream",
     "text": [
      " 51%|█████████████████████████████████████████▋                                        | 32/63 [00:24<00:22,  1.37it/s]"
     ]
    },
    {
     "name": "stdout",
     "output_type": "stream",
     "text": [
      "status: 0,1,32: Multiple droplets found (counter): 0 \n",
      "well_found: True, llps_status: False\n",
      "detect a droplet\n",
      "results: 414,294,51\n",
      "status: droplet_found: True\n"
     ]
    },
    {
     "name": "stderr",
     "output_type": "stream",
     "text": [
      " 52%|██████████████████████████████████████████▉                                       | 33/63 [00:24<00:21,  1.37it/s]"
     ]
    },
    {
     "name": "stdout",
     "output_type": "stream",
     "text": [
      "status: 0,1,33: Multiple droplets found (counter): 0 \n",
      "well_found: True, llps_status: False\n",
      "detect a droplet\n",
      "results: 415,295,55\n",
      "status: droplet_found: True\n"
     ]
    },
    {
     "name": "stderr",
     "output_type": "stream",
     "text": [
      " 54%|████████████████████████████████████████████▎                                     | 34/63 [00:25<00:21,  1.37it/s]"
     ]
    },
    {
     "name": "stdout",
     "output_type": "stream",
     "text": [
      "status: 0,1,34: Multiple droplets found (counter): 0 \n",
      "well_found: True, llps_status: False\n",
      "detect a droplet\n",
      "results: 418,290,52\n",
      "status: droplet_found: True\n"
     ]
    },
    {
     "name": "stderr",
     "output_type": "stream",
     "text": [
      " 56%|█████████████████████████████████████████████▌                                    | 35/63 [00:26<00:20,  1.37it/s]"
     ]
    },
    {
     "name": "stdout",
     "output_type": "stream",
     "text": [
      "status: 0,1,35: Multiple droplets found (counter): 0 \n",
      "well_found: True, llps_status: False\n",
      "detect a droplet\n",
      "results: 414,290,50\n",
      "status: droplet_found: True\n"
     ]
    },
    {
     "name": "stderr",
     "output_type": "stream",
     "text": [
      " 57%|██████████████████████████████████████████████▊                                   | 36/63 [00:27<00:19,  1.38it/s]"
     ]
    },
    {
     "name": "stdout",
     "output_type": "stream",
     "text": [
      "status: 0,1,36: Multiple droplets found (counter): 0 \n",
      "well_found: True, llps_status: False\n",
      "detect a droplet\n",
      "results: 410,298,48\n",
      "status: droplet_found: True\n"
     ]
    },
    {
     "name": "stderr",
     "output_type": "stream",
     "text": [
      " 59%|████████████████████████████████████████████████▏                                 | 37/63 [00:27<00:18,  1.38it/s]"
     ]
    },
    {
     "name": "stdout",
     "output_type": "stream",
     "text": [
      "status: 0,1,37: Multiple droplets found (counter): 0 \n",
      "well_found: True, llps_status: False\n",
      "detect a droplet\n",
      "results: 414,294,48\n",
      "status: droplet_found: True\n"
     ]
    },
    {
     "name": "stderr",
     "output_type": "stream",
     "text": [
      " 60%|█████████████████████████████████████████████████▍                                | 38/63 [00:28<00:18,  1.37it/s]"
     ]
    },
    {
     "name": "stdout",
     "output_type": "stream",
     "text": [
      "status: 0,1,38: Multiple droplets found (counter): 0 \n",
      "well_found: True, llps_status: False\n",
      "detect a droplet\n",
      "results: 414,294,44\n",
      "status: droplet_found: True\n"
     ]
    },
    {
     "name": "stderr",
     "output_type": "stream",
     "text": [
      " 62%|██████████████████████████████████████████████████▊                               | 39/63 [00:29<00:17,  1.38it/s]"
     ]
    },
    {
     "name": "stdout",
     "output_type": "stream",
     "text": [
      "status: 0,1,39: Multiple droplets found (counter): 0 \n",
      "well_found: True, llps_status: False\n",
      "detect a droplet\n",
      "results: 409,294,47\n",
      "status: droplet_found: True\n"
     ]
    },
    {
     "name": "stderr",
     "output_type": "stream",
     "text": [
      " 63%|████████████████████████████████████████████████████                              | 40/63 [00:29<00:16,  1.38it/s]"
     ]
    },
    {
     "name": "stdout",
     "output_type": "stream",
     "text": [
      "status: 0,1,40: Multiple droplets found (counter): 0 \n",
      "well_found: True, llps_status: False\n",
      "detect a droplet\n",
      "results: 404,311,29\n",
      "status: droplet_found: True\n"
     ]
    },
    {
     "name": "stderr",
     "output_type": "stream",
     "text": [
      " 65%|█████████████████████████████████████████████████████▎                            | 41/63 [00:30<00:15,  1.38it/s]"
     ]
    },
    {
     "name": "stdout",
     "output_type": "stream",
     "text": [
      "status: 0,1,41: Multiple droplets found (counter): 0 \n",
      "well_found: True, llps_status: False\n",
      "detect a droplet\n",
      "results: 406,287,41\n",
      "status: droplet_found: True\n"
     ]
    },
    {
     "name": "stderr",
     "output_type": "stream",
     "text": [
      "C:\\Users\\DigitalStation\\Documents\\Python_Scripts\\DropletDetection\\pythonProject\\PyPhaseChip\\pyphasechip\\pyphasechip_fun.py:284: RuntimeWarning: divide by zero encountered in double_scalars\n",
      "  percental_difference = (mean_abs / avg_mean_all_previous_images) * 100 - 100\n",
      "100%|██████████████████████████████████████████████████████████████████████████████████| 63/63 [00:31<00:00,  2.00it/s]\n",
      "  0%|                                                                                           | 0/63 [00:00<?, ?it/s]"
     ]
    },
    {
     "name": "stdout",
     "output_type": "stream",
     "text": [
      "LLPS status:  True , @ c: 0 w: 1 t: 41\n",
      "conc: 0 well: 2\n",
      "multiple_droplets: n = 2\n",
      "status: 0,2,0: Multiple droplets found (counter): 0 \n",
      "well_found: True, llps_status: False\n",
      "detect a droplet\n",
      "results: 385,278,118\n",
      "status: droplet_found: True\n"
     ]
    },
    {
     "name": "stderr",
     "output_type": "stream",
     "text": [
      "  2%|█▎                                                                                 | 1/63 [00:00<00:51,  1.20it/s]"
     ]
    },
    {
     "name": "stdout",
     "output_type": "stream",
     "text": [
      "multiple_droplets: n = 2\n",
      "status: 0,2,1: Multiple droplets found (counter): 0 \n",
      "well_found: True, llps_status: False\n",
      "detect a droplet\n",
      "results: 396,287,115\n",
      "status: droplet_found: True\n"
     ]
    },
    {
     "name": "stderr",
     "output_type": "stream",
     "text": [
      "  3%|██▋                                                                                | 2/63 [00:01<00:50,  1.20it/s]"
     ]
    },
    {
     "name": "stdout",
     "output_type": "stream",
     "text": [
      "multiple_droplets: n = 0\n",
      "status: 0,2,2: Multiple droplets found (counter): 0 \n",
      "well_found: True, llps_status: False\n",
      "detect a droplet\n",
      "results: 393,279,113\n",
      "status: droplet_found: True\n"
     ]
    },
    {
     "name": "stderr",
     "output_type": "stream",
     "text": [
      "  5%|███▉                                                                               | 3/63 [00:02<00:49,  1.21it/s]"
     ]
    },
    {
     "name": "stdout",
     "output_type": "stream",
     "text": [
      "multiple_droplets: n = 0\n",
      "status: 0,2,3: Multiple droplets found (counter): 0 \n",
      "well_found: True, llps_status: False\n",
      "detect a droplet\n",
      "results: 396,289,110\n",
      "status: droplet_found: True\n"
     ]
    },
    {
     "name": "stderr",
     "output_type": "stream",
     "text": [
      "  6%|█████▎                                                                             | 4/63 [00:03<00:48,  1.22it/s]"
     ]
    },
    {
     "name": "stdout",
     "output_type": "stream",
     "text": [
      "multiple_droplets: n = 2\n",
      "status: 0,2,4: Multiple droplets found (counter): 0 \n",
      "well_found: True, llps_status: False\n",
      "detect a droplet\n",
      "results: 404,286,112\n",
      "status: droplet_found: True\n"
     ]
    },
    {
     "name": "stderr",
     "output_type": "stream",
     "text": [
      "  8%|██████▌                                                                            | 5/63 [00:04<00:47,  1.22it/s]"
     ]
    },
    {
     "name": "stdout",
     "output_type": "stream",
     "text": [
      "multiple_droplets: n = 2\n",
      "status: 0,2,5: Multiple droplets found (counter): 0 \n",
      "well_found: True, llps_status: False\n",
      "detect a droplet\n",
      "results: 402,294,105\n",
      "status: droplet_found: True\n"
     ]
    },
    {
     "name": "stderr",
     "output_type": "stream",
     "text": [
      " 10%|███████▉                                                                           | 6/63 [00:04<00:46,  1.23it/s]"
     ]
    },
    {
     "name": "stdout",
     "output_type": "stream",
     "text": [
      "status: 0,2,6: Multiple droplets found (counter): 0 \n",
      "well_found: True, llps_status: False\n",
      "detect a droplet\n",
      "results: 409,292,108\n",
      "status: droplet_found: True\n"
     ]
    },
    {
     "name": "stderr",
     "output_type": "stream",
     "text": [
      " 11%|█████████▏                                                                         | 7/63 [00:05<00:44,  1.25it/s]"
     ]
    },
    {
     "name": "stdout",
     "output_type": "stream",
     "text": [
      "status: 0,2,7: Multiple droplets found (counter): 0 \n",
      "well_found: True, llps_status: False\n",
      "detect a droplet\n",
      "results: 406,300,104\n",
      "status: droplet_found: True\n"
     ]
    },
    {
     "name": "stderr",
     "output_type": "stream",
     "text": [
      " 13%|██████████▌                                                                        | 8/63 [00:06<00:43,  1.27it/s]"
     ]
    },
    {
     "name": "stdout",
     "output_type": "stream",
     "text": [
      "status: 0,2,8: Multiple droplets found (counter): 0 \n",
      "well_found: True, llps_status: False\n",
      "detect a droplet\n",
      "results: 407,292,103\n",
      "status: droplet_found: True\n"
     ]
    },
    {
     "name": "stderr",
     "output_type": "stream",
     "text": [
      " 14%|███████████▊                                                                       | 9/63 [00:07<00:41,  1.30it/s]"
     ]
    },
    {
     "name": "stdout",
     "output_type": "stream",
     "text": [
      "status: 0,2,9: Multiple droplets found (counter): 0 \n",
      "well_found: True, llps_status: False\n",
      "detect a droplet\n",
      "results: 406,294,96\n",
      "status: droplet_found: True\n"
     ]
    },
    {
     "name": "stderr",
     "output_type": "stream",
     "text": [
      " 16%|█████████████                                                                     | 10/63 [00:07<00:40,  1.32it/s]"
     ]
    },
    {
     "name": "stdout",
     "output_type": "stream",
     "text": [
      "status: 0,2,10: Multiple droplets found (counter): 0 \n",
      "well_found: True, llps_status: False\n",
      "detect a droplet\n",
      "results: 409,292,99\n",
      "status: droplet_found: True\n"
     ]
    },
    {
     "name": "stderr",
     "output_type": "stream",
     "text": [
      " 17%|██████████████▎                                                                   | 11/63 [00:08<00:39,  1.32it/s]"
     ]
    },
    {
     "name": "stdout",
     "output_type": "stream",
     "text": [
      "status: 0,2,11: Multiple droplets found (counter): 0 \n",
      "well_found: True, llps_status: False\n",
      "detect a droplet\n",
      "results: 407,292,93\n",
      "status: droplet_found: True\n"
     ]
    },
    {
     "name": "stderr",
     "output_type": "stream",
     "text": [
      " 19%|███████████████▌                                                                  | 12/63 [00:09<00:38,  1.32it/s]"
     ]
    },
    {
     "name": "stdout",
     "output_type": "stream",
     "text": [
      "status: 0,2,12: Multiple droplets found (counter): 0 \n",
      "well_found: True, llps_status: False\n",
      "detect a droplet\n",
      "results: 412,298,92\n",
      "status: droplet_found: True\n"
     ]
    },
    {
     "name": "stderr",
     "output_type": "stream",
     "text": [
      " 21%|████████████████▉                                                                 | 13/63 [00:10<00:37,  1.33it/s]"
     ]
    },
    {
     "name": "stdout",
     "output_type": "stream",
     "text": [
      "status: 0,2,13: Multiple droplets found (counter): 0 \n",
      "well_found: True, llps_status: False\n",
      "detect a droplet\n",
      "results: 410,297,92\n",
      "status: droplet_found: True\n"
     ]
    },
    {
     "name": "stderr",
     "output_type": "stream",
     "text": [
      " 22%|██████████████████▏                                                               | 14/63 [00:10<00:36,  1.34it/s]"
     ]
    },
    {
     "name": "stdout",
     "output_type": "stream",
     "text": [
      "status: 0,2,14: Multiple droplets found (counter): 0 \n",
      "well_found: True, llps_status: False\n",
      "detect a droplet\n",
      "results: 410,297,85\n",
      "status: droplet_found: True\n"
     ]
    },
    {
     "name": "stderr",
     "output_type": "stream",
     "text": [
      " 24%|███████████████████▌                                                              | 15/63 [00:11<00:35,  1.34it/s]"
     ]
    },
    {
     "name": "stdout",
     "output_type": "stream",
     "text": [
      "status: 0,2,15: Multiple droplets found (counter): 0 \n",
      "well_found: True, llps_status: False\n",
      "detect a droplet\n",
      "results: 409,297,86\n",
      "status: droplet_found: True\n"
     ]
    },
    {
     "name": "stderr",
     "output_type": "stream",
     "text": [
      " 25%|████████████████████▊                                                             | 16/63 [00:12<00:35,  1.33it/s]"
     ]
    },
    {
     "name": "stdout",
     "output_type": "stream",
     "text": [
      "status: 0,2,16: Multiple droplets found (counter): 0 \n",
      "well_found: True, llps_status: False\n",
      "detect a droplet\n",
      "results: 409,297,83\n",
      "status: droplet_found: True\n"
     ]
    },
    {
     "name": "stderr",
     "output_type": "stream",
     "text": [
      " 27%|██████████████████████▏                                                           | 17/63 [00:13<00:34,  1.34it/s]"
     ]
    },
    {
     "name": "stdout",
     "output_type": "stream",
     "text": [
      "status: 0,2,17: Multiple droplets found (counter): 0 \n",
      "well_found: True, llps_status: False\n",
      "detect a droplet\n",
      "results: 412,300,82\n",
      "status: droplet_found: True\n"
     ]
    },
    {
     "name": "stderr",
     "output_type": "stream",
     "text": [
      " 29%|███████████████████████▍                                                          | 18/63 [00:13<00:33,  1.34it/s]"
     ]
    },
    {
     "name": "stdout",
     "output_type": "stream",
     "text": [
      "status: 0,2,18: Multiple droplets found (counter): 0 \n",
      "well_found: True, llps_status: False\n",
      "detect a droplet\n",
      "results: 412,303,78\n",
      "status: droplet_found: True\n"
     ]
    },
    {
     "name": "stderr",
     "output_type": "stream",
     "text": [
      " 30%|████████████████████████▋                                                         | 19/63 [00:14<00:32,  1.35it/s]"
     ]
    },
    {
     "name": "stdout",
     "output_type": "stream",
     "text": [
      "status: 0,2,19: Multiple droplets found (counter): 0 \n",
      "well_found: True, llps_status: False\n",
      "detect a droplet\n",
      "results: 414,302,81\n",
      "status: droplet_found: True\n"
     ]
    },
    {
     "name": "stderr",
     "output_type": "stream",
     "text": [
      " 32%|██████████████████████████                                                        | 20/63 [00:15<00:31,  1.35it/s]"
     ]
    },
    {
     "name": "stdout",
     "output_type": "stream",
     "text": [
      "status: 0,2,20: Multiple droplets found (counter): 0 \n",
      "well_found: True, llps_status: False\n",
      "detect a droplet\n",
      "results: 417,302,78\n",
      "status: droplet_found: True\n"
     ]
    },
    {
     "name": "stderr",
     "output_type": "stream",
     "text": [
      " 33%|███████████████████████████▎                                                      | 21/63 [00:16<00:31,  1.35it/s]"
     ]
    },
    {
     "name": "stdout",
     "output_type": "stream",
     "text": [
      "status: 0,2,21: Multiple droplets found (counter): 0 \n",
      "well_found: True, llps_status: False\n",
      "detect a droplet\n",
      "results: 414,303,77\n",
      "status: droplet_found: True\n"
     ]
    },
    {
     "name": "stderr",
     "output_type": "stream",
     "text": [
      " 35%|████████████████████████████▋                                                     | 22/63 [00:16<00:30,  1.35it/s]"
     ]
    },
    {
     "name": "stdout",
     "output_type": "stream",
     "text": [
      "status: 0,2,22: Multiple droplets found (counter): 0 \n",
      "well_found: True, llps_status: False\n",
      "detect a droplet\n",
      "results: 418,305,69\n",
      "status: droplet_found: True\n"
     ]
    },
    {
     "name": "stderr",
     "output_type": "stream",
     "text": [
      " 37%|█████████████████████████████▉                                                    | 23/63 [00:17<00:29,  1.35it/s]"
     ]
    },
    {
     "name": "stdout",
     "output_type": "stream",
     "text": [
      "status: 0,2,23: Multiple droplets found (counter): 0 \n",
      "well_found: True, llps_status: False\n",
      "detect a droplet\n",
      "results: 420,302,73\n",
      "status: droplet_found: True\n"
     ]
    },
    {
     "name": "stderr",
     "output_type": "stream",
     "text": [
      " 38%|███████████████████████████████▏                                                  | 24/63 [00:18<00:28,  1.35it/s]"
     ]
    },
    {
     "name": "stdout",
     "output_type": "stream",
     "text": [
      "status: 0,2,24: Multiple droplets found (counter): 0 \n",
      "well_found: True, llps_status: False\n",
      "detect a droplet\n",
      "results: 415,305,71\n",
      "status: droplet_found: True\n"
     ]
    },
    {
     "name": "stderr",
     "output_type": "stream",
     "text": [
      " 40%|████████████████████████████████▌                                                 | 25/63 [00:19<00:28,  1.35it/s]"
     ]
    },
    {
     "name": "stdout",
     "output_type": "stream",
     "text": [
      "status: 0,2,25: Multiple droplets found (counter): 0 \n",
      "well_found: True, llps_status: False\n",
      "detect a droplet\n",
      "results: 420,310,66\n",
      "status: droplet_found: True\n"
     ]
    },
    {
     "name": "stderr",
     "output_type": "stream",
     "text": [
      " 41%|█████████████████████████████████▊                                                | 26/63 [00:19<00:27,  1.36it/s]"
     ]
    },
    {
     "name": "stdout",
     "output_type": "stream",
     "text": [
      "status: 0,2,26: Multiple droplets found (counter): 0 \n",
      "well_found: True, llps_status: False\n",
      "detect a droplet\n",
      "results: 417,303,69\n",
      "status: droplet_found: True\n"
     ]
    },
    {
     "name": "stderr",
     "output_type": "stream",
     "text": [
      " 43%|███████████████████████████████████▏                                              | 27/63 [00:20<00:26,  1.35it/s]"
     ]
    },
    {
     "name": "stdout",
     "output_type": "stream",
     "text": [
      "status: 0,2,27: Multiple droplets found (counter): 0 \n",
      "well_found: True, llps_status: False\n",
      "detect a droplet\n",
      "results: 423,306,66\n",
      "status: droplet_found: True\n"
     ]
    },
    {
     "name": "stderr",
     "output_type": "stream",
     "text": [
      " 44%|████████████████████████████████████▍                                             | 28/63 [00:21<00:25,  1.35it/s]"
     ]
    },
    {
     "name": "stdout",
     "output_type": "stream",
     "text": [
      "status: 0,2,28: Multiple droplets found (counter): 0 \n",
      "well_found: True, llps_status: False\n",
      "detect a droplet\n",
      "results: 418,302,64\n",
      "status: droplet_found: True\n"
     ]
    },
    {
     "name": "stderr",
     "output_type": "stream",
     "text": [
      " 46%|█████████████████████████████████████▋                                            | 29/63 [00:22<00:25,  1.35it/s]"
     ]
    },
    {
     "name": "stdout",
     "output_type": "stream",
     "text": [
      "status: 0,2,29: Multiple droplets found (counter): 0 \n",
      "well_found: True, llps_status: False\n",
      "detect a droplet\n",
      "results: 425,302,57\n",
      "status: droplet_found: True\n"
     ]
    },
    {
     "name": "stderr",
     "output_type": "stream",
     "text": [
      " 48%|███████████████████████████████████████                                           | 30/63 [00:22<00:24,  1.35it/s]"
     ]
    },
    {
     "name": "stdout",
     "output_type": "stream",
     "text": [
      "status: 0,2,30: Multiple droplets found (counter): 0 \n",
      "well_found: True, llps_status: False\n",
      "detect a droplet\n",
      "results: 417,302,61\n",
      "status: droplet_found: True\n"
     ]
    },
    {
     "name": "stderr",
     "output_type": "stream",
     "text": [
      " 49%|████████████████████████████████████████▎                                         | 31/63 [00:23<00:23,  1.36it/s]"
     ]
    },
    {
     "name": "stdout",
     "output_type": "stream",
     "text": [
      "status: 0,2,31: Multiple droplets found (counter): 0 \n",
      "well_found: True, llps_status: False\n",
      "detect a droplet\n",
      "results: 417,298,53\n",
      "status: droplet_found: True\n"
     ]
    },
    {
     "name": "stderr",
     "output_type": "stream",
     "text": [
      " 51%|█████████████████████████████████████████▋                                        | 32/63 [00:24<00:22,  1.37it/s]"
     ]
    },
    {
     "name": "stdout",
     "output_type": "stream",
     "text": [
      "status: 0,2,32: Multiple droplets found (counter): 0 \n",
      "well_found: True, llps_status: False\n",
      "detect a droplet\n",
      "results: 414,298,51\n",
      "status: droplet_found: True\n"
     ]
    },
    {
     "name": "stderr",
     "output_type": "stream",
     "text": [
      " 52%|██████████████████████████████████████████▉                                       | 33/63 [00:24<00:21,  1.37it/s]"
     ]
    },
    {
     "name": "stdout",
     "output_type": "stream",
     "text": [
      "status: 0,2,33: Multiple droplets found (counter): 0 \n",
      "well_found: True, llps_status: False\n",
      "detect a droplet\n",
      "results: 418,302,57\n",
      "status: droplet_found: True\n"
     ]
    },
    {
     "name": "stderr",
     "output_type": "stream",
     "text": [
      " 54%|████████████████████████████████████████████▎                                     | 34/63 [00:25<00:21,  1.38it/s]"
     ]
    },
    {
     "name": "stdout",
     "output_type": "stream",
     "text": [
      "status: 0,2,34: Multiple droplets found (counter): 0 \n",
      "well_found: True, llps_status: False\n",
      "detect a droplet\n",
      "results: 422,297,55\n",
      "status: droplet_found: True\n"
     ]
    },
    {
     "name": "stderr",
     "output_type": "stream",
     "text": [
      " 56%|█████████████████████████████████████████████▌                                    | 35/63 [00:26<00:20,  1.38it/s]"
     ]
    },
    {
     "name": "stdout",
     "output_type": "stream",
     "text": [
      "status: 0,2,35: Multiple droplets found (counter): 0 \n",
      "well_found: True, llps_status: False\n",
      "detect a droplet\n",
      "results: 418,302,53\n",
      "status: droplet_found: True\n"
     ]
    },
    {
     "name": "stderr",
     "output_type": "stream",
     "text": [
      " 57%|██████████████████████████████████████████████▊                                   | 36/63 [00:27<00:19,  1.37it/s]"
     ]
    },
    {
     "name": "stdout",
     "output_type": "stream",
     "text": [
      "status: 0,2,36: Multiple droplets found (counter): 0 \n",
      "well_found: True, llps_status: False\n",
      "detect a droplet\n",
      "results: 420,303,47\n",
      "status: droplet_found: True\n"
     ]
    },
    {
     "name": "stderr",
     "output_type": "stream",
     "text": [
      " 59%|████████████████████████████████████████████████▏                                 | 37/63 [00:27<00:18,  1.38it/s]"
     ]
    },
    {
     "name": "stdout",
     "output_type": "stream",
     "text": [
      "status: 0,2,37: Multiple droplets found (counter): 0 \n",
      "well_found: True, llps_status: False\n",
      "detect a droplet\n",
      "results: 425,302,47\n",
      "status: droplet_found: True\n"
     ]
    },
    {
     "name": "stderr",
     "output_type": "stream",
     "text": [
      " 60%|█████████████████████████████████████████████████▍                                | 38/63 [00:28<00:18,  1.38it/s]"
     ]
    },
    {
     "name": "stdout",
     "output_type": "stream",
     "text": [
      "status: 0,2,38: Multiple droplets found (counter): 0 \n",
      "well_found: True, llps_status: False\n",
      "detect a droplet\n",
      "results: 422,302,42\n",
      "status: droplet_found: True\n"
     ]
    },
    {
     "name": "stderr",
     "output_type": "stream",
     "text": [
      " 62%|██████████████████████████████████████████████████▊                               | 39/63 [00:29<00:17,  1.38it/s]"
     ]
    },
    {
     "name": "stdout",
     "output_type": "stream",
     "text": [
      "status: 0,2,39: Multiple droplets found (counter): 0 \n",
      "well_found: True, llps_status: False\n",
      "detect a droplet\n",
      "results: 418,298,48\n",
      "status: droplet_found: True\n"
     ]
    },
    {
     "name": "stderr",
     "output_type": "stream",
     "text": [
      " 63%|████████████████████████████████████████████████████                              | 40/63 [00:29<00:16,  1.38it/s]"
     ]
    },
    {
     "name": "stdout",
     "output_type": "stream",
     "text": [
      "status: 0,2,40: Multiple droplets found (counter): 0 \n",
      "well_found: True, llps_status: False\n",
      "detect a droplet\n",
      "results: 422,298,39\n",
      "status: droplet_found: True\n"
     ]
    },
    {
     "name": "stderr",
     "output_type": "stream",
     "text": [
      " 65%|█████████████████████████████████████████████████████▎                            | 41/63 [00:30<00:15,  1.38it/s]"
     ]
    },
    {
     "name": "stdout",
     "output_type": "stream",
     "text": [
      "status: 0,2,41: Multiple droplets found (counter): 0 \n",
      "well_found: True, llps_status: False\n",
      "detect a droplet\n",
      "results: 401,294,21\n",
      "status: droplet_found: True\n"
     ]
    },
    {
     "name": "stderr",
     "output_type": "stream",
     "text": [
      " 67%|██████████████████████████████████████████████████████▋                           | 42/63 [00:31<00:15,  1.38it/s]"
     ]
    },
    {
     "name": "stdout",
     "output_type": "stream",
     "text": [
      "status: 0,2,42: Multiple droplets found (counter): 0 \n",
      "well_found: True, llps_status: False\n",
      "detect a droplet\n",
      "results: 417,302,35\n",
      "status: droplet_found: True\n"
     ]
    },
    {
     "name": "stderr",
     "output_type": "stream",
     "text": [
      "100%|██████████████████████████████████████████████████████████████████████████████████| 63/63 [00:32<00:00,  1.96it/s]\n",
      "  0%|                                                                                           | 0/63 [00:00<?, ?it/s]"
     ]
    },
    {
     "name": "stdout",
     "output_type": "stream",
     "text": [
      "LLPS status:  True , @ c: 0 w: 2 t: 42\n",
      "conc: 0 well: 3\n",
      "multiple_droplets: n = 2\n",
      "status: 0,3,0: Multiple droplets found (counter): 0 \n",
      "well_found: True, llps_status: False\n",
      "detect a droplet\n",
      "results: 0,0,0\n",
      "try again to detect a droplet\n",
      "results after 1-retries: 0,0,0\n",
      "try again to detect a droplet\n",
      "results after 2-retries: 0,0,0\n",
      "try again to detect a droplet\n",
      "results after 3-retries: 0,0,0\n",
      "try again to detect a droplet\n",
      "results after 4-retries: 0,0,0\n",
      "try again to detect a droplet\n",
      "results after 5-retries: 0,0,0\n",
      "status: droplet_found: True\n"
     ]
    },
    {
     "name": "stderr",
     "output_type": "stream",
     "text": [
      "  2%|█▎                                                                                 | 1/63 [00:00<00:53,  1.16it/s]"
     ]
    },
    {
     "name": "stdout",
     "output_type": "stream",
     "text": [
      "multiple_droplets: n = 2\n",
      "status: 0,3,1: Multiple droplets found (counter): 0 \n",
      "well_found: True, llps_status: False\n",
      "detect a droplet\n",
      "results: 0,0,0\n",
      "try again to detect a droplet\n",
      "results after 1-retries: 0,0,0\n",
      "try again to detect a droplet\n",
      "results after 2-retries: 0,0,0\n",
      "try again to detect a droplet\n",
      "results after 3-retries: 0,0,0\n",
      "try again to detect a droplet\n",
      "results after 4-retries: 0,0,0\n",
      "try again to detect a droplet\n",
      "results after 5-retries: 0,0,0\n",
      "status: droplet_found: True\n"
     ]
    },
    {
     "name": "stderr",
     "output_type": "stream",
     "text": [
      "  3%|██▋                                                                                | 2/63 [00:01<00:52,  1.16it/s]"
     ]
    },
    {
     "name": "stdout",
     "output_type": "stream",
     "text": [
      "multiple_droplets: n = 2\n",
      "status: 0,3,2: Multiple droplets found (counter): 0 \n",
      "well_found: True, llps_status: False\n",
      "detect a droplet\n",
      "results: 0,0,0\n",
      "try again to detect a droplet\n",
      "results after 1-retries: 0,0,0\n",
      "try again to detect a droplet\n",
      "results after 2-retries: 0,0,0\n",
      "try again to detect a droplet\n",
      "results after 3-retries: 0,0,0\n",
      "try again to detect a droplet\n",
      "results after 4-retries: 0,0,0\n",
      "try again to detect a droplet\n",
      "results after 5-retries: 0,0,0\n",
      "status: droplet_found: True\n"
     ]
    },
    {
     "name": "stderr",
     "output_type": "stream",
     "text": [
      "  5%|███▉                                                                               | 3/63 [00:02<01:00,  1.01s/it]"
     ]
    },
    {
     "name": "stdout",
     "output_type": "stream",
     "text": [
      "multiple_droplets: n = 2\n",
      "status: 0,3,3: Multiple droplets found (counter): 0 \n",
      "well_found: True, llps_status: False\n",
      "detect a droplet\n",
      "results: 0,0,0\n",
      "try again to detect a droplet\n",
      "results after 1-retries: 0,0,0\n",
      "try again to detect a droplet\n",
      "results after 2-retries: 0,0,0\n",
      "try again to detect a droplet\n",
      "results after 3-retries: 0,0,0\n",
      "try again to detect a droplet\n",
      "results after 4-retries: 0,0,0\n",
      "try again to detect a droplet\n",
      "results after 5-retries: 0,0,0\n",
      "status: droplet_found: True\n"
     ]
    },
    {
     "name": "stderr",
     "output_type": "stream",
     "text": [
      "  6%|█████▎                                                                             | 4/63 [00:03<00:55,  1.06it/s]"
     ]
    },
    {
     "name": "stdout",
     "output_type": "stream",
     "text": [
      "multiple_droplets: n = 0\n",
      "status: 0,3,4: Multiple droplets found (counter): 0 \n",
      "well_found: True, llps_status: False\n",
      "detect a droplet\n",
      "results: 0,0,0\n",
      "try again to detect a droplet\n",
      "results after 1-retries: 0,0,0\n",
      "try again to detect a droplet\n",
      "results after 2-retries: 0,0,0\n",
      "try again to detect a droplet\n",
      "results after 3-retries: 0,0,0\n",
      "try again to detect a droplet\n",
      "results after 4-retries: 0,0,0\n",
      "try again to detect a droplet\n",
      "results after 5-retries: 0,0,0\n",
      "status: droplet_found: True\n"
     ]
    },
    {
     "name": "stderr",
     "output_type": "stream",
     "text": [
      "  8%|██████▌                                                                            | 5/63 [00:04<00:52,  1.10it/s]"
     ]
    },
    {
     "name": "stdout",
     "output_type": "stream",
     "text": [
      "multiple_droplets: n = 2\n",
      "status: 0,3,5: Multiple droplets found (counter): 0 \n",
      "well_found: True, llps_status: False\n",
      "detect a droplet\n",
      "results: 0,0,0\n",
      "try again to detect a droplet\n",
      "results after 1-retries: 0,0,0\n",
      "try again to detect a droplet\n",
      "results after 2-retries: 0,0,0\n",
      "try again to detect a droplet\n",
      "results after 3-retries: 0,0,0\n",
      "try again to detect a droplet\n",
      "results after 4-retries: 0,0,0\n",
      "try again to detect a droplet\n",
      "results after 5-retries: 0,0,0\n",
      "status: droplet_found: False\n"
     ]
    },
    {
     "name": "stderr",
     "output_type": "stream",
     "text": [
      " 10%|███████▉                                                                           | 6/63 [00:05<00:49,  1.15it/s]"
     ]
    },
    {
     "name": "stdout",
     "output_type": "stream",
     "text": [
      "status: 0,3,6: Multiple droplets found (counter): 0 \n",
      "well_found: True, llps_status: False\n",
      "detect a droplet\n",
      "results: 409,318,107\n",
      "status: droplet_found: True\n"
     ]
    },
    {
     "name": "stderr",
     "output_type": "stream",
     "text": [
      " 11%|█████████▏                                                                         | 7/63 [00:06<00:46,  1.19it/s]"
     ]
    },
    {
     "name": "stdout",
     "output_type": "stream",
     "text": [
      "status: 0,3,7: Multiple droplets found (counter): 0 \n",
      "well_found: True, llps_status: False\n",
      "detect a droplet\n",
      "results: 402,326,94\n",
      "status: droplet_found: True\n"
     ]
    },
    {
     "name": "stderr",
     "output_type": "stream",
     "text": [
      " 13%|██████████▌                                                                        | 8/63 [00:06<00:44,  1.24it/s]"
     ]
    },
    {
     "name": "stdout",
     "output_type": "stream",
     "text": [
      "status: 0,3,8: Multiple droplets found (counter): 0 \n",
      "well_found: True, llps_status: False\n",
      "detect a droplet\n",
      "results: 415,316,108\n",
      "status: droplet_found: True\n"
     ]
    },
    {
     "name": "stderr",
     "output_type": "stream",
     "text": [
      " 14%|███████████▊                                                                       | 9/63 [00:07<00:42,  1.27it/s]"
     ]
    },
    {
     "name": "stdout",
     "output_type": "stream",
     "text": [
      "status: 0,3,9: Multiple droplets found (counter): 0 \n",
      "well_found: True, llps_status: False\n",
      "detect a droplet\n",
      "results: 410,324,94\n",
      "status: droplet_found: True\n"
     ]
    },
    {
     "name": "stderr",
     "output_type": "stream",
     "text": [
      " 16%|█████████████                                                                     | 10/63 [00:08<00:41,  1.29it/s]"
     ]
    },
    {
     "name": "stdout",
     "output_type": "stream",
     "text": [
      "status: 0,3,10: Multiple droplets found (counter): 0 \n",
      "well_found: True, llps_status: False\n",
      "detect a droplet\n",
      "results: 414,326,97\n",
      "status: droplet_found: True\n"
     ]
    },
    {
     "name": "stderr",
     "output_type": "stream",
     "text": [
      " 17%|██████████████▎                                                                   | 11/63 [00:09<00:39,  1.30it/s]"
     ]
    },
    {
     "name": "stdout",
     "output_type": "stream",
     "text": [
      "status: 0,3,11: Multiple droplets found (counter): 0 \n",
      "well_found: True, llps_status: False\n",
      "detect a droplet\n",
      "results: 412,324,92\n",
      "status: droplet_found: True\n"
     ]
    },
    {
     "name": "stderr",
     "output_type": "stream",
     "text": [
      " 19%|███████████████▌                                                                  | 12/63 [00:09<00:38,  1.32it/s]"
     ]
    },
    {
     "name": "stdout",
     "output_type": "stream",
     "text": [
      "status: 0,3,12: Multiple droplets found (counter): 0 \n",
      "well_found: True, llps_status: False\n",
      "detect a droplet\n",
      "results: 417,326,93\n",
      "status: droplet_found: True\n"
     ]
    },
    {
     "name": "stderr",
     "output_type": "stream",
     "text": [
      " 21%|████████████████▉                                                                 | 13/63 [00:10<00:37,  1.33it/s]"
     ]
    },
    {
     "name": "stdout",
     "output_type": "stream",
     "text": [
      "status: 0,3,13: Multiple droplets found (counter): 0 \n",
      "well_found: True, llps_status: False\n",
      "detect a droplet\n",
      "results: 422,329,87\n",
      "status: droplet_found: True\n"
     ]
    },
    {
     "name": "stderr",
     "output_type": "stream",
     "text": [
      " 22%|██████████████████▏                                                               | 14/63 [00:11<00:37,  1.32it/s]"
     ]
    },
    {
     "name": "stdout",
     "output_type": "stream",
     "text": [
      "status: 0,3,14: Multiple droplets found (counter): 0 \n",
      "well_found: True, llps_status: False\n",
      "detect a droplet\n",
      "results: 423,324,87\n",
      "status: droplet_found: True\n"
     ]
    },
    {
     "name": "stderr",
     "output_type": "stream",
     "text": [
      " 24%|███████████████████▌                                                              | 15/63 [00:12<00:36,  1.33it/s]"
     ]
    },
    {
     "name": "stdout",
     "output_type": "stream",
     "text": [
      "status: 0,3,15: Multiple droplets found (counter): 0 \n",
      "well_found: True, llps_status: False\n",
      "detect a droplet\n",
      "results: 423,329,84\n",
      "status: droplet_found: True\n"
     ]
    },
    {
     "name": "stderr",
     "output_type": "stream",
     "text": [
      " 25%|████████████████████▊                                                             | 16/63 [00:12<00:35,  1.34it/s]"
     ]
    },
    {
     "name": "stdout",
     "output_type": "stream",
     "text": [
      "status: 0,3,16: Multiple droplets found (counter): 0 \n",
      "well_found: True, llps_status: False\n",
      "detect a droplet\n",
      "results: 422,322,81\n",
      "status: droplet_found: True\n"
     ]
    },
    {
     "name": "stderr",
     "output_type": "stream",
     "text": [
      " 27%|██████████████████████▏                                                           | 17/63 [00:13<00:34,  1.34it/s]"
     ]
    },
    {
     "name": "stdout",
     "output_type": "stream",
     "text": [
      "status: 0,3,17: Multiple droplets found (counter): 0 \n",
      "well_found: True, llps_status: False\n",
      "detect a droplet\n",
      "results: 423,332,81\n",
      "status: droplet_found: True\n"
     ]
    },
    {
     "name": "stderr",
     "output_type": "stream",
     "text": [
      " 29%|███████████████████████▍                                                          | 18/63 [00:14<00:33,  1.35it/s]"
     ]
    },
    {
     "name": "stdout",
     "output_type": "stream",
     "text": [
      "status: 0,3,18: Multiple droplets found (counter): 0 \n",
      "well_found: True, llps_status: False\n",
      "detect a droplet\n",
      "results: 430,326,79\n",
      "status: droplet_found: True\n"
     ]
    },
    {
     "name": "stderr",
     "output_type": "stream",
     "text": [
      " 30%|████████████████████████▋                                                         | 19/63 [00:15<00:32,  1.35it/s]"
     ]
    },
    {
     "name": "stdout",
     "output_type": "stream",
     "text": [
      "status: 0,3,19: Multiple droplets found (counter): 0 \n",
      "well_found: True, llps_status: False\n",
      "detect a droplet\n",
      "results: 430,334,80\n",
      "status: droplet_found: True\n"
     ]
    },
    {
     "name": "stderr",
     "output_type": "stream",
     "text": [
      " 32%|██████████████████████████                                                        | 20/63 [00:15<00:31,  1.35it/s]"
     ]
    },
    {
     "name": "stdout",
     "output_type": "stream",
     "text": [
      "status: 0,3,20: Multiple droplets found (counter): 0 \n",
      "well_found: True, llps_status: False\n",
      "detect a droplet\n",
      "results: 433,329,77\n",
      "status: droplet_found: True\n"
     ]
    },
    {
     "name": "stderr",
     "output_type": "stream",
     "text": [
      " 33%|███████████████████████████▎                                                      | 21/63 [00:16<00:31,  1.34it/s]"
     ]
    },
    {
     "name": "stdout",
     "output_type": "stream",
     "text": [
      "status: 0,3,21: Multiple droplets found (counter): 0 \n",
      "well_found: True, llps_status: False\n",
      "detect a droplet\n",
      "results: 428,329,74\n",
      "status: droplet_found: True\n"
     ]
    },
    {
     "name": "stderr",
     "output_type": "stream",
     "text": [
      " 35%|████████████████████████████▋                                                     | 22/63 [00:17<00:30,  1.35it/s]"
     ]
    },
    {
     "name": "stdout",
     "output_type": "stream",
     "text": [
      "status: 0,3,22: Multiple droplets found (counter): 0 \n",
      "well_found: True, llps_status: False\n",
      "detect a droplet\n",
      "results: 433,337,74\n",
      "status: droplet_found: True\n"
     ]
    },
    {
     "name": "stderr",
     "output_type": "stream",
     "text": [
      " 37%|█████████████████████████████▉                                                    | 23/63 [00:18<00:29,  1.35it/s]"
     ]
    },
    {
     "name": "stdout",
     "output_type": "stream",
     "text": [
      "status: 0,3,23: Multiple droplets found (counter): 0 \n",
      "well_found: True, llps_status: False\n",
      "detect a droplet\n",
      "results: 438,329,69\n",
      "status: droplet_found: True\n"
     ]
    },
    {
     "name": "stderr",
     "output_type": "stream",
     "text": [
      " 38%|███████████████████████████████▏                                                  | 24/63 [00:18<00:28,  1.36it/s]"
     ]
    },
    {
     "name": "stdout",
     "output_type": "stream",
     "text": [
      "status: 0,3,24: Multiple droplets found (counter): 0 \n",
      "well_found: True, llps_status: False\n",
      "detect a droplet\n",
      "results: 430,338,69\n",
      "status: droplet_found: True\n"
     ]
    },
    {
     "name": "stderr",
     "output_type": "stream",
     "text": [
      " 40%|████████████████████████████████▌                                                 | 25/63 [00:19<00:28,  1.35it/s]"
     ]
    },
    {
     "name": "stdout",
     "output_type": "stream",
     "text": [
      "status: 0,3,25: Multiple droplets found (counter): 0 \n",
      "well_found: True, llps_status: False\n",
      "detect a droplet\n",
      "results: 430,345,66\n",
      "status: droplet_found: True\n"
     ]
    },
    {
     "name": "stderr",
     "output_type": "stream",
     "text": [
      " 41%|█████████████████████████████████▊                                                | 26/63 [00:20<00:27,  1.35it/s]"
     ]
    },
    {
     "name": "stdout",
     "output_type": "stream",
     "text": [
      "status: 0,3,26: Multiple droplets found (counter): 0 \n",
      "well_found: True, llps_status: False\n",
      "detect a droplet\n",
      "results: 431,342,66\n",
      "status: droplet_found: True\n"
     ]
    },
    {
     "name": "stderr",
     "output_type": "stream",
     "text": [
      " 43%|███████████████████████████████████▏                                              | 27/63 [00:20<00:26,  1.36it/s]"
     ]
    },
    {
     "name": "stdout",
     "output_type": "stream",
     "text": [
      "status: 0,3,27: Multiple droplets found (counter): 0 \n",
      "well_found: True, llps_status: False\n",
      "detect a droplet\n",
      "results: 438,346,63\n",
      "status: droplet_found: True\n"
     ]
    },
    {
     "name": "stderr",
     "output_type": "stream",
     "text": [
      " 44%|████████████████████████████████████▍                                             | 28/63 [00:21<00:25,  1.36it/s]"
     ]
    },
    {
     "name": "stdout",
     "output_type": "stream",
     "text": [
      "status: 0,3,28: Multiple droplets found (counter): 0 \n",
      "well_found: True, llps_status: False\n",
      "detect a droplet\n",
      "results: 431,342,58\n",
      "status: droplet_found: True\n"
     ]
    },
    {
     "name": "stderr",
     "output_type": "stream",
     "text": [
      " 46%|█████████████████████████████████████▋                                            | 29/63 [00:22<00:25,  1.36it/s]"
     ]
    },
    {
     "name": "stdout",
     "output_type": "stream",
     "text": [
      "status: 0,3,29: Multiple droplets found (counter): 0 \n",
      "well_found: True, llps_status: False\n",
      "detect a droplet\n",
      "results: 433,345,59\n",
      "status: droplet_found: True\n"
     ]
    },
    {
     "name": "stderr",
     "output_type": "stream",
     "text": [
      " 48%|███████████████████████████████████████                                           | 30/63 [00:23<00:24,  1.37it/s]"
     ]
    },
    {
     "name": "stdout",
     "output_type": "stream",
     "text": [
      "status: 0,3,30: Multiple droplets found (counter): 0 \n",
      "well_found: True, llps_status: False\n",
      "detect a droplet\n",
      "results: 431,345,59\n",
      "status: droplet_found: True\n"
     ]
    },
    {
     "name": "stderr",
     "output_type": "stream",
     "text": [
      " 49%|████████████████████████████████████████▎                                         | 31/63 [00:23<00:23,  1.37it/s]"
     ]
    },
    {
     "name": "stdout",
     "output_type": "stream",
     "text": [
      "status: 0,3,31: Multiple droplets found (counter): 0 \n",
      "well_found: True, llps_status: False\n",
      "detect a droplet\n",
      "results: 430,345,59\n",
      "status: droplet_found: True\n"
     ]
    },
    {
     "name": "stderr",
     "output_type": "stream",
     "text": [
      " 51%|█████████████████████████████████████████▋                                        | 32/63 [00:24<00:22,  1.37it/s]"
     ]
    },
    {
     "name": "stdout",
     "output_type": "stream",
     "text": [
      "status: 0,3,32: Multiple droplets found (counter): 0 \n",
      "well_found: True, llps_status: False\n",
      "detect a droplet\n",
      "results: 433,345,53\n",
      "status: droplet_found: True\n"
     ]
    },
    {
     "name": "stderr",
     "output_type": "stream",
     "text": [
      " 52%|██████████████████████████████████████████▉                                       | 33/63 [00:25<00:21,  1.37it/s]"
     ]
    },
    {
     "name": "stdout",
     "output_type": "stream",
     "text": [
      "status: 0,3,33: Multiple droplets found (counter): 0 \n",
      "well_found: True, llps_status: False\n",
      "detect a droplet\n",
      "results: 434,346,50\n",
      "status: droplet_found: True\n"
     ]
    },
    {
     "name": "stderr",
     "output_type": "stream",
     "text": [
      " 54%|████████████████████████████████████████████▎                                     | 34/63 [00:26<00:21,  1.38it/s]"
     ]
    },
    {
     "name": "stdout",
     "output_type": "stream",
     "text": [
      "status: 0,3,34: Multiple droplets found (counter): 0 \n",
      "well_found: True, llps_status: False\n",
      "detect a droplet\n",
      "results: 438,345,52\n",
      "status: droplet_found: True\n"
     ]
    },
    {
     "name": "stderr",
     "output_type": "stream",
     "text": [
      " 56%|█████████████████████████████████████████████▌                                    | 35/63 [00:26<00:20,  1.37it/s]"
     ]
    },
    {
     "name": "stdout",
     "output_type": "stream",
     "text": [
      "status: 0,3,35: Multiple droplets found (counter): 0 \n",
      "well_found: True, llps_status: False\n",
      "detect a droplet\n",
      "results: 434,346,47\n",
      "status: droplet_found: True\n"
     ]
    },
    {
     "name": "stderr",
     "output_type": "stream",
     "text": [
      " 57%|██████████████████████████████████████████████▊                                   | 36/63 [00:27<00:19,  1.37it/s]"
     ]
    },
    {
     "name": "stdout",
     "output_type": "stream",
     "text": [
      "status: 0,3,36: Multiple droplets found (counter): 0 \n",
      "well_found: True, llps_status: False\n",
      "detect a droplet\n",
      "results: 433,350,50\n",
      "status: droplet_found: True\n"
     ]
    },
    {
     "name": "stderr",
     "output_type": "stream",
     "text": [
      " 59%|████████████████████████████████████████████████▏                                 | 37/63 [00:28<00:19,  1.37it/s]"
     ]
    },
    {
     "name": "stdout",
     "output_type": "stream",
     "text": [
      "status: 0,3,37: Multiple droplets found (counter): 0 \n",
      "well_found: True, llps_status: False\n",
      "detect a droplet\n",
      "results: 438,345,49\n",
      "status: droplet_found: True\n"
     ]
    },
    {
     "name": "stderr",
     "output_type": "stream",
     "text": [
      " 60%|█████████████████████████████████████████████████▍                                | 38/63 [00:29<00:18,  1.37it/s]"
     ]
    },
    {
     "name": "stdout",
     "output_type": "stream",
     "text": [
      "status: 0,3,38: Multiple droplets found (counter): 0 \n",
      "well_found: True, llps_status: False\n",
      "detect a droplet\n",
      "results: 434,351,44\n",
      "status: droplet_found: True\n"
     ]
    },
    {
     "name": "stderr",
     "output_type": "stream",
     "text": [
      " 62%|██████████████████████████████████████████████████▊                               | 39/63 [00:29<00:17,  1.38it/s]"
     ]
    },
    {
     "name": "stdout",
     "output_type": "stream",
     "text": [
      "status: 0,3,39: Multiple droplets found (counter): 0 \n",
      "well_found: True, llps_status: False\n",
      "detect a droplet\n",
      "results: 431,350,40\n",
      "status: droplet_found: True\n"
     ]
    },
    {
     "name": "stderr",
     "output_type": "stream",
     "text": [
      " 63%|████████████████████████████████████████████████████                              | 40/63 [00:30<00:16,  1.38it/s]"
     ]
    },
    {
     "name": "stdout",
     "output_type": "stream",
     "text": [
      "status: 0,3,40: Multiple droplets found (counter): 0 \n",
      "well_found: True, llps_status: False\n",
      "detect a droplet\n",
      "results: 436,351,41\n",
      "status: droplet_found: True\n"
     ]
    },
    {
     "name": "stderr",
     "output_type": "stream",
     "text": [
      " 65%|█████████████████████████████████████████████████████▎                            | 41/63 [00:31<00:15,  1.38it/s]"
     ]
    },
    {
     "name": "stdout",
     "output_type": "stream",
     "text": [
      "status: 0,3,41: Multiple droplets found (counter): 0 \n",
      "well_found: True, llps_status: False\n",
      "detect a droplet\n",
      "results: 431,353,42\n",
      "status: droplet_found: True\n"
     ]
    },
    {
     "name": "stderr",
     "output_type": "stream",
     "text": [
      "100%|██████████████████████████████████████████████████████████████████████████████████| 63/63 [00:31<00:00,  1.98it/s]\n",
      "  0%|                                                                                           | 0/63 [00:00<?, ?it/s]"
     ]
    },
    {
     "name": "stdout",
     "output_type": "stream",
     "text": [
      "LLPS status:  True , @ c: 0 w: 3 t: 41\n",
      "conc: 0 well: 4\n",
      "multiple_droplets: n = 2\n",
      "status: 0,4,0: Multiple droplets found (counter): 0 \n",
      "well_found: True, llps_status: False\n",
      "detect a droplet\n",
      "results: 0,0,0\n",
      "try again to detect a droplet\n",
      "results after 1-retries: 0,0,0\n",
      "try again to detect a droplet\n",
      "results after 2-retries: 0,0,0\n",
      "try again to detect a droplet\n",
      "results after 3-retries: 0,0,0\n",
      "try again to detect a droplet\n",
      "results after 4-retries: 0,0,0\n",
      "try again to detect a droplet\n",
      "results after 5-retries: 0,0,0\n",
      "status: droplet_found: True\n"
     ]
    },
    {
     "name": "stderr",
     "output_type": "stream",
     "text": [
      "  2%|█▎                                                                                 | 1/63 [00:00<00:51,  1.20it/s]"
     ]
    },
    {
     "name": "stdout",
     "output_type": "stream",
     "text": [
      "multiple_droplets: n = 0\n",
      "status: 0,4,1: Multiple droplets found (counter): 0 \n",
      "well_found: True, llps_status: False\n",
      "detect a droplet\n",
      "results: 0,0,0\n",
      "try again to detect a droplet\n",
      "results after 1-retries: 0,0,0\n",
      "try again to detect a droplet\n",
      "results after 2-retries: 0,0,0\n",
      "try again to detect a droplet\n",
      "results after 3-retries: 0,0,0\n",
      "try again to detect a droplet\n",
      "results after 4-retries: 0,0,0\n",
      "try again to detect a droplet\n",
      "results after 5-retries: 0,0,0\n",
      "status: droplet_found: True\n"
     ]
    },
    {
     "name": "stderr",
     "output_type": "stream",
     "text": [
      "  3%|██▋                                                                                | 2/63 [00:01<00:50,  1.20it/s]"
     ]
    },
    {
     "name": "stdout",
     "output_type": "stream",
     "text": [
      "multiple_droplets: n = 3\n",
      "status: 0,4,2: Multiple droplets found (counter): 0 \n",
      "well_found: True, llps_status: False\n",
      "detect a droplet\n",
      "results: 0,0,0\n",
      "try again to detect a droplet\n",
      "results after 1-retries: 0,0,0\n",
      "try again to detect a droplet\n",
      "results after 2-retries: 0,0,0\n",
      "try again to detect a droplet\n",
      "results after 3-retries: 0,0,0\n",
      "try again to detect a droplet\n",
      "results after 4-retries: 0,0,0\n",
      "try again to detect a droplet\n",
      "results after 5-retries: 0,0,0\n",
      "status: droplet_found: True\n"
     ]
    },
    {
     "name": "stderr",
     "output_type": "stream",
     "text": [
      "  5%|███▉                                                                               | 3/63 [00:02<00:49,  1.20it/s]"
     ]
    },
    {
     "name": "stdout",
     "output_type": "stream",
     "text": [
      "multiple_droplets: n = 2\n",
      "status: 0,4,3: Multiple droplets found (counter): 0 \n",
      "well_found: True, llps_status: False\n",
      "detect a droplet\n",
      "results: 0,0,0\n",
      "try again to detect a droplet\n",
      "results after 1-retries: 0,0,0\n",
      "try again to detect a droplet\n",
      "results after 2-retries: 0,0,0\n",
      "try again to detect a droplet\n",
      "results after 3-retries: 0,0,0\n",
      "try again to detect a droplet\n",
      "results after 4-retries: 0,0,0\n",
      "try again to detect a droplet\n",
      "results after 5-retries: 0,0,0\n",
      "status: droplet_found: True\n"
     ]
    },
    {
     "name": "stderr",
     "output_type": "stream",
     "text": [
      "  6%|█████▎                                                                             | 4/63 [00:03<00:49,  1.19it/s]"
     ]
    },
    {
     "name": "stdout",
     "output_type": "stream",
     "text": [
      "multiple_droplets: n = 0\n",
      "status: 0,4,4: Multiple droplets found (counter): 0 \n",
      "well_found: True, llps_status: False\n",
      "detect a droplet\n",
      "results: 0,0,0\n",
      "try again to detect a droplet\n",
      "results after 1-retries: 0,0,0\n",
      "try again to detect a droplet\n",
      "results after 2-retries: 0,0,0\n",
      "try again to detect a droplet\n",
      "results after 3-retries: 0,0,0\n",
      "try again to detect a droplet\n",
      "results after 4-retries: 0,0,0\n",
      "try again to detect a droplet\n",
      "results after 5-retries: 0,0,0\n",
      "status: droplet_found: True\n"
     ]
    },
    {
     "name": "stderr",
     "output_type": "stream",
     "text": [
      "  8%|██████▌                                                                            | 5/63 [00:04<00:48,  1.20it/s]"
     ]
    },
    {
     "name": "stdout",
     "output_type": "stream",
     "text": [
      "multiple_droplets: n = 8\n",
      "status: 0,4,5: Multiple droplets found (counter): 0 \n",
      "well_found: True, llps_status: False\n",
      "detect a droplet\n",
      "results: 0,0,0\n",
      "try again to detect a droplet\n",
      "results after 1-retries: 0,0,0\n",
      "try again to detect a droplet\n",
      "results after 2-retries: 0,0,0\n",
      "try again to detect a droplet\n",
      "results after 3-retries: 0,0,0\n",
      "try again to detect a droplet\n",
      "results after 4-retries: 0,0,0\n",
      "try again to detect a droplet\n",
      "results after 5-retries: 0,0,0\n",
      "status: droplet_found: False\n"
     ]
    },
    {
     "name": "stderr",
     "output_type": "stream",
     "text": [
      " 10%|███████▉                                                                           | 6/63 [00:04<00:47,  1.21it/s]"
     ]
    },
    {
     "name": "stdout",
     "output_type": "stream",
     "text": [
      "status: 0,4,6: Multiple droplets found (counter): 0 \n",
      "well_found: True, llps_status: False\n",
      "detect a droplet\n",
      "results: 0,0,0\n",
      "try again to detect a droplet\n",
      "results after 1-retries: 391,353,96\n",
      "status: droplet_found: True\n"
     ]
    },
    {
     "name": "stderr",
     "output_type": "stream",
     "text": [
      " 11%|█████████▏                                                                         | 7/63 [00:05<00:44,  1.25it/s]"
     ]
    },
    {
     "name": "stdout",
     "output_type": "stream",
     "text": [
      "status: 0,4,7: Multiple droplets found (counter): 0 \n",
      "well_found: True, llps_status: False\n",
      "detect a droplet\n",
      "results: 394,348,97\n",
      "status: droplet_found: True\n"
     ]
    },
    {
     "name": "stderr",
     "output_type": "stream",
     "text": [
      " 13%|██████████▌                                                                        | 8/63 [00:06<00:42,  1.28it/s]"
     ]
    },
    {
     "name": "stdout",
     "output_type": "stream",
     "text": [
      "status: 0,4,8: Multiple droplets found (counter): 0 \n",
      "well_found: True, llps_status: False\n",
      "detect a droplet\n",
      "results: 386,362,84\n",
      "status: droplet_found: True\n"
     ]
    },
    {
     "name": "stderr",
     "output_type": "stream",
     "text": [
      " 14%|███████████▊                                                                       | 9/63 [00:07<00:41,  1.30it/s]"
     ]
    },
    {
     "name": "stdout",
     "output_type": "stream",
     "text": [
      "status: 0,4,9: Multiple droplets found (counter): 0 \n",
      "well_found: True, llps_status: False\n",
      "detect a droplet\n",
      "results: 394,342,94\n",
      "status: droplet_found: True\n"
     ]
    },
    {
     "name": "stderr",
     "output_type": "stream",
     "text": [
      " 16%|█████████████                                                                     | 10/63 [00:07<00:40,  1.31it/s]"
     ]
    },
    {
     "name": "stdout",
     "output_type": "stream",
     "text": [
      "status: 0,4,10: Multiple droplets found (counter): 0 \n",
      "well_found: True, llps_status: False\n",
      "detect a droplet\n",
      "results: 0,0,0\n",
      "try again to detect a droplet\n",
      "results after 1-retries: 0,0,0\n",
      "try again to detect a droplet\n",
      "results after 2-retries: 0,0,0\n",
      "try again to detect a droplet\n",
      "results after 3-retries: 0,0,0\n",
      "try again to detect a droplet\n",
      "results after 4-retries: 0,0,0\n",
      "try again to detect a droplet\n",
      "results after 5-retries: 0,0,0\n",
      "status: droplet_found: False\n"
     ]
    },
    {
     "name": "stderr",
     "output_type": "stream",
     "text": [
      " 17%|██████████████▎                                                                   | 11/63 [00:08<00:39,  1.32it/s]"
     ]
    },
    {
     "name": "stdout",
     "output_type": "stream",
     "text": [
      "status: 0,4,11: Multiple droplets found (counter): 0 \n",
      "well_found: True, llps_status: False\n",
      "detect a droplet\n",
      "results: 398,348,94\n",
      "status: droplet_found: True\n"
     ]
    },
    {
     "name": "stderr",
     "output_type": "stream",
     "text": [
      " 19%|███████████████▌                                                                  | 12/63 [00:09<00:38,  1.33it/s]"
     ]
    },
    {
     "name": "stdout",
     "output_type": "stream",
     "text": [
      "status: 0,4,12: Multiple droplets found (counter): 0 \n",
      "well_found: True, llps_status: False\n",
      "detect a droplet\n",
      "results: 398,346,89\n",
      "status: droplet_found: True\n"
     ]
    },
    {
     "name": "stderr",
     "output_type": "stream",
     "text": [
      " 21%|████████████████▉                                                                 | 13/63 [00:10<00:37,  1.33it/s]"
     ]
    },
    {
     "name": "stdout",
     "output_type": "stream",
     "text": [
      "status: 0,4,13: Multiple droplets found (counter): 0 \n",
      "well_found: True, llps_status: False\n",
      "detect a droplet\n",
      "results: 406,348,91\n",
      "status: droplet_found: True\n"
     ]
    },
    {
     "name": "stderr",
     "output_type": "stream",
     "text": [
      " 22%|██████████████████▏                                                               | 14/63 [00:10<00:36,  1.33it/s]"
     ]
    },
    {
     "name": "stdout",
     "output_type": "stream",
     "text": [
      "status: 0,4,14: Multiple droplets found (counter): 0 \n",
      "well_found: True, llps_status: False\n",
      "detect a droplet\n",
      "results: 404,343,89\n",
      "status: droplet_found: True\n"
     ]
    },
    {
     "name": "stderr",
     "output_type": "stream",
     "text": [
      " 24%|███████████████████▌                                                              | 15/63 [00:11<00:35,  1.34it/s]"
     ]
    },
    {
     "name": "stdout",
     "output_type": "stream",
     "text": [
      "status: 0,4,15: Multiple droplets found (counter): 0 \n",
      "well_found: True, llps_status: False\n",
      "detect a droplet\n",
      "results: 406,337,85\n",
      "status: droplet_found: True\n"
     ]
    },
    {
     "name": "stderr",
     "output_type": "stream",
     "text": [
      " 25%|████████████████████▊                                                             | 16/63 [00:12<00:34,  1.34it/s]"
     ]
    },
    {
     "name": "stdout",
     "output_type": "stream",
     "text": [
      "status: 0,4,16: Multiple droplets found (counter): 0 \n",
      "well_found: True, llps_status: False\n",
      "detect a droplet\n",
      "results: 401,337,84\n",
      "status: droplet_found: True\n"
     ]
    },
    {
     "name": "stderr",
     "output_type": "stream",
     "text": [
      " 27%|██████████████████████▏                                                           | 17/63 [00:13<00:34,  1.35it/s]"
     ]
    },
    {
     "name": "stdout",
     "output_type": "stream",
     "text": [
      "status: 0,4,17: Multiple droplets found (counter): 0 \n",
      "well_found: True, llps_status: False\n",
      "detect a droplet\n",
      "results: 404,353,80\n",
      "status: droplet_found: True\n"
     ]
    },
    {
     "name": "stderr",
     "output_type": "stream",
     "text": [
      " 29%|███████████████████████▍                                                          | 18/63 [00:13<00:33,  1.34it/s]"
     ]
    },
    {
     "name": "stdout",
     "output_type": "stream",
     "text": [
      "status: 0,4,18: Multiple droplets found (counter): 0 \n",
      "well_found: True, llps_status: False\n",
      "detect a droplet\n",
      "results: 406,346,78\n",
      "status: droplet_found: True\n"
     ]
    },
    {
     "name": "stderr",
     "output_type": "stream",
     "text": [
      " 30%|████████████████████████▋                                                         | 19/63 [00:14<00:32,  1.35it/s]"
     ]
    },
    {
     "name": "stdout",
     "output_type": "stream",
     "text": [
      "status: 0,4,19: Multiple droplets found (counter): 0 \n",
      "well_found: True, llps_status: False\n",
      "detect a droplet\n",
      "results: 402,354,80\n",
      "status: droplet_found: True\n"
     ]
    },
    {
     "name": "stderr",
     "output_type": "stream",
     "text": [
      " 32%|██████████████████████████                                                        | 20/63 [00:15<00:31,  1.35it/s]"
     ]
    },
    {
     "name": "stdout",
     "output_type": "stream",
     "text": [
      "status: 0,4,20: Multiple droplets found (counter): 0 \n",
      "well_found: True, llps_status: False\n",
      "detect a droplet\n",
      "results: 410,350,72\n",
      "status: droplet_found: True\n"
     ]
    },
    {
     "name": "stderr",
     "output_type": "stream",
     "text": [
      " 33%|███████████████████████████▎                                                      | 21/63 [00:16<00:31,  1.34it/s]"
     ]
    },
    {
     "name": "stdout",
     "output_type": "stream",
     "text": [
      "status: 0,4,21: Multiple droplets found (counter): 0 \n",
      "well_found: True, llps_status: False\n",
      "detect a droplet\n",
      "results: 402,354,73\n",
      "status: droplet_found: True\n"
     ]
    },
    {
     "name": "stderr",
     "output_type": "stream",
     "text": [
      " 35%|████████████████████████████▋                                                     | 22/63 [00:16<00:30,  1.35it/s]"
     ]
    },
    {
     "name": "stdout",
     "output_type": "stream",
     "text": [
      "status: 0,4,22: Multiple droplets found (counter): 0 \n",
      "well_found: True, llps_status: False\n",
      "detect a droplet\n",
      "results: 409,356,73\n",
      "status: droplet_found: True\n"
     ]
    },
    {
     "name": "stderr",
     "output_type": "stream",
     "text": [
      " 37%|█████████████████████████████▉                                                    | 23/63 [00:17<00:29,  1.35it/s]"
     ]
    },
    {
     "name": "stdout",
     "output_type": "stream",
     "text": [
      "status: 0,4,23: Multiple droplets found (counter): 0 \n",
      "well_found: True, llps_status: False\n",
      "detect a droplet\n",
      "results: 407,346,69\n",
      "status: droplet_found: True\n"
     ]
    },
    {
     "name": "stderr",
     "output_type": "stream",
     "text": [
      " 38%|███████████████████████████████▏                                                  | 24/63 [00:18<00:28,  1.36it/s]"
     ]
    },
    {
     "name": "stdout",
     "output_type": "stream",
     "text": [
      "status: 0,4,24: Multiple droplets found (counter): 0 \n",
      "well_found: True, llps_status: False\n",
      "detect a droplet\n",
      "results: 401,359,66\n",
      "status: droplet_found: True\n"
     ]
    },
    {
     "name": "stderr",
     "output_type": "stream",
     "text": [
      " 40%|████████████████████████████████▌                                                 | 25/63 [00:19<00:27,  1.36it/s]"
     ]
    },
    {
     "name": "stdout",
     "output_type": "stream",
     "text": [
      "status: 0,4,25: Multiple droplets found (counter): 0 \n",
      "well_found: True, llps_status: False\n",
      "detect a droplet\n",
      "results: 406,358,67\n",
      "status: droplet_found: True\n"
     ]
    },
    {
     "name": "stderr",
     "output_type": "stream",
     "text": [
      " 41%|█████████████████████████████████▊                                                | 26/63 [00:19<00:27,  1.35it/s]"
     ]
    },
    {
     "name": "stdout",
     "output_type": "stream",
     "text": [
      "status: 0,4,26: Multiple droplets found (counter): 0 \n",
      "well_found: True, llps_status: False\n",
      "detect a droplet\n",
      "results: 402,356,62\n",
      "status: droplet_found: True\n"
     ]
    },
    {
     "name": "stderr",
     "output_type": "stream",
     "text": [
      " 43%|███████████████████████████████████▏                                              | 27/63 [00:20<00:26,  1.34it/s]"
     ]
    },
    {
     "name": "stdout",
     "output_type": "stream",
     "text": [
      "status: 0,4,27: Multiple droplets found (counter): 0 \n",
      "well_found: True, llps_status: False\n",
      "detect a droplet\n",
      "results: 409,361,64\n",
      "status: droplet_found: True\n"
     ]
    },
    {
     "name": "stderr",
     "output_type": "stream",
     "text": [
      " 44%|████████████████████████████████████▍                                             | 28/63 [00:21<00:26,  1.34it/s]"
     ]
    },
    {
     "name": "stdout",
     "output_type": "stream",
     "text": [
      "status: 0,4,28: Multiple droplets found (counter): 0 \n",
      "well_found: True, llps_status: False\n",
      "detect a droplet\n",
      "results: 407,353,58\n",
      "status: droplet_found: True\n"
     ]
    },
    {
     "name": "stderr",
     "output_type": "stream",
     "text": [
      " 46%|█████████████████████████████████████▋                                            | 29/63 [00:22<00:25,  1.34it/s]"
     ]
    },
    {
     "name": "stdout",
     "output_type": "stream",
     "text": [
      "status: 0,4,29: Multiple droplets found (counter): 0 \n",
      "well_found: True, llps_status: False\n",
      "detect a droplet\n",
      "results: 412,353,59\n",
      "status: droplet_found: True\n"
     ]
    },
    {
     "name": "stderr",
     "output_type": "stream",
     "text": [
      " 48%|███████████████████████████████████████                                           | 30/63 [00:22<00:24,  1.36it/s]"
     ]
    },
    {
     "name": "stdout",
     "output_type": "stream",
     "text": [
      "status: 0,4,30: Multiple droplets found (counter): 0 \n",
      "well_found: True, llps_status: False\n",
      "detect a droplet\n",
      "results: 407,358,60\n",
      "status: droplet_found: True\n"
     ]
    },
    {
     "name": "stderr",
     "output_type": "stream",
     "text": [
      " 49%|████████████████████████████████████████▎                                         | 31/63 [00:23<00:23,  1.36it/s]"
     ]
    },
    {
     "name": "stdout",
     "output_type": "stream",
     "text": [
      "status: 0,4,31: Multiple droplets found (counter): 0 \n",
      "well_found: True, llps_status: False\n",
      "detect a droplet\n",
      "results: 407,358,58\n",
      "status: droplet_found: True\n"
     ]
    },
    {
     "name": "stderr",
     "output_type": "stream",
     "text": [
      " 51%|█████████████████████████████████████████▋                                        | 32/63 [00:24<00:22,  1.36it/s]"
     ]
    },
    {
     "name": "stdout",
     "output_type": "stream",
     "text": [
      "status: 0,4,32: Multiple droplets found (counter): 0 \n",
      "well_found: True, llps_status: False\n",
      "detect a droplet\n",
      "results: 410,361,53\n",
      "status: droplet_found: True\n"
     ]
    },
    {
     "name": "stderr",
     "output_type": "stream",
     "text": [
      " 52%|██████████████████████████████████████████▉                                       | 33/63 [00:24<00:21,  1.37it/s]"
     ]
    },
    {
     "name": "stdout",
     "output_type": "stream",
     "text": [
      "status: 0,4,33: Multiple droplets found (counter): 0 \n",
      "well_found: True, llps_status: False\n",
      "detect a droplet\n",
      "results: 410,358,51\n",
      "status: droplet_found: True\n"
     ]
    },
    {
     "name": "stderr",
     "output_type": "stream",
     "text": [
      " 54%|████████████████████████████████████████████▎                                     | 34/63 [00:25<00:21,  1.37it/s]"
     ]
    },
    {
     "name": "stdout",
     "output_type": "stream",
     "text": [
      "status: 0,4,34: Multiple droplets found (counter): 0 \n",
      "well_found: True, llps_status: False\n",
      "detect a droplet\n",
      "results: 412,350,51\n",
      "status: droplet_found: True\n"
     ]
    },
    {
     "name": "stderr",
     "output_type": "stream",
     "text": [
      " 56%|█████████████████████████████████████████████▌                                    | 35/63 [00:26<00:20,  1.37it/s]"
     ]
    },
    {
     "name": "stdout",
     "output_type": "stream",
     "text": [
      "status: 0,4,35: Multiple droplets found (counter): 0 \n",
      "well_found: True, llps_status: False\n",
      "detect a droplet\n",
      "results: 409,354,50\n",
      "status: droplet_found: True\n"
     ]
    },
    {
     "name": "stderr",
     "output_type": "stream",
     "text": [
      " 57%|██████████████████████████████████████████████▊                                   | 36/63 [00:27<00:19,  1.37it/s]"
     ]
    },
    {
     "name": "stdout",
     "output_type": "stream",
     "text": [
      "status: 0,4,36: Multiple droplets found (counter): 0 \n",
      "well_found: True, llps_status: False\n",
      "detect a droplet\n",
      "results: 410,358,46\n",
      "status: droplet_found: True\n"
     ]
    },
    {
     "name": "stderr",
     "output_type": "stream",
     "text": [
      " 59%|████████████████████████████████████████████████▏                                 | 37/63 [00:27<00:19,  1.35it/s]"
     ]
    },
    {
     "name": "stdout",
     "output_type": "stream",
     "text": [
      "status: 0,4,37: Multiple droplets found (counter): 0 \n",
      "well_found: True, llps_status: False\n",
      "detect a droplet\n",
      "results: 418,353,48\n",
      "status: droplet_found: True\n"
     ]
    },
    {
     "name": "stderr",
     "output_type": "stream",
     "text": [
      " 60%|█████████████████████████████████████████████████▍                                | 38/63 [00:28<00:18,  1.36it/s]"
     ]
    },
    {
     "name": "stdout",
     "output_type": "stream",
     "text": [
      "status: 0,4,38: Multiple droplets found (counter): 0 \n",
      "well_found: True, llps_status: False\n",
      "detect a droplet\n",
      "results: 415,351,45\n",
      "status: droplet_found: True\n"
     ]
    },
    {
     "name": "stderr",
     "output_type": "stream",
     "text": [
      " 62%|██████████████████████████████████████████████████▊                               | 39/63 [00:29<00:17,  1.37it/s]"
     ]
    },
    {
     "name": "stdout",
     "output_type": "stream",
     "text": [
      "status: 0,4,39: Multiple droplets found (counter): 0 \n",
      "well_found: True, llps_status: False\n",
      "detect a droplet\n",
      "results: 414,359,47\n",
      "status: droplet_found: True\n"
     ]
    },
    {
     "name": "stderr",
     "output_type": "stream",
     "text": [
      " 63%|████████████████████████████████████████████████████                              | 40/63 [00:30<00:16,  1.37it/s]"
     ]
    },
    {
     "name": "stdout",
     "output_type": "stream",
     "text": [
      "status: 0,4,40: Multiple droplets found (counter): 0 \n",
      "well_found: True, llps_status: False\n",
      "detect a droplet\n",
      "results: 414,354,43\n",
      "status: droplet_found: True\n"
     ]
    },
    {
     "name": "stderr",
     "output_type": "stream",
     "text": [
      "100%|██████████████████████████████████████████████████████████████████████████████████| 63/63 [00:30<00:00,  2.04it/s]\n",
      "  0%|                                                                                           | 0/63 [00:00<?, ?it/s]"
     ]
    },
    {
     "name": "stdout",
     "output_type": "stream",
     "text": [
      "LLPS status:  True , @ c: 0 w: 4 t: 40\n",
      "conc: 1 well: 0\n",
      "multiple_droplets: n = 14\n",
      "status: 1,0,0: Multiple droplets found (counter): 0 \n",
      "well_found: True, llps_status: False\n",
      "detect a droplet\n",
      "results: 466,98,64\n",
      "status: droplet_found: True\n"
     ]
    },
    {
     "name": "stderr",
     "output_type": "stream",
     "text": [
      "  2%|█▎                                                                                 | 1/63 [00:00<00:48,  1.28it/s]"
     ]
    },
    {
     "name": "stdout",
     "output_type": "stream",
     "text": [
      "multiple_droplets: n = 9\n",
      "status: 1,0,1: Multiple droplets found (counter): 0 \n",
      "well_found: True, llps_status: False\n",
      "detect a droplet\n",
      "results: 466,102,65\n",
      "status: droplet_found: True\n"
     ]
    },
    {
     "name": "stderr",
     "output_type": "stream",
     "text": [
      "  3%|██▋                                                                                | 2/63 [00:01<00:48,  1.25it/s]"
     ]
    },
    {
     "name": "stdout",
     "output_type": "stream",
     "text": [
      "multiple_droplets: n = 24\n",
      "status: 1,0,2: Multiple droplets found (counter): 0 \n",
      "well_found: True, llps_status: False\n",
      "detect a droplet\n",
      "results: 406,214,77\n",
      "status: droplet_found: True\n"
     ]
    },
    {
     "name": "stderr",
     "output_type": "stream",
     "text": [
      "  5%|███▉                                                                               | 3/63 [00:02<00:48,  1.24it/s]"
     ]
    },
    {
     "name": "stdout",
     "output_type": "stream",
     "text": [
      "multiple_droplets: n = 9\n",
      "status: 1,0,3: Multiple droplets found (counter): 0 \n",
      "well_found: True, llps_status: False\n",
      "detect a droplet\n",
      "results: 0,0,0\n",
      "try again to detect a droplet\n",
      "results after 1-retries: 0,0,0\n",
      "try again to detect a droplet\n",
      "results after 2-retries: 0,0,0\n",
      "try again to detect a droplet\n",
      "results after 3-retries: 0,0,0\n",
      "try again to detect a droplet\n",
      "results after 4-retries: 0,0,0\n",
      "try again to detect a droplet\n",
      "results after 5-retries: 0,0,0\n",
      "status: droplet_found: True\n"
     ]
    },
    {
     "name": "stderr",
     "output_type": "stream",
     "text": [
      "  6%|█████▎                                                                             | 4/63 [00:03<00:49,  1.20it/s]"
     ]
    },
    {
     "name": "stdout",
     "output_type": "stream",
     "text": [
      "multiple_droplets: n = 10\n",
      "status: 1,0,4: Multiple droplets found (counter): 0 \n",
      "well_found: True, llps_status: False\n",
      "detect a droplet\n",
      "results: 460,142,31\n",
      "status: droplet_found: True\n"
     ]
    },
    {
     "name": "stderr",
     "output_type": "stream",
     "text": [
      "100%|██████████████████████████████████████████████████████████████████████████████████| 63/63 [00:04<00:00, 15.48it/s]\n",
      "  0%|                                                                                           | 0/63 [00:00<?, ?it/s]"
     ]
    },
    {
     "name": "stdout",
     "output_type": "stream",
     "text": [
      "LLPS status:  True , @ c: 1 w: 0 t: 4\n",
      "conc: 1 well: 1\n",
      "multiple_droplets: n = 7\n",
      "status: 1,1,0: Multiple droplets found (counter): 0 \n",
      "well_found: True, llps_status: False\n",
      "detect a droplet\n",
      "results: 426,262,109\n",
      "status: droplet_found: True\n"
     ]
    },
    {
     "name": "stderr",
     "output_type": "stream",
     "text": [
      "  2%|█▎                                                                                 | 1/63 [00:00<00:51,  1.21it/s]"
     ]
    },
    {
     "name": "stdout",
     "output_type": "stream",
     "text": [
      "multiple_droplets: n = 6\n",
      "status: 1,1,1: Multiple droplets found (counter): 0 \n",
      "well_found: True, llps_status: False\n",
      "detect a droplet\n",
      "results: 446,270,105\n",
      "status: droplet_found: True\n"
     ]
    },
    {
     "name": "stderr",
     "output_type": "stream",
     "text": [
      "  3%|██▋                                                                                | 2/63 [00:01<00:49,  1.23it/s]"
     ]
    },
    {
     "name": "stdout",
     "output_type": "stream",
     "text": [
      "multiple_droplets: n = 3\n",
      "status: 1,1,2: Multiple droplets found (counter): 0 \n",
      "well_found: True, llps_status: False\n",
      "detect a droplet\n",
      "results: 441,255,110\n",
      "status: droplet_found: True\n"
     ]
    },
    {
     "name": "stderr",
     "output_type": "stream",
     "text": [
      "  5%|███▉                                                                               | 3/63 [00:02<00:49,  1.22it/s]"
     ]
    },
    {
     "name": "stdout",
     "output_type": "stream",
     "text": [
      "multiple_droplets: n = 6\n",
      "status: 1,1,3: Multiple droplets found (counter): 0 \n",
      "well_found: True, llps_status: False\n",
      "detect a droplet\n",
      "results: 441,266,106\n",
      "status: droplet_found: True\n"
     ]
    },
    {
     "name": "stderr",
     "output_type": "stream",
     "text": [
      "  6%|█████▎                                                                             | 4/63 [00:03<00:48,  1.21it/s]"
     ]
    },
    {
     "name": "stdout",
     "output_type": "stream",
     "text": [
      "multiple_droplets: n = 6\n",
      "status: 1,1,4: Multiple droplets found (counter): 0 \n",
      "well_found: True, llps_status: False\n",
      "detect a droplet\n",
      "results: 450,266,101\n",
      "status: droplet_found: True\n"
     ]
    },
    {
     "name": "stderr",
     "output_type": "stream",
     "text": [
      "  8%|██████▌                                                                            | 5/63 [00:04<00:48,  1.21it/s]"
     ]
    },
    {
     "name": "stdout",
     "output_type": "stream",
     "text": [
      "multiple_droplets: n = 5\n",
      "status: 1,1,5: Multiple droplets found (counter): 0 \n",
      "well_found: True, llps_status: False\n",
      "detect a droplet\n",
      "results: 444,260,96\n",
      "status: droplet_found: True\n"
     ]
    },
    {
     "name": "stderr",
     "output_type": "stream",
     "text": [
      " 10%|███████▉                                                                           | 6/63 [00:04<00:46,  1.22it/s]"
     ]
    },
    {
     "name": "stdout",
     "output_type": "stream",
     "text": [
      "status: 1,1,6: Multiple droplets found (counter): 0 \n",
      "well_found: True, llps_status: False\n",
      "detect a droplet\n",
      "results: 447,262,97\n",
      "status: droplet_found: True\n"
     ]
    },
    {
     "name": "stderr",
     "output_type": "stream",
     "text": [
      " 11%|█████████▏                                                                         | 7/63 [00:05<00:44,  1.25it/s]"
     ]
    },
    {
     "name": "stdout",
     "output_type": "stream",
     "text": [
      "status: 1,1,7: Multiple droplets found (counter): 0 \n",
      "well_found: True, llps_status: False\n",
      "detect a droplet\n",
      "results: 452,255,95\n",
      "status: droplet_found: True\n"
     ]
    },
    {
     "name": "stderr",
     "output_type": "stream",
     "text": [
      " 13%|██████████▌                                                                        | 8/63 [00:06<00:42,  1.28it/s]"
     ]
    },
    {
     "name": "stdout",
     "output_type": "stream",
     "text": [
      "status: 1,1,8: Multiple droplets found (counter): 0 \n",
      "well_found: True, llps_status: False\n",
      "detect a droplet\n",
      "results: 457,260,90\n",
      "status: droplet_found: True\n"
     ]
    },
    {
     "name": "stderr",
     "output_type": "stream",
     "text": [
      " 14%|███████████▊                                                                       | 9/63 [00:07<00:41,  1.31it/s]"
     ]
    },
    {
     "name": "stdout",
     "output_type": "stream",
     "text": [
      "status: 1,1,9: Multiple droplets found (counter): 0 \n",
      "well_found: True, llps_status: False\n",
      "detect a droplet\n",
      "results: 450,263,90\n",
      "status: droplet_found: True\n"
     ]
    },
    {
     "name": "stderr",
     "output_type": "stream",
     "text": [
      " 16%|█████████████                                                                     | 10/63 [00:07<00:40,  1.31it/s]"
     ]
    },
    {
     "name": "stdout",
     "output_type": "stream",
     "text": [
      "status: 1,1,10: Multiple droplets found (counter): 0 \n",
      "well_found: True, llps_status: False\n",
      "detect a droplet\n",
      "results: 462,258,88\n",
      "status: droplet_found: True\n"
     ]
    },
    {
     "name": "stderr",
     "output_type": "stream",
     "text": [
      " 17%|██████████████▎                                                                   | 11/63 [00:08<00:39,  1.32it/s]"
     ]
    },
    {
     "name": "stdout",
     "output_type": "stream",
     "text": [
      "status: 1,1,11: Multiple droplets found (counter): 0 \n",
      "well_found: True, llps_status: False\n",
      "detect a droplet\n",
      "results: 455,258,85\n",
      "status: droplet_found: True\n"
     ]
    },
    {
     "name": "stderr",
     "output_type": "stream",
     "text": [
      " 19%|███████████████▌                                                                  | 12/63 [00:09<00:38,  1.33it/s]"
     ]
    },
    {
     "name": "stdout",
     "output_type": "stream",
     "text": [
      "status: 1,1,12: Multiple droplets found (counter): 0 \n",
      "well_found: True, llps_status: False\n",
      "detect a droplet\n",
      "results: 458,262,86\n",
      "status: droplet_found: True\n"
     ]
    },
    {
     "name": "stderr",
     "output_type": "stream",
     "text": [
      " 21%|████████████████▉                                                                 | 13/63 [00:10<00:37,  1.34it/s]"
     ]
    },
    {
     "name": "stdout",
     "output_type": "stream",
     "text": [
      "status: 1,1,13: Multiple droplets found (counter): 0 \n",
      "well_found: True, llps_status: False\n",
      "detect a droplet\n",
      "results: 458,260,78\n",
      "status: droplet_found: True\n"
     ]
    },
    {
     "name": "stderr",
     "output_type": "stream",
     "text": [
      " 22%|██████████████████▏                                                               | 14/63 [00:10<00:36,  1.35it/s]"
     ]
    },
    {
     "name": "stdout",
     "output_type": "stream",
     "text": [
      "status: 1,1,14: Multiple droplets found (counter): 0 \n",
      "well_found: True, llps_status: False\n",
      "detect a droplet\n",
      "results: 458,257,77\n",
      "status: droplet_found: True\n"
     ]
    },
    {
     "name": "stderr",
     "output_type": "stream",
     "text": [
      " 24%|███████████████████▌                                                              | 15/63 [00:11<00:35,  1.35it/s]"
     ]
    },
    {
     "name": "stdout",
     "output_type": "stream",
     "text": [
      "status: 1,1,15: Multiple droplets found (counter): 0 \n",
      "well_found: True, llps_status: False\n",
      "detect a droplet\n",
      "results: 465,257,77\n",
      "status: droplet_found: True\n"
     ]
    },
    {
     "name": "stderr",
     "output_type": "stream",
     "text": [
      " 25%|████████████████████▊                                                             | 16/63 [00:12<00:34,  1.35it/s]"
     ]
    },
    {
     "name": "stdout",
     "output_type": "stream",
     "text": [
      "status: 1,1,16: Multiple droplets found (counter): 0 \n",
      "well_found: True, llps_status: False\n",
      "detect a droplet\n",
      "results: 460,258,74\n",
      "status: droplet_found: True\n"
     ]
    },
    {
     "name": "stderr",
     "output_type": "stream",
     "text": [
      " 27%|██████████████████████▏                                                           | 17/63 [00:13<00:34,  1.35it/s]"
     ]
    },
    {
     "name": "stdout",
     "output_type": "stream",
     "text": [
      "status: 1,1,17: Multiple droplets found (counter): 0 \n",
      "well_found: True, llps_status: False\n",
      "detect a droplet\n",
      "results: 462,266,75\n",
      "status: droplet_found: True\n"
     ]
    },
    {
     "name": "stderr",
     "output_type": "stream",
     "text": [
      " 29%|███████████████████████▍                                                          | 18/63 [00:13<00:33,  1.35it/s]"
     ]
    },
    {
     "name": "stdout",
     "output_type": "stream",
     "text": [
      "status: 1,1,18: Multiple droplets found (counter): 0 \n",
      "well_found: True, llps_status: False\n",
      "detect a droplet\n",
      "results: 466,270,72\n",
      "status: droplet_found: True\n"
     ]
    },
    {
     "name": "stderr",
     "output_type": "stream",
     "text": [
      " 30%|████████████████████████▋                                                         | 19/63 [00:14<00:32,  1.35it/s]"
     ]
    },
    {
     "name": "stdout",
     "output_type": "stream",
     "text": [
      "status: 1,1,19: Multiple droplets found (counter): 0 \n",
      "well_found: True, llps_status: False\n",
      "detect a droplet\n",
      "results: 463,271,70\n",
      "status: droplet_found: True\n"
     ]
    },
    {
     "name": "stderr",
     "output_type": "stream",
     "text": [
      " 32%|██████████████████████████                                                        | 20/63 [00:15<00:31,  1.35it/s]"
     ]
    },
    {
     "name": "stdout",
     "output_type": "stream",
     "text": [
      "status: 1,1,20: Multiple droplets found (counter): 0 \n",
      "well_found: True, llps_status: False\n",
      "detect a droplet\n",
      "results: 470,266,65\n",
      "status: droplet_found: True\n"
     ]
    },
    {
     "name": "stderr",
     "output_type": "stream",
     "text": [
      " 33%|███████████████████████████▎                                                      | 21/63 [00:16<00:30,  1.36it/s]"
     ]
    },
    {
     "name": "stdout",
     "output_type": "stream",
     "text": [
      "status: 1,1,21: Multiple droplets found (counter): 0 \n",
      "well_found: True, llps_status: False\n",
      "detect a droplet\n",
      "results: 465,262,66\n",
      "status: droplet_found: True\n"
     ]
    },
    {
     "name": "stderr",
     "output_type": "stream",
     "text": [
      " 35%|████████████████████████████▋                                                     | 22/63 [00:16<00:30,  1.36it/s]"
     ]
    },
    {
     "name": "stdout",
     "output_type": "stream",
     "text": [
      "status: 1,1,22: Multiple droplets found (counter): 0 \n",
      "well_found: True, llps_status: False\n",
      "detect a droplet\n",
      "results: 470,268,64\n",
      "status: droplet_found: True\n"
     ]
    },
    {
     "name": "stderr",
     "output_type": "stream",
     "text": [
      " 37%|█████████████████████████████▉                                                    | 23/63 [00:17<00:29,  1.37it/s]"
     ]
    },
    {
     "name": "stdout",
     "output_type": "stream",
     "text": [
      "status: 1,1,23: Multiple droplets found (counter): 0 \n",
      "well_found: True, llps_status: False\n",
      "detect a droplet\n",
      "results: 465,266,64\n",
      "status: droplet_found: True\n"
     ]
    },
    {
     "name": "stderr",
     "output_type": "stream",
     "text": [
      " 38%|███████████████████████████████▏                                                  | 24/63 [00:18<00:28,  1.37it/s]"
     ]
    },
    {
     "name": "stdout",
     "output_type": "stream",
     "text": [
      "status: 1,1,24: Multiple droplets found (counter): 0 \n",
      "well_found: True, llps_status: False\n",
      "detect a droplet\n",
      "results: 462,265,60\n",
      "status: droplet_found: True\n"
     ]
    },
    {
     "name": "stderr",
     "output_type": "stream",
     "text": [
      " 40%|████████████████████████████████▌                                                 | 25/63 [00:18<00:27,  1.37it/s]"
     ]
    },
    {
     "name": "stdout",
     "output_type": "stream",
     "text": [
      "status: 1,1,25: Multiple droplets found (counter): 0 \n",
      "well_found: True, llps_status: False\n",
      "detect a droplet\n",
      "results: 466,262,60\n",
      "status: droplet_found: True\n"
     ]
    },
    {
     "name": "stderr",
     "output_type": "stream",
     "text": [
      " 41%|█████████████████████████████████▊                                                | 26/63 [00:19<00:26,  1.37it/s]"
     ]
    },
    {
     "name": "stdout",
     "output_type": "stream",
     "text": [
      "status: 1,1,26: Multiple droplets found (counter): 0 \n",
      "well_found: True, llps_status: False\n",
      "detect a droplet\n",
      "results: 466,262,59\n",
      "status: droplet_found: True\n"
     ]
    },
    {
     "name": "stderr",
     "output_type": "stream",
     "text": [
      " 43%|███████████████████████████████████▏                                              | 27/63 [00:20<00:26,  1.37it/s]"
     ]
    },
    {
     "name": "stdout",
     "output_type": "stream",
     "text": [
      "status: 1,1,27: Multiple droplets found (counter): 0 \n",
      "well_found: True, llps_status: False\n",
      "detect a droplet\n",
      "results: 466,260,54\n",
      "status: droplet_found: True\n"
     ]
    },
    {
     "name": "stderr",
     "output_type": "stream",
     "text": [
      " 44%|████████████████████████████████████▍                                             | 28/63 [00:21<00:25,  1.36it/s]"
     ]
    },
    {
     "name": "stdout",
     "output_type": "stream",
     "text": [
      "status: 1,1,28: Multiple droplets found (counter): 0 \n",
      "well_found: True, llps_status: False\n",
      "detect a droplet\n",
      "results: 466,254,54\n",
      "status: droplet_found: True\n"
     ]
    },
    {
     "name": "stderr",
     "output_type": "stream",
     "text": [
      " 46%|█████████████████████████████████████▋                                            | 29/63 [00:21<00:24,  1.37it/s]"
     ]
    },
    {
     "name": "stdout",
     "output_type": "stream",
     "text": [
      "status: 1,1,29: Multiple droplets found (counter): 0 \n",
      "well_found: True, llps_status: False\n",
      "detect a droplet\n",
      "results: 474,254,54\n",
      "status: droplet_found: True\n"
     ]
    },
    {
     "name": "stderr",
     "output_type": "stream",
     "text": [
      " 48%|███████████████████████████████████████                                           | 30/63 [00:22<00:24,  1.37it/s]"
     ]
    },
    {
     "name": "stdout",
     "output_type": "stream",
     "text": [
      "status: 1,1,30: Multiple droplets found (counter): 0 \n",
      "well_found: True, llps_status: False\n",
      "detect a droplet\n",
      "results: 468,252,48\n",
      "status: droplet_found: True\n"
     ]
    },
    {
     "name": "stderr",
     "output_type": "stream",
     "text": [
      " 49%|████████████████████████████████████████▎                                         | 31/63 [00:23<00:23,  1.38it/s]"
     ]
    },
    {
     "name": "stdout",
     "output_type": "stream",
     "text": [
      "status: 1,1,31: Multiple droplets found (counter): 0 \n",
      "well_found: True, llps_status: False\n",
      "detect a droplet\n",
      "results: 489,246,32\n",
      "status: droplet_found: True\n"
     ]
    },
    {
     "name": "stderr",
     "output_type": "stream",
     "text": [
      "100%|██████████████████████████████████████████████████████████████████████████████████| 63/63 [00:24<00:00,  2.62it/s]\n",
      "  0%|                                                                                           | 0/63 [00:00<?, ?it/s]"
     ]
    },
    {
     "name": "stdout",
     "output_type": "stream",
     "text": [
      "LLPS status:  True , @ c: 1 w: 1 t: 31\n",
      "conc: 1 well: 2\n",
      "multiple_droplets: n = 4\n",
      "status: 1,2,0: Multiple droplets found (counter): 0 \n",
      "well_found: True, llps_status: False\n",
      "detect a droplet\n",
      "results: 0,0,0\n",
      "try again to detect a droplet\n",
      "results after 1-retries: 0,0,0\n",
      "try again to detect a droplet\n",
      "results after 2-retries: 0,0,0\n",
      "try again to detect a droplet\n",
      "results after 3-retries: 0,0,0\n",
      "try again to detect a droplet\n",
      "results after 4-retries: 0,0,0\n",
      "try again to detect a droplet\n",
      "results after 5-retries: 0,0,0\n",
      "status: droplet_found: True\n"
     ]
    },
    {
     "name": "stderr",
     "output_type": "stream",
     "text": [
      "  2%|█▎                                                                                 | 1/63 [00:00<00:51,  1.20it/s]"
     ]
    },
    {
     "name": "stdout",
     "output_type": "stream",
     "text": [
      "multiple_droplets: n = 5\n",
      "status: 1,2,1: Multiple droplets found (counter): 0 \n",
      "well_found: True, llps_status: False\n",
      "detect a droplet\n",
      "results: 0,0,0\n",
      "try again to detect a droplet\n",
      "results after 1-retries: 0,0,0\n",
      "try again to detect a droplet\n",
      "results after 2-retries: 0,0,0\n",
      "try again to detect a droplet\n",
      "results after 3-retries: 0,0,0\n",
      "try again to detect a droplet\n",
      "results after 4-retries: 0,0,0\n",
      "try again to detect a droplet\n",
      "results after 5-retries: 0,0,0\n",
      "status: droplet_found: True\n"
     ]
    },
    {
     "name": "stderr",
     "output_type": "stream",
     "text": [
      "  3%|██▋                                                                                | 2/63 [00:01<00:51,  1.19it/s]"
     ]
    },
    {
     "name": "stdout",
     "output_type": "stream",
     "text": [
      "multiple_droplets: n = 2\n",
      "status: 1,2,2: Multiple droplets found (counter): 0 \n",
      "well_found: True, llps_status: False\n",
      "detect a droplet\n",
      "results: 0,0,0\n",
      "try again to detect a droplet\n",
      "results after 1-retries: 0,0,0\n",
      "try again to detect a droplet\n",
      "results after 2-retries: 0,0,0\n",
      "try again to detect a droplet\n",
      "results after 3-retries: 0,0,0\n",
      "try again to detect a droplet\n",
      "results after 4-retries: 0,0,0\n",
      "try again to detect a droplet\n",
      "results after 5-retries: 0,0,0\n",
      "status: droplet_found: True\n"
     ]
    },
    {
     "name": "stderr",
     "output_type": "stream",
     "text": [
      "  5%|███▉                                                                               | 3/63 [00:02<00:50,  1.20it/s]"
     ]
    },
    {
     "name": "stdout",
     "output_type": "stream",
     "text": [
      "multiple_droplets: n = 0\n",
      "status: 1,2,3: Multiple droplets found (counter): 0 \n",
      "well_found: True, llps_status: False\n",
      "detect a droplet\n",
      "results: 433,311,100\n",
      "status: droplet_found: True\n"
     ]
    },
    {
     "name": "stderr",
     "output_type": "stream",
     "text": [
      "  6%|█████▎                                                                             | 4/63 [00:03<00:48,  1.22it/s]"
     ]
    },
    {
     "name": "stdout",
     "output_type": "stream",
     "text": [
      "multiple_droplets: n = 0\n",
      "status: 1,2,4: Multiple droplets found (counter): 0 \n",
      "well_found: True, llps_status: False\n",
      "detect a droplet\n",
      "results: 450,289,112\n",
      "status: droplet_found: True\n"
     ]
    },
    {
     "name": "stderr",
     "output_type": "stream",
     "text": [
      "  8%|██████▌                                                                            | 5/63 [00:04<00:47,  1.21it/s]"
     ]
    },
    {
     "name": "stdout",
     "output_type": "stream",
     "text": [
      "multiple_droplets: n = 3\n",
      "status: 1,2,5: Multiple droplets found (counter): 0 \n",
      "well_found: True, llps_status: False\n",
      "detect a droplet\n",
      "results: 446,290,108\n",
      "status: droplet_found: True\n"
     ]
    },
    {
     "name": "stderr",
     "output_type": "stream",
     "text": [
      " 10%|███████▉                                                                           | 6/63 [00:04<00:46,  1.22it/s]"
     ]
    },
    {
     "name": "stdout",
     "output_type": "stream",
     "text": [
      "status: 1,2,6: Multiple droplets found (counter): 0 \n",
      "well_found: True, llps_status: False\n",
      "detect a droplet\n",
      "results: 441,308,92\n",
      "status: droplet_found: True\n"
     ]
    },
    {
     "name": "stderr",
     "output_type": "stream",
     "text": [
      " 11%|█████████▏                                                                         | 7/63 [00:05<00:44,  1.26it/s]"
     ]
    },
    {
     "name": "stdout",
     "output_type": "stream",
     "text": [
      "status: 1,2,7: Multiple droplets found (counter): 0 \n",
      "well_found: True, llps_status: False\n",
      "detect a droplet\n",
      "results: 442,306,95\n",
      "status: droplet_found: True\n"
     ]
    },
    {
     "name": "stderr",
     "output_type": "stream",
     "text": [
      " 13%|██████████▌                                                                        | 8/63 [00:06<00:42,  1.28it/s]"
     ]
    },
    {
     "name": "stdout",
     "output_type": "stream",
     "text": [
      "status: 1,2,8: Multiple droplets found (counter): 0 \n",
      "well_found: True, llps_status: False\n",
      "detect a droplet\n",
      "results: 447,303,98\n",
      "status: droplet_found: True\n"
     ]
    },
    {
     "name": "stderr",
     "output_type": "stream",
     "text": [
      " 14%|███████████▊                                                                       | 9/63 [00:07<00:41,  1.30it/s]"
     ]
    },
    {
     "name": "stdout",
     "output_type": "stream",
     "text": [
      "status: 1,2,9: Multiple droplets found (counter): 0 \n",
      "well_found: True, llps_status: False\n",
      "detect a droplet\n",
      "results: 446,305,97\n",
      "status: droplet_found: True\n"
     ]
    },
    {
     "name": "stderr",
     "output_type": "stream",
     "text": [
      " 16%|█████████████                                                                     | 10/63 [00:07<00:40,  1.32it/s]"
     ]
    },
    {
     "name": "stdout",
     "output_type": "stream",
     "text": [
      "status: 1,2,10: Multiple droplets found (counter): 0 \n",
      "well_found: True, llps_status: False\n",
      "detect a droplet\n",
      "results: 450,305,95\n",
      "status: droplet_found: True\n"
     ]
    },
    {
     "name": "stderr",
     "output_type": "stream",
     "text": [
      " 17%|██████████████▎                                                                   | 11/63 [00:08<00:39,  1.32it/s]"
     ]
    },
    {
     "name": "stdout",
     "output_type": "stream",
     "text": [
      "status: 1,2,11: Multiple droplets found (counter): 0 \n",
      "well_found: True, llps_status: False\n",
      "detect a droplet\n",
      "results: 444,311,95\n",
      "status: droplet_found: True\n"
     ]
    },
    {
     "name": "stderr",
     "output_type": "stream",
     "text": [
      " 19%|███████████████▌                                                                  | 12/63 [00:09<00:38,  1.32it/s]"
     ]
    },
    {
     "name": "stdout",
     "output_type": "stream",
     "text": [
      "status: 1,2,12: Multiple droplets found (counter): 0 \n",
      "well_found: True, llps_status: False\n",
      "detect a droplet\n",
      "results: 447,311,90\n",
      "status: droplet_found: True\n"
     ]
    },
    {
     "name": "stderr",
     "output_type": "stream",
     "text": [
      " 21%|████████████████▉                                                                 | 13/63 [00:10<00:37,  1.33it/s]"
     ]
    },
    {
     "name": "stdout",
     "output_type": "stream",
     "text": [
      "status: 1,2,13: Multiple droplets found (counter): 0 \n",
      "well_found: True, llps_status: False\n",
      "detect a droplet\n",
      "results: 447,313,91\n",
      "status: droplet_found: True\n"
     ]
    },
    {
     "name": "stderr",
     "output_type": "stream",
     "text": [
      " 22%|██████████████████▏                                                               | 14/63 [00:10<00:36,  1.34it/s]"
     ]
    },
    {
     "name": "stdout",
     "output_type": "stream",
     "text": [
      "status: 1,2,14: Multiple droplets found (counter): 0 \n",
      "well_found: True, llps_status: False\n",
      "detect a droplet\n",
      "results: 449,305,90\n",
      "status: droplet_found: True\n"
     ]
    },
    {
     "name": "stderr",
     "output_type": "stream",
     "text": [
      " 24%|███████████████████▌                                                              | 15/63 [00:11<00:35,  1.34it/s]"
     ]
    },
    {
     "name": "stdout",
     "output_type": "stream",
     "text": [
      "status: 1,2,15: Multiple droplets found (counter): 0 \n",
      "well_found: True, llps_status: False\n",
      "detect a droplet\n",
      "results: 452,314,87\n",
      "status: droplet_found: True\n"
     ]
    },
    {
     "name": "stderr",
     "output_type": "stream",
     "text": [
      " 25%|████████████████████▊                                                             | 16/63 [00:12<00:34,  1.35it/s]"
     ]
    },
    {
     "name": "stdout",
     "output_type": "stream",
     "text": [
      "status: 1,2,16: Multiple droplets found (counter): 0 \n",
      "well_found: True, llps_status: False\n",
      "detect a droplet\n",
      "results: 446,306,84\n",
      "status: droplet_found: True\n"
     ]
    },
    {
     "name": "stderr",
     "output_type": "stream",
     "text": [
      " 27%|██████████████████████▏                                                           | 17/63 [00:13<00:34,  1.34it/s]"
     ]
    },
    {
     "name": "stdout",
     "output_type": "stream",
     "text": [
      "status: 1,2,17: Multiple droplets found (counter): 0 \n",
      "well_found: True, llps_status: False\n",
      "detect a droplet\n",
      "results: 449,311,84\n",
      "status: droplet_found: True\n"
     ]
    },
    {
     "name": "stderr",
     "output_type": "stream",
     "text": [
      " 29%|███████████████████████▍                                                          | 18/63 [00:13<00:33,  1.34it/s]"
     ]
    },
    {
     "name": "stdout",
     "output_type": "stream",
     "text": [
      "status: 1,2,18: Multiple droplets found (counter): 0 \n",
      "well_found: True, llps_status: False\n",
      "detect a droplet\n",
      "results: 454,313,80\n",
      "status: droplet_found: True\n"
     ]
    },
    {
     "name": "stderr",
     "output_type": "stream",
     "text": [
      " 30%|████████████████████████▋                                                         | 19/63 [00:14<00:32,  1.35it/s]"
     ]
    },
    {
     "name": "stdout",
     "output_type": "stream",
     "text": [
      "status: 1,2,19: Multiple droplets found (counter): 0 \n",
      "well_found: True, llps_status: False\n",
      "detect a droplet\n",
      "results: 452,308,76\n",
      "status: droplet_found: True\n"
     ]
    },
    {
     "name": "stderr",
     "output_type": "stream",
     "text": [
      " 32%|██████████████████████████                                                        | 20/63 [00:15<00:31,  1.35it/s]"
     ]
    },
    {
     "name": "stdout",
     "output_type": "stream",
     "text": [
      "status: 1,2,20: Multiple droplets found (counter): 0 \n",
      "well_found: True, llps_status: False\n",
      "detect a droplet\n",
      "results: 458,306,73\n",
      "status: droplet_found: True\n"
     ]
    },
    {
     "name": "stderr",
     "output_type": "stream",
     "text": [
      " 33%|███████████████████████████▎                                                      | 21/63 [00:16<00:31,  1.35it/s]"
     ]
    },
    {
     "name": "stdout",
     "output_type": "stream",
     "text": [
      "status: 1,2,21: Multiple droplets found (counter): 0 \n",
      "well_found: True, llps_status: False\n",
      "detect a droplet\n",
      "results: 455,305,71\n",
      "status: droplet_found: True\n"
     ]
    },
    {
     "name": "stderr",
     "output_type": "stream",
     "text": [
      " 35%|████████████████████████████▋                                                     | 22/63 [00:16<00:30,  1.34it/s]"
     ]
    },
    {
     "name": "stdout",
     "output_type": "stream",
     "text": [
      "status: 1,2,22: Multiple droplets found (counter): 0 \n",
      "well_found: True, llps_status: False\n",
      "detect a droplet\n",
      "results: 460,305,70\n",
      "status: droplet_found: True\n"
     ]
    },
    {
     "name": "stderr",
     "output_type": "stream",
     "text": [
      " 37%|█████████████████████████████▉                                                    | 23/63 [00:17<00:29,  1.35it/s]"
     ]
    },
    {
     "name": "stdout",
     "output_type": "stream",
     "text": [
      "status: 1,2,23: Multiple droplets found (counter): 0 \n",
      "well_found: True, llps_status: False\n",
      "detect a droplet\n",
      "results: 462,303,68\n",
      "status: droplet_found: True\n"
     ]
    },
    {
     "name": "stderr",
     "output_type": "stream",
     "text": [
      " 38%|███████████████████████████████▏                                                  | 24/63 [00:18<00:28,  1.35it/s]"
     ]
    },
    {
     "name": "stdout",
     "output_type": "stream",
     "text": [
      "status: 1,2,24: Multiple droplets found (counter): 0 \n",
      "well_found: True, llps_status: False\n",
      "detect a droplet\n",
      "results: 462,306,70\n",
      "status: droplet_found: True\n"
     ]
    },
    {
     "name": "stderr",
     "output_type": "stream",
     "text": [
      " 40%|████████████████████████████████▌                                                 | 25/63 [00:19<00:27,  1.36it/s]"
     ]
    },
    {
     "name": "stdout",
     "output_type": "stream",
     "text": [
      "status: 1,2,25: Multiple droplets found (counter): 0 \n",
      "well_found: True, llps_status: False\n",
      "detect a droplet\n",
      "results: 466,302,66\n",
      "status: droplet_found: True\n"
     ]
    },
    {
     "name": "stderr",
     "output_type": "stream",
     "text": [
      " 41%|█████████████████████████████████▊                                                | 26/63 [00:19<00:27,  1.36it/s]"
     ]
    },
    {
     "name": "stdout",
     "output_type": "stream",
     "text": [
      "status: 1,2,26: Multiple droplets found (counter): 0 \n",
      "well_found: True, llps_status: False\n",
      "detect a droplet\n",
      "results: 465,310,65\n",
      "status: droplet_found: True\n"
     ]
    },
    {
     "name": "stderr",
     "output_type": "stream",
     "text": [
      " 43%|███████████████████████████████████▏                                              | 27/63 [00:20<00:26,  1.35it/s]"
     ]
    },
    {
     "name": "stdout",
     "output_type": "stream",
     "text": [
      "status: 1,2,27: Multiple droplets found (counter): 0 \n",
      "well_found: True, llps_status: False\n",
      "detect a droplet\n",
      "results: 470,306,63\n",
      "status: droplet_found: True\n"
     ]
    },
    {
     "name": "stderr",
     "output_type": "stream",
     "text": [
      " 44%|████████████████████████████████████▍                                             | 28/63 [00:21<00:25,  1.35it/s]"
     ]
    },
    {
     "name": "stdout",
     "output_type": "stream",
     "text": [
      "status: 1,2,28: Multiple droplets found (counter): 0 \n",
      "well_found: True, llps_status: False\n",
      "detect a droplet\n",
      "results: 466,306,61\n",
      "status: droplet_found: True\n"
     ]
    },
    {
     "name": "stderr",
     "output_type": "stream",
     "text": [
      " 46%|█████████████████████████████████████▋                                            | 29/63 [00:22<00:25,  1.35it/s]"
     ]
    },
    {
     "name": "stdout",
     "output_type": "stream",
     "text": [
      "status: 1,2,29: Multiple droplets found (counter): 0 \n",
      "well_found: True, llps_status: False\n",
      "detect a droplet\n",
      "results: 478,313,56\n",
      "status: droplet_found: True\n"
     ]
    },
    {
     "name": "stderr",
     "output_type": "stream",
     "text": [
      " 48%|███████████████████████████████████████                                           | 30/63 [00:22<00:24,  1.36it/s]"
     ]
    },
    {
     "name": "stdout",
     "output_type": "stream",
     "text": [
      "status: 1,2,30: Multiple droplets found (counter): 0 \n",
      "well_found: True, llps_status: False\n",
      "detect a droplet\n",
      "results: 466,306,58\n",
      "status: droplet_found: True\n"
     ]
    },
    {
     "name": "stderr",
     "output_type": "stream",
     "text": [
      " 49%|████████████████████████████████████████▎                                         | 31/63 [00:23<00:23,  1.36it/s]"
     ]
    },
    {
     "name": "stdout",
     "output_type": "stream",
     "text": [
      "status: 1,2,31: Multiple droplets found (counter): 0 \n",
      "well_found: True, llps_status: False\n",
      "detect a droplet\n",
      "results: 468,310,55\n",
      "status: droplet_found: True\n"
     ]
    },
    {
     "name": "stderr",
     "output_type": "stream",
     "text": [
      " 51%|█████████████████████████████████████████▋                                        | 32/63 [00:24<00:22,  1.37it/s]"
     ]
    },
    {
     "name": "stdout",
     "output_type": "stream",
     "text": [
      "status: 1,2,32: Multiple droplets found (counter): 0 \n",
      "well_found: True, llps_status: False\n",
      "detect a droplet\n",
      "results: 471,313,52\n",
      "status: droplet_found: True\n"
     ]
    },
    {
     "name": "stderr",
     "output_type": "stream",
     "text": [
      " 52%|██████████████████████████████████████████▉                                       | 33/63 [00:24<00:21,  1.37it/s]"
     ]
    },
    {
     "name": "stdout",
     "output_type": "stream",
     "text": [
      "status: 1,2,33: Multiple droplets found (counter): 0 \n",
      "well_found: True, llps_status: False\n",
      "detect a droplet\n",
      "results: 474,314,52\n",
      "status: droplet_found: True\n"
     ]
    },
    {
     "name": "stderr",
     "output_type": "stream",
     "text": [
      " 54%|████████████████████████████████████████████▎                                     | 34/63 [00:25<00:21,  1.38it/s]"
     ]
    },
    {
     "name": "stdout",
     "output_type": "stream",
     "text": [
      "status: 1,2,34: Multiple droplets found (counter): 0 \n",
      "well_found: True, llps_status: False\n",
      "detect a droplet\n",
      "results: 470,329,37\n",
      "status: droplet_found: True\n"
     ]
    },
    {
     "name": "stderr",
     "output_type": "stream",
     "text": [
      "100%|██████████████████████████████████████████████████████████████████████████████████| 63/63 [00:26<00:00,  2.39it/s]\n",
      "  0%|                                                                                           | 0/63 [00:00<?, ?it/s]"
     ]
    },
    {
     "name": "stdout",
     "output_type": "stream",
     "text": [
      "LLPS status:  True , @ c: 1 w: 2 t: 34\n",
      "conc: 1 well: 3\n",
      "multiple_droplets: n = 1\n",
      "status: 1,3,0: Multiple droplets found (counter): 0 \n",
      "well_found: True, llps_status: False\n",
      "detect a droplet\n",
      "results: 0,0,0\n",
      "try again to detect a droplet\n",
      "results after 1-retries: 0,0,0\n",
      "try again to detect a droplet\n",
      "results after 2-retries: 0,0,0\n",
      "try again to detect a droplet\n",
      "results after 3-retries: 0,0,0\n",
      "try again to detect a droplet\n",
      "results after 4-retries: 0,0,0\n",
      "try again to detect a droplet\n",
      "results after 5-retries: 0,0,0\n",
      "status: droplet_found: True\n"
     ]
    },
    {
     "name": "stderr",
     "output_type": "stream",
     "text": [
      "  2%|█▎                                                                                 | 1/63 [00:00<00:52,  1.18it/s]"
     ]
    },
    {
     "name": "stdout",
     "output_type": "stream",
     "text": [
      "multiple_droplets: n = 5\n",
      "status: 1,3,1: Multiple droplets found (counter): 0 \n",
      "well_found: True, llps_status: False\n",
      "detect a droplet\n",
      "results: 0,0,0\n",
      "try again to detect a droplet\n",
      "results after 1-retries: 0,0,0\n",
      "try again to detect a droplet\n",
      "results after 2-retries: 0,0,0\n",
      "try again to detect a droplet\n",
      "results after 3-retries: 0,0,0\n",
      "try again to detect a droplet\n",
      "results after 4-retries: 0,0,0\n",
      "try again to detect a droplet\n",
      "results after 5-retries: 0,0,0\n",
      "status: droplet_found: True\n"
     ]
    },
    {
     "name": "stderr",
     "output_type": "stream",
     "text": [
      "  3%|██▋                                                                                | 2/63 [00:01<00:51,  1.19it/s]"
     ]
    },
    {
     "name": "stdout",
     "output_type": "stream",
     "text": [
      "multiple_droplets: n = 1\n",
      "status: 1,3,2: Multiple droplets found (counter): 0 \n",
      "well_found: True, llps_status: False\n",
      "detect a droplet\n",
      "results: 0,0,0\n",
      "try again to detect a droplet\n",
      "results after 1-retries: 0,0,0\n",
      "try again to detect a droplet\n",
      "results after 2-retries: 0,0,0\n",
      "try again to detect a droplet\n",
      "results after 3-retries: 0,0,0\n",
      "try again to detect a droplet\n",
      "results after 4-retries: 0,0,0\n",
      "try again to detect a droplet\n",
      "results after 5-retries: 0,0,0\n",
      "status: droplet_found: True\n"
     ]
    },
    {
     "name": "stderr",
     "output_type": "stream",
     "text": [
      "  5%|███▉                                                                               | 3/63 [00:02<00:50,  1.18it/s]"
     ]
    },
    {
     "name": "stdout",
     "output_type": "stream",
     "text": [
      "multiple_droplets: n = 0\n",
      "status: 1,3,3: Multiple droplets found (counter): 0 \n",
      "well_found: True, llps_status: False\n",
      "detect a droplet\n",
      "results: 439,318,112\n",
      "status: droplet_found: True\n"
     ]
    },
    {
     "name": "stderr",
     "output_type": "stream",
     "text": [
      "  6%|█████▎                                                                             | 4/63 [00:03<00:49,  1.20it/s]"
     ]
    },
    {
     "name": "stdout",
     "output_type": "stream",
     "text": [
      "multiple_droplets: n = 0\n",
      "status: 1,3,4: Multiple droplets found (counter): 0 \n",
      "well_found: True, llps_status: False\n",
      "detect a droplet\n",
      "results: 444,316,108\n",
      "status: droplet_found: True\n"
     ]
    },
    {
     "name": "stderr",
     "output_type": "stream",
     "text": [
      "  8%|██████▌                                                                            | 5/63 [00:04<00:48,  1.21it/s]"
     ]
    },
    {
     "name": "stdout",
     "output_type": "stream",
     "text": [
      "multiple_droplets: n = 6\n",
      "status: 1,3,5: Multiple droplets found (counter): 0 \n",
      "well_found: True, llps_status: False\n",
      "detect a droplet\n",
      "results: 446,310,107\n",
      "status: droplet_found: True\n"
     ]
    },
    {
     "name": "stderr",
     "output_type": "stream",
     "text": [
      " 10%|███████▉                                                                           | 6/63 [00:04<00:46,  1.21it/s]"
     ]
    },
    {
     "name": "stdout",
     "output_type": "stream",
     "text": [
      "status: 1,3,6: Multiple droplets found (counter): 0 \n",
      "well_found: True, llps_status: False\n",
      "detect a droplet\n",
      "results: 447,305,106\n",
      "status: droplet_found: True\n"
     ]
    },
    {
     "name": "stderr",
     "output_type": "stream",
     "text": [
      " 11%|█████████▏                                                                         | 7/63 [00:05<00:44,  1.25it/s]"
     ]
    },
    {
     "name": "stdout",
     "output_type": "stream",
     "text": [
      "status: 1,3,7: Multiple droplets found (counter): 0 \n",
      "well_found: True, llps_status: False\n",
      "detect a droplet\n",
      "results: 450,306,105\n",
      "status: droplet_found: True\n"
     ]
    },
    {
     "name": "stderr",
     "output_type": "stream",
     "text": [
      " 13%|██████████▌                                                                        | 8/63 [00:06<00:43,  1.27it/s]"
     ]
    },
    {
     "name": "stdout",
     "output_type": "stream",
     "text": [
      "status: 1,3,8: Multiple droplets found (counter): 0 \n",
      "well_found: True, llps_status: False\n",
      "detect a droplet\n",
      "results: 457,314,101\n",
      "status: droplet_found: True\n"
     ]
    },
    {
     "name": "stderr",
     "output_type": "stream",
     "text": [
      " 14%|███████████▊                                                                       | 9/63 [00:07<00:41,  1.29it/s]"
     ]
    },
    {
     "name": "stdout",
     "output_type": "stream",
     "text": [
      "status: 1,3,9: Multiple droplets found (counter): 0 \n",
      "well_found: True, llps_status: False\n",
      "detect a droplet\n",
      "results: 452,313,100\n",
      "status: droplet_found: True\n"
     ]
    },
    {
     "name": "stderr",
     "output_type": "stream",
     "text": [
      " 16%|█████████████                                                                     | 10/63 [00:08<00:41,  1.29it/s]"
     ]
    },
    {
     "name": "stdout",
     "output_type": "stream",
     "text": [
      "status: 1,3,10: Multiple droplets found (counter): 0 \n",
      "well_found: True, llps_status: False\n",
      "detect a droplet\n",
      "results: 458,313,102\n",
      "status: droplet_found: True\n"
     ]
    },
    {
     "name": "stderr",
     "output_type": "stream",
     "text": [
      " 17%|██████████████▎                                                                   | 11/63 [00:08<00:40,  1.29it/s]"
     ]
    },
    {
     "name": "stdout",
     "output_type": "stream",
     "text": [
      "status: 1,3,11: Multiple droplets found (counter): 0 \n",
      "well_found: True, llps_status: False\n",
      "detect a droplet\n",
      "results: 452,319,96\n",
      "status: droplet_found: True\n"
     ]
    },
    {
     "name": "stderr",
     "output_type": "stream",
     "text": [
      " 19%|███████████████▌                                                                  | 12/63 [00:09<00:39,  1.30it/s]"
     ]
    },
    {
     "name": "stdout",
     "output_type": "stream",
     "text": [
      "status: 1,3,12: Multiple droplets found (counter): 0 \n",
      "well_found: True, llps_status: False\n",
      "detect a droplet\n",
      "results: 457,327,92\n",
      "status: droplet_found: True\n"
     ]
    },
    {
     "name": "stderr",
     "output_type": "stream",
     "text": [
      " 21%|████████████████▉                                                                 | 13/63 [00:10<00:37,  1.32it/s]"
     ]
    },
    {
     "name": "stdout",
     "output_type": "stream",
     "text": [
      "status: 1,3,13: Multiple droplets found (counter): 0 \n",
      "well_found: True, llps_status: False\n",
      "detect a droplet\n",
      "results: 457,326,89\n",
      "status: droplet_found: True\n"
     ]
    },
    {
     "name": "stderr",
     "output_type": "stream",
     "text": [
      " 22%|██████████████████▏                                                               | 14/63 [00:11<00:36,  1.33it/s]"
     ]
    },
    {
     "name": "stdout",
     "output_type": "stream",
     "text": [
      "status: 1,3,14: Multiple droplets found (counter): 0 \n",
      "well_found: True, llps_status: False\n",
      "detect a droplet\n",
      "results: 457,322,87\n",
      "status: droplet_found: True\n"
     ]
    },
    {
     "name": "stderr",
     "output_type": "stream",
     "text": [
      " 24%|███████████████████▌                                                              | 15/63 [00:11<00:35,  1.34it/s]"
     ]
    },
    {
     "name": "stdout",
     "output_type": "stream",
     "text": [
      "status: 1,3,15: Multiple droplets found (counter): 0 \n",
      "well_found: True, llps_status: False\n",
      "detect a droplet\n",
      "results: 458,332,87\n",
      "status: droplet_found: True\n"
     ]
    },
    {
     "name": "stderr",
     "output_type": "stream",
     "text": [
      " 25%|████████████████████▊                                                             | 16/63 [00:12<00:34,  1.34it/s]"
     ]
    },
    {
     "name": "stdout",
     "output_type": "stream",
     "text": [
      "status: 1,3,16: Multiple droplets found (counter): 0 \n",
      "well_found: True, llps_status: False\n",
      "detect a droplet\n",
      "results: 455,330,81\n",
      "status: droplet_found: True\n"
     ]
    },
    {
     "name": "stderr",
     "output_type": "stream",
     "text": [
      " 27%|██████████████████████▏                                                           | 17/63 [00:13<00:34,  1.34it/s]"
     ]
    },
    {
     "name": "stdout",
     "output_type": "stream",
     "text": [
      "status: 1,3,17: Multiple droplets found (counter): 0 \n",
      "well_found: True, llps_status: False\n",
      "detect a droplet\n",
      "results: 458,326,83\n",
      "status: droplet_found: True\n"
     ]
    },
    {
     "name": "stderr",
     "output_type": "stream",
     "text": [
      " 29%|███████████████████████▍                                                          | 18/63 [00:13<00:33,  1.34it/s]"
     ]
    },
    {
     "name": "stdout",
     "output_type": "stream",
     "text": [
      "status: 1,3,18: Multiple droplets found (counter): 0 \n",
      "well_found: True, llps_status: False\n",
      "detect a droplet\n",
      "results: 460,334,82\n",
      "status: droplet_found: True\n"
     ]
    },
    {
     "name": "stderr",
     "output_type": "stream",
     "text": [
      " 30%|████████████████████████▋                                                         | 19/63 [00:14<00:32,  1.35it/s]"
     ]
    },
    {
     "name": "stdout",
     "output_type": "stream",
     "text": [
      "status: 1,3,19: Multiple droplets found (counter): 0 \n",
      "well_found: True, llps_status: False\n",
      "detect a droplet\n",
      "results: 458,335,76\n",
      "status: droplet_found: True\n"
     ]
    },
    {
     "name": "stderr",
     "output_type": "stream",
     "text": [
      " 32%|██████████████████████████                                                        | 20/63 [00:15<00:31,  1.35it/s]"
     ]
    },
    {
     "name": "stdout",
     "output_type": "stream",
     "text": [
      "status: 1,3,20: Multiple droplets found (counter): 0 \n",
      "well_found: True, llps_status: False\n",
      "detect a droplet\n",
      "results: 470,330,78\n",
      "status: droplet_found: True\n"
     ]
    },
    {
     "name": "stderr",
     "output_type": "stream",
     "text": [
      " 33%|███████████████████████████▎                                                      | 21/63 [00:16<00:31,  1.35it/s]"
     ]
    }
   ],
   "source": [
    "# Create all the necessary dicts and lists\n",
    "image_list, image_names, data_well, well, concentration, time_resolution = pypc.create()\n",
    "\n",
    "# Load images & convert to grayscale\n",
    "print(\"Write images into list\")\n",
    "pypc.images_to_list(image_list, image_names, image_folder, extension)\n",
    "print(\"Save them into a dictionary\")\n",
    "pypc.images_to_dict(n_timepoints, number_of_diff_conc, n_wells, image_list, image_names, time_resolution, concentration, well, data_well)\n",
    "\n",
    "# Two possibilities:\n",
    "# use script if you did a pipetting series\n",
    "starting_concentrations = pypc.starting_concentration(initial_conc_sol1, initial_conc_sol2, initial_ratio)\n",
    "# or\n",
    "# write list\n",
    "#starting_concentrations = np.array(([40, 9.5], [200, 7.2], [530, 4], [2800, 1.7]))  # BSA Test set\n",
    "starting_concentrations = np.array(([9.4, 88.6], [21.2, 74.3], [44.8, 45.7], [56.6, 31.4]))\n",
    "\n",
    "print(\"Analyse data...\")\n",
    "well_nr = 0\n",
    "for conc_nr in range(number_of_diff_conc): # for n_rows_per_conc in range(2):\n",
    "    \n",
    "    for n_wells_per_row in range(n_wells):\n",
    "\n",
    "        # Initialise variables, arrays and lists\n",
    "        well_data = np.zeros(shape=(2, 3))\n",
    "        threshed_img = np.zeros(shape=time_resolution[0][0][0]['gray'].shape, dtype=\"uint8\")\n",
    "        areas = np.zeros(shape=(1, 2))\n",
    "        droplet_arr = np.zeros(shape=(2,4))\n",
    "        mean_list = []\n",
    "        llps_status = False\n",
    "        n_0 = 0\n",
    "        multiple_droplets = None\n",
    "        multiple_droplets_count = 0\n",
    "\n",
    "        print(\"conc:\", conc_nr, \"well:\", well_nr)\n",
    "        for time_idx in tqdm(range(n_timepoints)): #n_timepoints\n",
    "            if llps_status is False:\n",
    "                #print(\"---\", \"C:\", conc_nr, \"W:\", well_nr, \" T:\", time_idx, \"---\")\n",
    "\n",
    "                image = time_resolution[time_idx][conc_nr][well_nr]['gray'].copy()\n",
    "\n",
    "                x, y, r, droplet_data, droplet_found, multiple_droplets_count, masked_img, grad2, well_data = pypc.droplet_detection(image, well_data, diameter, llps_status,\n",
    "                                                                                                                                     multiple_droplets_count, droplet_arr, time_idx, conc_nr, well_nr)\n",
    "\n",
    "                time_resolution[time_idx][conc_nr][well_nr]['img'] = masked_img\n",
    "                time_resolution[time_idx][conc_nr][well_nr]['grad2'] = grad2\n",
    "                time_resolution[time_idx][conc_nr][well_nr]['manipulated img'] = grad2 # needed for display\n",
    "                time_resolution[time_idx][conc_nr][well_nr]['droplet data'] = droplet_arr.copy()\n",
    "                time_resolution[time_idx][conc_nr][well_nr]['x'] = x # needed for display\n",
    "                time_resolution[time_idx][conc_nr][well_nr]['y'] = y # needed for display\n",
    "                time_resolution[time_idx][conc_nr][well_nr]['r'] = well_data[0, 2] # needed for display\n",
    "                time_resolution[0][conc_nr][well_nr]['multiple droplets'] = multiple_droplets_count\n",
    "\n",
    "                # save first area\n",
    "                if time_idx == 0:\n",
    "                    areas[0, 0] = droplet_arr[0, 3]\n",
    "\n",
    "                llps_status, areas, mean_list, droplet_arr, squi, cro_squi, n_0 = pypc.detect_LLPS(percental_threshold, droplet_arr, llps_status, image, time_idx, areas, mean_list, droplet_found, n_0)\n",
    "                                                                                                                                                # masked_img\n",
    "                # if noise is too high, ignore droplet\n",
    "                # later: change \"multiplet droplets\" to \"ignore well\"\n",
    "                if n_0 > 400:\n",
    "                    multiple_droplets = True\n",
    "                    time_resolution[0][conc_nr][well_nr]['multiple droplets'] = multiple_droplets\n",
    "\n",
    "\n",
    "                time_resolution[0][conc_nr][well_nr]['areas'] = areas\n",
    "                time_resolution[0][conc_nr][well_nr]['mean list'] = mean_list\n",
    "                time_resolution[time_idx][conc_nr][well_nr]['squ'] = squi\n",
    "                time_resolution[time_idx][conc_nr][well_nr]['cro squ'] = cro_squi\n",
    "\n",
    "                time_resolution[time_idx][conc_nr][well_nr]['droplet array'] = droplet_arr\n",
    "\n",
    "\n",
    "                if llps_status is True:\n",
    "                    print(\"LLPS status: \", llps_status, \", @\", \"c:\", conc_nr, \"w:\", well_nr, \"t:\", time_idx)\n",
    "                    # save img time where llps was found\n",
    "                    time_resolution[0][conc_nr][well_nr]['time idx'] = time_idx\n",
    "                    # save name of image where LLPS was detected\n",
    "                    time_resolution[0][conc_nr][well_nr]['LLPS name'] = time_resolution[time_idx][conc_nr][well_nr]['name']\n",
    "                    # calculate the critical concentration\n",
    "                    llps_conc = pypc.ccrit_calculation(starting_concentrations, areas, conc_nr)\n",
    "                    time_resolution[0][conc_nr][well_nr]['LLPS conc'] = llps_conc\n",
    "\n",
    "        well_nr += 1\n",
    "    well_nr = 0\n",
    "\n",
    "# saves the image names where LLPS was detected and the calculated concentrations to a csv file\n",
    "# .csv gets safed in the image folder\n",
    "#pypc.save_results_to_csv(time_resolution, image_folder, number_of_diff_conc, n_wells, hours_of_experiment,\n",
    "#                       images_per_hour, name_sol1, name_sol2, unit_sol1, unit_sol2)"
   ]
  },
  {
   "cell_type": "markdown",
   "metadata": {},
   "source": [
    "## quality control"
   ]
  },
  {
   "cell_type": "code",
   "execution_count": null,
   "metadata": {},
   "outputs": [],
   "source": [
    "for c in range(0, number_of_diff_conc):\n",
    "    for w in range(0, n_wells):\n",
    "        if 'time idx' in time_resolution[0][c][w]:\n",
    "            print(c, w, \":\", \"time idx:\", time_resolution[0][c][w]['time idx'], time_resolution[0][c][w]['LLPS name'])\n",
    "        #elif time_resolution[0][c][w]['multiple droplets'] > 3:\n",
    "        #    print(c, w, \":\", \"multiple droplets\")\n",
    "        else:\n",
    "            print(c, w, \":\", \"no LLPS\")"
   ]
  },
  {
   "cell_type": "code",
   "execution_count": null,
   "metadata": {},
   "outputs": [],
   "source": [
    "c = 1\n",
    "w = 1\n",
    "t = 31\n",
    "\n",
    "\n",
    "image = time_resolution[t][c][w]['gray'].copy()\n",
    "img  = time_resolution[t][c][w]['img'].copy() # masked img\n",
    "grad  = time_resolution[t][c][w]['grad2'].copy()\n",
    "xd = time_resolution[t][c][w]['droplet data'][0,0]\n",
    "yd = time_resolution[t][c][w]['droplet data'][0,1]\n",
    "rd = time_resolution[t][c][w]['droplet data'][0,2]\n",
    "xw = time_resolution[t][c][w]['x']\n",
    "yw = time_resolution[t][c][w]['y']\n",
    "rw = time_resolution[t][c][w]['r']\n",
    "\n",
    "print(\"meanlist\", time_resolution[0][c][w]['mean list'], \"; mean:\", np.mean(time_resolution[0][c][w]['mean list']))\n",
    "print(\"Areas:\", time_resolution[0][c][w]['areas'])\n",
    "print(\"starting conc:\", starting_concentrations[c])\n",
    "print(\"LLPS conc:\", time_resolution[0][c][w]['LLPS conc'])\n",
    "\n",
    "fig, axs = plt.subplots(nrows=2, ncols=4, figsize=(20, 10))\n",
    "\n",
    "axs[0, 0].imshow(image, cmap=\"gray\")\n",
    "axs[0,0 ].set_title(\"grayscale\")\n",
    "\n",
    "axs[0, 1].imshow(grad, cmap=\"gray\")\n",
    "axs[0, 1].set_title(\"first derv (gradient)\")\n",
    "circle = plt.Circle((xw, yw), rw, color='tab:red', alpha=0.45)\n",
    "axs[0, 1].add_patch(circle)\n",
    "\n",
    "axs[0, 2].imshow(img, cmap=\"gray\")\n",
    "axs[0, 2].set_title(\"masked image\")\n",
    "\n",
    "axs[0, 3].imshow(time_resolution[t][c][w]['grad2'], cmap=\"gray\")\n",
    "axs[0, 3].set_title(\"detected droplet\")\n",
    "circle = plt.Circle((xd, yd), rd, color='tab:blue', alpha=0.25)\n",
    "axs[0, 3].add_patch(circle)\n",
    "\n",
    "axs[1, 0].imshow(time_resolution[t][c][w]['squ'], cmap=\"gray\")\n",
    "axs[1, 0].set_title(\"squircle inside detected droplet\")\n",
    "circle = plt.Circle((xd, yd), rd, color='tab:blue', alpha=0.25)\n",
    "axs[1, 0].add_patch(circle)\n",
    "\n",
    "axs[1, 1].imshow(time_resolution[t][c][w]['cro squ'], cmap=\"gray\")\n",
    "axs[1, 1].set_title(\"cropped squircle\")\n",
    "\n",
    "axs[1, 2].plot(np.arange(len(time_resolution[0][c][w]['mean list'])), time_resolution[0][c][w]['mean list'])\n",
    "axs[1, 2].scatter(t, time_resolution[0][c][w]['mean list'][t], color='red')\n",
    "\n",
    "blurrr = cv2.dilate(time_resolution[t][c][w]['cro squ'], (5,5))\n",
    "print(blurrr.shape[0]*blurrr.shape[0] - np.count_nonzero(blurrr))"
   ]
  },
  {
   "cell_type": "code",
   "execution_count": null,
   "metadata": {},
   "outputs": [],
   "source": [
    "cropped_squircled_pixels = time_resolution[t][c][w]['cro squ']\n",
    "_, thresh = cv2.threshold(cropped_squircled_pixels, 130, 255, cv2.THRESH_BINARY_INV)\n",
    "d = cropped_squircled_pixels.shape[0] * 0.54\n",
    "n = np.sum(thresh) #/ d**2\n",
    "print(n)"
   ]
  },
  {
   "cell_type": "code",
   "execution_count": null,
   "metadata": {},
   "outputs": [],
   "source": [
    "plt.imshow(thresh)"
   ]
  },
  {
   "cell_type": "markdown",
   "metadata": {},
   "source": [
    "## Plot the data"
   ]
  },
  {
   "cell_type": "code",
   "execution_count": null,
   "metadata": {},
   "outputs": [],
   "source": [
    "### figure setup ###\n",
    "\n",
    "\n",
    "fig, (ax1, ax2) = plt.subplots(ncols=2, figsize=(18,8), sharex=False, sharey=False)\n",
    "\n",
    "# set labels\n",
    "ax1.set_xlabel(f\"{name_sol1} [{unit_sol1}]\")\n",
    "ax1.set_ylabel(f\"{name_sol2} [{unit_sol2}]\")\n",
    "ax1.xaxis.label.set_size(15)\n",
    "ax1.yaxis.label.set_size(15)\n",
    "\n",
    "ax2.set_xlabel(ax1.get_xlabel())\n",
    "ax2.xaxis.label.set_size(ax1.xaxis.label.get_size())\n",
    "ax2.set_ylabel(ax1.get_ylabel())\n",
    "ax2.yaxis.label.set_size(ax1.yaxis.label.get_size())\n",
    "\n",
    "# set limits \n",
    "xlim = int(initial_conc_sol1 * 10)\n",
    "ylim = int(initial_conc_sol2 * 40)\n",
    "ax1.set_xlim(0, xlim)\n",
    "ax1.set_ylim(0, ylim)\n",
    "ax2.set_xlim(0, xlim)\n",
    "ax2.set_ylim(0, ylim)\n",
    "\n",
    "# set titles\n",
    "ax1.set_title('individual wells', fontsize=25)\n",
    "ax2.set_title('means', fontsize= 25)\n",
    "\n",
    "# set ticks\n",
    "ax1.tick_params(axis='y', which='major', right=True, color=\"black\", labelcolor=\"black\", direction='out', labelsize=15)\n",
    "ax1.tick_params(axis='y', which='minor', right=True)\n",
    "ax1.tick_params(axis='x', which='major', top=True, labeltop=False, direction='out', labelsize=15)\n",
    "ax1.tick_params(axis='x', which='minor', bottom=True, top=True)\n",
    "ax1.minorticks_on()\n",
    "ax1.xaxis.set_major_locator(MultipleLocator(2000))\n",
    "ax1.xaxis.set_minor_locator(AutoMinorLocator(2))\n",
    "ax1.yaxis.set_major_locator(MultipleLocator(10))\n",
    "ax1.yaxis.set_minor_locator(AutoMinorLocator(2))\n",
    "ax1.xaxis.set_tick_params(which='both', width=2)\n",
    "ax1.yaxis.set_tick_params(which='both', width=2)\n",
    "\n",
    "\n",
    "ax2.tick_params(axis='y', which='major', right=True, color=\"black\", labelcolor=\"black\", direction='out', labelsize=15)\n",
    "ax2.tick_params(axis='y', which='minor', right=True)\n",
    "ax2.tick_params(axis='x', which='major', top=True, labeltop=False, direction='out', labelsize=15)\n",
    "ax2.tick_params(axis='x', which='minor', bottom=True, top=True)\n",
    "ax2.minorticks_on()\n",
    "ax2.xaxis.set_major_locator(MultipleLocator(2000))\n",
    "ax2.xaxis.set_minor_locator(AutoMinorLocator(2))\n",
    "ax2.yaxis.set_major_locator(MultipleLocator(10))\n",
    "ax2.yaxis.set_minor_locator(AutoMinorLocator(2))\n",
    "ax2.xaxis.set_tick_params(which='both', width=2)\n",
    "ax2.yaxis.set_tick_params(which='both', width=2)\n",
    "\n",
    "\n",
    "# plot starting concentrations and the data\n",
    "well_nr = 0\n",
    "\n",
    "for conc_nr in range (number_of_diff_conc):\n",
    "        for n_wells_per_horizontal in range(n_wells):\n",
    "            if time_resolution[0][conc_nr][well_nr]['areas'][0, 1] != 0:\n",
    "            \n",
    "                if conc_nr == 0:\n",
    "                    color = \"blue\"\n",
    "                if conc_nr == 1:\n",
    "                    color = \"orange\"\n",
    "                if conc_nr == 2:\n",
    "                    color = \"gray\"\n",
    "                if conc_nr == 3:\n",
    "                    color = \"yellow\"\n",
    "                if conc_nr == 4:\n",
    "                    color = \"green\"\n",
    "\n",
    "                ax1.scatter(starting_concentrations[conc_nr,0], starting_concentrations[conc_nr,1], s=60, c=color, marker=\"s\", edgecolors=\"black\")\n",
    "                ax1.scatter(time_resolution[0][conc_nr][well_nr]['LLPS conc'][0,0],time_resolution[0][conc_nr][well_nr]['LLPS conc'][0,1],\n",
    "                            s=60, color=color, marker=\"o\", edgecolors=\"black\")\n",
    "                \n",
    "            well_nr += 1\n",
    "        well_nr = 0\n",
    "well_nr = 0\n",
    "\n",
    "\n",
    "# calculate and plot mean\n",
    "mean_sol1 = []\n",
    "mean_sol1 = [0] * 5\n",
    "mean_sol2 = []\n",
    "mean_sol2 = [0] * 5\n",
    "n_llps_wells = []\n",
    "n_llps_wells = [0] * 5\n",
    "\n",
    "for conc_nr in range (number_of_diff_conc):\n",
    "        for n_wells_per_horizontal in range(n_wells):\n",
    "            if time_resolution[0][conc_nr][well_nr]['areas'][0, 1] != 0:           \n",
    "                # calculate mean\n",
    "                mean_sol1[conc_nr] = mean_sol1[conc_nr] + time_resolution[0][conc_nr][well_nr]['LLPS conc'][0,0]\n",
    "                print(conc_nr, well_nr, time_resolution[0][conc_nr][well_nr]['LLPS conc'][0,0])\n",
    "                mean_sol2[conc_nr] = mean_sol2[conc_nr] + time_resolution[0][conc_nr][well_nr]['LLPS conc'][0,1]\n",
    "                n_llps_wells[conc_nr] += 1\n",
    "                \n",
    "            well_nr += 1\n",
    "        well_nr = 0\n",
    "well_nr = 0\n",
    "\n",
    "\n",
    "for conc_nr in range(number_of_diff_conc):\n",
    "    if conc_nr == 0:\n",
    "        color = \"blue\"\n",
    "    if conc_nr == 1:\n",
    "        color = \"orange\"\n",
    "    if conc_nr == 2:\n",
    "        color = \"gray\"\n",
    "    if conc_nr == 3:\n",
    "        color = \"yellow\"\n",
    "    if conc_nr == 4:\n",
    "        color = \"green\"\n",
    "    if n_llps_wells[conc_nr] > 0:\n",
    "        mean_sol1[conc_nr] = mean_sol1[conc_nr]/n_llps_wells[conc_nr]\n",
    "        mean_sol2[conc_nr] = mean_sol2[conc_nr]/n_llps_wells[conc_nr]\n",
    "        m = mean_sol2[conc_nr]/mean_sol1[conc_nr]\n",
    "        \n",
    "    ax2.plot([0, mean_sol1[conc_nr],xlim], [0, mean_sol2[conc_nr], m*xlim], color=color, linestyle='dashed', alpha=0.50)\n",
    "    ax2.scatter(starting_concentrations[conc_nr,0], starting_concentrations[conc_nr,1], s=60, c=color, marker=\"s\", edgecolors=\"black\")\n",
    "\n",
    "    ax2.scatter(mean_sol1[conc_nr],mean_sol2[conc_nr], s=60, color=color,\n",
    "                           marker=\"o\", edgecolors=\"black\")\n",
    " "
   ]
  }
 ],
 "metadata": {
  "kernelspec": {
   "display_name": "PyPhaseChip Kernel",
   "language": "python",
   "name": "pyphasechip"
  },
  "language_info": {
   "codemirror_mode": {
    "name": "ipython",
    "version": 3
   },
   "file_extension": ".py",
   "mimetype": "text/x-python",
   "name": "python",
   "nbconvert_exporter": "python",
   "pygments_lexer": "ipython3",
   "version": "3.8.10"
  }
 },
 "nbformat": 4,
 "nbformat_minor": 4
}
