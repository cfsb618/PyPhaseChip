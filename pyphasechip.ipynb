{
 "cells": [
  {
   "cell_type": "code",
   "execution_count": 1,
   "metadata": {},
   "outputs": [],
   "source": [
    "import cv2\n",
    "import numpy as np \n",
    "import matplotlib.pyplot as plt\n",
    "import PIL.Image\n",
    "from datetime import datetime\n",
    "import PIL.ExifTags\n",
    "from tqdm import tqdm\n",
    "\n",
    "import dateutil.parser\n",
    "import os\n",
    "import re\n",
    "\n",
    "from matplotlib.ticker import (MultipleLocator, FormatStrFormatter,\n",
    "                               AutoMinorLocator, MaxNLocator)\n",
    "\n",
    "from pyphasechip import pyphasechip_logic as pypc\n",
    "from typing import Tuple"
   ]
  },
  {
   "cell_type": "markdown",
   "metadata": {},
   "source": [
    "## Variables"
   ]
  },
  {
   "cell_type": "code",
   "execution_count": 2,
   "metadata": {},
   "outputs": [],
   "source": [
    "# reagent 1 name\n",
    "name_sol1 = \"BSA\"\n",
    "# reagent 1 starting contentration\n",
    "initial_conc_sol1 = 266\n",
    "# unit\n",
    "unit_sol1 = \"µM\"\n",
    "\n",
    "\n",
    "# reagent 2 name\n",
    "name_sol2 = \"PEG\"\n",
    "# reagent 2 starting concentration\n",
    "initial_conc_sol2 = 10\n",
    "# unit\n",
    "unit_sol2 = \"%\"\n",
    "\n",
    "\n",
    "# mixing ratio of the concentrations 0\n",
    "# [1:X]\n",
    "initial_ratio = 7\n",
    "\n",
    "\n",
    "# Number of different concentrations used\n",
    "number_of_diff_conc = 4\n",
    "\n",
    "# Number of wells\n",
    "n_wells = 3\n",
    "\n",
    "###### delete hoe and iph, use this instead\n",
    "# total amount of images\n",
    "total_n_images = 528\n",
    "n_timepoints = int(total_n_images / (number_of_diff_conc * n_wells)) \n",
    "\n",
    "# percental difference of img mean to all previous imgages. \n",
    "# value is similar to a sensivity-value\n",
    "percental_threshold = 200 #55\n",
    "\n",
    "\n",
    "# measured diameter of chamber to calculate radii for circle detection -> min and max [px]\n",
    "# around +-30 of the real value, best measured with something like imageJ/Fiji\n",
    "diameter = 238 \n",
    "minRadiusChamber = int((diameter/2)*0.7)\n",
    "maxRadiusChamber = int((diameter/2)*1.3)\n",
    "\n",
    "\n",
    "# height of chamber [µm]\n",
    "chamber_height = 60\n",
    "\n",
    "# folder where images are stored\n",
    "# best is to use only paths without any whitespace\n",
    "image_folder = r\"C:\\Users\\DigitalStation\\Documents\\Python_Scripts\\DropletDetection\\20220601_BSA_PEG_FC40_subset\"\n",
    "#image_folder = r\"C:\\Users\\DigitalStation\\Documents\\Python_Scripts\\DropletDetection\\Testimages2+\"\n",
    "\n",
    "# datatype of the images\n",
    "extension = \".jpg\"\n",
    "\n",
    "# TODO: use a .yml file for storing these variables"
   ]
  },
  {
   "cell_type": "code",
   "execution_count": null,
   "metadata": {},
   "outputs": [],
   "source": [
    "#THIS IS FOR CELLOBSERVER/ZEISS IMAGES ONLY\n",
    "\n",
    "def get_sorted_file_list(image_folder: str) -> list:\n",
    "    files, times, concs, wells = [], [], [], []\n",
    "    \n",
    "    for file in os.listdir(image_folder):\n",
    "        # 1. More robust, faster, but more specific\n",
    "        c, w, _, t = re.search(\"c(\\d+)_w(\\d+)_s(\\d+)t(\\d+)\", file).groups()\n",
    "\n",
    "        # 2. Other way\n",
    "        #c, w, _, t, *params = re.findall('[0-9]+', file)\n",
    "        \n",
    "        # Generate lists\n",
    "        times.append(int(t))\n",
    "        concs.append(int(c))\n",
    "        wells.append(int(w))\n",
    "        files.append(file)\n",
    "        \n",
    "    return [x for _, _, _, x in sorted(zip(concs, times, wells, files))]\n",
    "    \n",
    "get_sorted_file_list(image_folder)"
   ]
  },
  {
   "cell_type": "markdown",
   "metadata": {},
   "source": [
    "## Programm"
   ]
  },
  {
   "cell_type": "code",
   "execution_count": 3,
   "metadata": {
    "scrolled": true,
    "tags": []
   },
   "outputs": [
    {
     "name": "stdout",
     "output_type": "stream",
     "text": [
      "Write images into list\n"
     ]
    },
    {
     "name": "stderr",
     "output_type": "stream",
     "text": [
      "100%|████████████████████████████████████████████████████████████████████████████████| 528/528 [00:05<00:00, 91.67it/s]\n"
     ]
    },
    {
     "name": "stdout",
     "output_type": "stream",
     "text": [
      "Save them into a dictionary\n"
     ]
    },
    {
     "name": "stderr",
     "output_type": "stream",
     "text": [
      "100%|██████████████████████████████████████████████████████████████████████████████████| 44/44 [00:00<00:00, 50.98it/s]\n",
      "  0%|                                                                                           | 0/44 [00:00<?, ?it/s]"
     ]
    },
    {
     "name": "stdout",
     "output_type": "stream",
     "text": [
      "Analyse data...\n",
      "conc: 0 well: 0\n",
      "multiple_droplets: n = 66\n",
      "status: 0,0,0: Multiple droplets found (counter): 0 \n",
      "well_found: True, llps_status: False\n",
      "detect a droplet\n",
      "results: 400,307,105\n",
      "status: droplet_found: True\n"
     ]
    },
    {
     "name": "stderr",
     "output_type": "stream",
     "text": [
      "  2%|█▉                                                                                 | 1/44 [00:00<00:42,  1.01it/s]"
     ]
    },
    {
     "name": "stdout",
     "output_type": "stream",
     "text": [
      "multiple_droplets: n = 93\n",
      "status: 0,0,1: Multiple droplets found (counter): 0 \n",
      "well_found: True, llps_status: False\n",
      "detect a droplet\n",
      "results: 400,306,102\n",
      "status: droplet_found: True\n"
     ]
    },
    {
     "name": "stderr",
     "output_type": "stream",
     "text": [
      "  5%|███▊                                                                               | 2/44 [00:01<00:41,  1.01it/s]"
     ]
    },
    {
     "name": "stdout",
     "output_type": "stream",
     "text": [
      "multiple_droplets: n = 26\n",
      "status: 0,0,2: Multiple droplets found (counter): 0 \n",
      "well_found: True, llps_status: False\n",
      "detect a droplet\n",
      "results: 398,304,100\n",
      "status: droplet_found: True\n"
     ]
    },
    {
     "name": "stderr",
     "output_type": "stream",
     "text": [
      "  7%|█████▋                                                                             | 3/44 [00:02<00:39,  1.04it/s]"
     ]
    },
    {
     "name": "stdout",
     "output_type": "stream",
     "text": [
      "multiple_droplets: n = 57\n",
      "status: 0,0,3: Multiple droplets found (counter): 0 \n",
      "well_found: True, llps_status: False\n",
      "detect a droplet\n",
      "results: 405,306,99\n",
      "status: droplet_found: True\n"
     ]
    },
    {
     "name": "stderr",
     "output_type": "stream",
     "text": [
      "  9%|███████▌                                                                           | 4/44 [00:03<00:38,  1.04it/s]"
     ]
    },
    {
     "name": "stdout",
     "output_type": "stream",
     "text": [
      "multiple_droplets: n = 138\n",
      "status: 0,0,4: Multiple droplets found (counter): 0 \n",
      "well_found: True, llps_status: False\n",
      "detect a droplet\n",
      "results: 414,304,95\n",
      "status: droplet_found: True\n"
     ]
    },
    {
     "name": "stderr",
     "output_type": "stream",
     "text": [
      " 11%|█████████▍                                                                         | 5/44 [00:04<00:37,  1.04it/s]"
     ]
    },
    {
     "name": "stdout",
     "output_type": "stream",
     "text": [
      "multiple_droplets: n = 157\n",
      "status: 0,0,5: Multiple droplets found (counter): 0 \n",
      "well_found: True, llps_status: False\n",
      "detect a droplet\n",
      "results: 408,303,93\n",
      "status: droplet_found: True\n"
     ]
    },
    {
     "name": "stderr",
     "output_type": "stream",
     "text": [
      " 14%|███████████▎                                                                       | 6/44 [00:05<00:36,  1.05it/s]"
     ]
    },
    {
     "name": "stdout",
     "output_type": "stream",
     "text": [
      "status: 0,0,6: Multiple droplets found (counter): 0 \n",
      "well_found: True, llps_status: False\n",
      "detect a droplet\n",
      "results: 407,312,95\n",
      "status: droplet_found: True\n"
     ]
    },
    {
     "name": "stderr",
     "output_type": "stream",
     "text": [
      " 16%|█████████████▏                                                                     | 7/44 [00:06<00:33,  1.09it/s]"
     ]
    },
    {
     "name": "stdout",
     "output_type": "stream",
     "text": [
      "status: 0,0,7: Multiple droplets found (counter): 0 \n",
      "well_found: True, llps_status: False\n",
      "detect a droplet\n",
      "results: 402,310,91\n",
      "status: droplet_found: True\n"
     ]
    },
    {
     "name": "stderr",
     "output_type": "stream",
     "text": [
      " 18%|███████████████                                                                    | 8/44 [00:07<00:32,  1.12it/s]"
     ]
    },
    {
     "name": "stdout",
     "output_type": "stream",
     "text": [
      "status: 0,0,8: Multiple droplets found (counter): 0 \n",
      "well_found: True, llps_status: False\n",
      "detect a droplet\n",
      "results: 405,309,84\n",
      "status: droplet_found: True\n"
     ]
    },
    {
     "name": "stderr",
     "output_type": "stream",
     "text": [
      " 20%|████████████████▉                                                                  | 9/44 [00:08<00:30,  1.14it/s]"
     ]
    },
    {
     "name": "stdout",
     "output_type": "stream",
     "text": [
      "status: 0,0,9: Multiple droplets found (counter): 0 \n",
      "well_found: True, llps_status: False\n",
      "detect a droplet\n",
      "results: 393,302,79\n",
      "status: droplet_found: True\n"
     ]
    },
    {
     "name": "stderr",
     "output_type": "stream",
     "text": [
      " 23%|██████████████████▋                                                               | 10/44 [00:09<00:29,  1.15it/s]"
     ]
    },
    {
     "name": "stdout",
     "output_type": "stream",
     "text": [
      "status: 0,0,10: Multiple droplets found (counter): 0 \n",
      "well_found: True, llps_status: False\n",
      "detect a droplet\n",
      "results: 390,310,73\n",
      "status: droplet_found: True\n"
     ]
    },
    {
     "name": "stderr",
     "output_type": "stream",
     "text": [
      " 25%|████████████████████▌                                                             | 11/44 [00:10<00:29,  1.14it/s]"
     ]
    },
    {
     "name": "stdout",
     "output_type": "stream",
     "text": [
      "status: 0,0,11: Multiple droplets found (counter): 0 \n",
      "well_found: True, llps_status: False\n",
      "detect a droplet\n",
      "results: 401,309,107\n",
      "status: droplet_found: True\n"
     ]
    },
    {
     "name": "stderr",
     "output_type": "stream",
     "text": [
      " 27%|██████████████████████▎                                                           | 12/44 [00:10<00:27,  1.15it/s]"
     ]
    },
    {
     "name": "stdout",
     "output_type": "stream",
     "text": [
      "status: 0,0,12: Multiple droplets found (counter): 0 \n",
      "well_found: True, llps_status: False\n",
      "detect a droplet\n",
      "results: 398,302,75\n",
      "status: droplet_found: True\n"
     ]
    },
    {
     "name": "stderr",
     "output_type": "stream",
     "text": [
      " 30%|████████████████████████▏                                                         | 13/44 [00:11<00:26,  1.16it/s]"
     ]
    },
    {
     "name": "stdout",
     "output_type": "stream",
     "text": [
      "status: 0,0,13: Multiple droplets found (counter): 0 \n",
      "well_found: True, llps_status: False\n",
      "detect a droplet\n",
      "results: 398,286,65\n",
      "status: droplet_found: True\n"
     ]
    },
    {
     "name": "stderr",
     "output_type": "stream",
     "text": [
      " 32%|██████████████████████████                                                        | 14/44 [00:12<00:25,  1.18it/s]"
     ]
    },
    {
     "name": "stdout",
     "output_type": "stream",
     "text": [
      "status: 0,0,14: Multiple droplets found (counter): 0 \n",
      "well_found: True, llps_status: False\n",
      "detect a droplet\n",
      "results: 335,244,110\n",
      "status: droplet_found: True\n"
     ]
    },
    {
     "name": "stderr",
     "output_type": "stream",
     "text": [
      " 34%|███████████████████████████▉                                                      | 15/44 [00:13<00:24,  1.17it/s]"
     ]
    },
    {
     "name": "stdout",
     "output_type": "stream",
     "text": [
      "status: 0,0,15: Multiple droplets found (counter): 0 \n",
      "well_found: True, llps_status: False\n",
      "detect a droplet\n",
      "results: 398,285,58\n",
      "status: droplet_found: True\n"
     ]
    },
    {
     "name": "stderr",
     "output_type": "stream",
     "text": [
      "100%|██████████████████████████████████████████████████████████████████████████████████| 44/44 [00:14<00:00,  3.08it/s]\n",
      "  0%|                                                                                           | 0/44 [00:00<?, ?it/s]"
     ]
    },
    {
     "name": "stdout",
     "output_type": "stream",
     "text": [
      "LLPS status:  True , @ c: 0 w: 0 t: 15\n",
      "conc: 0 well: 1\n",
      "multiple_droplets: n = 77\n",
      "status: 0,1,0: Multiple droplets found (counter): 0 \n",
      "well_found: True, llps_status: False\n",
      "detect a droplet\n",
      "results: 374,282,94\n",
      "status: droplet_found: True\n"
     ]
    },
    {
     "name": "stderr",
     "output_type": "stream",
     "text": [
      "  2%|█▉                                                                                 | 1/44 [00:00<00:41,  1.04it/s]"
     ]
    },
    {
     "name": "stdout",
     "output_type": "stream",
     "text": [
      "multiple_droplets: n = 276\n",
      "status: 0,1,1: Multiple droplets found (counter): 0 \n",
      "well_found: True, llps_status: False\n",
      "detect a droplet\n",
      "results: 355,253,107\n",
      "status: droplet_found: True\n"
     ]
    },
    {
     "name": "stderr",
     "output_type": "stream",
     "text": [
      "  5%|███▊                                                                               | 2/44 [00:01<00:40,  1.03it/s]"
     ]
    },
    {
     "name": "stdout",
     "output_type": "stream",
     "text": [
      "multiple_droplets: n = 102\n",
      "status: 0,1,2: Multiple droplets found (counter): 0 \n",
      "well_found: True, llps_status: False\n",
      "detect a droplet\n",
      "results: 372,276,87\n",
      "status: droplet_found: True\n"
     ]
    },
    {
     "name": "stderr",
     "output_type": "stream",
     "text": [
      "  7%|█████▋                                                                             | 3/44 [00:02<00:38,  1.06it/s]"
     ]
    },
    {
     "name": "stdout",
     "output_type": "stream",
     "text": [
      "multiple_droplets: n = 355\n",
      "status: 0,1,3: Multiple droplets found (counter): 0 \n",
      "well_found: True, llps_status: False\n",
      "detect a droplet\n",
      "results: 390,295,106\n",
      "status: droplet_found: True\n"
     ]
    },
    {
     "name": "stderr",
     "output_type": "stream",
     "text": [
      "  9%|███████▌                                                                           | 4/44 [00:03<00:37,  1.07it/s]"
     ]
    },
    {
     "name": "stdout",
     "output_type": "stream",
     "text": [
      "multiple_droplets: n = 362\n",
      "status: 0,1,4: Multiple droplets found (counter): 0 \n",
      "well_found: True, llps_status: False\n",
      "detect a droplet\n",
      "results: 380,292,109\n",
      "status: droplet_found: True\n"
     ]
    },
    {
     "name": "stderr",
     "output_type": "stream",
     "text": [
      " 11%|█████████▍                                                                         | 5/44 [00:04<00:37,  1.03it/s]"
     ]
    },
    {
     "name": "stdout",
     "output_type": "stream",
     "text": [
      "multiple_droplets: n = 361\n",
      "status: 0,1,5: Multiple droplets found (counter): 0 \n",
      "well_found: True, llps_status: False\n",
      "detect a droplet\n",
      "results: 383,293,107\n",
      "status: droplet_found: True\n"
     ]
    },
    {
     "name": "stderr",
     "output_type": "stream",
     "text": [
      " 14%|███████████▎                                                                       | 6/44 [00:05<00:36,  1.03it/s]"
     ]
    },
    {
     "name": "stdout",
     "output_type": "stream",
     "text": [
      "status: 0,1,6: Multiple droplets found (counter): 0 \n",
      "well_found: True, llps_status: False\n",
      "detect a droplet\n",
      "results: 360,274,81\n",
      "status: droplet_found: True\n"
     ]
    },
    {
     "name": "stderr",
     "output_type": "stream",
     "text": [
      " 16%|█████████████▏                                                                     | 7/44 [00:06<00:34,  1.09it/s]"
     ]
    },
    {
     "name": "stdout",
     "output_type": "stream",
     "text": [
      "status: 0,1,7: Multiple droplets found (counter): 0 \n",
      "well_found: True, llps_status: False\n",
      "detect a droplet\n",
      "results: 387,292,109\n",
      "status: droplet_found: True\n"
     ]
    },
    {
     "name": "stderr",
     "output_type": "stream",
     "text": [
      " 18%|███████████████                                                                    | 8/44 [00:07<00:32,  1.12it/s]"
     ]
    },
    {
     "name": "stdout",
     "output_type": "stream",
     "text": [
      "status: 0,1,8: Multiple droplets found (counter): 0 \n",
      "well_found: True, llps_status: False\n",
      "detect a droplet\n",
      "results: 359,275,71\n",
      "status: droplet_found: True\n"
     ]
    },
    {
     "name": "stderr",
     "output_type": "stream",
     "text": [
      " 20%|████████████████▉                                                                  | 9/44 [00:08<00:30,  1.15it/s]"
     ]
    },
    {
     "name": "stdout",
     "output_type": "stream",
     "text": [
      "status: 0,1,9: Multiple droplets found (counter): 0 \n",
      "well_found: True, llps_status: False\n",
      "detect a droplet\n",
      "results: 356,275,70\n",
      "status: droplet_found: True\n"
     ]
    },
    {
     "name": "stderr",
     "output_type": "stream",
     "text": [
      " 23%|██████████████████▋                                                               | 10/44 [00:09<00:29,  1.16it/s]"
     ]
    },
    {
     "name": "stdout",
     "output_type": "stream",
     "text": [
      "status: 0,1,10: Multiple droplets found (counter): 0 \n",
      "well_found: True, llps_status: False\n",
      "detect a droplet\n",
      "results: 396,292,71\n",
      "status: droplet_found: True\n"
     ]
    },
    {
     "name": "stderr",
     "output_type": "stream",
     "text": [
      " 25%|████████████████████▌                                                             | 11/44 [00:09<00:28,  1.17it/s]"
     ]
    },
    {
     "name": "stdout",
     "output_type": "stream",
     "text": [
      "status: 0,1,11: Multiple droplets found (counter): 0 \n",
      "well_found: True, llps_status: False\n",
      "detect a droplet\n",
      "results: 393,290,71\n",
      "status: droplet_found: True\n"
     ]
    },
    {
     "name": "stderr",
     "output_type": "stream",
     "text": [
      " 27%|██████████████████████▎                                                           | 12/44 [00:10<00:27,  1.18it/s]"
     ]
    },
    {
     "name": "stdout",
     "output_type": "stream",
     "text": [
      "status: 0,1,12: Multiple droplets found (counter): 0 \n",
      "well_found: True, llps_status: False\n",
      "detect a droplet\n",
      "results: 393,290,66\n",
      "status: droplet_found: True\n"
     ]
    },
    {
     "name": "stderr",
     "output_type": "stream",
     "text": [
      " 30%|████████████████████████▏                                                         | 13/44 [00:11<00:25,  1.21it/s]"
     ]
    },
    {
     "name": "stdout",
     "output_type": "stream",
     "text": [
      "status: 0,1,13: Multiple droplets found (counter): 0 \n",
      "well_found: True, llps_status: False\n",
      "detect a droplet\n",
      "results: 393,290,64\n",
      "status: droplet_found: True\n"
     ]
    },
    {
     "name": "stderr",
     "output_type": "stream",
     "text": [
      " 32%|██████████████████████████                                                        | 14/44 [00:12<00:24,  1.21it/s]"
     ]
    },
    {
     "name": "stdout",
     "output_type": "stream",
     "text": [
      "status: 0,1,14: Multiple droplets found (counter): 0 \n",
      "well_found: True, llps_status: False\n",
      "detect a droplet\n",
      "results: 391,288,61\n",
      "status: droplet_found: True\n"
     ]
    },
    {
     "name": "stderr",
     "output_type": "stream",
     "text": [
      " 34%|███████████████████████████▉                                                      | 15/44 [00:13<00:23,  1.22it/s]"
     ]
    },
    {
     "name": "stdout",
     "output_type": "stream",
     "text": [
      "status: 0,1,15: Multiple droplets found (counter): 0 \n",
      "well_found: True, llps_status: False\n",
      "detect a droplet\n",
      "results: 393,290,59\n",
      "status: droplet_found: True\n"
     ]
    },
    {
     "name": "stderr",
     "output_type": "stream",
     "text": [
      " 36%|█████████████████████████████▊                                                    | 16/44 [00:13<00:22,  1.25it/s]"
     ]
    },
    {
     "name": "stdout",
     "output_type": "stream",
     "text": [
      "status: 0,1,16: Multiple droplets found (counter): 0 \n",
      "well_found: True, llps_status: False\n",
      "detect a droplet\n",
      "results: 396,292,51\n",
      "status: droplet_found: True\n"
     ]
    },
    {
     "name": "stderr",
     "output_type": "stream",
     "text": [
      " 39%|███████████████████████████████▋                                                  | 17/44 [00:14<00:21,  1.26it/s]"
     ]
    },
    {
     "name": "stdout",
     "output_type": "stream",
     "text": [
      "status: 0,1,17: Multiple droplets found (counter): 0 \n",
      "well_found: True, llps_status: False\n",
      "detect a droplet\n",
      "results: 398,293,47\n",
      "status: droplet_found: True\n"
     ]
    },
    {
     "name": "stderr",
     "output_type": "stream",
     "text": [
      " 41%|█████████████████████████████████▌                                                | 18/44 [00:15<00:20,  1.27it/s]"
     ]
    },
    {
     "name": "stdout",
     "output_type": "stream",
     "text": [
      "status: 0,1,18: Multiple droplets found (counter): 0 \n",
      "well_found: True, llps_status: False\n",
      "detect a droplet\n",
      "results: 404,290,44\n",
      "status: droplet_found: True\n"
     ]
    },
    {
     "name": "stderr",
     "output_type": "stream",
     "text": [
      " 43%|███████████████████████████████████▍                                              | 19/44 [00:16<00:19,  1.27it/s]"
     ]
    },
    {
     "name": "stdout",
     "output_type": "stream",
     "text": [
      "status: 0,1,19: Multiple droplets found (counter): 0 \n",
      "well_found: True, llps_status: False\n",
      "detect a droplet\n",
      "results: 402,292,48\n",
      "status: droplet_found: True\n"
     ]
    },
    {
     "name": "stderr",
     "output_type": "stream",
     "text": [
      " 45%|█████████████████████████████████████▎                                            | 20/44 [00:17<00:18,  1.27it/s]"
     ]
    },
    {
     "name": "stdout",
     "output_type": "stream",
     "text": [
      "status: 0,1,20: Multiple droplets found (counter): 0 \n",
      "well_found: True, llps_status: False\n",
      "detect a droplet\n",
      "results: 345,309,69\n",
      "status: droplet_found: True\n"
     ]
    },
    {
     "name": "stderr",
     "output_type": "stream",
     "text": [
      "100%|██████████████████████████████████████████████████████████████████████████████████| 44/44 [00:17<00:00,  2.47it/s]\n",
      "  0%|                                                                                           | 0/44 [00:00<?, ?it/s]"
     ]
    },
    {
     "name": "stdout",
     "output_type": "stream",
     "text": [
      "LLPS status:  True , @ c: 0 w: 1 t: 20\n",
      "conc: 0 well: 2\n",
      "multiple_droplets: n = 259\n",
      "status: 0,2,0: Multiple droplets found (counter): 0 \n",
      "well_found: True, llps_status: False\n",
      "detect a droplet\n",
      "results: 407,302,72\n",
      "status: droplet_found: True\n"
     ]
    },
    {
     "name": "stderr",
     "output_type": "stream",
     "text": [
      "  2%|█▉                                                                                 | 1/44 [00:00<00:38,  1.11it/s]"
     ]
    },
    {
     "name": "stdout",
     "output_type": "stream",
     "text": [
      "multiple_droplets: n = 399\n",
      "status: 0,2,1: Multiple droplets found (counter): 0 \n",
      "well_found: True, llps_status: False\n",
      "detect a droplet\n",
      "results: 358,232,61\n",
      "status: droplet_found: True\n"
     ]
    },
    {
     "name": "stderr",
     "output_type": "stream",
     "text": [
      "  5%|███▊                                                                               | 2/44 [00:01<00:39,  1.07it/s]"
     ]
    },
    {
     "name": "stdout",
     "output_type": "stream",
     "text": [
      "multiple_droplets: n = 488\n",
      "find_multiple_droplets was triggered!\n",
      "status: 0,2,2: Multiple droplets found (counter): 1 \n",
      "well_found: True, llps_status: False\n",
      "detect a droplet\n",
      "results: 382,225,56\n",
      "status: droplet_found: True\n"
     ]
    },
    {
     "name": "stderr",
     "output_type": "stream",
     "text": [
      "  7%|█████▋                                                                             | 3/44 [00:02<00:38,  1.07it/s]"
     ]
    },
    {
     "name": "stdout",
     "output_type": "stream",
     "text": [
      "multiple_droplets: n = 251\n",
      "status: 0,2,3: Multiple droplets found (counter): 1 \n",
      "well_found: True, llps_status: False\n",
      "detect a droplet\n",
      "results: 430,303,55\n",
      "status: droplet_found: True\n"
     ]
    },
    {
     "name": "stderr",
     "output_type": "stream",
     "text": [
      "  9%|███████▌                                                                           | 4/44 [00:03<00:37,  1.07it/s]"
     ]
    },
    {
     "name": "stdout",
     "output_type": "stream",
     "text": [
      "multiple_droplets: n = 181\n",
      "status: 0,2,4: Multiple droplets found (counter): 1 \n",
      "well_found: True, llps_status: False\n",
      "detect a droplet\n",
      "results: 410,328,52\n",
      "status: droplet_found: True\n"
     ]
    },
    {
     "name": "stderr",
     "output_type": "stream",
     "text": [
      "100%|██████████████████████████████████████████████████████████████████████████████████| 44/44 [00:04<00:00,  9.55it/s]\n",
      "  0%|                                                                                           | 0/44 [00:00<?, ?it/s]"
     ]
    },
    {
     "name": "stdout",
     "output_type": "stream",
     "text": [
      "LLPS status:  True , @ c: 0 w: 2 t: 4\n",
      "conc: 1 well: 0\n",
      "multiple_droplets: n = 134\n",
      "status: 1,0,0: Multiple droplets found (counter): 0 \n",
      "well_found: True, llps_status: False\n",
      "detect a droplet\n",
      "results: 405,316,71\n",
      "status: droplet_found: True\n"
     ]
    },
    {
     "name": "stderr",
     "output_type": "stream",
     "text": [
      "  2%|█▉                                                                                 | 1/44 [00:00<00:41,  1.03it/s]"
     ]
    },
    {
     "name": "stdout",
     "output_type": "stream",
     "text": [
      "multiple_droplets: n = 160\n",
      "status: 1,0,1: Multiple droplets found (counter): 0 \n",
      "well_found: True, llps_status: False\n",
      "detect a droplet\n",
      "results: 419,321,65\n",
      "status: droplet_found: True\n"
     ]
    },
    {
     "name": "stderr",
     "output_type": "stream",
     "text": [
      "  5%|███▊                                                                               | 2/44 [00:01<00:39,  1.06it/s]"
     ]
    },
    {
     "name": "stdout",
     "output_type": "stream",
     "text": [
      "multiple_droplets: n = 153\n",
      "status: 1,0,2: Multiple droplets found (counter): 0 \n",
      "well_found: True, llps_status: False\n",
      "detect a droplet\n",
      "results: 358,330,73\n",
      "status: droplet_found: True\n"
     ]
    },
    {
     "name": "stderr",
     "output_type": "stream",
     "text": [
      "  7%|█████▋                                                                             | 3/44 [00:02<00:40,  1.01it/s]"
     ]
    },
    {
     "name": "stdout",
     "output_type": "stream",
     "text": [
      "multiple_droplets: n = 187\n",
      "status: 1,0,3: Multiple droplets found (counter): 0 \n",
      "well_found: True, llps_status: False\n",
      "detect a droplet\n",
      "results: 377,374,55\n",
      "status: droplet_found: True\n"
     ]
    },
    {
     "name": "stderr",
     "output_type": "stream",
     "text": [
      "  9%|███████▌                                                                           | 4/44 [00:03<00:38,  1.03it/s]"
     ]
    },
    {
     "name": "stdout",
     "output_type": "stream",
     "text": [
      "multiple_droplets: n = 177\n",
      "status: 1,0,4: Multiple droplets found (counter): 0 \n",
      "well_found: True, llps_status: False\n",
      "detect a droplet\n",
      "results: 370,324,59\n",
      "status: droplet_found: True\n"
     ]
    },
    {
     "name": "stderr",
     "output_type": "stream",
     "text": [
      " 11%|█████████▍                                                                         | 5/44 [00:04<00:37,  1.04it/s]"
     ]
    },
    {
     "name": "stdout",
     "output_type": "stream",
     "text": [
      "multiple_droplets: n = 256\n",
      "status: 1,0,5: Multiple droplets found (counter): 0 \n",
      "well_found: True, llps_status: False\n",
      "detect a droplet\n",
      "results: 366,346,67\n",
      "status: droplet_found: True\n"
     ]
    },
    {
     "name": "stderr",
     "output_type": "stream",
     "text": [
      " 14%|███████████▎                                                                       | 6/44 [00:05<00:36,  1.04it/s]"
     ]
    },
    {
     "name": "stdout",
     "output_type": "stream",
     "text": [
      "status: 1,0,6: Multiple droplets found (counter): 0 \n",
      "well_found: True, llps_status: False\n",
      "detect a droplet\n",
      "results: 405,298,55\n",
      "status: droplet_found: True\n"
     ]
    },
    {
     "name": "stderr",
     "output_type": "stream",
     "text": [
      " 16%|█████████████▏                                                                     | 7/44 [00:06<00:34,  1.07it/s]"
     ]
    },
    {
     "name": "stdout",
     "output_type": "stream",
     "text": [
      "status: 1,0,7: Multiple droplets found (counter): 0 \n",
      "well_found: True, llps_status: False\n",
      "detect a droplet\n",
      "results: 407,314,60\n",
      "status: droplet_found: True\n"
     ]
    },
    {
     "name": "stderr",
     "output_type": "stream",
     "text": [
      " 18%|███████████████                                                                    | 8/44 [00:07<00:32,  1.10it/s]"
     ]
    },
    {
     "name": "stdout",
     "output_type": "stream",
     "text": [
      "status: 1,0,8: Multiple droplets found (counter): 0 \n",
      "well_found: True, llps_status: False\n",
      "detect a droplet\n",
      "results: 286,384,116\n",
      "status: droplet_found: True\n"
     ]
    },
    {
     "name": "stderr",
     "output_type": "stream",
     "text": [
      " 20%|████████████████▉                                                                  | 9/44 [00:08<00:31,  1.11it/s]"
     ]
    },
    {
     "name": "stdout",
     "output_type": "stream",
     "text": [
      "status: 1,0,9: Multiple droplets found (counter): 0 \n",
      "well_found: True, llps_status: False\n",
      "detect a droplet\n",
      "results: 410,307,40\n",
      "status: droplet_found: True\n"
     ]
    },
    {
     "name": "stderr",
     "output_type": "stream",
     "text": [
      "100%|██████████████████████████████████████████████████████████████████████████████████| 44/44 [00:09<00:00,  4.71it/s]\n",
      "  0%|                                                                                           | 0/44 [00:00<?, ?it/s]"
     ]
    },
    {
     "name": "stdout",
     "output_type": "stream",
     "text": [
      "LLPS status:  True , @ c: 1 w: 0 t: 9\n",
      "conc: 1 well: 1\n",
      "multiple_droplets: n = 198\n",
      "status: 1,1,0: Multiple droplets found (counter): 0 \n",
      "well_found: True, llps_status: False\n",
      "detect a droplet\n",
      "results: 433,314,62\n",
      "status: droplet_found: True\n"
     ]
    },
    {
     "name": "stderr",
     "output_type": "stream",
     "text": [
      "  2%|█▉                                                                                 | 1/44 [00:00<00:40,  1.06it/s]"
     ]
    },
    {
     "name": "stdout",
     "output_type": "stream",
     "text": [
      "multiple_droplets: n = 185\n",
      "status: 1,1,1: Multiple droplets found (counter): 0 \n",
      "well_found: True, llps_status: False\n",
      "detect a droplet\n",
      "results: 366,360,62\n",
      "status: droplet_found: True\n"
     ]
    },
    {
     "name": "stderr",
     "output_type": "stream",
     "text": [
      "  5%|███▊                                                                               | 2/44 [00:01<00:39,  1.07it/s]"
     ]
    },
    {
     "name": "stdout",
     "output_type": "stream",
     "text": [
      "multiple_droplets: n = 239\n",
      "status: 1,1,2: Multiple droplets found (counter): 0 \n",
      "well_found: True, llps_status: False\n",
      "detect a droplet\n",
      "results: 404,332,79\n",
      "status: droplet_found: True\n"
     ]
    },
    {
     "name": "stderr",
     "output_type": "stream",
     "text": [
      "  7%|█████▋                                                                             | 3/44 [00:02<00:39,  1.04it/s]"
     ]
    },
    {
     "name": "stdout",
     "output_type": "stream",
     "text": [
      "multiple_droplets: n = 268\n",
      "status: 1,1,3: Multiple droplets found (counter): 0 \n",
      "well_found: True, llps_status: False\n",
      "detect a droplet\n",
      "results: 419,360,61\n",
      "status: droplet_found: True\n"
     ]
    },
    {
     "name": "stderr",
     "output_type": "stream",
     "text": [
      "  9%|███████▌                                                                           | 4/44 [00:03<00:38,  1.04it/s]"
     ]
    },
    {
     "name": "stdout",
     "output_type": "stream",
     "text": [
      "multiple_droplets: n = 275\n",
      "status: 1,1,4: Multiple droplets found (counter): 0 \n",
      "well_found: True, llps_status: False\n",
      "detect a droplet\n",
      "results: 362,335,49\n",
      "status: droplet_found: True\n"
     ]
    },
    {
     "name": "stderr",
     "output_type": "stream",
     "text": [
      " 11%|█████████▍                                                                         | 5/44 [00:04<00:37,  1.04it/s]"
     ]
    },
    {
     "name": "stdout",
     "output_type": "stream",
     "text": [
      "multiple_droplets: n = 294\n",
      "status: 1,1,5: Multiple droplets found (counter): 0 \n",
      "well_found: True, llps_status: False\n",
      "detect a droplet\n",
      "results: 404,304,39\n",
      "status: droplet_found: True\n"
     ]
    },
    {
     "name": "stderr",
     "output_type": "stream",
     "text": [
      " 14%|███████████▎                                                                       | 6/44 [00:05<00:36,  1.05it/s]"
     ]
    },
    {
     "name": "stdout",
     "output_type": "stream",
     "text": [
      "status: 1,1,6: Multiple droplets found (counter): 0 \n",
      "well_found: True, llps_status: False\n",
      "detect a droplet\n",
      "results: 384,376,43\n",
      "status: droplet_found: True\n"
     ]
    },
    {
     "name": "stderr",
     "output_type": "stream",
     "text": [
      " 16%|█████████████▏                                                                     | 7/44 [00:06<00:33,  1.09it/s]"
     ]
    },
    {
     "name": "stdout",
     "output_type": "stream",
     "text": [
      "status: 1,1,7: Multiple droplets found (counter): 0 \n",
      "well_found: True, llps_status: False\n",
      "detect a droplet\n",
      "results: 377,341,38\n",
      "status: droplet_found: True\n"
     ]
    },
    {
     "name": "stderr",
     "output_type": "stream",
     "text": [
      " 18%|███████████████                                                                    | 8/44 [00:07<00:32,  1.12it/s]"
     ]
    },
    {
     "name": "stdout",
     "output_type": "stream",
     "text": [
      "status: 1,1,8: Multiple droplets found (counter): 0 \n",
      "well_found: True, llps_status: False\n",
      "detect a droplet\n",
      "results: 370,312,53\n",
      "status: droplet_found: True\n"
     ]
    },
    {
     "name": "stderr",
     "output_type": "stream",
     "text": [
      " 20%|████████████████▉                                                                  | 9/44 [00:08<00:30,  1.13it/s]"
     ]
    },
    {
     "name": "stdout",
     "output_type": "stream",
     "text": [
      "status: 1,1,9: Multiple droplets found (counter): 0 \n",
      "well_found: True, llps_status: False\n",
      "detect a droplet\n",
      "results: 404,296,51\n",
      "status: droplet_found: True\n"
     ]
    },
    {
     "name": "stderr",
     "output_type": "stream",
     "text": [
      " 23%|██████████████████▋                                                               | 10/44 [00:09<00:29,  1.15it/s]"
     ]
    },
    {
     "name": "stdout",
     "output_type": "stream",
     "text": [
      "status: 1,1,10: Multiple droplets found (counter): 0 \n",
      "well_found: True, llps_status: False\n",
      "detect a droplet\n",
      "results: 419,317,45\n",
      "status: droplet_found: True\n"
     ]
    },
    {
     "name": "stderr",
     "output_type": "stream",
     "text": [
      " 25%|████████████████████▌                                                             | 11/44 [00:09<00:28,  1.17it/s]"
     ]
    },
    {
     "name": "stdout",
     "output_type": "stream",
     "text": [
      "status: 1,1,11: Multiple droplets found (counter): 0 \n",
      "well_found: True, llps_status: False\n",
      "detect a droplet\n",
      "results: 374,321,34\n",
      "status: droplet_found: True\n"
     ]
    },
    {
     "name": "stderr",
     "output_type": "stream",
     "text": [
      " 27%|██████████████████████▎                                                           | 12/44 [00:10<00:27,  1.17it/s]"
     ]
    },
    {
     "name": "stdout",
     "output_type": "stream",
     "text": [
      "status: 1,1,12: Multiple droplets found (counter): 0 \n",
      "well_found: True, llps_status: False\n",
      "detect a droplet\n",
      "results: 398,307,44\n",
      "status: droplet_found: True\n"
     ]
    },
    {
     "name": "stderr",
     "output_type": "stream",
     "text": [
      " 30%|████████████████████████▏                                                         | 13/44 [00:11<00:25,  1.20it/s]"
     ]
    },
    {
     "name": "stdout",
     "output_type": "stream",
     "text": [
      "status: 1,1,13: Multiple droplets found (counter): 0 \n",
      "well_found: True, llps_status: False\n",
      "detect a droplet\n",
      "results: 428,338,31\n",
      "status: droplet_found: True\n"
     ]
    },
    {
     "name": "stderr",
     "output_type": "stream",
     "text": [
      " 32%|██████████████████████████                                                        | 14/44 [00:12<00:24,  1.21it/s]"
     ]
    },
    {
     "name": "stdout",
     "output_type": "stream",
     "text": [
      "status: 1,1,14: Multiple droplets found (counter): 0 \n",
      "well_found: True, llps_status: False\n",
      "detect a droplet\n",
      "results: 433,330,33\n",
      "status: droplet_found: True\n"
     ]
    },
    {
     "name": "stderr",
     "output_type": "stream",
     "text": [
      " 34%|███████████████████████████▉                                                      | 15/44 [00:13<00:23,  1.22it/s]"
     ]
    },
    {
     "name": "stdout",
     "output_type": "stream",
     "text": [
      "status: 1,1,15: Multiple droplets found (counter): 0 \n",
      "well_found: True, llps_status: False\n",
      "detect a droplet\n",
      "results: 416,334,41\n",
      "status: droplet_found: True\n"
     ]
    },
    {
     "name": "stderr",
     "output_type": "stream",
     "text": [
      " 36%|█████████████████████████████▊                                                    | 16/44 [00:14<00:22,  1.22it/s]"
     ]
    },
    {
     "name": "stdout",
     "output_type": "stream",
     "text": [
      "status: 1,1,16: Multiple droplets found (counter): 0 \n",
      "well_found: True, llps_status: False\n",
      "detect a droplet\n",
      "results: 391,307,28\n",
      "status: droplet_found: True\n"
     ]
    },
    {
     "name": "stderr",
     "output_type": "stream",
     "text": [
      " 39%|███████████████████████████████▋                                                  | 17/44 [00:14<00:21,  1.23it/s]"
     ]
    },
    {
     "name": "stdout",
     "output_type": "stream",
     "text": [
      "status: 1,1,17: Multiple droplets found (counter): 0 \n",
      "well_found: True, llps_status: False\n",
      "detect a droplet\n",
      "results: 415,328,35\n",
      "status: droplet_found: True\n"
     ]
    },
    {
     "name": "stderr",
     "output_type": "stream",
     "text": [
      " 41%|█████████████████████████████████▌                                                | 18/44 [00:15<00:20,  1.24it/s]"
     ]
    },
    {
     "name": "stdout",
     "output_type": "stream",
     "text": [
      "status: 1,1,18: Multiple droplets found (counter): 0 \n",
      "well_found: True, llps_status: False\n",
      "detect a droplet\n",
      "results: 370,355,31\n",
      "status: droplet_found: True\n"
     ]
    },
    {
     "name": "stderr",
     "output_type": "stream",
     "text": [
      " 43%|███████████████████████████████████▍                                              | 19/44 [00:16<00:20,  1.24it/s]"
     ]
    },
    {
     "name": "stdout",
     "output_type": "stream",
     "text": [
      "status: 1,1,19: Multiple droplets found (counter): 0 \n",
      "well_found: True, llps_status: False\n",
      "detect a droplet\n",
      "results: 407,344,105\n",
      "status: droplet_found: True\n"
     ]
    },
    {
     "name": "stderr",
     "output_type": "stream",
     "text": [
      "100%|██████████████████████████████████████████████████████████████████████████████████| 44/44 [00:17<00:00,  2.55it/s]\n",
      "  0%|                                                                                           | 0/44 [00:00<?, ?it/s]"
     ]
    },
    {
     "name": "stdout",
     "output_type": "stream",
     "text": [
      "LLPS status:  True , @ c: 1 w: 1 t: 19\n",
      "conc: 1 well: 2\n",
      "multiple_droplets: n = 354\n",
      "status: 1,2,0: Multiple droplets found (counter): 0 \n",
      "well_found: True, llps_status: False\n",
      "detect a droplet\n",
      "results: 402,349,62\n",
      "status: droplet_found: True\n"
     ]
    },
    {
     "name": "stderr",
     "output_type": "stream",
     "text": [
      "  2%|█▉                                                                                 | 1/44 [00:00<00:40,  1.05it/s]"
     ]
    },
    {
     "name": "stdout",
     "output_type": "stream",
     "text": [
      "multiple_droplets: n = 404\n",
      "find_multiple_droplets was triggered!\n",
      "status: 1,2,1: Multiple droplets found (counter): 1 \n",
      "well_found: True, llps_status: False\n",
      "detect a droplet\n",
      "results: 415,327,47\n",
      "status: droplet_found: True\n"
     ]
    },
    {
     "name": "stderr",
     "output_type": "stream",
     "text": [
      "  5%|███▊                                                                               | 2/44 [00:01<00:39,  1.05it/s]"
     ]
    },
    {
     "name": "stdout",
     "output_type": "stream",
     "text": [
      "multiple_droplets: n = 577\n",
      "find_multiple_droplets was triggered!\n",
      "status: 1,2,2: Multiple droplets found (counter): 2 \n",
      "well_found: True, llps_status: False\n",
      "detect a droplet\n",
      "results: 421,323,45\n",
      "status: droplet_found: True\n"
     ]
    },
    {
     "name": "stderr",
     "output_type": "stream",
     "text": [
      "  7%|█████▋                                                                             | 3/44 [00:02<00:37,  1.08it/s]"
     ]
    },
    {
     "name": "stdout",
     "output_type": "stream",
     "text": [
      "multiple_droplets: n = 569\n",
      "find_multiple_droplets was triggered!\n",
      "status: 1,2,3: Multiple droplets found (counter): 3 \n",
      "well_found: True, llps_status: False\n",
      "detect a droplet\n",
      "results: 370,372,52\n",
      "status: droplet_found: True\n"
     ]
    },
    {
     "name": "stderr",
     "output_type": "stream",
     "text": [
      "  9%|███████▌                                                                           | 4/44 [00:03<00:37,  1.08it/s]"
     ]
    },
    {
     "name": "stdout",
     "output_type": "stream",
     "text": [
      "multiple_droplets: n = 673\n",
      "find_multiple_droplets was triggered!\n",
      "status: 1,2,4: Multiple droplets found (counter): 4 \n",
      "well_found: True, llps_status: False\n",
      "detect a droplet\n",
      "results: 383,348,69\n",
      "status: droplet_found: True\n"
     ]
    },
    {
     "name": "stderr",
     "output_type": "stream",
     "text": [
      " 11%|█████████▍                                                                         | 5/44 [00:04<00:36,  1.06it/s]"
     ]
    },
    {
     "name": "stdout",
     "output_type": "stream",
     "text": [
      "multiple_droplets: n = 661\n",
      "find_multiple_droplets was triggered!\n",
      "status: 1,2,5: Multiple droplets found (counter): 5 \n",
      "well_found: True, llps_status: False\n",
      "detect a droplet\n",
      "results: 412,374,42\n",
      "status: droplet_found: True\n"
     ]
    },
    {
     "name": "stderr",
     "output_type": "stream",
     "text": [
      " 14%|███████████▎                                                                       | 6/44 [00:05<00:35,  1.08it/s]"
     ]
    },
    {
     "name": "stdout",
     "output_type": "stream",
     "text": [
      "status: 1,2,6: Multiple droplets found (counter): 5 \n",
      "well_found: True, llps_status: False\n",
      "detect a droplet\n",
      "results: 402,351,52\n",
      "status: droplet_found: True\n"
     ]
    },
    {
     "name": "stderr",
     "output_type": "stream",
     "text": [
      " 16%|█████████████▏                                                                     | 7/44 [00:06<00:32,  1.12it/s]"
     ]
    },
    {
     "name": "stdout",
     "output_type": "stream",
     "text": [
      "status: 1,2,7: Multiple droplets found (counter): 5 \n",
      "well_found: True, llps_status: False\n",
      "status: droplet_found: False\n"
     ]
    },
    {
     "name": "stderr",
     "output_type": "stream",
     "text": [
      " 18%|███████████████                                                                    | 8/44 [00:07<00:30,  1.19it/s]"
     ]
    },
    {
     "name": "stdout",
     "output_type": "stream",
     "text": [
      "status: 1,2,8: Multiple droplets found (counter): 5 \n",
      "well_found: True, llps_status: False\n",
      "status: droplet_found: False\n"
     ]
    },
    {
     "name": "stderr",
     "output_type": "stream",
     "text": [
      " 20%|████████████████▉                                                                  | 9/44 [00:07<00:28,  1.23it/s]"
     ]
    },
    {
     "name": "stdout",
     "output_type": "stream",
     "text": [
      "status: 1,2,9: Multiple droplets found (counter): 5 \n",
      "well_found: True, llps_status: False\n",
      "status: droplet_found: False\n"
     ]
    },
    {
     "name": "stderr",
     "output_type": "stream",
     "text": [
      " 23%|██████████████████▋                                                               | 10/44 [00:08<00:27,  1.26it/s]"
     ]
    },
    {
     "name": "stdout",
     "output_type": "stream",
     "text": [
      "status: 1,2,10: Multiple droplets found (counter): 5 \n",
      "well_found: True, llps_status: False\n",
      "status: droplet_found: False\n"
     ]
    },
    {
     "name": "stderr",
     "output_type": "stream",
     "text": [
      " 25%|████████████████████▌                                                             | 11/44 [00:09<00:25,  1.28it/s]"
     ]
    },
    {
     "name": "stdout",
     "output_type": "stream",
     "text": [
      "status: 1,2,11: Multiple droplets found (counter): 5 \n",
      "well_found: True, llps_status: False\n",
      "status: droplet_found: False\n"
     ]
    },
    {
     "name": "stderr",
     "output_type": "stream",
     "text": [
      " 27%|██████████████████████▎                                                           | 12/44 [00:10<00:24,  1.30it/s]"
     ]
    },
    {
     "name": "stdout",
     "output_type": "stream",
     "text": [
      "status: 1,2,12: Multiple droplets found (counter): 5 \n",
      "well_found: True, llps_status: False\n",
      "status: droplet_found: False\n"
     ]
    },
    {
     "name": "stderr",
     "output_type": "stream",
     "text": [
      " 30%|████████████████████████▏                                                         | 13/44 [00:10<00:23,  1.30it/s]"
     ]
    },
    {
     "name": "stdout",
     "output_type": "stream",
     "text": [
      "status: 1,2,13: Multiple droplets found (counter): 5 \n",
      "well_found: True, llps_status: False\n",
      "status: droplet_found: False\n"
     ]
    },
    {
     "name": "stderr",
     "output_type": "stream",
     "text": [
      " 32%|██████████████████████████                                                        | 14/44 [00:11<00:22,  1.32it/s]"
     ]
    },
    {
     "name": "stdout",
     "output_type": "stream",
     "text": [
      "status: 1,2,14: Multiple droplets found (counter): 5 \n",
      "well_found: True, llps_status: False\n",
      "status: droplet_found: False\n"
     ]
    },
    {
     "name": "stderr",
     "output_type": "stream",
     "text": [
      " 34%|███████████████████████████▉                                                      | 15/44 [00:12<00:22,  1.32it/s]"
     ]
    },
    {
     "name": "stdout",
     "output_type": "stream",
     "text": [
      "status: 1,2,15: Multiple droplets found (counter): 5 \n",
      "well_found: True, llps_status: False\n",
      "status: droplet_found: False\n"
     ]
    },
    {
     "name": "stderr",
     "output_type": "stream",
     "text": [
      " 36%|█████████████████████████████▊                                                    | 16/44 [00:13<00:21,  1.33it/s]"
     ]
    },
    {
     "name": "stdout",
     "output_type": "stream",
     "text": [
      "status: 1,2,16: Multiple droplets found (counter): 5 \n",
      "well_found: True, llps_status: False\n",
      "status: droplet_found: False\n"
     ]
    },
    {
     "name": "stderr",
     "output_type": "stream",
     "text": [
      " 39%|███████████████████████████████▋                                                  | 17/44 [00:13<00:20,  1.33it/s]"
     ]
    },
    {
     "name": "stdout",
     "output_type": "stream",
     "text": [
      "status: 1,2,17: Multiple droplets found (counter): 5 \n",
      "well_found: True, llps_status: False\n",
      "status: droplet_found: False\n"
     ]
    },
    {
     "name": "stderr",
     "output_type": "stream",
     "text": [
      " 41%|█████████████████████████████████▌                                                | 18/44 [00:14<00:19,  1.33it/s]"
     ]
    },
    {
     "name": "stdout",
     "output_type": "stream",
     "text": [
      "status: 1,2,18: Multiple droplets found (counter): 5 \n",
      "well_found: True, llps_status: False\n",
      "status: droplet_found: False\n"
     ]
    },
    {
     "name": "stderr",
     "output_type": "stream",
     "text": [
      " 43%|███████████████████████████████████▍                                              | 19/44 [00:15<00:18,  1.34it/s]"
     ]
    },
    {
     "name": "stdout",
     "output_type": "stream",
     "text": [
      "status: 1,2,19: Multiple droplets found (counter): 5 \n",
      "well_found: True, llps_status: False\n",
      "status: droplet_found: False\n"
     ]
    },
    {
     "name": "stderr",
     "output_type": "stream",
     "text": [
      " 45%|█████████████████████████████████████▎                                            | 20/44 [00:16<00:17,  1.34it/s]"
     ]
    },
    {
     "name": "stdout",
     "output_type": "stream",
     "text": [
      "status: 1,2,20: Multiple droplets found (counter): 5 \n",
      "well_found: True, llps_status: False\n",
      "status: droplet_found: False\n"
     ]
    },
    {
     "name": "stderr",
     "output_type": "stream",
     "text": [
      " 48%|███████████████████████████████████████▏                                          | 21/44 [00:16<00:17,  1.33it/s]"
     ]
    },
    {
     "name": "stdout",
     "output_type": "stream",
     "text": [
      "status: 1,2,21: Multiple droplets found (counter): 5 \n",
      "well_found: True, llps_status: False\n",
      "status: droplet_found: False\n"
     ]
    },
    {
     "name": "stderr",
     "output_type": "stream",
     "text": [
      " 50%|█████████████████████████████████████████                                         | 22/44 [00:17<00:16,  1.34it/s]"
     ]
    },
    {
     "name": "stdout",
     "output_type": "stream",
     "text": [
      "status: 1,2,22: Multiple droplets found (counter): 5 \n",
      "well_found: True, llps_status: False\n",
      "status: droplet_found: False\n"
     ]
    },
    {
     "name": "stderr",
     "output_type": "stream",
     "text": [
      " 52%|██████████████████████████████████████████▊                                       | 23/44 [00:18<00:15,  1.33it/s]"
     ]
    },
    {
     "name": "stdout",
     "output_type": "stream",
     "text": [
      "status: 1,2,23: Multiple droplets found (counter): 5 \n",
      "well_found: True, llps_status: False\n",
      "status: droplet_found: False\n"
     ]
    },
    {
     "name": "stderr",
     "output_type": "stream",
     "text": [
      " 55%|████████████████████████████████████████████▋                                     | 24/44 [00:19<00:14,  1.34it/s]"
     ]
    },
    {
     "name": "stdout",
     "output_type": "stream",
     "text": [
      "status: 1,2,24: Multiple droplets found (counter): 5 \n",
      "well_found: True, llps_status: False\n",
      "status: droplet_found: False\n"
     ]
    },
    {
     "name": "stderr",
     "output_type": "stream",
     "text": [
      " 57%|██████████████████████████████████████████████▌                                   | 25/44 [00:19<00:14,  1.33it/s]"
     ]
    },
    {
     "name": "stdout",
     "output_type": "stream",
     "text": [
      "status: 1,2,25: Multiple droplets found (counter): 5 \n",
      "well_found: True, llps_status: False\n",
      "status: droplet_found: False\n"
     ]
    },
    {
     "name": "stderr",
     "output_type": "stream",
     "text": [
      " 59%|████████████████████████████████████████████████▍                                 | 26/44 [00:20<00:13,  1.34it/s]"
     ]
    },
    {
     "name": "stdout",
     "output_type": "stream",
     "text": [
      "status: 1,2,26: Multiple droplets found (counter): 5 \n",
      "well_found: True, llps_status: False\n",
      "status: droplet_found: False\n"
     ]
    },
    {
     "name": "stderr",
     "output_type": "stream",
     "text": [
      " 61%|██████████████████████████████████████████████████▎                               | 27/44 [00:21<00:12,  1.34it/s]"
     ]
    },
    {
     "name": "stdout",
     "output_type": "stream",
     "text": [
      "status: 1,2,27: Multiple droplets found (counter): 5 \n",
      "well_found: True, llps_status: False\n",
      "status: droplet_found: False\n"
     ]
    },
    {
     "name": "stderr",
     "output_type": "stream",
     "text": [
      " 64%|████████████████████████████████████████████████████▏                             | 28/44 [00:22<00:11,  1.34it/s]"
     ]
    },
    {
     "name": "stdout",
     "output_type": "stream",
     "text": [
      "status: 1,2,28: Multiple droplets found (counter): 5 \n",
      "well_found: True, llps_status: False\n",
      "status: droplet_found: False\n"
     ]
    },
    {
     "name": "stderr",
     "output_type": "stream",
     "text": [
      " 66%|██████████████████████████████████████████████████████                            | 29/44 [00:22<00:11,  1.35it/s]"
     ]
    },
    {
     "name": "stdout",
     "output_type": "stream",
     "text": [
      "status: 1,2,29: Multiple droplets found (counter): 5 \n",
      "well_found: True, llps_status: False\n",
      "status: droplet_found: False\n"
     ]
    },
    {
     "name": "stderr",
     "output_type": "stream",
     "text": [
      " 68%|███████████████████████████████████████████████████████▉                          | 30/44 [00:23<00:10,  1.35it/s]"
     ]
    },
    {
     "name": "stdout",
     "output_type": "stream",
     "text": [
      "status: 1,2,30: Multiple droplets found (counter): 5 \n",
      "well_found: True, llps_status: False\n",
      "status: droplet_found: False\n"
     ]
    },
    {
     "name": "stderr",
     "output_type": "stream",
     "text": [
      " 70%|█████████████████████████████████████████████████████████▊                        | 31/44 [00:24<00:09,  1.34it/s]"
     ]
    },
    {
     "name": "stdout",
     "output_type": "stream",
     "text": [
      "status: 1,2,31: Multiple droplets found (counter): 5 \n",
      "well_found: True, llps_status: False\n",
      "status: droplet_found: False\n"
     ]
    },
    {
     "name": "stderr",
     "output_type": "stream",
     "text": [
      " 73%|███████████████████████████████████████████████████████████▋                      | 32/44 [00:25<00:09,  1.33it/s]"
     ]
    },
    {
     "name": "stdout",
     "output_type": "stream",
     "text": [
      "status: 1,2,32: Multiple droplets found (counter): 5 \n",
      "well_found: True, llps_status: False\n",
      "status: droplet_found: False\n"
     ]
    },
    {
     "name": "stderr",
     "output_type": "stream",
     "text": [
      " 75%|█████████████████████████████████████████████████████████████▌                    | 33/44 [00:25<00:08,  1.33it/s]"
     ]
    },
    {
     "name": "stdout",
     "output_type": "stream",
     "text": [
      "status: 1,2,33: Multiple droplets found (counter): 5 \n",
      "well_found: True, llps_status: False\n",
      "status: droplet_found: False\n"
     ]
    },
    {
     "name": "stderr",
     "output_type": "stream",
     "text": [
      " 77%|███████████████████████████████████████████████████████████████▎                  | 34/44 [00:26<00:07,  1.33it/s]"
     ]
    },
    {
     "name": "stdout",
     "output_type": "stream",
     "text": [
      "status: 1,2,34: Multiple droplets found (counter): 5 \n",
      "well_found: True, llps_status: False\n",
      "status: droplet_found: False\n"
     ]
    },
    {
     "name": "stderr",
     "output_type": "stream",
     "text": [
      " 80%|█████████████████████████████████████████████████████████████████▏                | 35/44 [00:27<00:06,  1.34it/s]"
     ]
    },
    {
     "name": "stdout",
     "output_type": "stream",
     "text": [
      "status: 1,2,35: Multiple droplets found (counter): 5 \n",
      "well_found: True, llps_status: False\n",
      "status: droplet_found: False\n"
     ]
    },
    {
     "name": "stderr",
     "output_type": "stream",
     "text": [
      " 82%|███████████████████████████████████████████████████████████████████               | 36/44 [00:28<00:05,  1.34it/s]"
     ]
    },
    {
     "name": "stdout",
     "output_type": "stream",
     "text": [
      "status: 1,2,36: Multiple droplets found (counter): 5 \n",
      "well_found: True, llps_status: False\n",
      "status: droplet_found: False\n"
     ]
    },
    {
     "name": "stderr",
     "output_type": "stream",
     "text": [
      " 84%|████████████████████████████████████████████████████████████████████▉             | 37/44 [00:28<00:05,  1.34it/s]"
     ]
    },
    {
     "name": "stdout",
     "output_type": "stream",
     "text": [
      "status: 1,2,37: Multiple droplets found (counter): 5 \n",
      "well_found: True, llps_status: False\n",
      "status: droplet_found: False\n"
     ]
    },
    {
     "name": "stderr",
     "output_type": "stream",
     "text": [
      " 86%|██████████████████████████████████████████████████████████████████████▊           | 38/44 [00:29<00:04,  1.33it/s]"
     ]
    },
    {
     "name": "stdout",
     "output_type": "stream",
     "text": [
      "status: 1,2,38: Multiple droplets found (counter): 5 \n",
      "well_found: True, llps_status: False\n",
      "status: droplet_found: False\n"
     ]
    },
    {
     "name": "stderr",
     "output_type": "stream",
     "text": [
      " 89%|████████████████████████████████████████████████████████████████████████▋         | 39/44 [00:30<00:03,  1.34it/s]"
     ]
    },
    {
     "name": "stdout",
     "output_type": "stream",
     "text": [
      "status: 1,2,39: Multiple droplets found (counter): 5 \n",
      "well_found: True, llps_status: False\n",
      "status: droplet_found: False\n"
     ]
    },
    {
     "name": "stderr",
     "output_type": "stream",
     "text": [
      " 91%|██████████████████████████████████████████████████████████████████████████▌       | 40/44 [00:31<00:03,  1.33it/s]"
     ]
    },
    {
     "name": "stdout",
     "output_type": "stream",
     "text": [
      "status: 1,2,40: Multiple droplets found (counter): 5 \n",
      "well_found: True, llps_status: False\n",
      "status: droplet_found: False\n"
     ]
    },
    {
     "name": "stderr",
     "output_type": "stream",
     "text": [
      " 93%|████████████████████████████████████████████████████████████████████████████▍     | 41/44 [00:31<00:02,  1.34it/s]"
     ]
    },
    {
     "name": "stdout",
     "output_type": "stream",
     "text": [
      "status: 1,2,41: Multiple droplets found (counter): 5 \n",
      "well_found: True, llps_status: False\n",
      "status: droplet_found: False\n"
     ]
    },
    {
     "name": "stderr",
     "output_type": "stream",
     "text": [
      " 95%|██████████████████████████████████████████████████████████████████████████████▎   | 42/44 [00:32<00:01,  1.35it/s]"
     ]
    },
    {
     "name": "stdout",
     "output_type": "stream",
     "text": [
      "status: 1,2,42: Multiple droplets found (counter): 5 \n",
      "well_found: True, llps_status: False\n",
      "status: droplet_found: False\n"
     ]
    },
    {
     "name": "stderr",
     "output_type": "stream",
     "text": [
      " 98%|████████████████████████████████████████████████████████████████████████████████▏ | 43/44 [00:33<00:00,  1.35it/s]"
     ]
    },
    {
     "name": "stdout",
     "output_type": "stream",
     "text": [
      "status: 1,2,43: Multiple droplets found (counter): 5 \n",
      "well_found: True, llps_status: False\n",
      "status: droplet_found: False\n"
     ]
    },
    {
     "name": "stderr",
     "output_type": "stream",
     "text": [
      "100%|██████████████████████████████████████████████████████████████████████████████████| 44/44 [00:34<00:00,  1.29it/s]\n",
      "  0%|                                                                                           | 0/44 [00:00<?, ?it/s]"
     ]
    },
    {
     "name": "stdout",
     "output_type": "stream",
     "text": [
      "conc: 2 well: 0\n",
      "multiple_droplets: n = 151\n",
      "status: 2,0,0: Multiple droplets found (counter): 0 \n",
      "well_found: True, llps_status: False\n",
      "detect a droplet\n",
      "results: 379,377,107\n",
      "status: droplet_found: True\n"
     ]
    },
    {
     "name": "stderr",
     "output_type": "stream",
     "text": [
      "  2%|█▉                                                                                 | 1/44 [00:01<00:43,  1.01s/it]"
     ]
    },
    {
     "name": "stdout",
     "output_type": "stream",
     "text": [
      "multiple_droplets: n = 162\n",
      "status: 2,0,1: Multiple droplets found (counter): 0 \n",
      "well_found: True, llps_status: False\n",
      "detect a droplet\n",
      "results: 374,368,79\n",
      "status: droplet_found: True\n"
     ]
    },
    {
     "name": "stderr",
     "output_type": "stream",
     "text": [
      "  5%|███▊                                                                               | 2/44 [00:01<00:40,  1.03it/s]"
     ]
    },
    {
     "name": "stdout",
     "output_type": "stream",
     "text": [
      "multiple_droplets: n = 133\n",
      "status: 2,0,2: Multiple droplets found (counter): 0 \n",
      "well_found: True, llps_status: False\n",
      "detect a droplet\n",
      "results: 386,382,108\n",
      "status: droplet_found: True\n"
     ]
    },
    {
     "name": "stderr",
     "output_type": "stream",
     "text": [
      "  7%|█████▋                                                                             | 3/44 [00:02<00:40,  1.02it/s]"
     ]
    },
    {
     "name": "stdout",
     "output_type": "stream",
     "text": [
      "multiple_droplets: n = 189\n",
      "status: 2,0,3: Multiple droplets found (counter): 0 \n",
      "well_found: True, llps_status: False\n",
      "detect a droplet\n",
      "results: 388,382,108\n",
      "status: droplet_found: True\n"
     ]
    },
    {
     "name": "stderr",
     "output_type": "stream",
     "text": [
      "  9%|███████▌                                                                           | 4/44 [00:03<00:38,  1.03it/s]"
     ]
    },
    {
     "name": "stdout",
     "output_type": "stream",
     "text": [
      "multiple_droplets: n = 255\n",
      "status: 2,0,4: Multiple droplets found (counter): 0 \n",
      "well_found: True, llps_status: False\n",
      "detect a droplet\n",
      "results: 374,384,91\n",
      "status: droplet_found: True\n"
     ]
    },
    {
     "name": "stderr",
     "output_type": "stream",
     "text": [
      "100%|██████████████████████████████████████████████████████████████████████████████████| 44/44 [00:04<00:00,  9.07it/s]\n",
      "  0%|                                                                                           | 0/44 [00:00<?, ?it/s]"
     ]
    },
    {
     "name": "stdout",
     "output_type": "stream",
     "text": [
      "LLPS status:  True , @ c: 2 w: 0 t: 4\n",
      "conc: 2 well: 1\n",
      "multiple_droplets: n = 32\n",
      "status: 2,1,0: Multiple droplets found (counter): 0 \n",
      "well_found: True, llps_status: False\n",
      "detect a droplet\n",
      "results: 400,388,106\n",
      "status: droplet_found: True\n"
     ]
    },
    {
     "name": "stderr",
     "output_type": "stream",
     "text": [
      "  2%|█▉                                                                                 | 1/44 [00:00<00:38,  1.11it/s]"
     ]
    },
    {
     "name": "stdout",
     "output_type": "stream",
     "text": [
      "multiple_droplets: n = 13\n",
      "status: 2,1,1: Multiple droplets found (counter): 0 \n",
      "well_found: True, llps_status: False\n",
      "detect a droplet\n",
      "results: 401,382,107\n",
      "status: droplet_found: True\n"
     ]
    },
    {
     "name": "stderr",
     "output_type": "stream",
     "text": [
      "  5%|███▊                                                                               | 2/44 [00:01<00:39,  1.08it/s]"
     ]
    },
    {
     "name": "stdout",
     "output_type": "stream",
     "text": [
      "multiple_droplets: n = 20\n",
      "status: 2,1,2: Multiple droplets found (counter): 0 \n",
      "well_found: True, llps_status: False\n",
      "detect a droplet\n",
      "results: 397,391,104\n",
      "status: droplet_found: True\n"
     ]
    },
    {
     "name": "stderr",
     "output_type": "stream",
     "text": [
      "  7%|█████▋                                                                             | 3/44 [00:02<00:38,  1.07it/s]"
     ]
    },
    {
     "name": "stdout",
     "output_type": "stream",
     "text": [
      "multiple_droplets: n = 39\n",
      "status: 2,1,3: Multiple droplets found (counter): 0 \n",
      "well_found: True, llps_status: False\n",
      "detect a droplet\n",
      "results: 401,386,108\n",
      "status: droplet_found: True\n"
     ]
    },
    {
     "name": "stderr",
     "output_type": "stream",
     "text": [
      "  9%|███████▌                                                                           | 4/44 [00:03<00:37,  1.06it/s]"
     ]
    },
    {
     "name": "stdout",
     "output_type": "stream",
     "text": [
      "multiple_droplets: n = 35\n",
      "status: 2,1,4: Multiple droplets found (counter): 0 \n",
      "well_found: True, llps_status: False\n",
      "detect a droplet\n",
      "results: 418,398,109\n",
      "status: droplet_found: True\n"
     ]
    },
    {
     "name": "stderr",
     "output_type": "stream",
     "text": [
      " 11%|█████████▍                                                                         | 5/44 [00:04<00:37,  1.05it/s]"
     ]
    },
    {
     "name": "stdout",
     "output_type": "stream",
     "text": [
      "multiple_droplets: n = 37\n",
      "status: 2,1,5: Multiple droplets found (counter): 0 \n",
      "well_found: True, llps_status: False\n",
      "detect a droplet\n",
      "results: 421,382,93\n",
      "status: droplet_found: True\n"
     ]
    },
    {
     "name": "stderr",
     "output_type": "stream",
     "text": [
      " 14%|███████████▎                                                                       | 6/44 [00:05<00:35,  1.07it/s]"
     ]
    },
    {
     "name": "stdout",
     "output_type": "stream",
     "text": [
      "status: 2,1,6: Multiple droplets found (counter): 0 \n",
      "well_found: True, llps_status: False\n",
      "detect a droplet\n",
      "results: 391,388,95\n",
      "status: droplet_found: True\n"
     ]
    },
    {
     "name": "stderr",
     "output_type": "stream",
     "text": [
      " 16%|█████████████▏                                                                     | 7/44 [00:06<00:33,  1.11it/s]"
     ]
    },
    {
     "name": "stdout",
     "output_type": "stream",
     "text": [
      "status: 2,1,7: Multiple droplets found (counter): 0 \n",
      "well_found: True, llps_status: False\n",
      "detect a droplet\n",
      "results: 400,384,104\n",
      "status: droplet_found: True\n"
     ]
    },
    {
     "name": "stderr",
     "output_type": "stream",
     "text": [
      " 18%|███████████████                                                                    | 8/44 [00:07<00:32,  1.12it/s]"
     ]
    },
    {
     "name": "stdout",
     "output_type": "stream",
     "text": [
      "status: 2,1,8: Multiple droplets found (counter): 0 \n",
      "well_found: True, llps_status: False\n",
      "detect a droplet\n",
      "results: 384,396,91\n",
      "status: droplet_found: True\n"
     ]
    },
    {
     "name": "stderr",
     "output_type": "stream",
     "text": [
      " 20%|████████████████▉                                                                  | 9/44 [00:08<00:30,  1.14it/s]"
     ]
    },
    {
     "name": "stdout",
     "output_type": "stream",
     "text": [
      "status: 2,1,9: Multiple droplets found (counter): 0 \n",
      "well_found: True, llps_status: False\n",
      "detect a droplet\n",
      "results: 387,388,84\n",
      "status: droplet_found: True\n"
     ]
    },
    {
     "name": "stderr",
     "output_type": "stream",
     "text": [
      " 23%|██████████████████▋                                                               | 10/44 [00:08<00:29,  1.16it/s]"
     ]
    },
    {
     "name": "stdout",
     "output_type": "stream",
     "text": [
      "status: 2,1,10: Multiple droplets found (counter): 0 \n",
      "well_found: True, llps_status: False\n",
      "detect a droplet\n",
      "results: 382,391,86\n",
      "status: droplet_found: True\n"
     ]
    },
    {
     "name": "stderr",
     "output_type": "stream",
     "text": [
      " 25%|████████████████████▌                                                             | 11/44 [00:09<00:28,  1.17it/s]"
     ]
    },
    {
     "name": "stdout",
     "output_type": "stream",
     "text": [
      "status: 2,1,11: Multiple droplets found (counter): 0 \n",
      "well_found: True, llps_status: False\n",
      "detect a droplet\n",
      "results: 386,393,85\n",
      "status: droplet_found: True\n"
     ]
    },
    {
     "name": "stderr",
     "output_type": "stream",
     "text": [
      " 27%|██████████████████████▎                                                           | 12/44 [00:10<00:26,  1.19it/s]"
     ]
    },
    {
     "name": "stdout",
     "output_type": "stream",
     "text": [
      "status: 2,1,12: Multiple droplets found (counter): 0 \n",
      "well_found: True, llps_status: False\n",
      "detect a droplet\n",
      "results: 387,391,81\n",
      "status: droplet_found: True\n"
     ]
    },
    {
     "name": "stderr",
     "output_type": "stream",
     "text": [
      "100%|██████████████████████████████████████████████████████████████████████████████████| 44/44 [00:11<00:00,  3.84it/s]\n",
      "  0%|                                                                                           | 0/44 [00:00<?, ?it/s]"
     ]
    },
    {
     "name": "stdout",
     "output_type": "stream",
     "text": [
      "LLPS status:  True , @ c: 2 w: 1 t: 12\n",
      "conc: 2 well: 2\n",
      "multiple_droplets: n = 24\n",
      "status: 2,2,0: Multiple droplets found (counter): 0 \n",
      "well_found: True, llps_status: False\n",
      "detect a droplet\n",
      "results: 424,397,115\n",
      "status: droplet_found: True\n"
     ]
    },
    {
     "name": "stderr",
     "output_type": "stream",
     "text": [
      "  2%|█▉                                                                                 | 1/44 [00:00<00:40,  1.06it/s]"
     ]
    },
    {
     "name": "stdout",
     "output_type": "stream",
     "text": [
      "multiple_droplets: n = 22\n",
      "status: 2,2,1: Multiple droplets found (counter): 0 \n",
      "well_found: True, llps_status: False\n",
      "detect a droplet\n",
      "results: 414,388,107\n",
      "status: droplet_found: True\n"
     ]
    },
    {
     "name": "stderr",
     "output_type": "stream",
     "text": [
      "  5%|███▊                                                                               | 2/44 [00:01<00:38,  1.08it/s]"
     ]
    },
    {
     "name": "stdout",
     "output_type": "stream",
     "text": [
      "multiple_droplets: n = 34\n",
      "status: 2,2,2: Multiple droplets found (counter): 0 \n",
      "well_found: True, llps_status: False\n",
      "detect a droplet\n",
      "results: 415,390,109\n",
      "status: droplet_found: True\n"
     ]
    },
    {
     "name": "stderr",
     "output_type": "stream",
     "text": [
      "  7%|█████▋                                                                             | 3/44 [00:02<00:38,  1.07it/s]"
     ]
    },
    {
     "name": "stdout",
     "output_type": "stream",
     "text": [
      "multiple_droplets: n = 34\n",
      "status: 2,2,3: Multiple droplets found (counter): 0 \n",
      "well_found: True, llps_status: False\n",
      "detect a droplet\n",
      "results: 411,387,108\n",
      "status: droplet_found: True\n"
     ]
    },
    {
     "name": "stderr",
     "output_type": "stream",
     "text": [
      "  9%|███████▌                                                                           | 4/44 [00:03<00:37,  1.07it/s]"
     ]
    },
    {
     "name": "stdout",
     "output_type": "stream",
     "text": [
      "multiple_droplets: n = 39\n",
      "status: 2,2,4: Multiple droplets found (counter): 0 \n",
      "well_found: True, llps_status: False\n",
      "detect a droplet\n",
      "results: 424,394,98\n",
      "status: droplet_found: True\n"
     ]
    },
    {
     "name": "stderr",
     "output_type": "stream",
     "text": [
      " 11%|█████████▍                                                                         | 5/44 [00:04<00:36,  1.07it/s]"
     ]
    },
    {
     "name": "stdout",
     "output_type": "stream",
     "text": [
      "multiple_droplets: n = 80\n",
      "status: 2,2,5: Multiple droplets found (counter): 0 \n",
      "well_found: True, llps_status: False\n",
      "detect a droplet\n",
      "results: 419,397,96\n",
      "status: droplet_found: True\n"
     ]
    },
    {
     "name": "stderr",
     "output_type": "stream",
     "text": [
      " 14%|███████████▎                                                                       | 6/44 [00:05<00:35,  1.06it/s]"
     ]
    },
    {
     "name": "stdout",
     "output_type": "stream",
     "text": [
      "status: 2,2,6: Multiple droplets found (counter): 0 \n",
      "well_found: True, llps_status: False\n",
      "detect a droplet\n",
      "results: 428,398,92\n",
      "status: droplet_found: True\n"
     ]
    },
    {
     "name": "stderr",
     "output_type": "stream",
     "text": [
      " 16%|█████████████▏                                                                     | 7/44 [00:06<00:33,  1.11it/s]"
     ]
    },
    {
     "name": "stdout",
     "output_type": "stream",
     "text": [
      "status: 2,2,7: Multiple droplets found (counter): 0 \n",
      "well_found: True, llps_status: False\n",
      "detect a droplet\n",
      "results: 410,396,104\n",
      "status: droplet_found: True\n"
     ]
    },
    {
     "name": "stderr",
     "output_type": "stream",
     "text": [
      " 18%|███████████████                                                                    | 8/44 [00:07<00:31,  1.14it/s]"
     ]
    },
    {
     "name": "stdout",
     "output_type": "stream",
     "text": [
      "status: 2,2,8: Multiple droplets found (counter): 0 \n",
      "well_found: True, llps_status: False\n",
      "detect a droplet\n",
      "results: 412,387,106\n",
      "status: droplet_found: True\n"
     ]
    },
    {
     "name": "stderr",
     "output_type": "stream",
     "text": [
      " 20%|████████████████▉                                                                  | 9/44 [00:08<00:30,  1.16it/s]"
     ]
    },
    {
     "name": "stdout",
     "output_type": "stream",
     "text": [
      "status: 2,2,9: Multiple droplets found (counter): 0 \n",
      "well_found: True, llps_status: False\n",
      "detect a droplet\n",
      "results: 429,397,87\n",
      "status: droplet_found: True\n"
     ]
    },
    {
     "name": "stderr",
     "output_type": "stream",
     "text": [
      " 23%|██████████████████▋                                                               | 10/44 [00:08<00:28,  1.18it/s]"
     ]
    },
    {
     "name": "stdout",
     "output_type": "stream",
     "text": [
      "status: 2,2,10: Multiple droplets found (counter): 0 \n",
      "well_found: True, llps_status: False\n",
      "detect a droplet\n",
      "results: 428,397,86\n",
      "status: droplet_found: True\n"
     ]
    },
    {
     "name": "stderr",
     "output_type": "stream",
     "text": [
      " 25%|████████████████████▌                                                             | 11/44 [00:09<00:27,  1.20it/s]"
     ]
    },
    {
     "name": "stdout",
     "output_type": "stream",
     "text": [
      "status: 2,2,11: Multiple droplets found (counter): 0 \n",
      "well_found: True, llps_status: False\n",
      "detect a droplet\n",
      "results: 414,396,106\n",
      "status: droplet_found: True\n"
     ]
    },
    {
     "name": "stderr",
     "output_type": "stream",
     "text": [
      " 27%|██████████████████████▎                                                           | 12/44 [00:10<00:26,  1.19it/s]"
     ]
    },
    {
     "name": "stdout",
     "output_type": "stream",
     "text": [
      "status: 2,2,12: Multiple droplets found (counter): 0 \n",
      "well_found: True, llps_status: False\n",
      "detect a droplet\n",
      "results: 418,393,109\n",
      "status: droplet_found: True\n"
     ]
    },
    {
     "name": "stderr",
     "output_type": "stream",
     "text": [
      " 30%|████████████████████████▏                                                         | 13/44 [00:11<00:26,  1.19it/s]"
     ]
    },
    {
     "name": "stdout",
     "output_type": "stream",
     "text": [
      "status: 2,2,13: Multiple droplets found (counter): 0 \n",
      "well_found: True, llps_status: False\n",
      "detect a droplet\n",
      "results: 415,384,107\n",
      "status: droplet_found: True\n"
     ]
    },
    {
     "name": "stderr",
     "output_type": "stream",
     "text": [
      " 32%|██████████████████████████                                                        | 14/44 [00:12<00:25,  1.18it/s]"
     ]
    },
    {
     "name": "stdout",
     "output_type": "stream",
     "text": [
      "status: 2,2,14: Multiple droplets found (counter): 0 \n",
      "well_found: True, llps_status: False\n",
      "detect a droplet\n",
      "results: 415,383,107\n",
      "status: droplet_found: True\n"
     ]
    },
    {
     "name": "stderr",
     "output_type": "stream",
     "text": [
      " 34%|███████████████████████████▉                                                      | 15/44 [00:13<00:24,  1.17it/s]"
     ]
    },
    {
     "name": "stdout",
     "output_type": "stream",
     "text": [
      "status: 2,2,15: Multiple droplets found (counter): 0 \n",
      "well_found: True, llps_status: False\n",
      "detect a droplet\n",
      "results: 424,393,73\n",
      "status: droplet_found: True\n"
     ]
    },
    {
     "name": "stderr",
     "output_type": "stream",
     "text": [
      " 36%|█████████████████████████████▊                                                    | 16/44 [00:13<00:23,  1.20it/s]"
     ]
    },
    {
     "name": "stdout",
     "output_type": "stream",
     "text": [
      "status: 2,2,16: Multiple droplets found (counter): 0 \n",
      "well_found: True, llps_status: False\n",
      "detect a droplet\n",
      "results: 425,394,69\n",
      "status: droplet_found: True\n"
     ]
    },
    {
     "name": "stderr",
     "output_type": "stream",
     "text": [
      " 39%|███████████████████████████████▋                                                  | 17/44 [00:14<00:22,  1.22it/s]"
     ]
    },
    {
     "name": "stdout",
     "output_type": "stream",
     "text": [
      "status: 2,2,17: Multiple droplets found (counter): 0 \n",
      "well_found: True, llps_status: False\n",
      "detect a droplet\n",
      "results: 426,390,68\n",
      "status: droplet_found: True\n"
     ]
    },
    {
     "name": "stderr",
     "output_type": "stream",
     "text": [
      " 41%|█████████████████████████████████▌                                                | 18/44 [00:15<00:21,  1.22it/s]"
     ]
    },
    {
     "name": "stdout",
     "output_type": "stream",
     "text": [
      "status: 2,2,18: Multiple droplets found (counter): 0 \n",
      "well_found: True, llps_status: False\n",
      "detect a droplet\n",
      "results: 447,387,42\n",
      "status: droplet_found: True\n"
     ]
    },
    {
     "name": "stderr",
     "output_type": "stream",
     "text": [
      " 43%|███████████████████████████████████▍                                              | 19/44 [00:16<00:20,  1.24it/s]"
     ]
    },
    {
     "name": "stdout",
     "output_type": "stream",
     "text": [
      "status: 2,2,19: Multiple droplets found (counter): 0 \n",
      "well_found: True, llps_status: False\n",
      "detect a droplet\n",
      "results: 436,376,48\n",
      "status: droplet_found: True\n"
     ]
    },
    {
     "name": "stderr",
     "output_type": "stream",
     "text": [
      " 45%|█████████████████████████████████████▎                                            | 20/44 [00:17<00:19,  1.25it/s]"
     ]
    },
    {
     "name": "stdout",
     "output_type": "stream",
     "text": [
      "status: 2,2,20: Multiple droplets found (counter): 0 \n",
      "well_found: True, llps_status: False\n",
      "detect a droplet\n",
      "results: 430,390,58\n",
      "status: droplet_found: True\n"
     ]
    },
    {
     "name": "stderr",
     "output_type": "stream",
     "text": [
      " 48%|███████████████████████████████████████▏                                          | 21/44 [00:17<00:18,  1.25it/s]"
     ]
    },
    {
     "name": "stdout",
     "output_type": "stream",
     "text": [
      "status: 2,2,21: Multiple droplets found (counter): 0 \n",
      "well_found: True, llps_status: False\n",
      "detect a droplet\n",
      "results: 424,391,60\n",
      "status: droplet_found: True\n"
     ]
    },
    {
     "name": "stderr",
     "output_type": "stream",
     "text": [
      " 50%|█████████████████████████████████████████                                         | 22/44 [00:18<00:17,  1.24it/s]"
     ]
    },
    {
     "name": "stdout",
     "output_type": "stream",
     "text": [
      "status: 2,2,22: Multiple droplets found (counter): 0 \n",
      "well_found: True, llps_status: False\n",
      "detect a droplet\n",
      "results: 419,382,57\n",
      "status: droplet_found: True\n"
     ]
    },
    {
     "name": "stderr",
     "output_type": "stream",
     "text": [
      " 52%|██████████████████████████████████████████▊                                       | 23/44 [00:19<00:16,  1.24it/s]"
     ]
    },
    {
     "name": "stdout",
     "output_type": "stream",
     "text": [
      "status: 2,2,23: Multiple droplets found (counter): 0 \n",
      "well_found: True, llps_status: False\n",
      "detect a droplet\n",
      "results: 425,400,46\n",
      "status: droplet_found: True\n"
     ]
    },
    {
     "name": "stderr",
     "output_type": "stream",
     "text": [
      " 55%|████████████████████████████████████████████▋                                     | 24/44 [00:20<00:16,  1.24it/s]"
     ]
    },
    {
     "name": "stdout",
     "output_type": "stream",
     "text": [
      "status: 2,2,24: Multiple droplets found (counter): 0 \n",
      "well_found: True, llps_status: False\n",
      "detect a droplet\n",
      "results: 426,393,55\n",
      "status: droplet_found: True\n"
     ]
    },
    {
     "name": "stderr",
     "output_type": "stream",
     "text": [
      " 57%|██████████████████████████████████████████████▌                                   | 25/44 [00:21<00:15,  1.22it/s]"
     ]
    },
    {
     "name": "stdout",
     "output_type": "stream",
     "text": [
      "status: 2,2,25: Multiple droplets found (counter): 0 \n",
      "well_found: True, llps_status: False\n",
      "detect a droplet\n",
      "results: 400,400,35\n",
      "status: droplet_found: True\n"
     ]
    },
    {
     "name": "stderr",
     "output_type": "stream",
     "text": [
      " 59%|████████████████████████████████████████████████▍                                 | 26/44 [00:21<00:14,  1.24it/s]"
     ]
    },
    {
     "name": "stdout",
     "output_type": "stream",
     "text": [
      "status: 2,2,26: Multiple droplets found (counter): 0 \n",
      "well_found: True, llps_status: False\n",
      "detect a droplet\n",
      "results: 410,372,35\n",
      "status: droplet_found: True\n"
     ]
    },
    {
     "name": "stderr",
     "output_type": "stream",
     "text": [
      " 61%|██████████████████████████████████████████████████▎                               | 27/44 [00:22<00:13,  1.25it/s]"
     ]
    },
    {
     "name": "stdout",
     "output_type": "stream",
     "text": [
      "status: 2,2,27: Multiple droplets found (counter): 0 \n",
      "well_found: True, llps_status: False\n",
      "detect a droplet\n",
      "results: 433,390,44\n",
      "status: droplet_found: True\n"
     ]
    },
    {
     "name": "stderr",
     "output_type": "stream",
     "text": [
      " 64%|████████████████████████████████████████████████████▏                             | 28/44 [00:23<00:12,  1.27it/s]"
     ]
    },
    {
     "name": "stdout",
     "output_type": "stream",
     "text": [
      "status: 2,2,28: Multiple droplets found (counter): 0 \n",
      "well_found: True, llps_status: False\n",
      "detect a droplet\n",
      "results: 412,382,41\n",
      "status: droplet_found: True\n"
     ]
    },
    {
     "name": "stderr",
     "output_type": "stream",
     "text": [
      " 66%|██████████████████████████████████████████████████████                            | 29/44 [00:24<00:11,  1.28it/s]"
     ]
    },
    {
     "name": "stdout",
     "output_type": "stream",
     "text": [
      "status: 2,2,29: Multiple droplets found (counter): 0 \n",
      "well_found: True, llps_status: False\n",
      "detect a droplet\n",
      "results: 416,376,57\n",
      "status: droplet_found: True\n"
     ]
    },
    {
     "name": "stderr",
     "output_type": "stream",
     "text": [
      " 68%|███████████████████████████████████████████████████████▉                          | 30/44 [00:25<00:11,  1.27it/s]"
     ]
    },
    {
     "name": "stdout",
     "output_type": "stream",
     "text": [
      "status: 2,2,30: Multiple droplets found (counter): 0 \n",
      "well_found: True, llps_status: False\n",
      "detect a droplet\n",
      "results: 429,391,42\n",
      "status: droplet_found: True\n"
     ]
    },
    {
     "name": "stderr",
     "output_type": "stream",
     "text": [
      " 70%|█████████████████████████████████████████████████████████▊                        | 31/44 [00:25<00:10,  1.27it/s]"
     ]
    },
    {
     "name": "stdout",
     "output_type": "stream",
     "text": [
      "status: 2,2,31: Multiple droplets found (counter): 0 \n",
      "well_found: True, llps_status: False\n",
      "detect a droplet\n",
      "results: 432,391,38\n",
      "status: droplet_found: True\n"
     ]
    },
    {
     "name": "stderr",
     "output_type": "stream",
     "text": [
      " 73%|███████████████████████████████████████████████████████████▋                      | 32/44 [00:26<00:09,  1.27it/s]"
     ]
    },
    {
     "name": "stdout",
     "output_type": "stream",
     "text": [
      "status: 2,2,32: Multiple droplets found (counter): 0 \n",
      "well_found: True, llps_status: False\n",
      "detect a droplet\n",
      "results: 438,394,33\n",
      "status: droplet_found: True\n"
     ]
    },
    {
     "name": "stderr",
     "output_type": "stream",
     "text": [
      " 75%|█████████████████████████████████████████████████████████████▌                    | 33/44 [00:27<00:08,  1.27it/s]"
     ]
    },
    {
     "name": "stdout",
     "output_type": "stream",
     "text": [
      "status: 2,2,33: Multiple droplets found (counter): 0 \n",
      "well_found: True, llps_status: False\n",
      "detect a droplet\n",
      "results: 436,386,37\n",
      "status: droplet_found: True\n"
     ]
    },
    {
     "name": "stderr",
     "output_type": "stream",
     "text": [
      " 77%|███████████████████████████████████████████████████████████████▎                  | 34/44 [00:28<00:07,  1.28it/s]"
     ]
    },
    {
     "name": "stdout",
     "output_type": "stream",
     "text": [
      "status: 2,2,34: Multiple droplets found (counter): 0 \n",
      "well_found: True, llps_status: False\n",
      "detect a droplet\n",
      "results: 433,380,37\n",
      "status: droplet_found: True\n"
     ]
    },
    {
     "name": "stderr",
     "output_type": "stream",
     "text": [
      " 80%|█████████████████████████████████████████████████████████████████▏                | 35/44 [00:28<00:07,  1.28it/s]"
     ]
    },
    {
     "name": "stdout",
     "output_type": "stream",
     "text": [
      "status: 2,2,35: Multiple droplets found (counter): 0 \n",
      "well_found: True, llps_status: False\n",
      "detect a droplet\n",
      "results: 419,379,56\n",
      "status: droplet_found: True\n"
     ]
    },
    {
     "name": "stderr",
     "output_type": "stream",
     "text": [
      " 82%|███████████████████████████████████████████████████████████████████               | 36/44 [00:29<00:06,  1.28it/s]"
     ]
    },
    {
     "name": "stdout",
     "output_type": "stream",
     "text": [
      "status: 2,2,36: Multiple droplets found (counter): 0 \n",
      "well_found: True, llps_status: False\n",
      "detect a droplet\n",
      "results: 408,360,39\n",
      "status: droplet_found: True\n"
     ]
    },
    {
     "name": "stderr",
     "output_type": "stream",
     "text": [
      " 84%|████████████████████████████████████████████████████████████████████▉             | 37/44 [00:30<00:05,  1.28it/s]"
     ]
    },
    {
     "name": "stdout",
     "output_type": "stream",
     "text": [
      "status: 2,2,37: Multiple droplets found (counter): 0 \n",
      "well_found: True, llps_status: False\n",
      "detect a droplet\n",
      "results: 421,377,57\n",
      "status: droplet_found: True\n"
     ]
    },
    {
     "name": "stderr",
     "output_type": "stream",
     "text": [
      " 86%|██████████████████████████████████████████████████████████████████████▊           | 38/44 [00:31<00:04,  1.27it/s]"
     ]
    },
    {
     "name": "stdout",
     "output_type": "stream",
     "text": [
      "status: 2,2,38: Multiple droplets found (counter): 0 \n",
      "well_found: True, llps_status: False\n",
      "detect a droplet\n",
      "results: 404,355,32\n",
      "status: droplet_found: True\n"
     ]
    },
    {
     "name": "stderr",
     "output_type": "stream",
     "text": [
      " 89%|████████████████████████████████████████████████████████████████████████▋         | 39/44 [00:32<00:03,  1.27it/s]"
     ]
    },
    {
     "name": "stdout",
     "output_type": "stream",
     "text": [
      "status: 2,2,39: Multiple droplets found (counter): 0 \n",
      "well_found: True, llps_status: False\n",
      "detect a droplet\n",
      "results: 424,379,54\n",
      "status: droplet_found: True\n"
     ]
    },
    {
     "name": "stderr",
     "output_type": "stream",
     "text": [
      " 91%|██████████████████████████████████████████████████████████████████████████▌       | 40/44 [00:32<00:03,  1.26it/s]"
     ]
    },
    {
     "name": "stdout",
     "output_type": "stream",
     "text": [
      "status: 2,2,40: Multiple droplets found (counter): 0 \n",
      "well_found: True, llps_status: False\n",
      "detect a droplet\n",
      "results: 414,362,42\n",
      "status: droplet_found: True\n"
     ]
    },
    {
     "name": "stderr",
     "output_type": "stream",
     "text": [
      " 93%|████████████████████████████████████████████████████████████████████████████▍     | 41/44 [00:33<00:02,  1.27it/s]"
     ]
    },
    {
     "name": "stdout",
     "output_type": "stream",
     "text": [
      "status: 2,2,41: Multiple droplets found (counter): 0 \n",
      "well_found: True, llps_status: False\n",
      "detect a droplet\n",
      "results: 419,377,56\n",
      "status: droplet_found: True\n"
     ]
    },
    {
     "name": "stderr",
     "output_type": "stream",
     "text": [
      " 95%|██████████████████████████████████████████████████████████████████████████████▎   | 42/44 [00:34<00:01,  1.26it/s]"
     ]
    },
    {
     "name": "stdout",
     "output_type": "stream",
     "text": [
      "status: 2,2,42: Multiple droplets found (counter): 0 \n",
      "well_found: True, llps_status: False\n",
      "detect a droplet\n",
      "results: 421,369,54\n",
      "status: droplet_found: True\n"
     ]
    },
    {
     "name": "stderr",
     "output_type": "stream",
     "text": [
      " 98%|████████████████████████████████████████████████████████████████████████████████▏ | 43/44 [00:35<00:00,  1.26it/s]"
     ]
    },
    {
     "name": "stdout",
     "output_type": "stream",
     "text": [
      "status: 2,2,43: Multiple droplets found (counter): 0 \n",
      "well_found: True, llps_status: False\n",
      "detect a droplet\n",
      "results: 418,373,56\n",
      "status: droplet_found: True\n"
     ]
    },
    {
     "name": "stderr",
     "output_type": "stream",
     "text": [
      "100%|██████████████████████████████████████████████████████████████████████████████████| 44/44 [00:36<00:00,  1.22it/s]\n",
      "  0%|                                                                                           | 0/44 [00:00<?, ?it/s]"
     ]
    },
    {
     "name": "stdout",
     "output_type": "stream",
     "text": [
      "conc: 3 well: 0\n",
      "multiple_droplets: n = 412\n",
      "find_multiple_droplets was triggered!\n",
      "status: 3,0,0: Multiple droplets found (counter): 1 \n",
      "well_found: True, llps_status: False\n",
      "detect a droplet\n",
      "results: 358,477,105\n",
      "status: droplet_found: True\n"
     ]
    },
    {
     "name": "stderr",
     "output_type": "stream",
     "text": [
      "  2%|█▉                                                                                 | 1/44 [00:00<00:42,  1.02it/s]"
     ]
    },
    {
     "name": "stdout",
     "output_type": "stream",
     "text": [
      "multiple_droplets: n = 389\n",
      "status: 3,0,1: Multiple droplets found (counter): 1 \n",
      "well_found: True, llps_status: False\n",
      "detect a droplet\n",
      "results: 345,449,81\n",
      "status: droplet_found: True\n"
     ]
    },
    {
     "name": "stderr",
     "output_type": "stream",
     "text": [
      "  5%|███▊                                                                               | 2/44 [00:01<00:40,  1.04it/s]"
     ]
    },
    {
     "name": "stdout",
     "output_type": "stream",
     "text": [
      "multiple_droplets: n = 383\n",
      "status: 3,0,2: Multiple droplets found (counter): 1 \n",
      "well_found: True, llps_status: False\n",
      "detect a droplet\n",
      "results: 351,477,87\n",
      "status: droplet_found: True\n"
     ]
    },
    {
     "name": "stderr",
     "output_type": "stream",
     "text": [
      "  7%|█████▋                                                                             | 3/44 [00:02<00:39,  1.03it/s]"
     ]
    },
    {
     "name": "stdout",
     "output_type": "stream",
     "text": [
      "multiple_droplets: n = 357\n",
      "status: 3,0,3: Multiple droplets found (counter): 1 \n",
      "well_found: True, llps_status: False\n",
      "detect a droplet\n",
      "results: 358,472,93\n",
      "status: droplet_found: True\n"
     ]
    },
    {
     "name": "stderr",
     "output_type": "stream",
     "text": [
      "  9%|███████▌                                                                           | 4/44 [00:03<00:40,  1.00s/it]"
     ]
    },
    {
     "name": "stdout",
     "output_type": "stream",
     "text": [
      "multiple_droplets: n = 392\n",
      "status: 3,0,4: Multiple droplets found (counter): 1 \n",
      "well_found: True, llps_status: False\n",
      "detect a droplet\n",
      "results: 363,461,89\n",
      "status: droplet_found: True\n"
     ]
    },
    {
     "name": "stderr",
     "output_type": "stream",
     "text": [
      " 11%|█████████▍                                                                         | 5/44 [00:05<00:40,  1.04s/it]"
     ]
    },
    {
     "name": "stdout",
     "output_type": "stream",
     "text": [
      "multiple_droplets: n = 349\n",
      "status: 3,0,5: Multiple droplets found (counter): 1 \n",
      "well_found: True, llps_status: False\n",
      "detect a droplet\n",
      "results: 355,452,85\n",
      "status: droplet_found: True\n"
     ]
    },
    {
     "name": "stderr",
     "output_type": "stream",
     "text": [
      " 14%|███████████▎                                                                       | 6/44 [00:06<00:38,  1.01s/it]"
     ]
    },
    {
     "name": "stdout",
     "output_type": "stream",
     "text": [
      "status: 3,0,6: Multiple droplets found (counter): 1 \n",
      "well_found: True, llps_status: False\n",
      "detect a droplet\n",
      "results: 365,449,90\n",
      "status: droplet_found: True\n"
     ]
    },
    {
     "name": "stderr",
     "output_type": "stream",
     "text": [
      " 16%|█████████████▏                                                                     | 7/44 [00:06<00:35,  1.03it/s]"
     ]
    },
    {
     "name": "stdout",
     "output_type": "stream",
     "text": [
      "status: 3,0,7: Multiple droplets found (counter): 1 \n",
      "well_found: True, llps_status: False\n",
      "detect a droplet\n",
      "results: 368,452,85\n",
      "status: droplet_found: True\n"
     ]
    },
    {
     "name": "stderr",
     "output_type": "stream",
     "text": [
      " 18%|███████████████                                                                    | 8/44 [00:07<00:33,  1.08it/s]"
     ]
    },
    {
     "name": "stdout",
     "output_type": "stream",
     "text": [
      "status: 3,0,8: Multiple droplets found (counter): 1 \n",
      "well_found: True, llps_status: False\n",
      "detect a droplet\n",
      "results: 360,453,84\n",
      "status: droplet_found: True\n"
     ]
    },
    {
     "name": "stderr",
     "output_type": "stream",
     "text": [
      " 20%|████████████████▉                                                                  | 9/44 [00:08<00:32,  1.09it/s]"
     ]
    },
    {
     "name": "stdout",
     "output_type": "stream",
     "text": [
      "status: 3,0,9: Multiple droplets found (counter): 1 \n",
      "well_found: True, llps_status: False\n",
      "detect a droplet\n",
      "results: 359,449,81\n",
      "status: droplet_found: True\n"
     ]
    },
    {
     "name": "stderr",
     "output_type": "stream",
     "text": [
      " 23%|██████████████████▋                                                               | 10/44 [00:09<00:30,  1.13it/s]"
     ]
    },
    {
     "name": "stdout",
     "output_type": "stream",
     "text": [
      "status: 3,0,10: Multiple droplets found (counter): 1 \n",
      "well_found: True, llps_status: False\n",
      "detect a droplet\n",
      "results: 362,449,80\n",
      "status: droplet_found: True\n"
     ]
    },
    {
     "name": "stderr",
     "output_type": "stream",
     "text": [
      " 25%|████████████████████▌                                                             | 11/44 [00:10<00:28,  1.15it/s]"
     ]
    },
    {
     "name": "stdout",
     "output_type": "stream",
     "text": [
      "status: 3,0,11: Multiple droplets found (counter): 1 \n",
      "well_found: True, llps_status: False\n",
      "detect a droplet\n",
      "results: 369,463,109\n",
      "status: droplet_found: True\n"
     ]
    },
    {
     "name": "stderr",
     "output_type": "stream",
     "text": [
      " 27%|██████████████████████▎                                                           | 12/44 [00:11<00:27,  1.15it/s]"
     ]
    },
    {
     "name": "stdout",
     "output_type": "stream",
     "text": [
      "status: 3,0,12: Multiple droplets found (counter): 1 \n",
      "well_found: True, llps_status: False\n",
      "detect a droplet\n",
      "results: 360,449,73\n",
      "status: droplet_found: True\n"
     ]
    },
    {
     "name": "stderr",
     "output_type": "stream",
     "text": [
      " 30%|████████████████████████▏                                                         | 13/44 [00:11<00:26,  1.17it/s]"
     ]
    },
    {
     "name": "stdout",
     "output_type": "stream",
     "text": [
      "status: 3,0,13: Multiple droplets found (counter): 1 \n",
      "well_found: True, llps_status: False\n",
      "detect a droplet\n",
      "results: 360,447,70\n",
      "status: droplet_found: True\n"
     ]
    },
    {
     "name": "stderr",
     "output_type": "stream",
     "text": [
      " 32%|██████████████████████████                                                        | 14/44 [00:12<00:25,  1.19it/s]"
     ]
    },
    {
     "name": "stdout",
     "output_type": "stream",
     "text": [
      "status: 3,0,14: Multiple droplets found (counter): 1 \n",
      "well_found: True, llps_status: False\n",
      "detect a droplet\n",
      "results: 369,461,110\n",
      "status: droplet_found: True\n"
     ]
    },
    {
     "name": "stderr",
     "output_type": "stream",
     "text": [
      " 34%|███████████████████████████▉                                                      | 15/44 [00:13<00:24,  1.20it/s]"
     ]
    },
    {
     "name": "stdout",
     "output_type": "stream",
     "text": [
      "status: 3,0,15: Multiple droplets found (counter): 1 \n",
      "well_found: True, llps_status: False\n",
      "detect a droplet\n",
      "results: 365,444,65\n",
      "status: droplet_found: True\n"
     ]
    },
    {
     "name": "stderr",
     "output_type": "stream",
     "text": [
      " 36%|█████████████████████████████▊                                                    | 16/44 [00:14<00:23,  1.21it/s]"
     ]
    },
    {
     "name": "stdout",
     "output_type": "stream",
     "text": [
      "status: 3,0,16: Multiple droplets found (counter): 1 \n",
      "well_found: True, llps_status: False\n",
      "detect a droplet\n",
      "results: 366,447,63\n",
      "status: droplet_found: True\n"
     ]
    },
    {
     "name": "stderr",
     "output_type": "stream",
     "text": [
      " 39%|███████████████████████████████▋                                                  | 17/44 [00:15<00:22,  1.22it/s]"
     ]
    },
    {
     "name": "stdout",
     "output_type": "stream",
     "text": [
      "status: 3,0,17: Multiple droplets found (counter): 1 \n",
      "well_found: True, llps_status: False\n",
      "detect a droplet\n",
      "results: 354,450,48\n",
      "status: droplet_found: True\n"
     ]
    },
    {
     "name": "stderr",
     "output_type": "stream",
     "text": [
      " 41%|█████████████████████████████████▌                                                | 18/44 [00:16<00:21,  1.22it/s]"
     ]
    },
    {
     "name": "stdout",
     "output_type": "stream",
     "text": [
      "status: 3,0,18: Multiple droplets found (counter): 1 \n",
      "well_found: True, llps_status: False\n",
      "detect a droplet\n",
      "results: 365,454,49\n",
      "status: droplet_found: True\n"
     ]
    },
    {
     "name": "stderr",
     "output_type": "stream",
     "text": [
      " 43%|███████████████████████████████████▍                                              | 19/44 [00:16<00:20,  1.23it/s]"
     ]
    },
    {
     "name": "stdout",
     "output_type": "stream",
     "text": [
      "status: 3,0,19: Multiple droplets found (counter): 1 \n",
      "well_found: True, llps_status: False\n",
      "detect a droplet\n",
      "results: 362,443,57\n",
      "status: droplet_found: True\n"
     ]
    },
    {
     "name": "stderr",
     "output_type": "stream",
     "text": [
      "100%|██████████████████████████████████████████████████████████████████████████████████| 44/44 [00:17<00:00,  2.50it/s]\n",
      "  0%|                                                                                           | 0/44 [00:00<?, ?it/s]"
     ]
    },
    {
     "name": "stdout",
     "output_type": "stream",
     "text": [
      "LLPS status:  True , @ c: 3 w: 0 t: 19\n",
      "conc: 3 well: 1\n",
      "multiple_droplets: n = 417\n",
      "find_multiple_droplets was triggered!\n",
      "status: 3,1,0: Multiple droplets found (counter): 1 \n",
      "well_found: True, llps_status: False\n",
      "detect a droplet\n",
      "results: 370,528,51\n",
      "status: droplet_found: True\n"
     ]
    },
    {
     "name": "stderr",
     "output_type": "stream",
     "text": [
      "  2%|█▉                                                                                 | 1/44 [00:00<00:42,  1.02it/s]"
     ]
    },
    {
     "name": "stdout",
     "output_type": "stream",
     "text": [
      "multiple_droplets: n = 351\n",
      "status: 3,1,1: Multiple droplets found (counter): 1 \n",
      "well_found: True, llps_status: False\n",
      "detect a droplet\n",
      "results: 368,516,59\n",
      "status: droplet_found: True\n"
     ]
    },
    {
     "name": "stderr",
     "output_type": "stream",
     "text": [
      "  5%|███▊                                                                               | 2/44 [00:01<00:39,  1.05it/s]"
     ]
    },
    {
     "name": "stdout",
     "output_type": "stream",
     "text": [
      "multiple_droplets: n = 351\n",
      "status: 3,1,2: Multiple droplets found (counter): 1 \n",
      "well_found: True, llps_status: False\n",
      "detect a droplet\n",
      "results: 380,467,99\n",
      "status: droplet_found: True\n"
     ]
    },
    {
     "name": "stderr",
     "output_type": "stream",
     "text": [
      "  7%|█████▋                                                                             | 3/44 [00:02<00:39,  1.04it/s]"
     ]
    },
    {
     "name": "stdout",
     "output_type": "stream",
     "text": [
      "multiple_droplets: n = 334\n",
      "status: 3,1,3: Multiple droplets found (counter): 1 \n",
      "well_found: True, llps_status: False\n",
      "detect a droplet\n",
      "results: 369,472,78\n",
      "status: droplet_found: True\n"
     ]
    },
    {
     "name": "stderr",
     "output_type": "stream",
     "text": [
      "  9%|███████▌                                                                           | 4/44 [00:03<00:39,  1.02it/s]"
     ]
    },
    {
     "name": "stdout",
     "output_type": "stream",
     "text": [
      "multiple_droplets: n = 330\n",
      "status: 3,1,4: Multiple droplets found (counter): 1 \n",
      "well_found: True, llps_status: False\n",
      "detect a droplet\n",
      "results: 384,456,92\n",
      "status: droplet_found: True\n"
     ]
    },
    {
     "name": "stderr",
     "output_type": "stream",
     "text": [
      " 11%|█████████▍                                                                         | 5/44 [00:04<00:37,  1.03it/s]"
     ]
    },
    {
     "name": "stdout",
     "output_type": "stream",
     "text": [
      "multiple_droplets: n = 434\n",
      "find_multiple_droplets was triggered!\n",
      "status: 3,1,5: Multiple droplets found (counter): 2 \n",
      "well_found: True, llps_status: False\n",
      "detect a droplet\n",
      "results: 365,454,68\n",
      "status: droplet_found: True\n"
     ]
    },
    {
     "name": "stderr",
     "output_type": "stream",
     "text": [
      " 14%|███████████▎                                                                       | 6/44 [00:05<00:36,  1.04it/s]"
     ]
    },
    {
     "name": "stdout",
     "output_type": "stream",
     "text": [
      "status: 3,1,6: Multiple droplets found (counter): 2 \n",
      "well_found: True, llps_status: False\n",
      "detect a droplet\n",
      "results: 388,458,92\n",
      "status: droplet_found: True\n"
     ]
    },
    {
     "name": "stderr",
     "output_type": "stream",
     "text": [
      " 16%|█████████████▏                                                                     | 7/44 [00:06<00:34,  1.06it/s]"
     ]
    },
    {
     "name": "stdout",
     "output_type": "stream",
     "text": [
      "status: 3,1,7: Multiple droplets found (counter): 2 \n",
      "well_found: True, llps_status: False\n",
      "detect a droplet\n",
      "results: 380,468,83\n",
      "status: droplet_found: True\n"
     ]
    },
    {
     "name": "stderr",
     "output_type": "stream",
     "text": [
      " 18%|███████████████                                                                    | 8/44 [00:07<00:33,  1.09it/s]"
     ]
    },
    {
     "name": "stdout",
     "output_type": "stream",
     "text": [
      "status: 3,1,8: Multiple droplets found (counter): 2 \n",
      "well_found: True, llps_status: False\n",
      "detect a droplet\n",
      "results: 369,468,80\n",
      "status: droplet_found: True\n"
     ]
    },
    {
     "name": "stderr",
     "output_type": "stream",
     "text": [
      " 20%|████████████████▉                                                                  | 9/44 [00:08<00:31,  1.11it/s]"
     ]
    },
    {
     "name": "stdout",
     "output_type": "stream",
     "text": [
      "status: 3,1,9: Multiple droplets found (counter): 2 \n",
      "well_found: True, llps_status: False\n",
      "detect a droplet\n",
      "results: 351,477,82\n",
      "status: droplet_found: True\n"
     ]
    },
    {
     "name": "stderr",
     "output_type": "stream",
     "text": [
      " 23%|██████████████████▋                                                               | 10/44 [00:09<00:30,  1.13it/s]"
     ]
    },
    {
     "name": "stdout",
     "output_type": "stream",
     "text": [
      "status: 3,1,10: Multiple droplets found (counter): 2 \n",
      "well_found: True, llps_status: False\n",
      "detect a droplet\n",
      "results: 348,475,81\n",
      "status: droplet_found: True\n"
     ]
    },
    {
     "name": "stderr",
     "output_type": "stream",
     "text": [
      " 25%|████████████████████▌                                                             | 11/44 [00:10<00:28,  1.14it/s]"
     ]
    },
    {
     "name": "stdout",
     "output_type": "stream",
     "text": [
      "status: 3,1,11: Multiple droplets found (counter): 2 \n",
      "well_found: True, llps_status: False\n",
      "detect a droplet\n",
      "results: 349,472,78\n",
      "status: droplet_found: True\n"
     ]
    },
    {
     "name": "stderr",
     "output_type": "stream",
     "text": [
      " 27%|██████████████████████▎                                                           | 12/44 [00:10<00:27,  1.15it/s]"
     ]
    },
    {
     "name": "stdout",
     "output_type": "stream",
     "text": [
      "status: 3,1,12: Multiple droplets found (counter): 2 \n",
      "well_found: True, llps_status: False\n",
      "detect a droplet\n",
      "results: 382,470,111\n",
      "status: droplet_found: True\n"
     ]
    },
    {
     "name": "stderr",
     "output_type": "stream",
     "text": [
      "100%|██████████████████████████████████████████████████████████████████████████████████| 44/44 [00:11<00:00,  3.71it/s]\n",
      "  0%|                                                                                           | 0/44 [00:00<?, ?it/s]"
     ]
    },
    {
     "name": "stdout",
     "output_type": "stream",
     "text": [
      "LLPS status:  True , @ c: 3 w: 1 t: 12\n",
      "conc: 3 well: 2\n",
      "multiple_droplets: n = 586\n",
      "find_multiple_droplets was triggered!\n",
      "status: 3,2,0: Multiple droplets found (counter): 1 \n",
      "well_found: True, llps_status: False\n",
      "detect a droplet\n",
      "results: 358,526,57\n",
      "status: droplet_found: True\n"
     ]
    },
    {
     "name": "stderr",
     "output_type": "stream",
     "text": [
      "  2%|█▉                                                                                 | 1/44 [00:00<00:40,  1.06it/s]"
     ]
    },
    {
     "name": "stdout",
     "output_type": "stream",
     "text": [
      "multiple_droplets: n = 470\n",
      "find_multiple_droplets was triggered!\n",
      "status: 3,2,1: Multiple droplets found (counter): 2 \n",
      "well_found: True, llps_status: False\n",
      "detect a droplet\n",
      "results: 330,456,50\n",
      "status: droplet_found: True\n"
     ]
    },
    {
     "name": "stderr",
     "output_type": "stream",
     "text": [
      "  5%|███▊                                                                               | 2/44 [00:01<00:39,  1.06it/s]"
     ]
    },
    {
     "name": "stdout",
     "output_type": "stream",
     "text": [
      "multiple_droplets: n = 552\n",
      "find_multiple_droplets was triggered!\n",
      "status: 3,2,2: Multiple droplets found (counter): 3 \n",
      "well_found: True, llps_status: False\n",
      "detect a droplet\n",
      "results: 414,436,58\n",
      "status: droplet_found: True\n"
     ]
    },
    {
     "name": "stderr",
     "output_type": "stream",
     "text": [
      "  7%|█████▋                                                                             | 3/44 [00:02<00:38,  1.06it/s]"
     ]
    },
    {
     "name": "stdout",
     "output_type": "stream",
     "text": [
      "multiple_droplets: n = 510\n",
      "find_multiple_droplets was triggered!\n",
      "status: 3,2,3: Multiple droplets found (counter): 4 \n",
      "well_found: True, llps_status: False\n",
      "detect a droplet\n",
      "results: 332,452,56\n",
      "status: droplet_found: True\n"
     ]
    },
    {
     "name": "stderr",
     "output_type": "stream",
     "text": [
      "  9%|███████▌                                                                           | 4/44 [00:03<00:37,  1.05it/s]"
     ]
    },
    {
     "name": "stdout",
     "output_type": "stream",
     "text": [
      "multiple_droplets: n = 511\n",
      "find_multiple_droplets was triggered!\n",
      "status: 3,2,4: Multiple droplets found (counter): 5 \n",
      "well_found: True, llps_status: False\n",
      "detect a droplet\n",
      "results: 372,477,85\n",
      "status: droplet_found: True\n"
     ]
    },
    {
     "name": "stderr",
     "output_type": "stream",
     "text": [
      "C:\\Users\\DigitalStation\\Documents\\Python_Scripts\\DropletDetection\\pythonProject\\PyPhaseChip\\pyphasechip\\pyphasechip_fun.py:284: RuntimeWarning: divide by zero encountered in double_scalars\n",
      "  percental_difference = (mean_abs / avg_mean_all_previous_images) * 100 - 100\n",
      " 11%|█████████▍                                                                         | 5/44 [00:04<00:39,  1.00s/it]"
     ]
    },
    {
     "name": "stdout",
     "output_type": "stream",
     "text": [
      "multiple_droplets: n = 539\n",
      "find_multiple_droplets was triggered!\n",
      "status: 3,2,5: Multiple droplets found (counter): 6 \n",
      "well_found: True, llps_status: False\n",
      "detect a droplet\n",
      "results: 354,496,59\n",
      "status: droplet_found: True\n"
     ]
    },
    {
     "name": "stderr",
     "output_type": "stream",
     "text": [
      " 14%|███████████▎                                                                       | 6/44 [00:05<00:38,  1.00s/it]"
     ]
    },
    {
     "name": "stdout",
     "output_type": "stream",
     "text": [
      "status: 3,2,6: Multiple droplets found (counter): 6 \n",
      "well_found: True, llps_status: False\n",
      "detect a droplet\n",
      "results: 354,482,72\n",
      "status: droplet_found: True\n"
     ]
    },
    {
     "name": "stderr",
     "output_type": "stream",
     "text": [
      " 16%|█████████████▏                                                                     | 7/44 [00:06<00:35,  1.05it/s]"
     ]
    },
    {
     "name": "stdout",
     "output_type": "stream",
     "text": [
      "status: 3,2,7: Multiple droplets found (counter): 6 \n",
      "well_found: True, llps_status: False\n",
      "status: droplet_found: False\n"
     ]
    },
    {
     "name": "stderr",
     "output_type": "stream",
     "text": [
      " 18%|███████████████                                                                    | 8/44 [00:07<00:31,  1.14it/s]"
     ]
    },
    {
     "name": "stdout",
     "output_type": "stream",
     "text": [
      "status: 3,2,8: Multiple droplets found (counter): 6 \n",
      "well_found: True, llps_status: False\n",
      "status: droplet_found: False\n"
     ]
    },
    {
     "name": "stderr",
     "output_type": "stream",
     "text": [
      " 20%|████████████████▉                                                                  | 9/44 [00:08<00:29,  1.19it/s]"
     ]
    },
    {
     "name": "stdout",
     "output_type": "stream",
     "text": [
      "status: 3,2,9: Multiple droplets found (counter): 6 \n",
      "well_found: True, llps_status: False\n",
      "status: droplet_found: False\n"
     ]
    },
    {
     "name": "stderr",
     "output_type": "stream",
     "text": [
      " 23%|██████████████████▋                                                               | 10/44 [00:08<00:27,  1.23it/s]"
     ]
    },
    {
     "name": "stdout",
     "output_type": "stream",
     "text": [
      "status: 3,2,10: Multiple droplets found (counter): 6 \n",
      "well_found: True, llps_status: False\n",
      "status: droplet_found: False\n"
     ]
    },
    {
     "name": "stderr",
     "output_type": "stream",
     "text": [
      " 25%|████████████████████▌                                                             | 11/44 [00:09<00:26,  1.27it/s]"
     ]
    },
    {
     "name": "stdout",
     "output_type": "stream",
     "text": [
      "status: 3,2,11: Multiple droplets found (counter): 6 \n",
      "well_found: True, llps_status: False\n",
      "status: droplet_found: False\n"
     ]
    },
    {
     "name": "stderr",
     "output_type": "stream",
     "text": [
      " 27%|██████████████████████▎                                                           | 12/44 [00:10<00:24,  1.29it/s]"
     ]
    },
    {
     "name": "stdout",
     "output_type": "stream",
     "text": [
      "status: 3,2,12: Multiple droplets found (counter): 6 \n",
      "well_found: True, llps_status: False\n",
      "status: droplet_found: False\n"
     ]
    },
    {
     "name": "stderr",
     "output_type": "stream",
     "text": [
      " 30%|████████████████████████▏                                                         | 13/44 [00:11<00:23,  1.30it/s]"
     ]
    },
    {
     "name": "stdout",
     "output_type": "stream",
     "text": [
      "status: 3,2,13: Multiple droplets found (counter): 6 \n",
      "well_found: True, llps_status: False\n",
      "status: droplet_found: False\n"
     ]
    },
    {
     "name": "stderr",
     "output_type": "stream",
     "text": [
      " 32%|██████████████████████████                                                        | 14/44 [00:11<00:22,  1.32it/s]"
     ]
    },
    {
     "name": "stdout",
     "output_type": "stream",
     "text": [
      "status: 3,2,14: Multiple droplets found (counter): 6 \n",
      "well_found: True, llps_status: False\n",
      "status: droplet_found: False\n"
     ]
    },
    {
     "name": "stderr",
     "output_type": "stream",
     "text": [
      " 34%|███████████████████████████▉                                                      | 15/44 [00:12<00:21,  1.32it/s]"
     ]
    },
    {
     "name": "stdout",
     "output_type": "stream",
     "text": [
      "status: 3,2,15: Multiple droplets found (counter): 6 \n",
      "well_found: True, llps_status: False\n",
      "status: droplet_found: False\n"
     ]
    },
    {
     "name": "stderr",
     "output_type": "stream",
     "text": [
      " 36%|█████████████████████████████▊                                                    | 16/44 [00:13<00:21,  1.33it/s]"
     ]
    },
    {
     "name": "stdout",
     "output_type": "stream",
     "text": [
      "status: 3,2,16: Multiple droplets found (counter): 6 \n",
      "well_found: True, llps_status: False\n",
      "status: droplet_found: False\n"
     ]
    },
    {
     "name": "stderr",
     "output_type": "stream",
     "text": [
      " 39%|███████████████████████████████▋                                                  | 17/44 [00:14<00:20,  1.34it/s]"
     ]
    },
    {
     "name": "stdout",
     "output_type": "stream",
     "text": [
      "status: 3,2,17: Multiple droplets found (counter): 6 \n",
      "well_found: True, llps_status: False\n",
      "status: droplet_found: False\n"
     ]
    },
    {
     "name": "stderr",
     "output_type": "stream",
     "text": [
      " 41%|█████████████████████████████████▌                                                | 18/44 [00:14<00:19,  1.34it/s]"
     ]
    },
    {
     "name": "stdout",
     "output_type": "stream",
     "text": [
      "status: 3,2,18: Multiple droplets found (counter): 6 \n",
      "well_found: True, llps_status: False\n",
      "status: droplet_found: False\n"
     ]
    },
    {
     "name": "stderr",
     "output_type": "stream",
     "text": [
      " 43%|███████████████████████████████████▍                                              | 19/44 [00:15<00:18,  1.35it/s]"
     ]
    },
    {
     "name": "stdout",
     "output_type": "stream",
     "text": [
      "status: 3,2,19: Multiple droplets found (counter): 6 \n",
      "well_found: True, llps_status: False\n",
      "status: droplet_found: False\n"
     ]
    },
    {
     "name": "stderr",
     "output_type": "stream",
     "text": [
      " 45%|█████████████████████████████████████▎                                            | 20/44 [00:16<00:17,  1.35it/s]"
     ]
    },
    {
     "name": "stdout",
     "output_type": "stream",
     "text": [
      "status: 3,2,20: Multiple droplets found (counter): 6 \n",
      "well_found: True, llps_status: False\n",
      "status: droplet_found: False\n"
     ]
    },
    {
     "name": "stderr",
     "output_type": "stream",
     "text": [
      " 48%|███████████████████████████████████████▏                                          | 21/44 [00:17<00:17,  1.35it/s]"
     ]
    },
    {
     "name": "stdout",
     "output_type": "stream",
     "text": [
      "status: 3,2,21: Multiple droplets found (counter): 6 \n",
      "well_found: True, llps_status: False\n",
      "status: droplet_found: False\n"
     ]
    },
    {
     "name": "stderr",
     "output_type": "stream",
     "text": [
      " 50%|█████████████████████████████████████████                                         | 22/44 [00:17<00:16,  1.35it/s]"
     ]
    },
    {
     "name": "stdout",
     "output_type": "stream",
     "text": [
      "status: 3,2,22: Multiple droplets found (counter): 6 \n",
      "well_found: True, llps_status: False\n",
      "status: droplet_found: False\n"
     ]
    },
    {
     "name": "stderr",
     "output_type": "stream",
     "text": [
      " 52%|██████████████████████████████████████████▊                                       | 23/44 [00:18<00:15,  1.35it/s]"
     ]
    },
    {
     "name": "stdout",
     "output_type": "stream",
     "text": [
      "status: 3,2,23: Multiple droplets found (counter): 6 \n",
      "well_found: True, llps_status: False\n",
      "status: droplet_found: False\n"
     ]
    },
    {
     "name": "stderr",
     "output_type": "stream",
     "text": [
      " 55%|████████████████████████████████████████████▋                                     | 24/44 [00:19<00:14,  1.35it/s]"
     ]
    },
    {
     "name": "stdout",
     "output_type": "stream",
     "text": [
      "status: 3,2,24: Multiple droplets found (counter): 6 \n",
      "well_found: True, llps_status: False\n",
      "status: droplet_found: False\n"
     ]
    },
    {
     "name": "stderr",
     "output_type": "stream",
     "text": [
      " 57%|██████████████████████████████████████████████▌                                   | 25/44 [00:20<00:14,  1.35it/s]"
     ]
    },
    {
     "name": "stdout",
     "output_type": "stream",
     "text": [
      "status: 3,2,25: Multiple droplets found (counter): 6 \n",
      "well_found: True, llps_status: False\n",
      "status: droplet_found: False\n"
     ]
    },
    {
     "name": "stderr",
     "output_type": "stream",
     "text": [
      " 59%|████████████████████████████████████████████████▍                                 | 26/44 [00:20<00:13,  1.35it/s]"
     ]
    },
    {
     "name": "stdout",
     "output_type": "stream",
     "text": [
      "status: 3,2,26: Multiple droplets found (counter): 6 \n",
      "well_found: True, llps_status: False\n",
      "status: droplet_found: False\n"
     ]
    },
    {
     "name": "stderr",
     "output_type": "stream",
     "text": [
      " 61%|██████████████████████████████████████████████████▎                               | 27/44 [00:21<00:12,  1.35it/s]"
     ]
    },
    {
     "name": "stdout",
     "output_type": "stream",
     "text": [
      "status: 3,2,27: Multiple droplets found (counter): 6 \n",
      "well_found: True, llps_status: False\n",
      "status: droplet_found: False\n"
     ]
    },
    {
     "name": "stderr",
     "output_type": "stream",
     "text": [
      " 64%|████████████████████████████████████████████████████▏                             | 28/44 [00:22<00:11,  1.35it/s]"
     ]
    },
    {
     "name": "stdout",
     "output_type": "stream",
     "text": [
      "status: 3,2,28: Multiple droplets found (counter): 6 \n",
      "well_found: True, llps_status: False\n",
      "status: droplet_found: False\n"
     ]
    },
    {
     "name": "stderr",
     "output_type": "stream",
     "text": [
      " 66%|██████████████████████████████████████████████████████                            | 29/44 [00:23<00:11,  1.35it/s]"
     ]
    },
    {
     "name": "stdout",
     "output_type": "stream",
     "text": [
      "status: 3,2,29: Multiple droplets found (counter): 6 \n",
      "well_found: True, llps_status: False\n",
      "status: droplet_found: False\n"
     ]
    },
    {
     "name": "stderr",
     "output_type": "stream",
     "text": [
      " 68%|███████████████████████████████████████████████████████▉                          | 30/44 [00:23<00:10,  1.35it/s]"
     ]
    },
    {
     "name": "stdout",
     "output_type": "stream",
     "text": [
      "status: 3,2,30: Multiple droplets found (counter): 6 \n",
      "well_found: True, llps_status: False\n",
      "status: droplet_found: False\n"
     ]
    },
    {
     "name": "stderr",
     "output_type": "stream",
     "text": [
      " 70%|█████████████████████████████████████████████████████████▊                        | 31/44 [00:24<00:09,  1.35it/s]"
     ]
    },
    {
     "name": "stdout",
     "output_type": "stream",
     "text": [
      "status: 3,2,31: Multiple droplets found (counter): 6 \n",
      "well_found: True, llps_status: False\n",
      "status: droplet_found: False\n"
     ]
    },
    {
     "name": "stderr",
     "output_type": "stream",
     "text": [
      " 73%|███████████████████████████████████████████████████████████▋                      | 32/44 [00:25<00:08,  1.35it/s]"
     ]
    },
    {
     "name": "stdout",
     "output_type": "stream",
     "text": [
      "status: 3,2,32: Multiple droplets found (counter): 6 \n",
      "well_found: True, llps_status: False\n",
      "status: droplet_found: False\n"
     ]
    },
    {
     "name": "stderr",
     "output_type": "stream",
     "text": [
      " 75%|█████████████████████████████████████████████████████████████▌                    | 33/44 [00:25<00:08,  1.35it/s]"
     ]
    },
    {
     "name": "stdout",
     "output_type": "stream",
     "text": [
      "status: 3,2,33: Multiple droplets found (counter): 6 \n",
      "well_found: True, llps_status: False\n",
      "status: droplet_found: False\n"
     ]
    },
    {
     "name": "stderr",
     "output_type": "stream",
     "text": [
      " 77%|███████████████████████████████████████████████████████████████▎                  | 34/44 [00:26<00:07,  1.34it/s]"
     ]
    },
    {
     "name": "stdout",
     "output_type": "stream",
     "text": [
      "status: 3,2,34: Multiple droplets found (counter): 6 \n",
      "well_found: True, llps_status: False\n",
      "status: droplet_found: False\n"
     ]
    },
    {
     "name": "stderr",
     "output_type": "stream",
     "text": [
      " 80%|█████████████████████████████████████████████████████████████████▏                | 35/44 [00:27<00:06,  1.35it/s]"
     ]
    },
    {
     "name": "stdout",
     "output_type": "stream",
     "text": [
      "status: 3,2,35: Multiple droplets found (counter): 6 \n",
      "well_found: True, llps_status: False\n",
      "status: droplet_found: False\n"
     ]
    },
    {
     "name": "stderr",
     "output_type": "stream",
     "text": [
      " 82%|███████████████████████████████████████████████████████████████████               | 36/44 [00:28<00:05,  1.35it/s]"
     ]
    },
    {
     "name": "stdout",
     "output_type": "stream",
     "text": [
      "status: 3,2,36: Multiple droplets found (counter): 6 \n",
      "well_found: True, llps_status: False\n",
      "status: droplet_found: False\n"
     ]
    },
    {
     "name": "stderr",
     "output_type": "stream",
     "text": [
      " 84%|████████████████████████████████████████████████████████████████████▉             | 37/44 [00:28<00:05,  1.35it/s]"
     ]
    },
    {
     "name": "stdout",
     "output_type": "stream",
     "text": [
      "status: 3,2,37: Multiple droplets found (counter): 6 \n",
      "well_found: True, llps_status: False\n",
      "status: droplet_found: False\n"
     ]
    },
    {
     "name": "stderr",
     "output_type": "stream",
     "text": [
      " 86%|██████████████████████████████████████████████████████████████████████▊           | 38/44 [00:29<00:04,  1.35it/s]"
     ]
    },
    {
     "name": "stdout",
     "output_type": "stream",
     "text": [
      "status: 3,2,38: Multiple droplets found (counter): 6 \n",
      "well_found: True, llps_status: False\n",
      "status: droplet_found: False\n"
     ]
    },
    {
     "name": "stderr",
     "output_type": "stream",
     "text": [
      " 89%|████████████████████████████████████████████████████████████████████████▋         | 39/44 [00:30<00:03,  1.35it/s]"
     ]
    },
    {
     "name": "stdout",
     "output_type": "stream",
     "text": [
      "status: 3,2,39: Multiple droplets found (counter): 6 \n",
      "well_found: True, llps_status: False\n",
      "status: droplet_found: False\n"
     ]
    },
    {
     "name": "stderr",
     "output_type": "stream",
     "text": [
      " 91%|██████████████████████████████████████████████████████████████████████████▌       | 40/44 [00:31<00:02,  1.35it/s]"
     ]
    },
    {
     "name": "stdout",
     "output_type": "stream",
     "text": [
      "status: 3,2,40: Multiple droplets found (counter): 6 \n",
      "well_found: True, llps_status: False\n",
      "status: droplet_found: False\n"
     ]
    },
    {
     "name": "stderr",
     "output_type": "stream",
     "text": [
      " 93%|████████████████████████████████████████████████████████████████████████████▍     | 41/44 [00:31<00:02,  1.35it/s]"
     ]
    },
    {
     "name": "stdout",
     "output_type": "stream",
     "text": [
      "status: 3,2,41: Multiple droplets found (counter): 6 \n",
      "well_found: True, llps_status: False\n",
      "status: droplet_found: False\n"
     ]
    },
    {
     "name": "stderr",
     "output_type": "stream",
     "text": [
      " 95%|██████████████████████████████████████████████████████████████████████████████▎   | 42/44 [00:32<00:01,  1.34it/s]"
     ]
    },
    {
     "name": "stdout",
     "output_type": "stream",
     "text": [
      "status: 3,2,42: Multiple droplets found (counter): 6 \n",
      "well_found: True, llps_status: False\n",
      "status: droplet_found: False\n"
     ]
    },
    {
     "name": "stderr",
     "output_type": "stream",
     "text": [
      " 98%|████████████████████████████████████████████████████████████████████████████████▏ | 43/44 [00:33<00:00,  1.35it/s]"
     ]
    },
    {
     "name": "stdout",
     "output_type": "stream",
     "text": [
      "status: 3,2,43: Multiple droplets found (counter): 6 \n",
      "well_found: True, llps_status: False\n",
      "status: droplet_found: False\n"
     ]
    },
    {
     "name": "stderr",
     "output_type": "stream",
     "text": [
      "100%|██████████████████████████████████████████████████████████████████████████████████| 44/44 [00:34<00:00,  1.29it/s]\n"
     ]
    }
   ],
   "source": [
    "# Create all the necessary dicts and lists\n",
    "image_list, image_names, data_well, well, concentration, time_resolution = pypc.create()\n",
    "\n",
    "# Load images & convert to grayscale\n",
    "print(\"Write images into list\")\n",
    "pypc.images_to_list(image_list, image_names, image_folder, extension)\n",
    "print(\"Save them into a dictionary\")\n",
    "pypc.images_to_dict(n_timepoints, number_of_diff_conc, n_wells, image_list, image_names, time_resolution, concentration, well, data_well)\n",
    "\n",
    "# Two possibilities:\n",
    "# use script if you did a pipetting series\n",
    "starting_concentrations = pypc.starting_concentration(initial_conc_sol1, initial_conc_sol2, initial_ratio)\n",
    "# or\n",
    "# write list\n",
    "\n",
    "print(\"Analyse data...\")\n",
    "well_nr = 0\n",
    "for conc_nr in range(number_of_diff_conc): # for n_rows_per_conc in range(2):\n",
    "    \n",
    "    for n_wells_per_row in range(n_wells):\n",
    "\n",
    "        # Initialise variables, arrays and lists\n",
    "        well_data = np.zeros(shape=(2, 3))\n",
    "        threshed_img = np.zeros(shape=time_resolution[0][0][0]['gray'].shape, dtype=\"uint8\")\n",
    "        areas = np.zeros(shape=(1, 2))\n",
    "        droplet_arr = np.zeros(shape=(2,4))\n",
    "        mean_list = []\n",
    "        llps_status = False\n",
    "        n_0 = 0\n",
    "        multiple_droplets = None\n",
    "        multiple_droplets_count = 0\n",
    "\n",
    "        print(\"conc:\", conc_nr, \"well:\", well_nr)\n",
    "        for time_idx in tqdm(range(n_timepoints)): #n_timepoints\n",
    "            if llps_status is False:\n",
    "                #print(\"---\", \"C:\", conc_nr, \"W:\", well_nr, \" T:\", time_idx, \"---\")\n",
    "\n",
    "                image = time_resolution[time_idx][conc_nr][well_nr]['gray'].copy()\n",
    "\n",
    "                x, y, r, droplet_data, droplet_found, multiple_droplets_count, masked_img, grad2, well_data = pypc.droplet_detection(image, well_data, diameter, llps_status,\n",
    "                                                                                                                                     multiple_droplets_count, droplet_arr, time_idx, conc_nr, well_nr)\n",
    "\n",
    "                time_resolution[time_idx][conc_nr][well_nr]['img'] = masked_img\n",
    "                time_resolution[time_idx][conc_nr][well_nr]['grad2'] = grad2\n",
    "                time_resolution[time_idx][conc_nr][well_nr]['manipulated img'] = grad2 # needed for display\n",
    "                time_resolution[time_idx][conc_nr][well_nr]['droplet data'] = droplet_arr.copy()\n",
    "                time_resolution[time_idx][conc_nr][well_nr]['x'] = x # needed for display\n",
    "                time_resolution[time_idx][conc_nr][well_nr]['y'] = y # needed for display\n",
    "                time_resolution[time_idx][conc_nr][well_nr]['r'] = well_data[0, 2] # needed for display\n",
    "                time_resolution[0][conc_nr][well_nr]['multiple droplets'] = multiple_droplets_count\n",
    "\n",
    "                # save first area\n",
    "                if time_idx == 0:\n",
    "                    areas[0, 0] = droplet_arr[0, 3]\n",
    "\n",
    "                llps_status, areas, mean_list, droplet_arr, squi, cro_squi, n_0 = pypc.detect_LLPS(percental_threshold, droplet_arr, llps_status, masked_img, time_idx, areas, mean_list, droplet_found, n_0)\n",
    "\n",
    "                # if noise is too high, ignore droplet\n",
    "                # later: change \"multiplet droplets\" to \"ignore well\"\n",
    "                if n_0 > 400:\n",
    "                    multiple_droplets = True\n",
    "                    time_resolution[0][conc_nr][well_nr]['multiple droplets'] = multiple_droplets\n",
    "\n",
    "\n",
    "                time_resolution[0][conc_nr][well_nr]['areas'] = areas\n",
    "                time_resolution[0][conc_nr][well_nr]['mean list'] = mean_list\n",
    "                time_resolution[time_idx][conc_nr][well_nr]['squ'] = squi\n",
    "                time_resolution[time_idx][conc_nr][well_nr]['cro squ'] = cro_squi\n",
    "\n",
    "                time_resolution[time_idx][conc_nr][well_nr]['droplet array'] = droplet_arr\n",
    "\n",
    "\n",
    "                if llps_status is True:\n",
    "                    print(\"LLPS status: \", llps_status, \", @\", \"c:\", conc_nr, \"w:\", well_nr, \"t:\", time_idx)\n",
    "                    # save img time where llps was found\n",
    "                    time_resolution[0][conc_nr][well_nr]['time idx'] = time_idx\n",
    "                    # save name of image where LLPS was detected\n",
    "                    time_resolution[0][conc_nr][well_nr]['LLPS name'] = time_resolution[time_idx][conc_nr][well_nr]['name']\n",
    "                    # calculate the critical concentration\n",
    "                    llps_conc = pypc.ccrit_calculation(starting_concentrations, areas, conc_nr)\n",
    "                    time_resolution[0][conc_nr][well_nr]['LLPS conc'] = llps_conc\n",
    "\n",
    "        well_nr += 1\n",
    "    well_nr = 0\n",
    "\n",
    "# saves the image names where LLPS was detected and the calculated concentrations to a csv file\n",
    "# .csv gets safed in the image folder\n",
    "#pypc.save_results_to_csv(time_resolution, image_folder, number_of_diff_conc, n_wells, hours_of_experiment,\n",
    "#                       images_per_hour, name_sol1, name_sol2, unit_sol1, unit_sol2)"
   ]
  },
  {
   "cell_type": "code",
   "execution_count": 4,
   "metadata": {},
   "outputs": [
    {
     "name": "stdout",
     "output_type": "stream",
     "text": [
      "0 0 : time idx: 15\n",
      "0 1 : time idx: 20\n",
      "0 2 : time idx: 4\n",
      "1 0 : time idx: 9\n",
      "1 1 : time idx: 19\n",
      "1 2 : multiple droplets\n",
      "2 0 : time idx: 4\n",
      "2 1 : time idx: 12\n",
      "2 2 : no LLPS\n",
      "3 0 : time idx: 19\n",
      "3 1 : time idx: 12\n",
      "3 2 : multiple droplets\n"
     ]
    }
   ],
   "source": [
    "for c in range(0, number_of_diff_conc):\n",
    "    for w in range(0, n_wells):\n",
    "        if 'time idx' in time_resolution[0][c][w]:\n",
    "            print(c, w, \":\", \"time idx:\", time_resolution[0][c][w]['time idx'])\n",
    "        elif time_resolution[0][c][w]['multiple droplets'] > 3:\n",
    "            print(c, w, \":\", \"multiple droplets\")\n",
    "        else:\n",
    "            print(c, w, \":\", \"no LLPS\")"
   ]
  },
  {
   "cell_type": "code",
   "execution_count": 10,
   "metadata": {},
   "outputs": [
    {
     "ename": "IndexError",
     "evalue": "list index out of range",
     "output_type": "error",
     "traceback": [
      "\u001b[1;31m---------------------------------------------------------------------------\u001b[0m",
      "\u001b[1;31mIndexError\u001b[0m                                Traceback (most recent call last)",
      "\u001b[1;32m<ipython-input-10-b0e47fa125ad>\u001b[0m in \u001b[0;36m<module>\u001b[1;34m\u001b[0m\n\u001b[0;32m     42\u001b[0m \u001b[1;33m\u001b[0m\u001b[0m\n\u001b[0;32m     43\u001b[0m \u001b[0maxs\u001b[0m\u001b[1;33m[\u001b[0m\u001b[1;36m1\u001b[0m\u001b[1;33m,\u001b[0m \u001b[1;36m2\u001b[0m\u001b[1;33m]\u001b[0m\u001b[1;33m.\u001b[0m\u001b[0mplot\u001b[0m\u001b[1;33m(\u001b[0m\u001b[0mnp\u001b[0m\u001b[1;33m.\u001b[0m\u001b[0marange\u001b[0m\u001b[1;33m(\u001b[0m\u001b[0mlen\u001b[0m\u001b[1;33m(\u001b[0m\u001b[0mtime_resolution\u001b[0m\u001b[1;33m[\u001b[0m\u001b[1;36m0\u001b[0m\u001b[1;33m]\u001b[0m\u001b[1;33m[\u001b[0m\u001b[0mc\u001b[0m\u001b[1;33m]\u001b[0m\u001b[1;33m[\u001b[0m\u001b[0mw\u001b[0m\u001b[1;33m]\u001b[0m\u001b[1;33m[\u001b[0m\u001b[1;34m'mean list'\u001b[0m\u001b[1;33m]\u001b[0m\u001b[1;33m)\u001b[0m\u001b[1;33m)\u001b[0m\u001b[1;33m,\u001b[0m \u001b[0mtime_resolution\u001b[0m\u001b[1;33m[\u001b[0m\u001b[1;36m0\u001b[0m\u001b[1;33m]\u001b[0m\u001b[1;33m[\u001b[0m\u001b[0mc\u001b[0m\u001b[1;33m]\u001b[0m\u001b[1;33m[\u001b[0m\u001b[0mw\u001b[0m\u001b[1;33m]\u001b[0m\u001b[1;33m[\u001b[0m\u001b[1;34m'mean list'\u001b[0m\u001b[1;33m]\u001b[0m\u001b[1;33m)\u001b[0m\u001b[1;33m\u001b[0m\u001b[1;33m\u001b[0m\u001b[0m\n\u001b[1;32m---> 44\u001b[1;33m \u001b[0maxs\u001b[0m\u001b[1;33m[\u001b[0m\u001b[1;36m1\u001b[0m\u001b[1;33m,\u001b[0m \u001b[1;36m2\u001b[0m\u001b[1;33m]\u001b[0m\u001b[1;33m.\u001b[0m\u001b[0mscatter\u001b[0m\u001b[1;33m(\u001b[0m\u001b[0mt\u001b[0m\u001b[1;33m,\u001b[0m \u001b[0mtime_resolution\u001b[0m\u001b[1;33m[\u001b[0m\u001b[1;36m0\u001b[0m\u001b[1;33m]\u001b[0m\u001b[1;33m[\u001b[0m\u001b[0mc\u001b[0m\u001b[1;33m]\u001b[0m\u001b[1;33m[\u001b[0m\u001b[0mw\u001b[0m\u001b[1;33m]\u001b[0m\u001b[1;33m[\u001b[0m\u001b[1;34m'mean list'\u001b[0m\u001b[1;33m]\u001b[0m\u001b[1;33m[\u001b[0m\u001b[0mt\u001b[0m\u001b[1;33m]\u001b[0m\u001b[1;33m,\u001b[0m \u001b[0mcolor\u001b[0m\u001b[1;33m=\u001b[0m\u001b[1;34m'red'\u001b[0m\u001b[1;33m)\u001b[0m\u001b[1;33m\u001b[0m\u001b[1;33m\u001b[0m\u001b[0m\n\u001b[0m\u001b[0;32m     45\u001b[0m \u001b[1;33m\u001b[0m\u001b[0m\n\u001b[0;32m     46\u001b[0m \u001b[0mblurrr\u001b[0m \u001b[1;33m=\u001b[0m \u001b[0mcv2\u001b[0m\u001b[1;33m.\u001b[0m\u001b[0mdilate\u001b[0m\u001b[1;33m(\u001b[0m\u001b[0mtime_resolution\u001b[0m\u001b[1;33m[\u001b[0m\u001b[0mt\u001b[0m\u001b[1;33m]\u001b[0m\u001b[1;33m[\u001b[0m\u001b[0mc\u001b[0m\u001b[1;33m]\u001b[0m\u001b[1;33m[\u001b[0m\u001b[0mw\u001b[0m\u001b[1;33m]\u001b[0m\u001b[1;33m[\u001b[0m\u001b[1;34m'cro squ'\u001b[0m\u001b[1;33m]\u001b[0m\u001b[1;33m,\u001b[0m \u001b[1;33m(\u001b[0m\u001b[1;36m5\u001b[0m\u001b[1;33m,\u001b[0m\u001b[1;36m5\u001b[0m\u001b[1;33m)\u001b[0m\u001b[1;33m)\u001b[0m\u001b[1;33m\u001b[0m\u001b[1;33m\u001b[0m\u001b[0m\n",
      "\u001b[1;31mIndexError\u001b[0m: list index out of range"
     ]
    },
    {
     "data": {
      "image/png": "[encoded data removed]",
      "text/plain": [
       "<Figure size 1440x720 with 8 Axes>"
      ]
     },
     "metadata": {
      "needs_background": "light"
     },
     "output_type": "display_data"
    }
   ],
   "source": [
    "c = 3\n",
    "w = 1\n",
    "t = 12\n",
    "\n",
    "\n",
    "image = time_resolution[t][c][w]['gray'].copy()\n",
    "img  = time_resolution[t][c][w]['img'].copy() # masked img\n",
    "grad  = time_resolution[t][c][w]['grad2'].copy()\n",
    "xd = time_resolution[t][c][w]['droplet data'][0,0]\n",
    "yd = time_resolution[t][c][w]['droplet data'][0,1]\n",
    "rd = time_resolution[t][c][w]['droplet data'][0,2]\n",
    "xw = time_resolution[t][c][w]['x']\n",
    "yw = time_resolution[t][c][w]['y']\n",
    "rw = time_resolution[t][c][w]['r']\n",
    "\n",
    "\n",
    "fig, axs = plt.subplots(nrows=2, ncols=4, figsize=(20, 10))\n",
    "\n",
    "axs[0, 0].imshow(image, cmap=\"gray\")\n",
    "axs[0,0 ].set_title(\"grayscale\")\n",
    "\n",
    "axs[0, 1].imshow(grad, cmap=\"gray\")\n",
    "axs[0, 1].set_title(\"first derv (gradient)\")\n",
    "circle = plt.Circle((xw, yw), rw, color='tab:red', alpha=0.45)\n",
    "axs[0, 1].add_patch(circle)\n",
    "\n",
    "axs[0, 2].imshow(img, cmap=\"gray\")\n",
    "axs[0, 2].set_title(\"masked image\")\n",
    "\n",
    "axs[0, 3].imshow(img, cmap=\"gray\")\n",
    "axs[0, 3].set_title(\"detected droplet\")\n",
    "circle = plt.Circle((xd, yd), rd, color='tab:blue', alpha=0.25)\n",
    "axs[0, 3].add_patch(circle)\n",
    "\n",
    "axs[1, 0].imshow(time_resolution[t][c][w]['squ'], cmap=\"gray\")\n",
    "axs[1, 0].set_title(\"squircle inside detected droplet\")\n",
    "circle = plt.Circle((xd, yd), rd, color='tab:blue', alpha=0.25)\n",
    "axs[1, 0].add_patch(circle)\n",
    "\n",
    "axs[1, 1].imshow(time_resolution[t][c][w]['cro squ'], cmap=\"gray\")\n",
    "axs[1, 1].set_title(\"cropped squircle\")\n",
    "\n",
    "axs[1, 2].plot(np.arange(len(time_resolution[0][c][w]['mean list'])), time_resolution[0][c][w]['mean list'])\n",
    "axs[1, 2].scatter(t, time_resolution[0][c][w]['mean list'][t], color='red')\n",
    "\n",
    "blurrr = cv2.dilate(time_resolution[t][c][w]['cro squ'], (5,5))\n",
    "print(blurrr.shape[0]*blurrr.shape[0] - np.count_nonzero(blurrr))\n",
    "\n",
    "print(\"meanlist\", time_resolution[0][c][w]['mean list'], \"; mean:\", np.mean(time_resolution[0][c][w]['mean list']))\n",
    "print(\"perc. difference @ t:\", int((time_resolution[0][c][w]['mean list'][-1]/np.mean(time_resolution[0][c][w]['mean list'])*100-100)))\n",
    "print(\"Areas:\", time_resolution[0][c][w]['areas'])\n",
    "print(\"starting conc:\", starting_concentrations[c])\n",
    "print(\"LLPS conc:\", time_resolution[0][c][w]['LLPS conc'])"
   ]
  },
  {
   "cell_type": "code",
   "execution_count": 19,
   "metadata": {},
   "outputs": [
    {
     "data": {
      "text/plain": [
       "<matplotlib.image.AxesImage at 0x22900575a90>"
      ]
     },
     "execution_count": 19,
     "metadata": {},
     "output_type": "execute_result"
    },
    {
     "data": {
      "image/png": "[encoded data removed]",
      "text/plain": [
       "<Figure size 432x288 with 1 Axes>"
      ]
     },
     "metadata": {
      "needs_background": "light"
     },
     "output_type": "display_data"
    }
   ],
   "source": [
    "def first_derivative(gray_image):\n",
    "    scale = 1\n",
    "    delta = 0\n",
    "    ddepth = cv2.CV_16S\n",
    "\n",
    "    grad_x = cv2.Sobel(gray_image, ddepth, 1, 0, ksize=3, scale=scale, delta=delta, borderType=cv2.BORDER_DEFAULT)\n",
    "    grad_y = cv2.Sobel(gray_image, ddepth, 0, 1, ksize=3, scale=scale, delta=delta, borderType=cv2.BORDER_DEFAULT)\n",
    "\n",
    "    abs_grad_x = cv2.convertScaleAbs(grad_x)\n",
    "    abs_grad_y = cv2.convertScaleAbs(grad_y)\n",
    "\n",
    "    grad = cv2.addWeighted(abs_grad_x, 0.5, abs_grad_y, 0.5, 0)\n",
    "\n",
    "    return grad\n",
    "import cv2\n",
    "grad = first_derivative(img)\n",
    "ret, imggg = cv2.threshold(img, 5, 255, cv2.THRESH_BINARY)\n",
    "plt.imshow(imggg)"
   ]
  },
  {
   "cell_type": "code",
   "execution_count": 11,
   "metadata": {},
   "outputs": [
    {
     "data": {
      "text/plain": [
       "array([255, 255, 255, 255, 255, 255, 255, 255, 255, 255, 255, 255, 255,\n",
       "       255, 255, 255, 255, 255, 255, 255, 255, 255, 255, 255, 255, 255,\n",
       "       255, 255, 255, 255, 255, 255, 255, 255, 255, 255, 255, 255, 255,\n",
       "       255, 255, 255, 255, 255, 255, 255, 255, 255, 255, 255, 255, 255,\n",
       "       255, 255, 255, 255, 255, 255, 255, 255, 255, 255, 255, 255, 255,\n",
       "       255, 255, 255, 255, 255, 255, 255, 255, 255, 255, 255, 255, 255,\n",
       "       255, 255, 255, 255, 255, 255, 255, 255, 255, 255, 255, 255, 255,\n",
       "       255, 255, 255, 255, 255, 255, 255, 255, 255, 255, 255, 255, 255,\n",
       "       255, 255, 255, 255, 255, 255, 255, 255, 255, 255, 255, 255, 255,\n",
       "       255, 255, 255, 255, 255, 255, 255, 255, 255, 255, 255, 255, 255,\n",
       "       255, 255, 255, 255, 255, 255, 255, 255, 255, 255, 255, 255, 255,\n",
       "       255, 255, 255, 255, 255, 255, 255, 255, 255, 255, 255, 255, 255,\n",
       "       255, 255, 255, 255, 255, 255, 255, 255, 255, 255, 255, 255, 255,\n",
       "       255, 255, 255, 255, 255, 255, 255, 255, 255, 255, 255, 255, 255,\n",
       "       255, 255, 255, 255, 255, 255, 255, 255, 255, 255, 255, 255, 255,\n",
       "       255, 255, 255, 255, 255, 255, 255, 255, 255, 255, 255, 255, 255,\n",
       "       255, 255, 255, 255, 255, 255, 255, 255, 255, 255, 255, 255, 255,\n",
       "       255, 255, 255, 255, 255, 255, 255, 255, 255, 255, 255, 255, 255,\n",
       "       255, 255, 255, 255, 255, 255, 255, 255, 255, 255, 255, 255, 255,\n",
       "       255, 255, 255, 255, 255, 255, 255, 255, 255, 255, 255, 255, 255,\n",
       "       255, 255, 255, 255, 255, 255, 255, 255, 255, 255, 255, 255, 255,\n",
       "       255, 255, 255, 255,   9,  11,  15,  88, 185, 161,  20, 131, 111,\n",
       "        48,   9,  32,  21,  66,  52,  29,  27,  50,  44,  24,  23,  31,\n",
       "        26,  12,  25,  15,  14,  12,  12,  10,   3,   5,   6,   6,  10,\n",
       "         9,  34,  39,  27,  21,  20,  16,   2,   4,   6,   7,   4,   2,\n",
       "         7,   9,  10,  13,   3,  11,   2,  14,  11,  21,  14,   6,   2,\n",
       "         7,  13,  10,   8,  15,  17,  18,  16,  24,  17,  19,  39,  42,\n",
       "        31,  45,  21,   3,  24,  24,   7,  15,   9,   3,   6,  11,  11,\n",
       "         5,   5,  12,   8,   6,   5,   3,   1,   6,   9,   5,   7,   7,\n",
       "         4,   7,   8,   5,   3,   2,   8,  19,  15,  23,  15,   8,  14,\n",
       "        10,  17,   7,  11,  12,   8,   5,   4,   5,   8,   1,  15,  20,\n",
       "        36,  39,  21,  18,  10,  19,  29,  26,  60,  75,  65,  49,  38,\n",
       "        22,  22,  72,  74,  38,  38,  62,   8, 147, 176,  74,   8,  14,\n",
       "         4,   4,  11,   4,   0,   0,   0,   0,   0,   0,   0,   0,   0,\n",
       "         0,   0,   0,   0,   0,   2,   2,   0,   0,   0,   0,   0,   0,\n",
       "         2,   2,   0,   0,   0,   0,   0,   0,   0,   0,   0,   0,   0,\n",
       "         0,   0,   0,   1,   2,   2,   1,   0,   0,   1,   2,   2,   6,\n",
       "        10,  11,   8,  14,  59,  86,  12, 255, 255, 255, 255, 255, 255,\n",
       "       255, 255, 255, 255, 255, 255, 255, 255, 255, 255, 255, 255, 255,\n",
       "       255, 255, 255, 255, 255, 255, 255, 255, 255, 255, 255, 255, 255,\n",
       "       255, 255, 255, 255, 255, 255, 255, 255, 255, 255, 255, 255, 255,\n",
       "       255, 255, 255, 255, 255, 255, 255, 255, 255, 255, 255, 255, 255,\n",
       "       255, 255, 255, 255, 255, 255, 255, 255, 255, 255, 255, 255, 255,\n",
       "       255, 255, 255, 255, 255, 255, 255, 255, 255, 255, 255, 255, 255,\n",
       "       255, 255, 255, 255, 255, 255, 255, 255, 255, 255, 255, 255, 255,\n",
       "       255, 255, 255, 255, 255, 255, 255, 255, 255, 255, 255, 255, 255,\n",
       "       255, 255, 255, 255, 255, 255, 255, 255, 255, 255, 255, 255, 255,\n",
       "       255, 255, 255, 255, 255, 255, 255, 255, 255, 255, 255, 255, 255,\n",
       "       255, 255, 255, 255, 255, 255, 255, 255, 255, 255, 255, 255, 255,\n",
       "       255, 255, 255, 255, 255, 255, 255, 255, 255, 255, 255, 255, 255,\n",
       "       255, 255, 255, 255, 255, 255, 255, 255, 255, 255, 255, 255, 255,\n",
       "       255, 255, 255, 255, 255, 255, 255, 255, 255, 255, 255, 255, 255,\n",
       "       255, 255, 255, 255, 255, 255, 255, 255, 255, 255, 255, 255, 255,\n",
       "       255, 255, 255, 255, 255, 255, 255, 255, 255, 255, 255, 255, 255,\n",
       "       255, 255, 255, 255, 255, 255, 255, 255, 255, 255, 255, 255, 255,\n",
       "       255, 255, 255, 255, 255, 255, 255, 255, 255, 255, 255, 255, 255,\n",
       "       255, 255, 255, 255, 255, 255, 255, 255, 255, 255, 255, 255, 255,\n",
       "       255, 255, 255, 255, 255, 255, 255, 255, 255, 255, 255, 255, 255,\n",
       "       255, 255, 255, 255, 255, 255, 255, 255, 255, 255, 255, 255, 255,\n",
       "       255, 255, 255, 255, 255, 255, 255, 255, 255, 255, 255, 255, 255,\n",
       "       255, 255, 255, 255, 255, 255, 255, 255, 255, 255, 255, 255, 255,\n",
       "       255, 255, 255, 255, 255, 255, 255, 255, 255, 255, 255, 255, 255,\n",
       "       255, 255, 255, 255, 255, 255, 255, 255, 255, 255, 255, 255, 255,\n",
       "       255, 255, 255, 255, 255, 255, 255, 255, 255, 255, 255, 255, 255],\n",
       "      dtype=uint8)"
      ]
     },
     "execution_count": 11,
     "metadata": {},
     "output_type": "execute_result"
    }
   ],
   "source": [
    "img[500]"
   ]
  },
  {
   "cell_type": "code",
   "execution_count": null,
   "metadata": {},
   "outputs": [],
   "source": [
    "def find_circle(img: np.ndarray, diameter: int, n: float, m: float):\n",
    "    dp = 1.4\n",
    "    minDist = 450\n",
    "    param1 = 50\n",
    "    param2 = 40\n",
    "    min_r_chamber = int((diameter / 2) * n)\n",
    "    max_r_chamber = int((diameter / 2) * m)\n",
    "\n",
    "    circles = cv2.HoughCircles(img, cv2.HOUGH_GRADIENT,\n",
    "                               dp=dp, minDist=minDist, param1=param1, param2=param2,\n",
    "                               minRadius=min_r_chamber, maxRadius=max_r_chamber)\n",
    "    if circles is not None:\n",
    "        circles = np.uint16(np.around(circles))\n",
    "        circles_for_dict = circles\n",
    "        # x, y, radius = circles[0][0]\n",
    "        x = circles_for_dict[0, 0, 0]\n",
    "        y = circles_for_dict[0, 0, 1]\n",
    "        r = circles_for_dict[0, 0, 2]\n",
    "    else:\n",
    "        x = 0\n",
    "        y = 0\n",
    "        r = 0\n",
    "\n",
    "    return x, y, r\n",
    "\n",
    "\n",
    "def mask_img_circle(image, x, y, r, t):\n",
    "    f = 0.95\n",
    "    d = 250\n",
    "    img_c = cv2.circle(image, (x, y), int(r * f + d), color=(255, 255, 255), thickness=d * 2)\n",
    "\n",
    "    return img_c\n",
    "\n",
    "############################################\n",
    "\n",
    "#img_c = mask_img_circle(image, xw, yw, rw, t)\n",
    "\n",
    "imgg = grad.copy()\n",
    "n = 0\n",
    "m = 0.9\n",
    "x, y, r = find_circle(imgg, diameter, n, m)\n",
    "\n",
    "fig, axs = plt.subplots(nrows=2, figsize=(20, 10))\n",
    "\n",
    "axs[0].imshow(imgg, cmap='gray')\n",
    "circle = plt.Circle((x, y), r, color='tab:red', alpha=0.25)\n",
    "axs[0].add_patch(circle)"
   ]
  },
  {
   "cell_type": "code",
   "execution_count": null,
   "metadata": {},
   "outputs": [],
   "source": [
    "def image_manipulation(masked_img):\n",
    "    img_circle = masked_img\n",
    "    blur = cv2.blur(img_circle.copy(), (2, 2))\n",
    "    thresh_adpt = cv2.adaptiveThreshold(blur.copy(), 255, cv2.ADAPTIVE_THRESH_GAUSSIAN_C, cv2.THRESH_BINARY, 11, 2)\n",
    "    morph = cv2.morphologyEx(thresh_adpt.copy(), cv2.MORPH_CLOSE, (8, 8), iterations=1)\n",
    "    # morph = cv2.erode(thresh_adpt, (5, 5), iterations=5)\n",
    "    img = cv2.dilate(morph.copy(), (2, 2), iterations=1)\n",
    "\n",
    "    return img\n",
    "\n",
    "def find_multiple_droplets(threshold_img, xw, yw, rw):\n",
    "    # detects if there are multiple droplets in a well\n",
    "    # also kicks out too small droplets\n",
    "    n = 0\n",
    "    f = 0.65\n",
    "    threshold = 650\n",
    "\n",
    "    eroded = cv2.dilate(threshold_img.copy(), (20, 20), iterations=4)\n",
    "    crop = eroded[int(yw - rw * f):int(yw + rw * f), int(xw - rw * f):int(xw + rw * f)]\n",
    "\n",
    "    for x, y in np.ndindex(crop.shape):\n",
    "        if crop[x, y] == 0:\n",
    "            n += 1\n",
    "\n",
    "    if n > threshold:\n",
    "        multidroplet = True\n",
    "        logger.warning(\"Multiple droplet was triggered!\")\n",
    "    else:\n",
    "        multidroplet = False\n",
    "    print(\"n:\", n)\n",
    "\n",
    "    return multidroplet\n",
    "\n",
    "\n",
    "manip_img = image_manipulation(img.copy())\n",
    "manipp_img = cv2.dilate(manip_img, (5,5))\n",
    "boool = find_multiple_droplets(manipp_img, xw, yw, rw)\n",
    "print(boool)\n",
    "\n",
    "f = 0.65\n",
    "eroded = cv2.dilate(manip_img.copy(), (20, 20), iterations=4)\n",
    "crop = eroded[int(yw - rw * f):int(yw + rw * f), int(xw - rw * f):int(xw + rw * f)]\n",
    "\n",
    "plt.imshow(crop, cmap='gray')\n",
    "print(np.count_nonzero(crop))\n",
    "print(crop.shape)"
   ]
  },
  {
   "cell_type": "markdown",
   "metadata": {},
   "source": [
    "## quality control"
   ]
  },
  {
   "cell_type": "markdown",
   "metadata": {},
   "source": [
    "## Plot the data"
   ]
  },
  {
   "cell_type": "code",
   "execution_count": null,
   "metadata": {},
   "outputs": [],
   "source": [
    "### figure setup ###\n",
    "\n",
    "\n",
    "fig, (ax1, ax2) = plt.subplots(ncols=2, figsize=(18,8), sharex=False, sharey=False)\n",
    "\n",
    "# set labels\n",
    "ax1.set_xlabel(f\"{name_sol2} [{unit_sol2}]\")\n",
    "ax1.set_ylabel(f\"{name_sol1} [{unit_sol1}]\")\n",
    "ax1.xaxis.label.set_size(15)\n",
    "ax1.yaxis.label.set_size(15)\n",
    "\n",
    "ax2.set_xlabel(ax1.get_xlabel())\n",
    "ax2.xaxis.label.set_size(ax1.xaxis.label.get_size())\n",
    "ax2.set_ylabel(ax1.get_ylabel())\n",
    "ax2.yaxis.label.set_size(ax1.yaxis.label.get_size())\n",
    "\n",
    "# set limits \n",
    "xlim = int(initial_conc_sol2 * 6)\n",
    "ylim = int(initial_conc_sol1 * 6)\n",
    "ax1.set_xlim(0, xlim)\n",
    "ax1.set_ylim(0, ylim)\n",
    "ax2.set_xlim(0, xlim)\n",
    "ax2.set_ylim(0, ylim)\n",
    "\n",
    "# set titles\n",
    "ax1.set_title('individual wells', fontsize=25)\n",
    "ax2.set_title('means', fontsize= 25)\n",
    "\n",
    "# set ticks\n",
    "ax1.tick_params(axis='y', which='major', right=True, color=\"black\", labelcolor=\"black\", direction='out', labelsize=15)\n",
    "ax1.tick_params(axis='y', which='minor', right=True)\n",
    "ax1.tick_params(axis='x', which='major', top=True, labeltop=False, direction='out', labelsize=15)\n",
    "ax1.tick_params(axis='x', which='minor', bottom=True, top=True)\n",
    "ax1.minorticks_on()\n",
    "ax1.xaxis.set_major_locator(MultipleLocator(20))\n",
    "ax1.xaxis.set_minor_locator(AutoMinorLocator(10))\n",
    "ax1.yaxis.set_major_locator(MultipleLocator(100))\n",
    "ax1.yaxis.set_minor_locator(AutoMinorLocator(20))\n",
    "ax1.xaxis.set_tick_params(which='both', width=2)\n",
    "ax1.yaxis.set_tick_params(which='both', width=2)\n",
    "\n",
    "\n",
    "ax2.tick_params(axis='y', which='major', right=True, color=\"black\", labelcolor=\"black\", direction='out', labelsize=15)\n",
    "ax2.tick_params(axis='y', which='minor', right=True)\n",
    "ax2.tick_params(axis='x', which='major', top=True, labeltop=False, direction='out', labelsize=15)\n",
    "ax2.tick_params(axis='x', which='minor', bottom=True, top=True)\n",
    "ax2.minorticks_on()\n",
    "ax2.xaxis.set_major_locator(MultipleLocator(20))\n",
    "ax2.xaxis.set_minor_locator(AutoMinorLocator(10))\n",
    "ax2.yaxis.set_major_locator(MultipleLocator(100))\n",
    "ax2.yaxis.set_minor_locator(AutoMinorLocator(20))\n",
    "ax2.xaxis.set_tick_params(which='both', width=2)\n",
    "ax2.yaxis.set_tick_params(which='both', width=2)\n",
    "\n",
    "\n",
    "# plot starting concentrations and the data\n",
    "well_nr = 0\n",
    "\n",
    "for conc_nr in range (number_of_diff_conc):\n",
    "    for n_horizontals_per_conc in range(2):\n",
    "        for n_wells_per_horizontal in range(n_wells):\n",
    "            if time_resolution[0][conc_nr][well_nr]['areas'][0, 1] != 0:\n",
    "            \n",
    "                if conc_nr == 0:\n",
    "                    color = \"blue\"\n",
    "                if conc_nr == 1:\n",
    "                    color = \"orange\"\n",
    "                if conc_nr == 2:\n",
    "                    color = \"gray\"\n",
    "                if conc_nr == 3:\n",
    "                    color = \"yellow\"\n",
    "                if conc_nr == 4:\n",
    "                    color = \"green\"\n",
    "\n",
    "                ax1.scatter(starting_concentrations[conc_nr,1], starting_concentrations[conc_nr,0], s=60, c=color, marker=\"s\", edgecolors=\"black\")\n",
    "                ax1.scatter(time_resolution[0][conc_nr][well_nr]['LLPS conc'][0,1],time_resolution[0][conc_nr][well_nr]['LLPS conc'][0,0],\n",
    "                            s=60, color=color, marker=\"o\", edgecolors=\"black\")\n",
    "                \n",
    "            well_nr += 1\n",
    "    well_nr = 0\n",
    "well_nr = 0\n",
    "\n",
    "\n",
    "# calculate and plot mean\n",
    "mean_sol1 = []\n",
    "mean_sol1 = [0] * 5\n",
    "mean_sol2 = []\n",
    "mean_sol2 = [0] * 5\n",
    "n_llps_wells = []\n",
    "n_llps_wells = [0] * 5\n",
    "\n",
    "for conc_nr in range (number_of_diff_conc):\n",
    "    for n_horizontals_per_conc in range(2):\n",
    "        for n_wells_per_horizontal in range(n_wells):\n",
    "            if time_resolution[0][conc_nr][well_nr]['areas'][0, 1] != 0:           \n",
    "                # calculate mean\n",
    "                mean_sol1[conc_nr] = mean_sol1[conc_nr] + time_resolution[0][conc_nr][well_nr]['LLPS conc'][0,0]\n",
    "                print(conc_nr, well_nr, time_resolution[0][conc_nr][well_nr]['LLPS conc'][0,0])\n",
    "                mean_sol2[conc_nr] = mean_sol2[conc_nr] + time_resolution[0][conc_nr][well_nr]['LLPS conc'][0,1]\n",
    "                n_llps_wells[conc_nr] += 1\n",
    "                \n",
    "            well_nr += 1\n",
    "    well_nr = 0\n",
    "well_nr = 0\n",
    "\n",
    "print(\"post post\", mean_sol1[1])\n",
    "\n",
    "for conc_nr in range(number_of_diff_conc):\n",
    "    if conc_nr == 0:\n",
    "        color = \"blue\"\n",
    "    if conc_nr == 1:\n",
    "        color = \"orange\"\n",
    "    if conc_nr == 2:\n",
    "        color = \"gray\"\n",
    "    if conc_nr == 3:\n",
    "        color = \"yellow\"\n",
    "    if conc_nr == 4:\n",
    "        color = \"green\"\n",
    "    if n_llps_wells[conc_nr] > 0:\n",
    "        mean_sol1[conc_nr] = mean_sol1[conc_nr]/n_llps_wells[conc_nr]\n",
    "        mean_sol2[conc_nr] = mean_sol2[conc_nr]/n_llps_wells[conc_nr]\n",
    "        m = mean_sol1[conc_nr]/mean_sol2[conc_nr]\n",
    "        \n",
    "    ax2.plot([0, mean_sol2[conc_nr],xlim], [0, mean_sol1[conc_nr], m*xlim], color=color, linestyle='dashed', alpha=0.50)\n",
    "    ax2.scatter(starting_concentrations[conc_nr,1], starting_concentrations[conc_nr,0], s=60, c=color, marker=\"s\", edgecolors=\"black\")\n",
    "\n",
    "    ax2.scatter(mean_sol2[conc_nr],mean_sol1[conc_nr], s=60, color=color,\n",
    "                           marker=\"o\", edgecolors=\"black\")\n",
    " "
   ]
  }
 ],
 "metadata": {
  "kernelspec": {
   "display_name": "PyPhaseChip Kernel",
   "language": "python",
   "name": "pyphasechip"
  },
  "language_info": {
   "codemirror_mode": {
    "name": "ipython",
    "version": 3
   },
   "file_extension": ".py",
   "mimetype": "text/x-python",
   "name": "python",
   "nbconvert_exporter": "python",
   "pygments_lexer": "ipython3",
   "version": "3.8.10"
  }
 },
 "nbformat": 4,
 "nbformat_minor": 4
}
