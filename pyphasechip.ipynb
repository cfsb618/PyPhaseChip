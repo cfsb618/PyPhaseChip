{
 "cells": [
  {
   "cell_type": "code",
   "execution_count": 1,
   "metadata": {},
   "outputs": [],
   "source": [
    "import cv2\n",
    "import numpy as np \n",
    "import matplotlib.pyplot as plt\n",
    "import PIL.Image\n",
    "from datetime import datetime\n",
    "import PIL.ExifTags\n",
    "from tqdm import tqdm\n",
    "\n",
    "\n",
    "import dateutil.parser\n",
    "import os\n",
    "import re\n",
    "\n",
    "from matplotlib.ticker import (MultipleLocator, FormatStrFormatter,\n",
    "                               AutoMinorLocator, MaxNLocator)\n",
    "\n",
    "from pyphasechip import pyphasechip_logic as pypc\n",
    "from typing import Tuple"
   ]
  },
  {
   "cell_type": "markdown",
   "metadata": {},
   "source": [
    "## Variables"
   ]
  },
  {
   "cell_type": "code",
   "execution_count": 2,
   "metadata": {},
   "outputs": [],
   "source": [
    "# reagent 1 name\n",
    "name_sol1 = \"EF-G\"\n",
    "# reagent 1 starting contentration\n",
    "initial_conc_sol1 = 66\n",
    "# unit\n",
    "unit_sol1 = \"µM\"\n",
    "\n",
    "\n",
    "# reagent 2 name\n",
    "name_sol2 = \"NaCl\"\n",
    "# reagent 2 starting concentration\n",
    "initial_conc_sol2 = 20\n",
    "# unit\n",
    "unit_sol2 = \"mM\"\n",
    "\n",
    "\n",
    "# mixing ratio of the concentrations 0\n",
    "# [1:X]\n",
    "initial_ratio = 7\n",
    "\n",
    "\n",
    "# Number of different concentrations used\n",
    "number_of_diff_conc = 4\n",
    "\n",
    "# Number of wells\n",
    "n_wells = 6\n",
    "\n",
    "# total amount of images\n",
    "total_n_images = 1512\n",
    "n_timepoints = int(total_n_images / (number_of_diff_conc * n_wells)) \n",
    "\n",
    "# percental difference of img mean to all previous imgages. \n",
    "# value is similar to a sensivity-value\n",
    "percental_threshold = 200 #55\n",
    "\n",
    "\n",
    "# measured diameter of chamber to calculate radii for circle detection -> min and max [px]\n",
    "# around +-30 of the real value, best measured with something like imageJ/Fiji\n",
    "diameter = 238 \n",
    "minRadiusChamber = int((diameter/2)*0.7)\n",
    "maxRadiusChamber = int((diameter/2)*1.3)\n",
    "\n",
    "\n",
    "# height of chamber [µm]\n",
    "chamber_height = 60\n",
    "\n",
    "# folder where images are stored\n",
    "# best is to use only paths without any whitespace\n",
    "#image_folder = r\"C:\\Users\\DigitalStation\\Documents\\Python_Scripts\\DropletDetection\\20220601_BSA_PEG_FC40_subset\"\n",
    "image_folder = r\"C:\\Users\\DigitalStation\\Documents\\Python_Scripts\\DropletDetection\\20220702_tsf_PEG_subset\"\n",
    "\n",
    "# datatype of the images\n",
    "extension = \".jpg\"\n",
    "\n",
    "# TODO: use a .yml file for storing these variables"
   ]
  },
  {
   "cell_type": "code",
   "execution_count": null,
   "metadata": {},
   "outputs": [],
   "source": [
    "#THIS IS FOR CELLOBSERVER/ZEISS IMAGES ONLY\n",
    "\n",
    "def get_sorted_file_list(image_folder: str) -> list:\n",
    "    files, times, concs, wells = [], [], [], []\n",
    "    \n",
    "    for file in os.listdir(image_folder):\n",
    "        # 1. More robust, faster, but more specific\n",
    "        c, w, _, t = re.search(\"c(\\d+)_w(\\d+)_s(\\d+)t(\\d+)\", file).groups()\n",
    "\n",
    "        # 2. Other way\n",
    "        #c, w, _, t, *params = re.findall('[0-9]+', file)\n",
    "        \n",
    "        # Generate lists\n",
    "        times.append(int(t))\n",
    "        concs.append(int(c))\n",
    "        wells.append(int(w))\n",
    "        files.append(file)\n",
    "        \n",
    "    return [x for _, _, _, x in sorted(zip(concs, times, wells, files))]\n",
    "    \n",
    "get_sorted_file_list(image_folder)"
   ]
  },
  {
   "cell_type": "markdown",
   "metadata": {},
   "source": [
    "## Programm"
   ]
  },
  {
   "cell_type": "code",
   "execution_count": 3,
   "metadata": {
    "scrolled": true,
    "tags": []
   },
   "outputs": [
    {
     "name": "stdout",
     "output_type": "stream",
     "text": [
      "Write images into list\n"
     ]
    },
    {
     "name": "stderr",
     "output_type": "stream",
     "text": [
      "100%|█████████████████████████████████████████████████████████████████████████████| 1513/1513 [00:11<00:00, 137.29it/s]\n"
     ]
    },
    {
     "name": "stdout",
     "output_type": "stream",
     "text": [
      "Save them into a dictionary\n"
     ]
    },
    {
     "name": "stderr",
     "output_type": "stream",
     "text": [
      "100%|██████████████████████████████████████████████████████████████████████████████████| 63/63 [00:01<00:00, 33.18it/s]\n",
      "  0%|                                                                                           | 0/63 [00:00<?, ?it/s]"
     ]
    },
    {
     "name": "stdout",
     "output_type": "stream",
     "text": [
      "Analyse data...\n",
      "conc: 0 well: 0\n"
     ]
    },
    {
     "name": "stderr",
     "output_type": "stream",
     "text": [
      "100%|██████████████████████████████████████████████████████████████████████████████████| 63/63 [00:46<00:00,  1.35it/s]\n",
      "  0%|                                                                                           | 0/63 [00:00<?, ?it/s]"
     ]
    },
    {
     "name": "stdout",
     "output_type": "stream",
     "text": [
      "conc: 0 well: 1\n"
     ]
    },
    {
     "name": "stderr",
     "output_type": "stream",
     "text": [
      " 65%|█████████████████████████████████████████████████████▎                            | 41/63 [00:31<00:16,  1.35it/s]C:\\Users\\DigitalStation\\Documents\\Python_Scripts\\DropletDetection\\pythonProject\\PyPhaseChip\\pyphasechip\\pyphasechip_fun.py:279: RuntimeWarning: divide by zero encountered in double_scalars\n",
      "  percental_difference = (mean_abs / avg_mean_all_previous_images) * 100 - 100\n",
      "100%|██████████████████████████████████████████████████████████████████████████████████| 63/63 [00:31<00:00,  1.98it/s]\n",
      "  0%|                                                                                           | 0/63 [00:00<?, ?it/s]"
     ]
    },
    {
     "name": "stdout",
     "output_type": "stream",
     "text": [
      "LLPS status:  True , @ c: 0 w: 1 t: 41\n",
      "conc: 0 well: 2\n"
     ]
    },
    {
     "name": "stderr",
     "output_type": "stream",
     "text": [
      "100%|██████████████████████████████████████████████████████████████████████████████████| 63/63 [00:32<00:00,  1.94it/s]\n",
      "  0%|                                                                                           | 0/63 [00:00<?, ?it/s]"
     ]
    },
    {
     "name": "stdout",
     "output_type": "stream",
     "text": [
      "LLPS status:  True , @ c: 0 w: 2 t: 42\n",
      "conc: 0 well: 3\n"
     ]
    },
    {
     "name": "stderr",
     "output_type": "stream",
     "text": [
      "100%|██████████████████████████████████████████████████████████████████████████████████| 63/63 [00:31<00:00,  2.03it/s]\n",
      "  0%|                                                                                           | 0/63 [00:00<?, ?it/s]"
     ]
    },
    {
     "name": "stdout",
     "output_type": "stream",
     "text": [
      "LLPS status:  True , @ c: 0 w: 3 t: 40\n",
      "conc: 0 well: 4\n"
     ]
    },
    {
     "name": "stderr",
     "output_type": "stream",
     "text": [
      "100%|██████████████████████████████████████████████████████████████████████████████████| 63/63 [00:31<00:00,  2.03it/s]\n",
      "  0%|                                                                                           | 0/63 [00:00<?, ?it/s]"
     ]
    },
    {
     "name": "stdout",
     "output_type": "stream",
     "text": [
      "LLPS status:  True , @ c: 0 w: 4 t: 40\n",
      "conc: 0 well: 5\n"
     ]
    },
    {
     "name": "stderr",
     "output_type": "stream",
     "text": [
      "100%|██████████████████████████████████████████████████████████████████████████████████| 63/63 [00:31<00:00,  2.03it/s]\n",
      "  0%|                                                                                           | 0/63 [00:00<?, ?it/s]"
     ]
    },
    {
     "name": "stdout",
     "output_type": "stream",
     "text": [
      "LLPS status:  True , @ c: 0 w: 5 t: 40\n",
      "conc: 1 well: 0\n"
     ]
    },
    {
     "name": "stderr",
     "output_type": "stream",
     "text": [
      "100%|██████████████████████████████████████████████████████████████████████████████████| 63/63 [00:25<00:00,  2.45it/s]\n",
      "  0%|                                                                                           | 0/63 [00:00<?, ?it/s]"
     ]
    },
    {
     "name": "stdout",
     "output_type": "stream",
     "text": [
      "LLPS status:  True , @ c: 1 w: 0 t: 33\n",
      "conc: 1 well: 1\n"
     ]
    },
    {
     "name": "stderr",
     "output_type": "stream",
     "text": [
      "100%|██████████████████████████████████████████████████████████████████████████████████| 63/63 [00:24<00:00,  2.60it/s]\n",
      "  0%|                                                                                           | 0/63 [00:00<?, ?it/s]"
     ]
    },
    {
     "name": "stdout",
     "output_type": "stream",
     "text": [
      "LLPS status:  True , @ c: 1 w: 1 t: 31\n",
      "conc: 1 well: 2\n"
     ]
    },
    {
     "name": "stderr",
     "output_type": "stream",
     "text": [
      "100%|██████████████████████████████████████████████████████████████████████████████████| 63/63 [00:26<00:00,  2.37it/s]\n",
      "  0%|                                                                                           | 0/63 [00:00<?, ?it/s]"
     ]
    },
    {
     "name": "stdout",
     "output_type": "stream",
     "text": [
      "LLPS status:  True , @ c: 1 w: 2 t: 34\n",
      "conc: 1 well: 3\n"
     ]
    },
    {
     "name": "stderr",
     "output_type": "stream",
     "text": [
      "100%|██████████████████████████████████████████████████████████████████████████████████| 63/63 [00:25<00:00,  2.51it/s]\n",
      "  0%|                                                                                           | 0/63 [00:00<?, ?it/s]"
     ]
    },
    {
     "name": "stdout",
     "output_type": "stream",
     "text": [
      "LLPS status:  True , @ c: 1 w: 3 t: 32\n",
      "conc: 1 well: 4\n"
     ]
    },
    {
     "name": "stderr",
     "output_type": "stream",
     "text": [
      "100%|██████████████████████████████████████████████████████████████████████████████████| 63/63 [00:27<00:00,  2.30it/s]\n",
      "  0%|                                                                                           | 0/63 [00:00<?, ?it/s]"
     ]
    },
    {
     "name": "stdout",
     "output_type": "stream",
     "text": [
      "LLPS status:  True , @ c: 1 w: 4 t: 35\n",
      "conc: 1 well: 5\n"
     ]
    },
    {
     "name": "stderr",
     "output_type": "stream",
     "text": [
      "100%|██████████████████████████████████████████████████████████████████████████████████| 63/63 [00:25<00:00,  2.50it/s]\n",
      "  0%|                                                                                           | 0/63 [00:00<?, ?it/s]"
     ]
    },
    {
     "name": "stdout",
     "output_type": "stream",
     "text": [
      "LLPS status:  True , @ c: 1 w: 5 t: 32\n",
      "conc: 2 well: 0\n"
     ]
    },
    {
     "name": "stderr",
     "output_type": "stream",
     "text": [
      "100%|██████████████████████████████████████████████████████████████████████████████████| 63/63 [00:24<00:00,  2.58it/s]\n",
      "  0%|                                                                                           | 0/63 [00:00<?, ?it/s]"
     ]
    },
    {
     "name": "stdout",
     "output_type": "stream",
     "text": [
      "LLPS status:  True , @ c: 2 w: 0 t: 31\n",
      "conc: 2 well: 1\n"
     ]
    },
    {
     "name": "stderr",
     "output_type": "stream",
     "text": [
      "100%|██████████████████████████████████████████████████████████████████████████████████| 63/63 [00:24<00:00,  2.58it/s]\n",
      "  0%|                                                                                           | 0/63 [00:00<?, ?it/s]"
     ]
    },
    {
     "name": "stdout",
     "output_type": "stream",
     "text": [
      "LLPS status:  True , @ c: 2 w: 1 t: 31\n",
      "conc: 2 well: 2\n"
     ]
    },
    {
     "name": "stderr",
     "output_type": "stream",
     "text": [
      "100%|██████████████████████████████████████████████████████████████████████████████████| 63/63 [00:24<00:00,  2.57it/s]\n",
      "  0%|                                                                                           | 0/63 [00:00<?, ?it/s]"
     ]
    },
    {
     "name": "stdout",
     "output_type": "stream",
     "text": [
      "LLPS status:  True , @ c: 2 w: 2 t: 31\n",
      "conc: 2 well: 3\n"
     ]
    },
    {
     "name": "stderr",
     "output_type": "stream",
     "text": [
      "100%|██████████████████████████████████████████████████████████████████████████████████| 63/63 [00:24<00:00,  2.58it/s]\n",
      "  0%|                                                                                           | 0/63 [00:00<?, ?it/s]"
     ]
    },
    {
     "name": "stdout",
     "output_type": "stream",
     "text": [
      "LLPS status:  True , @ c: 2 w: 3 t: 31\n",
      "conc: 2 well: 4\n"
     ]
    },
    {
     "name": "stderr",
     "output_type": "stream",
     "text": [
      "100%|██████████████████████████████████████████████████████████████████████████████████| 63/63 [00:47<00:00,  1.33it/s]\n",
      "  0%|                                                                                           | 0/63 [00:00<?, ?it/s]"
     ]
    },
    {
     "name": "stdout",
     "output_type": "stream",
     "text": [
      "conc: 2 well: 5\n"
     ]
    },
    {
     "name": "stderr",
     "output_type": "stream",
     "text": [
      "100%|██████████████████████████████████████████████████████████████████████████████████| 63/63 [00:22<00:00,  2.75it/s]\n",
      "  0%|                                                                                           | 0/63 [00:00<?, ?it/s]"
     ]
    },
    {
     "name": "stdout",
     "output_type": "stream",
     "text": [
      "LLPS status:  True , @ c: 2 w: 5 t: 29\n",
      "conc: 3 well: 0\n"
     ]
    },
    {
     "name": "stderr",
     "output_type": "stream",
     "text": [
      "100%|██████████████████████████████████████████████████████████████████████████████████| 63/63 [00:20<00:00,  3.06it/s]\n",
      "  0%|                                                                                           | 0/63 [00:00<?, ?it/s]"
     ]
    },
    {
     "name": "stdout",
     "output_type": "stream",
     "text": [
      "LLPS status:  True , @ c: 3 w: 0 t: 26\n",
      "conc: 3 well: 1\n"
     ]
    },
    {
     "name": "stderr",
     "output_type": "stream",
     "text": [
      "100%|██████████████████████████████████████████████████████████████████████████████████| 63/63 [00:19<00:00,  3.30it/s]\n",
      "  0%|                                                                                           | 0/63 [00:00<?, ?it/s]"
     ]
    },
    {
     "name": "stdout",
     "output_type": "stream",
     "text": [
      "LLPS status:  True , @ c: 3 w: 1 t: 24\n",
      "conc: 3 well: 2\n"
     ]
    },
    {
     "name": "stderr",
     "output_type": "stream",
     "text": [
      "100%|██████████████████████████████████████████████████████████████████████████████████| 63/63 [00:20<00:00,  3.07it/s]\n",
      "  0%|                                                                                           | 0/63 [00:00<?, ?it/s]"
     ]
    },
    {
     "name": "stdout",
     "output_type": "stream",
     "text": [
      "LLPS status:  True , @ c: 3 w: 2 t: 25\n",
      "conc: 3 well: 3\n"
     ]
    },
    {
     "name": "stderr",
     "output_type": "stream",
     "text": [
      "100%|██████████████████████████████████████████████████████████████████████████████████| 63/63 [00:19<00:00,  3.18it/s]\n",
      "  0%|                                                                                           | 0/63 [00:00<?, ?it/s]"
     ]
    },
    {
     "name": "stdout",
     "output_type": "stream",
     "text": [
      "LLPS status:  True , @ c: 3 w: 3 t: 25\n",
      "conc: 3 well: 4\n"
     ]
    },
    {
     "name": "stderr",
     "output_type": "stream",
     "text": [
      "100%|██████████████████████████████████████████████████████████████████████████████████| 63/63 [00:19<00:00,  3.31it/s]\n",
      "  0%|                                                                                           | 0/63 [00:00<?, ?it/s]"
     ]
    },
    {
     "name": "stdout",
     "output_type": "stream",
     "text": [
      "LLPS status:  True , @ c: 3 w: 4 t: 24\n",
      "conc: 3 well: 5\n"
     ]
    },
    {
     "name": "stderr",
     "output_type": "stream",
     "text": [
      "100%|██████████████████████████████████████████████████████████████████████████████████| 63/63 [00:19<00:00,  3.31it/s]"
     ]
    },
    {
     "name": "stdout",
     "output_type": "stream",
     "text": [
      "LLPS status:  True , @ c: 3 w: 5 t: 24\n"
     ]
    },
    {
     "name": "stderr",
     "output_type": "stream",
     "text": [
      "\n"
     ]
    }
   ],
   "source": [
    "# Create all the necessary dicts and lists\n",
    "image_list, image_names, data_well, well, concentration, time_resolution = pypc.create()\n",
    "\n",
    "# Load images & convert to grayscale\n",
    "print(\"Write images into list\")\n",
    "pypc.images_to_list(image_list, image_names, image_folder, extension)\n",
    "print(\"Save them into a dictionary\")\n",
    "pypc.images_to_dict(n_timepoints, number_of_diff_conc, n_wells, image_list, image_names, time_resolution, concentration, well, data_well)\n",
    "\n",
    "# Two possibilities:\n",
    "# use script if you did a pipetting series\n",
    "starting_concentrations = pypc.starting_concentration(initial_conc_sol1, initial_conc_sol2, initial_ratio)\n",
    "# or\n",
    "# write list\n",
    "#starting_concentrations = np.array(([40, 9.5], [200, 7.2], [530, 4], [2800, 1.7]))  # BSA Test set\n",
    "starting_concentrations = np.array(([9.4, 88.6], [21.2, 74.3], [44.8, 45.7], [56.6, 31.4]))\n",
    "\n",
    "print(\"Analyse data...\")\n",
    "well_nr = 0\n",
    "for conc_nr in range(number_of_diff_conc): # for n_rows_per_conc in range(2):\n",
    "    \n",
    "    for n_wells_per_row in range(n_wells):\n",
    "\n",
    "        # Initialise variables, arrays and lists\n",
    "        well_data = np.zeros(shape=(2, 3))\n",
    "        threshed_img = np.zeros(shape=time_resolution[0][0][0]['gray'].shape, dtype=\"uint8\")\n",
    "        areas = np.zeros(shape=(1, 2))\n",
    "        droplet_arr = np.zeros(shape=(2,4))\n",
    "        mean_list = []\n",
    "        llps_status = False\n",
    "        n_0 = 0\n",
    "        multiple_droplets = None\n",
    "        multiple_droplets_count = 0\n",
    "        areas_list = []\n",
    "\n",
    "        print(\"conc:\", conc_nr, \"well:\", well_nr)\n",
    "        for time_idx in tqdm(range(n_timepoints)): #n_timepoints\n",
    "            if llps_status is False:\n",
    "                #print(\"---\", \"C:\", conc_nr, \"W:\", well_nr, \" T:\", time_idx, \"---\")\n",
    "\n",
    "                image = time_resolution[time_idx][conc_nr][well_nr]['gray'].copy()\n",
    "\n",
    "                x, y, r, droplet_data, droplet_found, multiple_droplets_count, masked_img, grad2, well_data = pypc.droplet_detection(image, well_data, diameter, llps_status,\n",
    "                                                                                                                                     multiple_droplets_count, droplet_arr, time_idx, conc_nr, well_nr)\n",
    "\n",
    "                time_resolution[time_idx][conc_nr][well_nr]['img'] = masked_img\n",
    "                time_resolution[time_idx][conc_nr][well_nr]['grad2'] = grad2\n",
    "                time_resolution[time_idx][conc_nr][well_nr]['manipulated img'] = grad2 # needed for display\n",
    "                time_resolution[time_idx][conc_nr][well_nr]['droplet data'] = droplet_arr.copy()\n",
    "                time_resolution[time_idx][conc_nr][well_nr]['x'] = x # needed for display\n",
    "                time_resolution[time_idx][conc_nr][well_nr]['y'] = y # needed for display\n",
    "                time_resolution[time_idx][conc_nr][well_nr]['r'] = well_data[0, 2] # needed for display\n",
    "                time_resolution[0][conc_nr][well_nr]['multiple droplets'] = multiple_droplets_count\n",
    "\n",
    "                # save first area\n",
    "                if time_idx == 0:\n",
    "                    areas[0, 0] = droplet_arr[0, 3]\n",
    "\n",
    "                llps_status, areas, areas_list, mean_list, droplet_arr, squi, cro_squi, n_0 = pypc.detect_LLPS(percental_threshold, droplet_arr, llps_status, image, time_idx, areas, areas_list, mean_list, droplet_found, n_0)\n",
    "                                                                                                                                                # masked_img\n",
    "                # if noise is too high, ignore droplet\n",
    "                # later: change \"multiplet droplets\" to \"ignore well\"\n",
    "                if n_0 > 400:\n",
    "                    multiple_droplets = True\n",
    "                    time_resolution[0][conc_nr][well_nr]['multiple droplets'] = multiple_droplets\n",
    "\n",
    "\n",
    "                time_resolution[0][conc_nr][well_nr]['areas'] = areas\n",
    "                time_resolution[0][conc_nr][well_nr]['mean list'] = mean_list\n",
    "                time_resolution[time_idx][conc_nr][well_nr]['squ'] = squi\n",
    "                time_resolution[time_idx][conc_nr][well_nr]['cro squ'] = cro_squi\n",
    "\n",
    "                time_resolution[time_idx][conc_nr][well_nr]['droplet array'] = droplet_arr\n",
    "\n",
    "\n",
    "                if llps_status is True:\n",
    "                    print(\"LLPS status: \", llps_status, \", @\", \"c:\", conc_nr, \"w:\", well_nr, \"t:\", time_idx)\n",
    "                    # save img time where llps was found\n",
    "                    time_resolution[0][conc_nr][well_nr]['time idx'] = time_idx\n",
    "                    # save name of image where LLPS was detected\n",
    "                    time_resolution[0][conc_nr][well_nr]['LLPS name'] = time_resolution[time_idx][conc_nr][well_nr]['name']\n",
    "                    # calculate the critical concentration\n",
    "                    llps_conc = pypc.ccrit_calculation(starting_concentrations, areas, conc_nr)\n",
    "                    time_resolution[0][conc_nr][well_nr]['LLPS conc'] = llps_conc\n",
    "                    time_resolution[0][conc_nr][well_nr]['areas_list'] = areas_list\n",
    "\n",
    "        well_nr += 1\n",
    "    well_nr = 0\n",
    "\n"
   ]
  },
  {
   "cell_type": "code",
   "execution_count": 6,
   "metadata": {},
   "outputs": [
    {
     "name": "stdout",
     "output_type": "stream",
     "text": [
      "Attention: Directory where .csv gets saved already exists\n"
     ]
    }
   ],
   "source": [
    "# saves the image names where LLPS was detected and the calculated concentrations to a csv file\n",
    "# .csv gets safed in the image folder\n",
    "pypc.save_results_to_csv(time_resolution, image_folder, number_of_diff_conc, n_wells, name_sol1, name_sol2, unit_sol1, unit_sol2)"
   ]
  },
  {
   "cell_type": "markdown",
   "metadata": {},
   "source": [
    "## quality control"
   ]
  },
  {
   "cell_type": "code",
   "execution_count": null,
   "metadata": {},
   "outputs": [],
   "source": [
    "for c in range(0, number_of_diff_conc):\n",
    "    for w in range(0, n_wells):\n",
    "        if 'time idx' in time_resolution[0][c][w]:\n",
    "            print(c, w, \":\", \"time idx:\", time_resolution[0][c][w]['time idx'], time_resolution[0][c][w]['LLPS name'])\n",
    "        #elif time_resolution[0][c][w]['multiple droplets'] > 3:\n",
    "        #    print(c, w, \":\", \"multiple droplets\")\n",
    "        else:\n",
    "            print(c, w, \":\", \"no LLPS\")"
   ]
  },
  {
   "cell_type": "code",
   "execution_count": null,
   "metadata": {},
   "outputs": [],
   "source": [
    "c = 0\n",
    "w = 3\n",
    "t = 40\n",
    "\n",
    "image = time_resolution[t][c][w]['gray'].copy()\n",
    "img  = time_resolution[t][c][w]['img'].copy() # masked img\n",
    "grad  = time_resolution[t][c][w]['grad2'].copy()\n",
    "xd = time_resolution[t][c][w]['droplet data'][0,0]\n",
    "yd = time_resolution[t][c][w]['droplet data'][0,1]\n",
    "rd = time_resolution[t][c][w]['droplet data'][0,2]\n",
    "xw = time_resolution[t][c][w]['x']\n",
    "yw = time_resolution[t][c][w]['y']\n",
    "rw = time_resolution[t][c][w]['r']\n",
    "\n",
    "print(\"meanlist\", time_resolution[0][c][w]['mean list'], \"; mean:\", np.mean(time_resolution[0][c][w]['mean list']))\n",
    "print(\"Areas:\", time_resolution[0][c][w]['areas'])\n",
    "print(\"starting conc:\", starting_concentrations[c])\n",
    "#print(\"LLPS conc:\", time_resolution[0][c][w]['LLPS conc'])\n",
    "\n",
    "fig, axs = plt.subplots(nrows=2, ncols=4, figsize=(20, 10))\n",
    "\n",
    "axs[0, 0].imshow(image, cmap=\"gray\")\n",
    "axs[0,0 ].set_title(\"grayscale\")\n",
    "\n",
    "axs[0, 1].imshow(grad, cmap=\"gray\")\n",
    "axs[0, 1].set_title(\"first derv (gradient)\")\n",
    "circle = plt.Circle((xw, yw), rw, color='tab:red', alpha=0.45)\n",
    "axs[0, 1].add_patch(circle)\n",
    "\n",
    "axs[0, 2].imshow(img, cmap=\"gray\")\n",
    "axs[0, 2].set_title(\"masked image\")\n",
    "\n",
    "axs[0, 3].imshow(time_resolution[t][c][w]['grad2'], cmap=\"gray\")\n",
    "axs[0, 3].set_title(\"detected droplet\")\n",
    "circle = plt.Circle((xd, yd), rd, color='tab:blue', alpha=0.25)\n",
    "axs[0, 3].add_patch(circle)\n",
    "\n",
    "axs[1, 0].imshow(time_resolution[t][c][w]['squ'], cmap=\"gray\")\n",
    "axs[1, 0].set_title(\"squircle inside detected droplet\")\n",
    "circle = plt.Circle((xd, yd), rd, color='tab:blue', alpha=0.25)\n",
    "axs[1, 0].add_patch(circle)\n",
    "\n",
    "axs[1, 1].imshow(time_resolution[t][c][w]['cro squ'], cmap=\"gray\")\n",
    "axs[1, 1].set_title(\"cropped squircle\")\n",
    "\n",
    "x = []\n",
    "y = []\n",
    "for i in range(len(time_resolution[0][c][w]['areas_list'])):\n",
    "    x.append(time_resolution[0][c][w]['areas_list'][i][1])\n",
    "    y.append(time_resolution[0][c][w]['areas_list'][i][0])\n",
    "axs[1, 3].scatter(x, y, color='orange')\n",
    "\n",
    "axs[1, 2].plot(np.arange(len(time_resolution[0][c][w]['mean list'])), time_resolution[0][c][w]['mean list'])\n",
    "axs[1, 2].scatter(t, time_resolution[0][c][w]['mean list'][t], color='red')\n",
    "\n",
    "#axs[1, 2].plot(np.arange(len(time_resolution[0][c][w]['mean list'])), time_resolution[0][c][w]['mean list'])\n",
    "\n",
    "\n",
    "blurrr = cv2.dilate(time_resolution[t][c][w]['cro squ'], (5,5))\n",
    "print(blurrr.shape[0]*blurrr.shape[0] - np.count_nonzero(blurrr))"
   ]
  },
  {
   "cell_type": "markdown",
   "metadata": {},
   "source": [
    "## Plot the data"
   ]
  },
  {
   "cell_type": "code",
   "execution_count": null,
   "metadata": {},
   "outputs": [],
   "source": [
    "### figure setup ###\n",
    "\n",
    "\n",
    "fig, (ax1, ax2) = plt.subplots(ncols=2, figsize=(18,8), sharex=False, sharey=False)\n",
    "\n",
    "# set labels\n",
    "ax1.set_xlabel(f\"{name_sol1} [{unit_sol1}]\")\n",
    "ax1.set_ylabel(f\"{name_sol2} [{unit_sol2}]\")\n",
    "ax1.xaxis.label.set_size(15)\n",
    "ax1.yaxis.label.set_size(15)\n",
    "\n",
    "ax2.set_xlabel(ax1.get_xlabel())\n",
    "ax2.xaxis.label.set_size(ax1.xaxis.label.get_size())\n",
    "ax2.set_ylabel(ax1.get_ylabel())\n",
    "ax2.yaxis.label.set_size(ax1.yaxis.label.get_size())\n",
    "\n",
    "# set limits \n",
    "xlim = int(initial_conc_sol1 * 10)\n",
    "ylim = int(initial_conc_sol2 * 80)\n",
    "ax1.set_xlim(0, xlim)\n",
    "ax1.set_ylim(0, ylim)\n",
    "ax2.set_xlim(0, xlim)\n",
    "ax2.set_ylim(0, ylim)\n",
    "\n",
    "# set titles\n",
    "ax1.set_title('individual wells', fontsize=25)\n",
    "ax2.set_title('means', fontsize= 25)\n",
    "\n",
    "# set ticks\n",
    "ax1.tick_params(axis='y', which='major', right=True, color=\"black\", labelcolor=\"black\", direction='out', labelsize=15)\n",
    "ax1.tick_params(axis='y', which='minor', right=True)\n",
    "ax1.tick_params(axis='x', which='major', top=True, labeltop=False, direction='out', labelsize=15)\n",
    "ax1.tick_params(axis='x', which='minor', bottom=True, top=True)\n",
    "ax1.minorticks_on()\n",
    "ax1.xaxis.set_major_locator(MultipleLocator(100))\n",
    "ax1.xaxis.set_minor_locator(AutoMinorLocator(5))\n",
    "ax1.yaxis.set_major_locator(MultipleLocator(100))\n",
    "ax1.yaxis.set_minor_locator(AutoMinorLocator(5))\n",
    "ax1.xaxis.set_tick_params(which='both', width=2)\n",
    "ax1.yaxis.set_tick_params(which='both', width=2)\n",
    "\n",
    "\n",
    "ax2.tick_params(axis='y', which='major', right=True, color=\"black\", labelcolor=\"black\", direction='out', labelsize=15)\n",
    "ax2.tick_params(axis='y', which='minor', right=True)\n",
    "ax2.tick_params(axis='x', which='major', top=True, labeltop=False, direction='out', labelsize=15)\n",
    "ax2.tick_params(axis='x', which='minor', bottom=True, top=True)\n",
    "ax2.minorticks_on()\n",
    "ax2.xaxis.set_major_locator(MultipleLocator(100))\n",
    "ax2.xaxis.set_minor_locator(AutoMinorLocator(5))\n",
    "ax2.yaxis.set_major_locator(MultipleLocator(100))\n",
    "ax2.yaxis.set_minor_locator(AutoMinorLocator(5))\n",
    "ax2.xaxis.set_tick_params(which='both', width=2)\n",
    "ax2.yaxis.set_tick_params(which='both', width=2)\n",
    "\n",
    "\n",
    "# plot starting concentrations and the data\n",
    "well_nr = 0\n",
    "\n",
    "for conc_nr in range (number_of_diff_conc):\n",
    "        for n_wells_per_horizontal in range(n_wells):\n",
    "            if time_resolution[0][conc_nr][well_nr]['areas'][0, 1] != 0:\n",
    "            \n",
    "                if conc_nr == 0:\n",
    "                    color = \"blue\"\n",
    "                if conc_nr == 1:\n",
    "                    color = \"orange\"\n",
    "                if conc_nr == 2:\n",
    "                    color = \"gray\"\n",
    "                if conc_nr == 3:\n",
    "                    color = \"yellow\"\n",
    "                if conc_nr == 4:\n",
    "                    color = \"green\"\n",
    "\n",
    "                ax1.scatter(starting_concentrations[conc_nr,0], starting_concentrations[conc_nr,1], s=60, c=color, marker=\"s\", edgecolors=\"black\")\n",
    "                ax1.scatter(time_resolution[0][conc_nr][well_nr]['LLPS conc'][0,0],time_resolution[0][conc_nr][well_nr]['LLPS conc'][0,1],\n",
    "                            s=60, color=color, marker=\"o\", edgecolors=\"black\")\n",
    "                \n",
    "            well_nr += 1\n",
    "        well_nr = 0\n",
    "well_nr = 0\n",
    "\n",
    "\n",
    "# calculate and plot mean\n",
    "mean_sol1 = []\n",
    "mean_sol1 = [0] * 5\n",
    "mean_sol2 = []\n",
    "mean_sol2 = [0] * 5\n",
    "n_llps_wells = []\n",
    "n_llps_wells = [0] * 5\n",
    "\n",
    "for conc_nr in range (number_of_diff_conc):\n",
    "        for n_wells_per_horizontal in range(n_wells):\n",
    "            if time_resolution[0][conc_nr][well_nr]['areas'][0, 1] != 0:   \n",
    "                # calculate mean\n",
    "                mean_sol1[conc_nr] = mean_sol1[conc_nr] + time_resolution[0][conc_nr][well_nr]['LLPS conc'][0,0]\n",
    "                mean_sol2[conc_nr] = mean_sol2[conc_nr] + time_resolution[0][conc_nr][well_nr]['LLPS conc'][0,1]\n",
    "                n_llps_wells[conc_nr] += 1\n",
    "                \n",
    "            well_nr += 1\n",
    "        well_nr = 0\n",
    "well_nr = 0\n",
    "\n",
    "\n",
    "for conc_nr in range(number_of_diff_conc):\n",
    "    if conc_nr == 0:\n",
    "        color = \"blue\"\n",
    "    if conc_nr == 1:\n",
    "        color = \"orange\"\n",
    "    if conc_nr == 2:\n",
    "        color = \"gray\"\n",
    "    if conc_nr == 3:\n",
    "        color = \"yellow\"\n",
    "    if conc_nr == 4:\n",
    "        color = \"green\"\n",
    "    if n_llps_wells[conc_nr] > 0:\n",
    "        mean_sol1[conc_nr] = mean_sol1[conc_nr]/n_llps_wells[conc_nr]\n",
    "        mean_sol2[conc_nr] = mean_sol2[conc_nr]/n_llps_wells[conc_nr]\n",
    "        m = mean_sol2[conc_nr]/mean_sol1[conc_nr]\n",
    "        \n",
    "    ax2.plot([0, mean_sol1[conc_nr],xlim], [0, mean_sol2[conc_nr], m*xlim], color=color, linestyle='dashed', alpha=0.50)\n",
    "    ax2.scatter(starting_concentrations[conc_nr,0], starting_concentrations[conc_nr,1], s=60, c=color, marker=\"s\", edgecolors=\"black\")\n",
    "\n",
    "    ax2.scatter(mean_sol1[conc_nr],mean_sol2[conc_nr], s=60, color=color,\n",
    "                           marker=\"o\", edgecolors=\"black\")\n",
    " "
   ]
  }
 ],
 "metadata": {
  "kernelspec": {
   "display_name": "PyPhaseChip Kernel",
   "language": "python",
   "name": "pyphasechip"
  },
  "language_info": {
   "codemirror_mode": {
    "name": "ipython",
    "version": 3
   },
   "file_extension": ".py",
   "mimetype": "text/x-python",
   "name": "python",
   "nbconvert_exporter": "python",
   "pygments_lexer": "ipython3",
   "version": "3.8.10"
  }
 },
 "nbformat": 4,
 "nbformat_minor": 4
}
